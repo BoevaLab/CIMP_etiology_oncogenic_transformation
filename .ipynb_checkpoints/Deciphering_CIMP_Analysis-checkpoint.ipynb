{
 "cells": [
  {
   "cell_type": "markdown",
   "metadata": {},
   "source": [
    "Before performing the analysis, the preprocessing is done by Deciphering_CIMP_Preprocessing. Here we download directly the preprocessed data.\n",
    "\n",
    "**IMPORTANT: As in the preprocessing file, placeholder are put in lieu of the directories - these should point to those used during the preprocessing**\n",
    "\n",
    "# Package dependencies"
   ]
  },
  {
   "cell_type": "code",
   "execution_count": null,
   "metadata": {},
   "outputs": [],
   "source": [
    "# general \n",
    "from __future__ import division\n",
    "import numpy as np\n",
    "import pandas as pd\n",
    "import xenaPython as xena\n",
    "import re\n",
    "import os\n",
    "from collections import Counter\n",
    "import csv\n",
    "from tqdm.notebook import trange, tqdm\n",
    "\n",
    "# clustering\n",
    "from sklearn.cluster import SpectralClustering\n",
    "from sklearn.metrics import silhouette_score,silhouette_samples\n",
    "from sklearn.preprocessing import StandardScaler\n",
    "import networkx as nx\n",
    "import numpy.linalg as LA\n",
    "\n",
    "# for clustering comparison\n",
    "from sklearn.cluster import AgglomerativeClustering, KMeans, AffinityPropagation\n",
    "from sklearn.mixture import GaussianMixture\n",
    "\n",
    "# plotting\n",
    "import matplotlib.pyplot as plt\n",
    "import matplotlib.gridspec as gridspec\n",
    "import seaborn as sns\n",
    "\n",
    "# statistical tests\n",
    "from scipy.stats import mannwhitneyu, kruskal, chisquare, ks_2samp, fisher_exact, ttest_ind, pointbiserialr, chi2_contingency, pearsonr, spearmanr\n",
    "\n",
    "# statistical annotations\n",
    "from statannot import add_stat_annotation\n",
    "\n",
    "# dim reduction\n",
    "import umap\n",
    "\n",
    "# survival analysis\n",
    "from lifelines import KaplanMeierFitter\n",
    "from lifelines.statistics import logrank_test\n",
    "from statsmodels.stats.multitest import multipletests\n",
    "from lifelines import CoxPHFitter\n",
    "\n",
    "# Random Forest analysis\n",
    "from sklearn.ensemble import RandomForestClassifier\n",
    "from sklearn.feature_selection import SelectFromModel\n",
    "from sklearn.model_selection import train_test_split, StratifiedKFold\n",
    "from sklearn.metrics import balanced_accuracy_score, accuracy_score"
   ]
  },
  {
   "cell_type": "markdown",
   "metadata": {},
   "source": [
    "# Download preprocessed data"
   ]
  },
  {
   "cell_type": "code",
   "execution_count": null,
   "metadata": {},
   "outputs": [],
   "source": [
    "info_dir = \"path\\to\\filtered_illumina_TCGA\"\n",
    "clin_raw_dir = \"path\\to\\clinical_raw\"\n",
    "meth_dir = \"path\\to\\preprocessed_data\""
   ]
  },
  {
   "cell_type": "code",
   "execution_count": null,
   "metadata": {},
   "outputs": [],
   "source": [
    "cancer_to_keep = os.listdir(meth_dir)"
   ]
  },
  {
   "cell_type": "code",
   "execution_count": null,
   "metadata": {},
   "outputs": [],
   "source": [
    "cancer_to_keep = np.unique([cancer_to_keep[i].split('_')[0] for i in range(len(cancer_to_keep))]) "
   ]
  },
  {
   "cell_type": "code",
   "execution_count": null,
   "metadata": {},
   "outputs": [],
   "source": [
    "meth_data_pc = {}\n",
    "for cancer in tqdm(cancer_to_keep):\n",
    "    meth_data_pc[cancer] = pd.read_csv(os.path.join(meth_dir,cancer+\"_meth_filtered.csv\"))\n",
    "    meth_data_pc[cancer] = meth_data_pc[cancer].set_index(\"Unnamed: 0\")   "
   ]
  },
  {
   "cell_type": "code",
   "execution_count": null,
   "metadata": {},
   "outputs": [],
   "source": [
    "cancer_clin_raw_pc = {}\n",
    "for cancer in tqdm(cancer_to_keep):\n",
    "    cancer_clin_raw_pc[cancer]= pd.read_csv(os.path.join(clin_raw_dir,\"TCGA-\"+cancer+\".GDC_phenotype.tsv.gz\"),sep=\"\\t\").set_index(\"submitter_id.samples\")\n",
    "    cancer_clin_raw_pc[cancer].index = [cancer_clin_raw_pc[cancer].index[i][:15] for i in range(len(cancer_clin_raw_pc[cancer].index))]"
   ]
  },
  {
   "cell_type": "code",
   "execution_count": null,
   "metadata": {},
   "outputs": [],
   "source": [
    "pcpg_diagnosis = cancer_clin_raw_pc[\"PCPG\"][\"primary_diagnosis.diagnoses\"].str.split(\",\").apply(lambda a: a[0]).str.split(\" \").apply(lambda a: a[-1]).str.lower()\n",
    "pheo_patients = pcpg_diagnosis[pcpg_diagnosis==\"pheochromocytoma\"].index\n",
    "para_patients = pcpg_diagnosis[pcpg_diagnosis==\"paraganglioma\"].index\n",
    "meth_data_pc[\"PCPG\"] = meth_data_pc[\"PCPG\"].loc[meth_data_pc[\"PCPG\"].index.intersection(pheo_patients)]"
   ]
  },
  {
   "cell_type": "code",
   "execution_count": null,
   "metadata": {},
   "outputs": [],
   "source": [
    "clin_data_pc = {}\n",
    "for cancer in tqdm(cancer_to_keep):\n",
    "    clin_data_pc[cancer] = pd.read_csv(os.path.join(info_dir,cancer+\"_clin_mat.csv\"))\n",
    "    clin_data_pc[cancer] = clin_data_pc[cancer].set_index(\"Unnamed: 0\")   "
   ]
  },
  {
   "cell_type": "code",
   "execution_count": null,
   "metadata": {},
   "outputs": [],
   "source": [
    "for cancer in tqdm(cancer_to_keep):\n",
    "    meth_data_pc[cancer] = meth_data_pc[cancer][~meth_data_pc[cancer].index.duplicated(keep='first')]\n",
    "    clin_data_pc[cancer] = clin_data_pc[cancer][~clin_data_pc[cancer].index.duplicated(keep='first')]\n",
    "    cancer_clin_raw_pc[cancer] = cancer_clin_raw_pc[cancer][~cancer_clin_raw_pc[cancer].index.duplicated(keep='first')]"
   ]
  },
  {
   "cell_type": "code",
   "execution_count": null,
   "metadata": {},
   "outputs": [],
   "source": [
    "mut_dir = \"path\\to\\mutations_MC3\"\n",
    "mut_pancan = {}\n",
    "for cancer in tqdm(cancer_to_keep):\n",
    "    if cancer in [\"COAD\",\"READ\"]:\n",
    "        mut_pancan[cancer] = pd.read_csv(os.path.join(info_dir,\"COADREAD_mutations.csv\"))\n",
    "        mut_pancan[cancer] = mut_pancan[cancer].set_index(\"Unnamed: 0\")  \n",
    "        mut_pancan[cancer] = mut_pancan[cancer].loc[meth_data_pc[cancer].index.intersection(mut_pancan[cancer].index)]\n",
    "    elif cancer==\"PCPG\":\n",
    "        mut_pancan[cancer] = pd.read_csv(os.path.join(info_dir,\"PCPG_mutations.csv\"))\n",
    "        mut_pancan[cancer] = mut_pancan[cancer].set_index(\"Unnamed: 0\")  \n",
    "        mut_pancan[cancer] = mut_pancan[cancer].loc[meth_data_pc[cancer].index.intersection(mut_pancan[cancer].index)]\n",
    "    else:\n",
    "        mut_pancan[cancer] = pd.read_csv(os.path.join(mut_dir,cancer+\"_mutations.csv\")).set_index(\"Unnamed: 0\")\n",
    "mut_pancan[\"LAML\"] = mut_pancan[\"LAML\"].rename(columns={\"KDM7A\":\"JHDM1D\"})"
   ]
  },
  {
   "cell_type": "code",
   "execution_count": null,
   "metadata": {},
   "outputs": [],
   "source": [
    "msi_profile = pd.read_csv(\"MSI_status_nature_Cortes_Ciriano.csv\",sep=\";\").set_index(\"Barcode\")"
   ]
  },
  {
   "cell_type": "markdown",
   "metadata": {},
   "source": [
    "### Preliminary: genes to use"
   ]
  },
  {
   "cell_type": "markdown",
   "metadata": {},
   "source": [
    "The genes associated with DNA & histone methylation/demethylation are taken from the following sources: \n",
    "1. Hyun K, Jeon J, Park K, Kim J. Writing, erasing and reading histone lysine methylations. Exp Mol Med 2017; 49: e324\n",
    "2. Moore LD, Le T, Fan G. DNA methylation and its basic function. Neuropsychopharmacology 2013; 38: 23–38\n",
    "3. de Necochea-Campion R, Ghochikyan A, Josephs SF, Zacharias S, Woods E, Karimi-Busheri F et al. Expression of the epigenetic factor BORIS (CTCFL) in the human genome. J Transl Med 2011; 9: 213\n",
    "4. Santoro R, Li J, Grummt I. The nucleolar remodeling complex NoRC mediates heterochromatin formation and silencing of ribosomal gene transcription. Nat Genet 2002; 32: 393–396\n",
    "5. Lee GE, Kim JH, Taylor M, Muller MT. DNA methyltransferase 1-associated protein (DMAP1) is a co-repressor that stimulates DNA methylation globally and locally at sites of double strand break repair. J Biol Chem 2010; 285: 37630–37640\n",
    "6. Bledea R, Vasudevaraja V, Patel S, Stafford J, Serrano J, Esposito G et al. Functional and topographic effects on DNA methylation in IDH1/2 mutant cancers. Sci Rep 2019; 9: 16830"
   ]
  },
  {
   "cell_type": "code",
   "execution_count": null,
   "metadata": {},
   "outputs": [],
   "source": [
    "genes_writer_Hmeth = {\"H3K4\": [\"SETD1A\",\"SETD1B\",\"KMT2A\",\"KMT2D\",\"KMT2C\",\"KMT2B\",\"SMYD1\",\"SMYD2\",\"SETD7\",\"SETD9\",\"PRDM9\"],\n",
    "                      \"H3K9\": [\"SUV39H1\",\"SUV39H2\",\"EHMT2\",\"EHMT1\",\"SETDB1\",\"PRDM1\",\"PRDM2\",\"MECOM\",\"PRDM4\",\"PRDM5\",\"PRDM6\",\"PRDM7\",\"PRDM8\",\"PRDM9\",\"PRDM10\",\"PRDM11\",\"PRDM12\",\"PRDM13\",\"PRDM14\",\"PRDM15\",\"PRDM16\"],\n",
    "                      \"H3K27\": [\"EZH1\",\"EZH2\"],\n",
    "                      \"H3K36\": [\"SETD2\",\"NSD1\",\"WHSC1\",\"WHSC1L1\",\"SMYD2\",\"ASH1L\",\"SETD3\",\"SETMAR\"],\n",
    "                      \"H3K79\": [\"DOT1L\"],\n",
    "                      \"H4K20\": [\"SETD8\",\"SUV420H1\",\"SUV420H2\"]}\n",
    "all_genes_writer_Hmeth = list(genes_writer_Hmeth.values())\n",
    "all_genes_writer_Hmeth = np.unique([item for sublist in all_genes_writer_Hmeth for item in sublist])\n",
    "\n",
    "genes_eraser_Hmeth = {\"H3K4\": [\"KDM1A\",\"KDM1B\",\"KDM5A\",\"KDM5B\",\"KDM5C\",\"KDM5D\"],\n",
    "                      \"H3K9\": [\"KDM3B\",\"KDM3A\",\"KDM4A\",\"KDM4B\",\"KDM4C\",\"KDM4D\",\"KDM4E\",\"PHF8\",\"JMJD1C\"],\n",
    "                      \"H3K27\": [\"KDM6A\",\"UTY\",\"KDM6B\",\"JHDM1D\",\"PHF8\"],\n",
    "                      \"H3K36\": [\"KDM2A\",\"KDM2B\",\"KDM4A\",\"KDM4B\",\"KDM4C\",\"KDM4D\"],\n",
    "                      \"H3K79\": [],\n",
    "                      \"H4K20\": [\"PHF8\",\"PHF2\"]}\n",
    "all_genes_eraser_Hmeth = list(genes_eraser_Hmeth.values())\n",
    "all_genes_eraser_Hmeth = np.unique([item for sublist in all_genes_eraser_Hmeth for item in sublist])"
   ]
  },
  {
   "cell_type": "code",
   "execution_count": null,
   "metadata": {},
   "outputs": [],
   "source": [
    "genes_meth = [\"BAZ2A\",\"CTCFL\",\"DMAP1\",\"DNMT1\",\"DNMT3A\",\"DNMT3B\",\"GADD45A\",\"GADD45B\",\n",
    "                       \"GADD45G\",\"GADD45GIP1\",\"UHRF1\",\"UHRF1BP1\",\"UHRF1BP1L\"]\n",
    "genes_demeth = [\"TET1\",\"TET2\",\"TET3\",\"TDG\",\"TDGF1\",\"TDGF1P3\",\"MBD1\",\"MBD2\",\"MBD4\",\"APOBEC1\",\"CTCF\",\"IDH1\",\"IDH2\"]\n",
    "\n",
    "co_expressed_genes = {\"TET1\": [\"DNMT1\", \"DNMT3A\",\"DNMT3B\",\"EZH2\",\"MECP2\",\"NANOG\",\"OGDH\",\"PRMT5\",\"SIN3A\",\"TDG\"],\n",
    "                     \"TET2\": [\"ASXL1\",\"CXXC4\",\"DNMT1\",\"DNMT3A\",\"EZH2\",\"IDH1\",\"IDH2\",\"KMT2A\",\"TDG\",\"WT1\"],\n",
    "                     \"TET3\": [\"CA2\",\"DNMT1\",\"DNMT3A\",\"DNMT3B\",\"DPPA3\",\"NANOG\",\"OGDH\",\"EZH2\",\"PRMT5\",\"TDG\"],\n",
    "                     \"TDG\": [\"AICDA\",\"APEX1\",\"CA2\",\"GADD45A\",\"SMUG1\",\"SUMO1\",\"SUMO2\",\"SUMO3\",\"TET1\",\"UBE2I\"],\n",
    "                     \"TDGF1\": [\"ACVR1B\",\"ACVR1C\",\"ACVR2B\",\"GPC1\",\"LEFTY1\",\"LEFTY2\",\"NANOG\",\"NODAL\",\"POU5F1\",\"SMAD2\"],\n",
    "                     \"MBD4\": [\"APEX1\",\"DNMT1\",\"DNMT3B\",\"MLH1\",\"SMUG1\",\"TDG\",\"TRDMT1\",\"UHRF1\",\"UNG\",\"ZBTB33\"],\n",
    "                     \"APOBEC1\": [\"A1CF\",\"APOB\",\"APOBEC2\",\"APOBEC3A\",\"APOBEC3B\",\"APOBEC3C\",\"APOBEC3H\",\"APOBEC4\",\"CDA\",\"HNRNPAB\"],\n",
    "                     \"CTCF\": [\"EP300\",\"EZH2\",\"H2AFZ\",\"HIST2H2AC\",\"MYC\",\"POLR2A\",\"POLR2F\",\"RXRA\",\"SUZ12\",\"WDR5\"],\n",
    "                     \"IDH1\": [\"ACO1\",\"ACO2\",\"CAT\",\"HSD17B4\",\"IDH2\",\"IDH3A\",\"IDH3B\",\"IDH3G\",\"OGDH\",\"PGM1\"],\n",
    "                     \"IDH2\": [\"ACO1\",\"ACO2\",\"GLUD1\",\"IDH1\",\"IDH3A\",\"IDH3B\",\"IDH3G\",\"OGDH\",\"SIRT3\",\"SOD2\"],\n",
    "                     \"BAZ2A\": [\"ARID4B\",\"DNMT1\",\"DNMT3B\",\"H2AFV\",\"H2AFX\",\"H2AFZ\",\"HDAC1\",\"HIST2H2AC\",\"SMARCA5\",\"TTF1\"],\n",
    "                     \"CTCFL\": [\"CBLN4\",\"CHD8\",\"COX7A1\",\"IGF2\",\"PHACTR3\",\"PRMT7\",\"RAD21\",\"RAD21L1\",\"RBM38\",\"SMC3\"],\n",
    "                     \"DMAP1\": [\"ACTL6A\",\"CDC5L\",\"KAT5\",\"MEAF6\",\"MORF4L1\",\"MRGBP\",\"RUVBL1\",\"RUVBL2\",\"VPS72\",\"YEATS4\"],\n",
    "                     \"DNMT1\": [\"DNMT3A\",\"DNMT3B\",\"EZH2\",\"HDAC1\",\"HDAC2\",\"HIST2H3PS2\",\"MBD2\",\"RB1\",\"SMARCA5\",\"UHRF1\"],\n",
    "                     \"DNMT3A\": [\"CBX4\",\"DNMT1\",\"DNMT3B\",\"DNMT3L\",\"EED\",\"EZH2\",\"HIST2H2AC\",\"MYC\",\"PRMT5\",\"SUZ12\"],\n",
    "                     \"DNMT3B\": [\"DNMT1\",\"DNMT3A\",\"EZH2\",\"HDAC1\",\"HDAC2\",\"HIST1H2BA\",\"HIST1H3A\",\"HIST2H3PS2\",\"SMARCA5\",\"SUZ12\"],\n",
    "                     \"GADD45A\": [\"AURKA\",\"BRCA1\",\"CCNB1\",\"CCND1\",\"CDK1\",\"MAP2K6\",\"MAP3K4\",\"MAPK8\",\"PCNA\",\"TP53\"],\n",
    "                     \"GADD45B\": [\"CCNB1\",\"CCNB2\",\"CDK1\",\"GADD45A\",\"GADD45G\",\"MAP2K3\",\"MAP2K6\",\"MAP3K4\",\"PCNA\",\"TP53\"],\n",
    "                     \"GADD45G\": [\"CCNB1\",\"CCNB2\",\"CDK1\",\"GADD45A\",\"GADD45B\",\"MAP2K3\",\"MAP2K6\",\"MAP3K4\",\"PCNA\",\"TP53\"],\n",
    "                     \"GADD45GIP1\": [\"MRPL11\",\"MRPL28\",\"MRPL4\",\"MRPL40\",\"MRPL41\",\"MRPL42\",\"MRPL47\",\"MRPL50\",\"MRPS30\",\"MRPS34\"],\n",
    "                     \"UHRF1\": [\"DNMT1\",\"H2AFX\",\"H2AFZ\",\"HIST1H2BA\",\"HIST1H2BB\",\"HIST1H2BJ\",\"HIST2H2AC\",\"HIST2H2BE\",\"HIST2H3PS2\",\"MCM5\"],\n",
    "                     \"UHRF1BP1\": [\"ANKS1A\",\"C6orf106\",\"FANCE\",\"MORC1\",\"PHRF1\",\"SNRPC\",\"TNIP1\",\"WDFY4\",\"ZNF76\"],\n",
    "                     \"UHRF1BP1L\": [\"DEPDC4\",\"FAM83A\",\"GPATCH2\",\"GPATCH2L\",\"MAN2A1\",\"PTPRH\",\"STX6\",\"TMEM160\",\"VPS13C\",\"ZSCAN23\"]}\n",
    "\n",
    "# get the list of all coexpressed genes\n",
    "list_co_expressed_genes = list(co_expressed_genes.values())\n",
    "list_co_expressed_genes = [item for sublist in list_co_expressed_genes for item in sublist]\n",
    "\n",
    "# get the list of unique genes to keep for analysis\n",
    "genes_to_keep = np.unique(genes_meth+genes_demeth+list_co_expressed_genes)\n",
    "# genes_to_keep = gene_data_pc[\"ACC\"].columns.intersection(genes_to_keep)\n",
    "\n",
    "# genes that are in the GEX matrix\n",
    "genes_demeth_gex = np.delete(genes_demeth,np.where(np.array(genes_demeth)==\"TDGF1P3\"))\n",
    "genes_meth_gex = np.array(genes_meth)"
   ]
  },
  {
   "cell_type": "markdown",
   "metadata": {},
   "source": [
    "### Delete normal samples"
   ]
  },
  {
   "cell_type": "markdown",
   "metadata": {},
   "source": [
    "TCGA provides some samples from healthy tissue near the tumour ; we delete them from the original methylation and keep them to compare the distribution of average beta values. For ACC & MESO we have no normal samples from TCGA so we download those from GEO database (preprocessed)."
   ]
  },
  {
   "cell_type": "code",
   "execution_count": null,
   "metadata": {},
   "outputs": [],
   "source": [
    "normal_sample_codes = [\"10\",\"11\",\"12\",\"13\",\"14\",\"20\"]"
   ]
  },
  {
   "cell_type": "code",
   "execution_count": null,
   "metadata": {},
   "outputs": [],
   "source": [
    "geo_normal_dir = \"path\\to\\GEO_normal_tissue\""
   ]
  },
  {
   "cell_type": "code",
   "execution_count": null,
   "metadata": {},
   "outputs": [],
   "source": [
    "geo_normal_meth = {\"ACC\": pd.read_csv(os.path.join(geo_normal_dir,\"Adrenal_normal_full.csv\")).set_index(\"Unnamed: 0\"),\n",
    "                  \"LAML\": pd.read_csv(os.path.join(geo_normal_dir,\"Blood_normal_full.csv\")).set_index(\"Unnamed: 0\"),}"
   ]
  },
  {
   "cell_type": "code",
   "execution_count": null,
   "metadata": {},
   "outputs": [],
   "source": [
    "normal_meth,new_meth_data_pc,new_gene_data_pc,new_clin_data_pc = {},{},{},{}\n",
    "for cancer in tqdm(cancer_to_keep):\n",
    "    ind_normal_samples = np.where(np.array([meth_data_pc[cancer].index[i].split(\"-\")[-1] for i in range(meth_data_pc[cancer].shape[0])])==\"11\")[0]\n",
    "    if cancer==\"LGG\":\n",
    "        print(\"There are {} normal samples for cancer type {}\".format(normal_meth[\"GBM\"].shape[0],cancer))\n",
    "        normal_meth[cancer] = normal_meth[\"GBM\"][normal_meth[\"GBM\"].columns.intersection(meth_data_pc[cancer].columns)]\n",
    "    elif cancer==\"MESO\":\n",
    "        print(\"There are {} normal samples for cancer type {}\".format(normal_meth[\"LUAD\"].shape[0],cancer))\n",
    "        normal_meth[cancer] = normal_meth[\"LUAD\"][normal_meth[\"LUAD\"].columns.intersection(meth_data_pc[cancer].columns)]\n",
    "    elif cancer in [\"ACC\",\"LAML\"]:\n",
    "        print(\"There are {} normal samples for cancer type {}\".format(geo_normal_meth[cancer].shape[0],cancer))\n",
    "        normal_meth[cancer] = geo_normal_meth[cancer]\n",
    "    elif not(len(ind_normal_samples)==0):\n",
    "        print(\"There are {} normal samples for cancer type {}\".format(len(ind_normal_samples),cancer))\n",
    "        normal_meth[cancer] = meth_data_pc[cancer].iloc[ind_normal_samples]\n",
    "    else:\n",
    "        print(\"No normal samples for cancer type {}\".format(cancer))\n",
    "        normal_meth[cancer] =  []\n",
    "    new_meth_data_pc[cancer] = meth_data_pc[cancer].copy().drop(meth_data_pc[cancer].index[ind_normal_samples])\n",
    "    new_clin_data_pc[cancer] = clin_data_pc[cancer].copy().drop(clin_data_pc[cancer].index.intersection(meth_data_pc[cancer].index[ind_normal_samples]))"
   ]
  },
  {
   "cell_type": "code",
   "execution_count": null,
   "metadata": {},
   "outputs": [],
   "source": [
    "avg_samp,avg_cpg=[],[]\n",
    "for cancer in new_meth_data_pc:\n",
    "    print(cancer,\"meth info: \",new_meth_data_pc[cancer].shape)\n",
    "    avg_samp.append(new_meth_data_pc[cancer].shape[0])\n",
    "    avg_cpg.append(new_meth_data_pc[cancer].shape[1])\n",
    "print('average sample size : ',np.mean(avg_samp),np.quantile(avg_samp,0.25),np.quantile(avg_samp,0.75),\n",
    "      'average cpg ids : ',np.mean(avg_cpg),np.quantile(avg_cpg,0.25),np.quantile(avg_cpg,0.75))\n"
   ]
  },
  {
   "cell_type": "markdown",
   "metadata": {},
   "source": [
    "# Clustering"
   ]
  },
  {
   "cell_type": "markdown",
   "metadata": {},
   "source": [
    "First we standardize the data to be able to perform dimensionality reduction"
   ]
  },
  {
   "cell_type": "code",
   "execution_count": null,
   "metadata": {},
   "outputs": [],
   "source": [
    "std_sc_data = {}\n",
    "for cancer in tqdm(cancer_to_keep):\n",
    "    std_sc = StandardScaler()\n",
    "    std_sc_data[cancer] = std_sc.fit_transform(new_meth_data_pc[cancer])\n"
   ]
  },
  {
   "cell_type": "code",
   "execution_count": null,
   "metadata": {},
   "outputs": [],
   "source": [
    "df_transf_data = {}\n",
    "for cancer in tqdm(cancer_to_keep):\n",
    "    df_transf_data[cancer] = pd.DataFrame(std_sc_data[cancer], index=new_meth_data_pc[cancer].index, columns=new_meth_data_pc[cancer].columns)"
   ]
  },
  {
   "cell_type": "markdown",
   "metadata": {},
   "source": [
    "### Dimensionality reduction"
   ]
  },
  {
   "cell_type": "markdown",
   "metadata": {},
   "source": [
    "We use Uniform Manifold Approximation and Projection (UMAP) \n",
    "Ref : McInnes L, Healy J, Melville J. UMAP: Uniform Manifold Approximation and Projection for Dimension Reduction. arXiv [stat.ML]. 2018.http://arxiv.org/abs/1802.03426."
   ]
  },
  {
   "cell_type": "code",
   "execution_count": null,
   "metadata": {},
   "outputs": [],
   "source": [
    "umap_red_data= {}\n",
    "for cancer in tqdm(cancer_to_keep):\n",
    "    reducer = umap.UMAP(n_components=2)\n",
    "    umap_red_data[cancer] = reducer.fit_transform(df_transf_data[cancer])"
   ]
  },
  {
   "cell_type": "markdown",
   "metadata": {},
   "source": [
    "### Check optimal number of clusters"
   ]
  },
  {
   "cell_type": "markdown",
   "metadata": {},
   "source": [
    "To choose the optimal number of cluster, we compute the 10-nearest neighbor affinity matrix "
   ]
  },
  {
   "cell_type": "code",
   "execution_count": null,
   "metadata": {},
   "outputs": [],
   "source": [
    "def get_consensus_matrix_clustering(meth_data_pc,cancer_to_keep,triple_cluster_cancers,n_runs,kernel):\n",
    "#     Parameters: meth_data_pc (dict): keys are cancer types, values are pd.DataFrame (n_pat,n_cpg) (rows=patients,columns=cpg)\n",
    "#             cancer_to_keep (list): names of cancer types\n",
    "#             triple_cluster_cancers (list): names of cancer types with 3 methylation groups\n",
    "#             n_runs (int): number of runs for consensus clustering (avoid randomness due to init)\n",
    "#             kernel (str): either \"NN\" or \"aff\", to compute from a preexisting affinity matrix or not\n",
    "#     Returns: consensus_matrix (dict): keys are cancer types, values are pd.DataFrame (n_pat,n_runs) (rows=patients,columns=runs)\n",
    "#             affinity_matrix (dict): keys are cancer types, values are pd.DataFrame (n_pat,n_pat) \n",
    "#                            corresponding to affinity between pairs of patients (rows=patients,columns=patients)\n",
    "    if kernel==\"NN\":\n",
    "        affinity_matrix = {}\n",
    "    else:\n",
    "        affinity_matrix = meth_data_pc\n",
    "    consensus_matrix = {cancer: [] for cancer in cancer_to_keep}\n",
    "    for r in tqdm(range(n_runs)):\n",
    "        agglomerative_clustering_pc = {}\n",
    "        for cancer in cancer_to_keep:\n",
    "            print(cancer)\n",
    "            if cancer in triple_cluster_cancers:\n",
    "                if kernel==\"NN\":\n",
    "                    agglomerative = SpectralClustering(n_clusters=3,affinity=\"nearest_neighbors\",n_neighbors=10)\n",
    "                else:   \n",
    "                    agglomerative = SpectralClustering(n_clusters=3,affinity=\"precomputed\")\n",
    "            else:\n",
    "                if kernel==\"NN\":\n",
    "                      agglomerative = SpectralClustering(n_clusters=2,affinity=\"nearest_neighbors\",n_neighbors=10)\n",
    "                else:\n",
    "                    agglomerative = SpectralClustering(n_clusters=2,affinity=\"precomputed\")\n",
    "            if kernel==\"NN\":       \n",
    "                agglomerative.fit(meth_data_pc[cancer].values)\n",
    "                affinity_matrix[cancer] = agglomerative.affinity_matrix_ \n",
    "                affinity_matrix[cancer] = affinity_matrix[cancer].todense()\n",
    "            else:\n",
    "                agglomerative.fit(meth_data_pc[cancer])\n",
    "                \n",
    "            agglomerative_clustering_pc[cancer] = pd.DataFrame(agglomerative.labels_,columns=[\"cluster\"])\n",
    "            agglomerative_clustering_pc[cancer] = agglomerative_clustering_pc[cancer]+1\n",
    "\n",
    "            if len(consensus_matrix[cancer])==0:\n",
    "                consensus_matrix[cancer] = agglomerative_clustering_pc[cancer]\n",
    "            else:\n",
    "                consensus_matrix[cancer] = pd.concat([consensus_matrix[cancer],agglomerative_clustering_pc[cancer]],axis=1)\n",
    "    return consensus_matrix, affinity_matrix"
   ]
  },
  {
   "cell_type": "code",
   "execution_count": null,
   "metadata": {
    "scrolled": true
   },
   "outputs": [],
   "source": [
    "consensus_matrix_spectral, affinity_matrix = get_consensus_matrix_clustering(new_meth_data_pc,cancer_to_keep,[],1,\"NN\")"
   ]
  },
  {
   "cell_type": "code",
   "execution_count": null,
   "metadata": {},
   "outputs": [],
   "source": [
    "# compute the eigenvalues for the signless Laplacian\n",
    "\n",
    "plt.rc('font', size=15)\n",
    "for cancer in tqdm(cancer_to_keep):\n",
    "    graph = graph_of_patients(list(new_meth_data_pc[cancer].index),affinity_matrix[cancer])\n",
    "    L = nx.linalg.laplacianmatrix.normalized_laplacian_matrix(graph)\n",
    "    A = nx.linalg.graphmatrix.adjacency_matrix(graph)\n",
    "    signL = L.todense() + A.todense() + A.todense()\n",
    "    eigenvalues, eigenvectors = LA.eig(signL)\n",
    "    eigengaps = [-eigenvalues[1]+eigenvalues[0],-eigenvalues[2]+eigenvalues[1],\n",
    "                                                         -eigenvalues[3]+eigenvalues[2],-eigenvalues[4]+eigenvalues[3]]\n",
    "    print(\"{} Gap1: {}, Gap2: {}, Gap3: {}, Gap4: {}\".format(cancer,eigengaps[0],eigengaps[1],\n",
    "                                                            eigengaps[2],eigengaps[3]))\n",
    "    print(\"Optimal number of clusters {}\".format(np.argmax(eigengaps[1:])+2))\n",
    "    plt.figure()\n",
    "    plt.title('Eigenvalues of L of '+cancer)\n",
    "    plt.scatter(np.arange(30), eigenvalues[:30])\n",
    "    plt.ylim()\n",
    "    plt.grid()"
   ]
  },
  {
   "cell_type": "code",
   "execution_count": null,
   "metadata": {},
   "outputs": [],
   "source": [
    "### real cancer with 3: ACC, CESC, HNSC, LIHC, PRAD, READ, THCA"
   ]
  },
  {
   "cell_type": "code",
   "execution_count": null,
   "metadata": {},
   "outputs": [],
   "source": [
    "# list of cancers for which optimal value is 3\n",
    "triple_cluster_cancers_aff = ['ACC', 'BRCA', 'CESC', 'COAD', 'GBM', 'ESCA', 'HNSC', 'KIRC', 'LIHC', 'LUAD', 'LUSC', 'MESO', 'PAAD', 'PCPG', 'READ', 'SKCM', 'THYM', 'UCEC']"
   ]
  },
  {
   "cell_type": "code",
   "execution_count": null,
   "metadata": {
    "scrolled": true
   },
   "outputs": [],
   "source": [
    "consensus_matrix_spectral, affinity_matrix = get_consensus_matrix_clustering(affinity_matrix,cancer_to_keep,triple_cluster_cancers_aff,10,\"aff\")"
   ]
  },
  {
   "cell_type": "code",
   "execution_count": null,
   "metadata": {},
   "outputs": [],
   "source": [
    "# perform consensus clustering \n",
    "cluster_memb_dir = \"path\\to\\cluster_memb\"\n",
    "from netneurotools import cluster\n",
    "consensus_clustering_spectral = {}\n",
    "for cancer in tqdm(cancer_to_keep):\n",
    "#     consensus_clustering_spectral[cancer] = pd.DataFrame(cluster.find_consensus(consensus_matrix_spectral[cancer].values, seed=1234),columns=[\"cluster\"],index=new_meth_data_pc[cancer].index)\n",
    "#     consensus_clustering_spectral[cancer] = consensus_clustering_spectral[cancer].reset_index()\n",
    "#     pd.DataFrame(consensus_clustering_spectral[cancer]).to_csv(os.path.join(cluster_memb_dir,cancer+\"_cluster_memb_new.csv\"))\n",
    "# #####\n",
    "    consensus_clustering_spectral[cancer] = pd.read_csv(os.path.join(cluster_memb_dir,cancer+\"_cluster_memb_new.csv\")).set_index(\"Unnamed: 0\")\n",
    "    consensus_clustering_spectral[cancer].columns=[\"id\",\"cluster\"]"
   ]
  },
  {
   "cell_type": "code",
   "execution_count": null,
   "metadata": {},
   "outputs": [],
   "source": [
    "for cancer in tqdm(cancer_to_keep):\n",
    "    consensus_clustering_spectral[cancer] = consensus_clustering_spectral[cancer].set_index(\"id\")\n",
    "consensus_clustering_spectral[\"CESC\"] = consensus_clustering_spectral[\"CESC\"].replace({4: 3})"
   ]
  },
  {
   "cell_type": "code",
   "execution_count": null,
   "metadata": {},
   "outputs": [],
   "source": [
    "sign_cpg_dir = \"path\\to\\sign_cpg_spectral\"\n",
    "def get_sign_kw_louvain(meth_data_pc, cancer_to_keep, consensus_clustering):\n",
    "#     Parameters: meth_data_pc (dict): keys are cancer types, values are pd.DataFrame (n_pat,n_cpg) (rows=patients,columns=cpg)\n",
    "#             cancer_to_keep (list): names of cancer types\n",
    "#             consensus_clustering (dict): keys are cancer types, values are pd.DataFrame (n_pat,1) (rows=patients, column=cluster membership)\n",
    "#     Returns: kw (dict): keys are cancer types, values are list of sign. cpg probes for \n",
    "    kw = {}\n",
    "    for cancer in tqdm(cancer_to_keep):\n",
    "        kw[cancer]=[]\n",
    "        positions = meth_data_pc[cancer].columns\n",
    "        ind_cl_1 = np.where(consensus_clustering[cancer][\"cluster\"].values==1)[0]\n",
    "        ind_cl_2 = np.where(consensus_clustering[cancer][\"cluster\"].values==2)[0]\n",
    "        ind_cl_3 = np.where(consensus_clustering[cancer][\"cluster\"].values==3)[0]\n",
    "        print(cancer)\n",
    "        if len(np.unique(consensus_clustering[cancer][\"cluster\"].values))==2:\n",
    "            meth_cl_1 = meth_data_pc[cancer].iloc[ind_cl_1].copy()\n",
    "            meth_cl_2 = meth_data_pc[cancer].iloc[ind_cl_2].copy()\n",
    "            for pos in tqdm(positions):\n",
    "                kw[cancer].append(kruskal(meth_cl_1[pos],\n",
    "                        meth_cl_2[pos])[1])\n",
    "        elif len(np.unique(consensus_clustering[cancer][\"cluster\"].values))==3:\n",
    "            meth_cl_1 = meth_data_pc[cancer].iloc[ind_cl_1].copy()\n",
    "            meth_cl_2 = meth_data_pc[cancer].iloc[ind_cl_2].copy()\n",
    "            meth_cl_3 = meth_data_pc[cancer].iloc[ind_cl_3].copy()\n",
    "            for pos in tqdm(positions):\n",
    "                kw[cancer].append(kruskal(meth_cl_1[pos],\n",
    "                        meth_cl_2[pos],\n",
    "                        meth_cl_3[pos])[1])\n",
    "        else:\n",
    "            print(\"The cancer {} is not taken into consideration (too many clusters)\".format(cancer))\n",
    "            continue\n",
    "        ind_sign = np.where(np.array(kw[cancer])<(0.05/len(kw[cancer])))[0]\n",
    "        print(\"There are {} significantly different positions between clusters for cancer type {}\".format(len(ind_sign),cancer))\n",
    "        sign_pos=[meth_data_pc[cancer].columns[i] for i in ind_sign]\n",
    "        pd.DataFrame(sign_pos).to_csv(os.path.join(sign_cpg_dir,cancer+\"_sign_cpg_spectral.csv\"))\n",
    "    return kw"
   ]
  },
  {
   "cell_type": "code",
   "execution_count": null,
   "metadata": {
    "scrolled": true
   },
   "outputs": [],
   "source": [
    "kw_snf = get_sign_kw_louvain(new_meth_data_pc, [\"LGG\"], consensus_clustering_spectral)"
   ]
  },
  {
   "cell_type": "code",
   "execution_count": null,
   "metadata": {},
   "outputs": [],
   "source": [
    "sign_cpg_dir = \"path\\to\\sign_cpg_spectral\"\n",
    "sign_pos_spectral = {}\n",
    "for cancer in cancer_to_keep:\n",
    "    sign_pos_spectral[cancer] = pd.read_csv(os.path.join(sign_cpg_dir,cancer+\"_sign_cpg_spectral.csv\")).set_index(\"Unnamed: 0\")"
   ]
  },
  {
   "cell_type": "code",
   "execution_count": null,
   "metadata": {
    "scrolled": true
   },
   "outputs": [],
   "source": [
    "avg_size_sign_pos = []\n",
    "for cancer in sign_pos_spectral:\n",
    "    print(cancer,sign_pos_spectral[cancer].shape[0])\n",
    "    avg_size_sign_pos.append(sign_pos_spectral[cancer].shape[0])\n",
    "print(\"avg : \",np.mean(avg_size_sign_pos),\"25% : \",np.quantile(avg_size_sign_pos,0.25),\"75% : \",np.quantile(avg_size_sign_pos,0.75))"
   ]
  },
  {
   "cell_type": "code",
   "execution_count": null,
   "metadata": {},
   "outputs": [],
   "source": [
    "def get_avg_methylation_snf(sign_pos, meth_data_pc, consensus_clustering, cancer_order):\n",
    "#     Parameters: meth_data_pc (dict): keys are cancer types, values are pd.DataFrame (n_pat,n_cpg) (rows=patients,columns=cpg)\n",
    "#             sign_pos (dict): keys are cancer types, values are pd.DataFrame (n_sign_pos,1) (rows=sign_pos,)\n",
    "#             consensus_clustering (dict): keys are cancer types, values are pd.DataFrame (n_pat,1) (rows=patients, column=cluster membership)\n",
    "#             cancer_order (list): list of cancer types in the KS order\n",
    "#     Returns: avg_meth (pd.Df): the average beta values over significant positions (n_cancers,n_clusters) (rows=cancer,column=cluster number)\n",
    "    avg_meth = {}\n",
    "    for cancer in cancer_order:\n",
    "        avg_meth[cancer] = []\n",
    "        for i in np.unique(consensus_clustering[cancer][\"cluster\"].values):\n",
    "            avg_meth[cancer].append(np.round(np.mean(meth_data_pc[cancer].iloc[np.where(consensus_clustering[cancer][\"cluster\"].values==i)[0]][sign_pos[cancer].values.ravel()].mean()),2))\n",
    "    return pd.DataFrame.from_dict(avg_meth, orient='index')"
   ]
  },
  {
   "cell_type": "code",
   "execution_count": null,
   "metadata": {},
   "outputs": [],
   "source": [
    "avg_meth_snf_spectral = get_avg_methylation_snf(sign_pos_spectral, new_meth_data_pc, consensus_clustering_spectral, cancer_to_keep)\n",
    "avg_meth_snf_spectral.columns=[1,2,3]\n",
    "avg_meth_snf_spectral"
   ]
  },
  {
   "cell_type": "code",
   "execution_count": null,
   "metadata": {},
   "outputs": [],
   "source": [
    "# make sure the cluster number corresponds to the average beta value (1=lowest, 3=highest)\n",
    "for cancer in avg_meth_snf_spectral.index:\n",
    "    sorted_arg = np.argsort(avg_meth_snf_spectral.loc[cancer])\n",
    "    cl_order = {}\n",
    "    for i in range(avg_meth_snf_spectral.loc[cancer].dropna().shape[0]):\n",
    "        cl_order[sorted_arg[i+1]+1] = i+1\n",
    "    consensus_clustering_spectral[cancer] = consensus_clustering_spectral[cancer].replace({\"cluster\": cl_order})"
   ]
  },
  {
   "cell_type": "code",
   "execution_count": null,
   "metadata": {},
   "outputs": [],
   "source": [
    "df_umap_spectral,umap_red_data_pd = {},{}\n",
    "for cancer in cancer_to_keep:\n",
    "    umap_red_data_pd[cancer] = pd.DataFrame(umap_red_data[cancer],index=consensus_clustering_spectral[cancer].index,columns=[\"Comp1\",\"Comp2\"])\n",
    "    if cancer in triple_cluster_cancers_aff:\n",
    "        df_umap_spectral[cancer] = pd.concat([umap_red_data_pd[cancer],consensus_clustering_spectral[cancer]],axis=1).replace({1: \"Low meth cluster\", 2: \"Intermediate meth cluster\", 3: \"High meth cluster\"})\n",
    "    else:\n",
    "        df_umap_spectral[cancer] = pd.concat([umap_red_data_pd[cancer],consensus_clustering_spectral[cancer]],axis=1).replace({1: \"Low meth cluster\", 2: \"High meth cluster\"})\n",
    "    df_umap_spectral[cancer].columns = [\"Comp1\",\"Comp2\",\"Cluster\"]"
   ]
  },
  {
   "cell_type": "code",
   "execution_count": null,
   "metadata": {
    "scrolled": true
   },
   "outputs": [],
   "source": [
    "# compute the associated silhouette score in the 2D UMAP reduced space\n",
    "sil_scores = []\n",
    "sil_scores_means= []\n",
    "for cancer in tqdm(cancer_to_keep):\n",
    "    sil_pd = pd.concat([new_meth_data_pc[cancer],consensus_clustering_spectral[cancer]],axis=1).dropna()\n",
    "    sil = silhouette_samples(sil_pd.drop(\"cluster\",axis=1),sil_pd[\"cluster\"].values.ravel(),metric=\"euclidean\")\n",
    "    mn = np.mean(sil)\n",
    "    print(cancer,mn)\n",
    "    sil_scores.append(sil)\n",
    "    sil_scores_means.append(mn)\n",
    "print(\"Mean {} IQR [{}-{}]\".format(np.mean(sil_scores_means),np.quantile(sil_scores_means,0.25),np.quantile(sil_scores_means,0.75)))"
   ]
  },
  {
   "cell_type": "code",
   "execution_count": null,
   "metadata": {
    "scrolled": true
   },
   "outputs": [],
   "source": [
    "plt.rc('font', size=15)\n",
    "fig, ax = plt.subplots(7,4,figsize=(15,20))\n",
    "flatax = ax.flatten()"
   ]
  },
  {
   "cell_type": "code",
   "execution_count": null,
   "metadata": {},
   "outputs": [],
   "source": [
    "# plot the silhouette score per sample for each cancer type \n",
    "# code inspired from https://scikit-learn.org/stable/auto_examples/cluster/plot_kmeans_silhouette_analysis.html\n",
    "\n",
    "import matplotlib.cm as cm\n",
    "seapal = sns.color_palette(\"bright\")\n",
    "plt.rc('font', size=15)\n",
    "for j in range(len(sil_scores)):\n",
    "\n",
    "    cluster_labels = consensus_clustering_spectral[cancer_to_keep[j]].values.ravel()\n",
    "    sample_silhouette_values = sil_scores[j]\n",
    "    silhouette_avg = np.mean(sample_silhouette_values)\n",
    "    n_clusters =  np.max(cluster_labels)\n",
    "    if n_clusters == 2:\n",
    "        colors = {0: seapal[0], 1: seapal[3]}\n",
    "    else:\n",
    "        colors = {0: seapal[0], 1: seapal[8], 2: seapal[3]}\n",
    "    y_lower = 10\n",
    "    for i in range(n_clusters):\n",
    "        # Aggregate the silhouette scores for samples belonging to\n",
    "        # cluster i, and sort them\n",
    "        ith_cluster_silhouette_values = \\\n",
    "            sample_silhouette_values[cluster_labels == i+1]\n",
    "\n",
    "        ith_cluster_silhouette_values.sort()\n",
    "\n",
    "        size_cluster_i = ith_cluster_silhouette_values.shape[0]\n",
    "        y_upper = y_lower + size_cluster_i\n",
    "\n",
    "        color = colors[i]\n",
    "        flatax[j].fill_betweenx(np.arange(y_lower, y_upper),\n",
    "                          0, ith_cluster_silhouette_values,\n",
    "                          facecolor=color, edgecolor=color, alpha=0.7)\n",
    "\n",
    "        # Compute the new y_lower for next plot\n",
    "        y_lower = y_upper + 10  # 10 for the 0 samples\n",
    "\n",
    "    flatax[j].set_title(\"The silhouette plot for \"+cancer_to_keep[j],fontsize=15)\n",
    "    flatax[j].set_xlabel(\"SC\",fontsize=10)\n",
    "    flatax[j].set_ylabel(\"Cluster label\",fontsize=10)\n",
    "\n",
    "    # The vertical line for average silhouette score of all the values\n",
    "    flatax[j].axvline(x=silhouette_avg, color=\"red\", linestyle=\"--\")\n",
    "\n",
    "    flatax[j].set_yticks([])  # Clear the yaxis labels / ticks\n",
    "    flatax[j].set_xticks([-0.4, -0.2, 0, 0.2, 0.4, 0.6, 0.8, 1])\n",
    "    flatax[j].tick_params(labelsize=10)"
   ]
  },
  {
   "cell_type": "code",
   "execution_count": null,
   "metadata": {
    "scrolled": true
   },
   "outputs": [],
   "source": [
    "flatax[-1].axis(\"off\")\n",
    "flatax[-2].axis(\"off\")\n",
    "fig.tight_layout()\n",
    "fig"
   ]
  },
  {
   "cell_type": "code",
   "execution_count": null,
   "metadata": {},
   "outputs": [],
   "source": [
    "fig.savefig(\"silhouette_coefficients_full.svg\",bbox_inches=\"tight\")\n",
    "fig.savefig(\"silhouette_coefficients_full.png\",bbox_inches=\"tight\")"
   ]
  },
  {
   "cell_type": "code",
   "execution_count": null,
   "metadata": {},
   "outputs": [],
   "source": [
    "def get_plot_df(df_umap_red,sil_scores):\n",
    "#     Parameters: df_umap_red (dict): keys are cancer types, values are pd.Df (n_patients,3) with columns \n",
    "#             the 3 UMAP components coordinates and the cluster membership\n",
    "#             sil_scores (list): list of size n_cancers with np.array of size n_patients with silhouette score per sample\n",
    "#     Returns: plot_df_umap_red (pd.Df): rows are patients, columns are the 2 UMAP components coordinates, \n",
    "#                        the cluster membership, the cancer type and the silhouette coefficient (n_total_patients,5)\n",
    "    plt.rc('font', size=15)\n",
    "    plot_df_umap_red = []\n",
    "    for i,cancer in enumerate(df_umap_red):\n",
    "        df = df_umap_red[cancer].copy()\n",
    "        df[\"cancer\"] = [cancer]*len(df.index)\n",
    "        sscore = np.array([\"Positive\" if sil_scores[i][j]>=0 else \"Negative\" for j in range(len(sil_scores[i]))]).reshape(-1,1)\n",
    "        df = pd.concat([df,pd.DataFrame(sil_scores[i],index=df.index,columns=[\"Sil_orig\"]),pd.DataFrame(sscore,index=df.index,columns=[\"Silhouette\"])],axis=1)\n",
    "        if len(plot_df_umap_red)==0:\n",
    "            plot_df_umap_red = df\n",
    "        else:\n",
    "            plot_df_umap_red = pd.concat([plot_df_umap_red,df])\n",
    "    return plot_df_umap_red\n"
   ]
  },
  {
   "cell_type": "code",
   "execution_count": null,
   "metadata": {},
   "outputs": [],
   "source": [
    "def annotate(data, **kws):\n",
    "    print(data)\n",
    "    n = np.round(data[\"Sil_orig\"].mean(),2)\n",
    "    ax = plt.gca()\n",
    "    \n",
    "\n",
    "def get_plot_clustering(plot_df_umap_red):\n",
    "#     Parameters: plot_df_umap_red (pd.Df): rows are patients, columns are the 2 UMAP components coordinates, \n",
    "#             the cluster membership, the cancer type and the silhouette coefficient (n_total_patients,5)\n",
    "#     Returns: None (plots the figure)\n",
    "    seapal = sns.color_palette(\"bright\")\n",
    "    plt.rc('font', size=30)\n",
    "    facet = sns.relplot(data=plot_df_umap_red, x='Comp1', y='Comp2', hue='Cluster', col=\"cancer\", size=\"Silhouette\", sizes={\"Positive\": 50, \"Negative\": 20}, col_wrap=7, palette={\"Low meth cluster\": seapal[0], \"High meth cluster\": seapal[3],\"Intermediate meth cluster\": seapal[8]},\n",
    "                   facet_kws={'sharey': False, 'sharex': False})\n",
    "    for i,ax in enumerate(facet.axes):\n",
    "        df = plot_df_umap_red[plot_df_umap_red[\"cancer\"]==cancer_to_keep[i]]\n",
    "        ax.text(.9, .9, np.round(df[\"Sil_orig\"].mean(),2), transform=ax.transAxes)\n",
    "    facet.set_titles('{col_name}')\n",
    "    facet.set(xticklabels=[])\n",
    "    facet.set(yticklabels=[])\n",
    "    facet.fig.subplots_adjust(top=0.9,right=0.85)\n",
    "    plt.setp(facet._legend.get_title(), fontsize=30)\n",
    "    plt.setp(facet._legend.get_texts(), fontsize=30)\n",
    "    plt.setp(facet._legend,bbox_to_anchor=(1.01,0.5))\n",
    "    plt.savefig(\"UMAP_clusters.svg\",bbox_inches=\"tight\")\n",
    "    plt.savefig(\"UMAP_clusters.png\",bbox_inches=\"tight\")\n",
    "    return facet"
   ]
  },
  {
   "cell_type": "code",
   "execution_count": null,
   "metadata": {},
   "outputs": [],
   "source": [
    "plot_df_spectral = get_plot_df(df_umap_spectral,sil_scores)"
   ]
  },
  {
   "cell_type": "code",
   "execution_count": null,
   "metadata": {
    "scrolled": true
   },
   "outputs": [],
   "source": [
    "%matplotlib inline\n",
    "facet = get_plot_clustering(plot_df_spectral)"
   ]
  },
  {
   "cell_type": "markdown",
   "metadata": {},
   "source": [
    "## Correlation between clustering and clinical features"
   ]
  },
  {
   "cell_type": "markdown",
   "metadata": {},
   "source": [
    "We compute significant associations between clinical variables and the cluster membership"
   ]
  },
  {
   "cell_type": "code",
   "execution_count": null,
   "metadata": {
    "scrolled": true
   },
   "outputs": [],
   "source": [
    "for cancer in tqdm(cancer_to_keep):\n",
    "    print(cancer)\n",
    "    cancer_clin_raw = cancer_clin_raw_pc[cancer]\n",
    "    common_pat_clustering = consensus_clustering_spectral[cancer].loc[consensus_clustering_spectral[cancer].index.intersection(cancer_clin_raw.index)]\n",
    "    ind_cl_1 = common_pat_clustering[common_pat_clustering[\"cluster\"]==1].index\n",
    "    ind_cl_2 = common_pat_clustering[common_pat_clustering[\"cluster\"]==2].index\n",
    "    ind_cl_3 = common_pat_clustering[common_pat_clustering[\"cluster\"]==3].index\n",
    "    \n",
    "    for clin_cat in cancer_clin_raw.columns:\n",
    "        # Kruskal wallis for continuous variables\n",
    "        if pd.api.types.is_numeric_dtype(cancer_clin_raw[clin_cat]):\n",
    "            values_clin_cat = cancer_clin_raw[clin_cat].loc[common_pat_clustering.index].fillna(-1)\n",
    "            if len(Counter(values_clin_cat))==1:\n",
    "                continue\n",
    "            val_cl1,val_cl2,val_cl3 = values_clin_cat.loc[ind_cl_1].values, values_clin_cat.loc[ind_cl_2].values, values_clin_cat.loc[ind_cl_3].values\n",
    "            if cancer in triple_cluster_cancers_aff:\n",
    "                kr_p_value = kruskal(val_cl1,val_cl2,val_cl3)[1]\n",
    "            else:\n",
    "                kr_p_value = kruskal(val_cl1,val_cl2)[1]\n",
    "            if kr_p_value<0.05/cancer_clin_raw.shape[1]:\n",
    "                print(\"Kruskal {}: {}\".format(clin_cat,kr_p_value))\n",
    "        else:\n",
    "            # chi square for categorical variables\n",
    "            values_clin_cat = cancer_clin_raw[clin_cat].fillna(\"NA\")\n",
    "            if len(Counter(values_clin_cat))==1:\n",
    "                continue\n",
    "            freq_cl_1 = pd.DataFrame.from_dict(dict(Counter(values_clin_cat.loc[ind_cl_1].values)),orient=\"index\",columns=[\"Low\"])\n",
    "            freq_cl_2 = pd.DataFrame.from_dict(dict(Counter(values_clin_cat.loc[ind_cl_2].values)),orient=\"index\",columns=[\"Int\"])\n",
    "            if cancer in triple_cluster_cancers_aff:\n",
    "                freq_cl_3 = pd.DataFrame.from_dict(dict(Counter(values_clin_cat.loc[ind_cl_3].values)),orient=\"index\",columns=[\"High\"])\n",
    "                cont_table = pd.concat([freq_cl_1,freq_cl_2,freq_cl_3],axis=1).fillna(0).T\n",
    "            else:\n",
    "                cont_table = pd.concat([freq_cl_1,freq_cl_2],axis=1).fillna(0).T\n",
    "            if cont_table.shape[1]==1:\n",
    "                continue\n",
    "            if \"NA\" in cont_table.columns:\n",
    "                cont_table = cont_table.drop(\"NA\",axis=1)\n",
    "                if cont_table.shape[1]==1:\n",
    "                    continue\n",
    "            # check assumption for chi square\n",
    "            if (cont_table.values<5).any():\n",
    "                continue\n",
    "            chi_p_value = chi2_contingency(cont_table)[1]\n",
    "            if (chi_p_value<0.05/cancer_clin_raw.shape[1]).any():\n",
    "                print(cont_table)\n",
    "                print(\"Chi square {}: {}\".format(clin_cat,chi_p_value))"
   ]
  },
  {
   "cell_type": "markdown",
   "metadata": {},
   "source": [
    "# Cluster characterization through methylation distribution"
   ]
  },
  {
   "cell_type": "code",
   "execution_count": null,
   "metadata": {},
   "outputs": [],
   "source": [
    "def get_dist_methylation_snf(sign_pos, meth_data_pc, consensus_clustering, cancer_order):\n",
    "#     Parameters: meth_data_pc (dict): keys are cancer types, values are pd.DataFrame (n_pat,n_cpg) (rows=patients,columns=cpg)\n",
    "#             sign_pos (dict): keys are cancer types, values are pd.DataFrame (n_sign_pos,1) (rows=sign_pos,)\n",
    "#             consensus_clustering (dict): keys are cancer types, values are pd.DataFrame (n_pat,1) (rows=patients, column=cluster membership)\n",
    "#             cancer_order (list): list of cancer types in the KS order\n",
    "#     Returns: df_list (pd.Df): the average beta values over significant positions with cluster membership and cancer type (n_total_patients,3)\n",
    "    df_list = []\n",
    "    for cancer in cancer_order:\n",
    "        print(cancer)\n",
    "        values = []\n",
    "        n_clusters = len(np.unique(consensus_clustering[cancer][\"cluster\"].values))\n",
    "        for i in range(n_clusters):\n",
    "            if n_clusters==2:\n",
    "                mapping_leg = {0: \"Low meth cluster\", 1: \"High meth cluster\"}\n",
    "            else:\n",
    "                mapping_leg = {0: \"Low meth cluster\", 1: \"Intermediate meth cluster\", 2: \"High meth cluster\"}\n",
    "            values.append(pd.concat([meth_data_pc[cancer].iloc[np.where(consensus_clustering[cancer][\"cluster\"].values==i+1)[0]][sign_pos[cancer].values.ravel()].mean(),pd.DataFrame([mapping_leg[i]]*len(sign_pos[cancer]),index=sign_pos[cancer].values.ravel(), columns=[\"Cluster\"])],axis=1))\n",
    "        df = pd.concat(values)\n",
    "        df = pd.concat([df,pd.DataFrame([cancer]*df.shape[0],columns=[\"cancer\"],index=df.index)],axis=1)\n",
    "        df.columns = [\"beta\",\"cluster\",\"cancer\"]\n",
    "        df_list.append(df)\n",
    "    return pd.concat(df_list)"
   ]
  },
  {
   "cell_type": "code",
   "execution_count": null,
   "metadata": {},
   "outputs": [],
   "source": [
    "dist_meth_spectral_1 = get_dist_methylation_snf(sign_pos_spectral, new_meth_data_pc, consensus_clustering_spectral, cancer_to_keep[:19])\n",
    "dist_meth_spectral_2 = get_dist_methylation_snf(sign_pos_spectral, new_meth_data_pc, consensus_clustering_spectral, cancer_to_keep[19:])"
   ]
  },
  {
   "cell_type": "code",
   "execution_count": null,
   "metadata": {},
   "outputs": [],
   "source": [
    "def get_dist_meth_with_normal(dist_meth_spectral,normal_meth,cancer_to_keep):\n",
    "#     Parameters: dist_meth_spectral (pd.Df): the average beta values over significant positions \n",
    "#             with cluster membership and cancer type (n_total_patients,3)\n",
    "#             normal_meth (dict): keys are cancer types, values are pd.Df (n_normal_samples,n_cpg) (rows=normal samples, columns=cpg)\n",
    "#             cancer_to_keep (list): list of cancer types\n",
    "#     Returns: new_dist_meth (pd.Df): same as dist_meth_spectral  but with normal tissues added\n",
    "    new_dist_meth = dist_meth_spectral.copy()\n",
    "    for cancer in tqdm(cancer_to_keep):\n",
    "        nmavg = normal_meth[cancer].mean()\n",
    "        normalpd = pd.concat([nmavg,pd.DataFrame([\"Normal tissue\"]*nmavg.shape[0],index=nmavg.index),pd.DataFrame([cancer]*nmavg.shape[0],index=nmavg.index)],axis=1)\n",
    "        normalpd.columns=[\"beta\",\"cluster\",\"cancer\"]\n",
    "        new_dist_meth = pd.concat([new_dist_meth,normalpd])\n",
    "    return new_dist_meth"
   ]
  },
  {
   "cell_type": "code",
   "execution_count": null,
   "metadata": {},
   "outputs": [],
   "source": [
    "new_dist_meth_1 = get_dist_meth_with_normal(dist_meth_spectral_1,normal_meth,cancer_to_keep[:19])\n",
    "new_dist_meth_2 = get_dist_meth_with_normal(dist_meth_spectral_2,normal_meth,cancer_to_keep[19:])"
   ]
  },
  {
   "cell_type": "code",
   "execution_count": null,
   "metadata": {},
   "outputs": [],
   "source": [
    "diff_mean_cl,diff_mean_normal = [],[]\n",
    "for i,cancer in enumerate(cancer_to_keep):\n",
    "    if i<19:\n",
    "        df = new_dist_meth_1[new_dist_meth_1[\"cancer\"]==cancer]\n",
    "    else:\n",
    "        df = new_dist_meth_2[new_dist_meth_2[\"cancer\"]==cancer]\n",
    "    mean_low = df[df[\"cluster\"]==\"Low meth cluster\"][\"beta\"].mean()\n",
    "    mean_high = df[df[\"cluster\"]==\"High meth cluster\"][\"beta\"].mean()\n",
    "    mean_normal = df[df[\"cluster\"]==\"Normal tissue\"][\"beta\"].mean()\n",
    "    diff_mean = mean_high - mean_low\n",
    "    diff_mean_n = mean_high - mean_normal\n",
    "    diff_mean_cl.append(diff_mean)\n",
    "    diff_mean_normal.append(diff_mean_n)\n"
   ]
  },
  {
   "cell_type": "code",
   "execution_count": null,
   "metadata": {},
   "outputs": [],
   "source": [
    "# order cancer types according to average between low and high\n",
    "cancer_order = np.array(list(cancer_to_keep))[np.argsort(list(diff_mean_cl))[::-1]]"
   ]
  },
  {
   "cell_type": "code",
   "execution_count": null,
   "metadata": {
    "scrolled": true
   },
   "outputs": [],
   "source": [
    "dist_meth_spectral_1 = get_dist_methylation_snf(sign_pos_spectral, new_meth_data_pc, consensus_clustering_spectral, cancer_order[:19])\n",
    "dist_meth_spectral_2 = get_dist_methylation_snf(sign_pos_spectral, new_meth_data_pc, consensus_clustering_spectral, cancer_order[19:])\n",
    "\n",
    "new_dist_meth_1 = get_dist_meth_with_normal(dist_meth_spectral_1,normal_meth,cancer_order[:19])\n",
    "new_dist_meth_2 = get_dist_meth_with_normal(dist_meth_spectral_2,normal_meth,cancer_order[19:])"
   ]
  },
  {
   "cell_type": "code",
   "execution_count": null,
   "metadata": {
    "scrolled": true
   },
   "outputs": [],
   "source": [
    "plt.rc(\"font\", size=20)\n",
    "seapal = sns.color_palette(\"deep\")\n",
    "fig = plt.figure(figsize=(13,3))\n",
    "ax = plt.axes()\n",
    "sns.lineplot(x=cancer_order,y=np.sort(diff_mean_cl)[::-1],ax=ax,color=seapal[0],label=\"High vs low\")\n",
    "sns.scatterplot(x=cancer_order,y=np.sort(diff_mean_cl)[::-1],ax=ax,s=200,color=seapal[0])\n",
    "\n",
    "sns.lineplot(x=cancer_order,y=np.sort(diff_mean_normal)[::-1],ax=ax,color=seapal[3],label=\"High vs normal\")\n",
    "sns.scatterplot(x=cancer_order,y=np.sort(diff_mean_normal)[::-1],ax=ax,s=200,color=seapal[3])\n",
    "\n",
    "ax.set_xticklabels(cancer_order,rotation=65,rotation_mode=\"default\",fontsize=25)\n",
    "ax.set_yticks([0,0.1,0.2,0.3,0.4,0.5,0.6])\n",
    "ax.set_yticklabels(np.round(ax.get_yticks(),2),rotation=0,rotation_mode=\"default\",fontsize=25)\n",
    "ax.set_ylabel(\"Difference \\ngroup means\",fontsize=25)\n",
    "\n",
    "plt.axvline(x=18.5,color=seapal[7],linewidth=4)\n",
    "plt.axhline(y=0.2,color=seapal[7],linestyle=\"--\")\n",
    "\n",
    "plt.legend(loc='right', bbox_to_anchor=(1.35,0.5), title=\"Groups compared\",frameon=False,fontsize=20)\n",
    "\n",
    "ax.text(19,0.5,\"CIMP limit\",fontsize=25,color=seapal[7])\n",
    "\n",
    "fig.savefig(\"mean_comparison_panel.png\",bbox_inches=\"tight\")\n",
    "fig.savefig(\"mean_comparison_panel.svg\",bbox_inches=\"tight\")"
   ]
  },
  {
   "cell_type": "code",
   "execution_count": null,
   "metadata": {},
   "outputs": [],
   "source": [
    "x_ticks = []\n",
    "for cancer in cancer_order:\n",
    "    cl1 = consensus_clustering_spectral[cancer][consensus_clustering_spectral[cancer][\"cluster\"]==1].index\n",
    "    cl2 = consensus_clustering_spectral[cancer][consensus_clustering_spectral[cancer][\"cluster\"]==2].index\n",
    "    cl3 = consensus_clustering_spectral[cancer][consensus_clustering_spectral[cancer][\"cluster\"]==3].index\n",
    "    label = cancer+\" \\n $n_{low}$=\"+str(len(cl1))\n",
    "    if cancer in triple_cluster_cancers_aff:\n",
    "        label += \" \\n $n_{inter}$=\"+str(len(cl2))+\"\\n $n_{high}$=\"+str(len(cl3))\n",
    "    else:\n",
    "        label += \"\\n $n_{high}$=\"+str(len(cl2))\n",
    "    label += \"\\n $n_{ref}$=\"+str(normal_meth[cancer].shape[0])\n",
    "    x_ticks.append(label)"
   ]
  },
  {
   "cell_type": "code",
   "execution_count": null,
   "metadata": {
    "scrolled": true
   },
   "outputs": [],
   "source": [
    "%matplotlib inline\n",
    "plt.rc('font', size=50)\n",
    "plt.figure(figsize=(65,13))\n",
    "seapal = sns.color_palette(\"bright\")\n",
    "g = sns.violinplot(x=\"cancer\",y=\"beta\",hue=\"cluster\",\n",
    "                   hue_order=[\"Low meth cluster\",\"Intermediate meth cluster\",\"High meth cluster\",\"Normal tissue\"],\n",
    "                   data=new_dist_meth_1, legend_out=False,\n",
    "                   palette={\"Low meth cluster\": seapal[0],\"High meth cluster\": seapal[3],\"Intermediate meth cluster\": seapal[8],\"Normal tissue\": seapal[7]},\n",
    "                  linewidth=4)\n",
    "\n",
    "\n",
    "g.set_xticklabels(x_ticks[:19], fontsize=33)\n",
    "\n",
    "add_stat_annotation(g, data=new_dist_meth_1, x=\"cancer\", y=\"beta\", hue=\"cluster\", hue_order=[\"Low meth cluster\",\"Intermediate meth cluster\",\"High meth cluster\",\"Normal tissue\"],\n",
    "                                box_pairs=[((\"ACC\", \"Low meth cluster\"), (\"ACC\",\"High meth cluster\")),\n",
    "                                           ((\"ACC\", \"Low meth cluster\"), (\"ACC\",\"Intermediate meth cluster\")),\n",
    "                                           ((\"ACC\", \"Intermediate meth cluster\"), (\"ACC\",\"High meth cluster\")),\n",
    "                                           ((\"CESC\", \"Low meth cluster\"), (\"CESC\",\"High meth cluster\")),\n",
    "                                           ((\"CESC\", \"Low meth cluster\"), (\"CESC\",\"Intermediate meth cluster\")),\n",
    "                                           ((\"CESC\", \"Intermediate meth cluster\"), (\"CESC\",\"High meth cluster\")),\n",
    "                                   ((\"COAD\", \"Low meth cluster\"), (\"COAD\",\"High meth cluster\")),\n",
    "                                           ((\"COAD\", \"Low meth cluster\"), (\"COAD\",\"Intermediate meth cluster\")),\n",
    "                                           ((\"COAD\", \"Intermediate meth cluster\"), (\"COAD\",\"High meth cluster\")),\n",
    "                                          \n",
    "                                   ((\"KIRP\", \"Low meth cluster\"), (\"KIRP\",\"High meth cluster\")),\n",
    "                                   ((\"LAML\", \"Low meth cluster\"), (\"LAML\",\"High meth cluster\")),\n",
    "                                   ((\"LIHC\", \"Low meth cluster\"), (\"LIHC\",\"High meth cluster\")),\n",
    "                                           ((\"LIHC\", \"Low meth cluster\"), (\"LIHC\",\"Intermediate meth cluster\")),\n",
    "                                           ((\"LIHC\", \"Intermediate meth cluster\"), (\"LIHC\",\"High meth cluster\")),\n",
    "                                  \n",
    "                                           ((\"MESO\", \"Low meth cluster\"), (\"MESO\",\"High meth cluster\")),\n",
    "                                           ((\"MESO\", \"Low meth cluster\"), (\"MESO\",\"Intermediate meth cluster\")),\n",
    "                                           ((\"MESO\", \"Intermediate meth cluster\"), (\"MESO\",\"High meth cluster\")),\n",
    "                                   ((\"PCPG\", \"Low meth cluster\"), (\"PCPG\",\"High meth cluster\")),\n",
    "                                    ((\"PCPG\", \"Low meth cluster\"), (\"PCPG\",\"Intermediate meth cluster\")),\n",
    "                                    ((\"PCPG\", \"Intermediate meth cluster\"), (\"PCPG\",\"High meth cluster\")),\n",
    "                                    ((\"READ\", \"Low meth cluster\"), (\"READ\",\"High meth cluster\")),\n",
    "                                           ((\"READ\", \"Low meth cluster\"), (\"READ\",\"Intermediate meth cluster\")),\n",
    "                                           ((\"READ\", \"Intermediate meth cluster\"), (\"READ\",\"High meth cluster\")),   \n",
    "                                   ((\"SARC\", \"Low meth cluster\"), (\"SARC\",\"High meth cluster\")),\n",
    "                                            ((\"SKCM\", \"Low meth cluster\"), (\"SKCM\",\"High meth cluster\")),\n",
    "                                   ((\"SKCM\", \"Low meth cluster\"), (\"SKCM\",\"Intermediate meth cluster\")),\n",
    "                                   ((\"SKCM\", \"Intermediate meth cluster\"), (\"SKCM\",\"High meth cluster\")),  \n",
    "                                    ((\"STAD\", \"Low meth cluster\"), (\"STAD\",\"High meth cluster\")),\n",
    "                                          ((\"THCA\", \"Low meth cluster\"), (\"THCA\",\"High meth cluster\")),\n",
    "                                          ((\"GBM\", \"Low meth cluster\"), (\"GBM\",\"High meth cluster\")),\n",
    "                                           ((\"GBM\", \"Low meth cluster\"), (\"GBM\",\"Intermediate meth cluster\")),\n",
    "                                           ((\"GBM\", \"Intermediate meth cluster\"), (\"GBM\",\"High meth cluster\")),\n",
    "                                   ((\"HNSC\", \"Low meth cluster\"), (\"HNSC\",\"High meth cluster\")),\n",
    "                                   ((\"HNSC\", \"Low meth cluster\"), (\"HNSC\",\"Intermediate meth cluster\")),\n",
    "                                   ((\"HNSC\", \"Intermediate meth cluster\"), (\"HNSC\",\"High meth cluster\")),\n",
    "                                            ((\"KIRC\", \"Low meth cluster\"), (\"KIRC\",\"High meth cluster\")),\n",
    "                                           ((\"KIRC\", \"Low meth cluster\"), (\"KIRC\",\"Intermediate meth cluster\")),\n",
    "                                           ((\"KIRC\", \"Intermediate meth cluster\"), (\"KIRC\",\"High meth cluster\")),\n",
    "                                   ((\"LGG\", \"Low meth cluster\"), (\"LGG\",\"High meth cluster\")),\n",
    "                                   ((\"LUAD\", \"Low meth cluster\"), (\"LUAD\",\"High meth cluster\")),\n",
    "                                   ((\"LUAD\", \"Low meth cluster\"), (\"LUAD\",\"Intermediate meth cluster\")),\n",
    "                                           ((\"LUAD\", \"Intermediate meth cluster\"), (\"LUAD\",\"High meth cluster\")),\n",
    "                                            ((\"LUSC\", \"Low meth cluster\"), (\"LUSC\",\"High meth cluster\")),\n",
    "                                   ((\"LUSC\", \"Low meth cluster\"), (\"LUSC\",\"Intermediate meth cluster\")),\n",
    "                                           ((\"LUSC\", \"Intermediate meth cluster\"), (\"LUSC\",\"High meth cluster\")),],\n",
    "                    test='Mann-Whitney', text_format='star', loc='inside', verbose=2)\n",
    "\n",
    "\n",
    "plt.legend(loc='center', bbox_to_anchor=(0.5, 1.1), title=\"Cluster\",ncol=4)\n",
    "plt.xlabel('')\n",
    "\n",
    "plt.savefig(\"dist_methylation_part1.svg\",bbox_inches='tight')\n",
    "plt.savefig(\"dist_methylation_part1.png\",bbox_inches='tight')"
   ]
  },
  {
   "cell_type": "code",
   "execution_count": null,
   "metadata": {
    "scrolled": true
   },
   "outputs": [],
   "source": [
    "plt.rc('font', size=40)\n",
    "plt.figure(figsize=(30,7))\n",
    "seapal = sns.color_palette(\"bright\")\n",
    "g = sns.violinplot(x=\"cancer\",y=\"beta\",hue=\"cluster\",\n",
    "                   hue_order=[\"Low meth cluster\",\"Intermediate meth cluster\",\"High meth cluster\",\"Normal tissue\"],\n",
    "                   data=new_dist_meth_2, legend_out=False,\n",
    "                   palette={\"Low meth cluster\": seapal[0],\"High meth cluster\": seapal[3],\"Intermediate meth cluster\": seapal[8],\"Normal tissue\": seapal[7]},\n",
    "                  linewidth=4)\n",
    "\n",
    "g.set_xticklabels(x_ticks[19:], fontsize=30)\n",
    "\n",
    "add_stat_annotation(g, data=new_dist_meth_2, x=\"cancer\", y=\"beta\", hue=\"cluster\", hue_order=[\"Low meth cluster\",\"Intermediate meth cluster\",\"High meth cluster\",\"Normal tissue\"],\n",
    "                                box_pairs=[((\"BLCA\", \"Low meth cluster\"), (\"BLCA\",\"High meth cluster\")),\n",
    "                                           ((\"BRCA\", \"Low meth cluster\"), (\"BRCA\",\"Intermediate meth cluster\")),\n",
    "                                   ((\"BRCA\", \"Low meth cluster\"), (\"BRCA\",\"High meth cluster\")),\n",
    "                                   ((\"BRCA\", \"Intermediate meth cluster\"), (\"BRCA\",\"High meth cluster\")),\n",
    "                                    ((\"ESCA\", \"Low meth cluster\"), (\"ESCA\",\"High meth cluster\")),\n",
    "                                           ((\"ESCA\", \"Low meth cluster\"), (\"ESCA\",\"Intermediate meth cluster\")),\n",
    "                                           ((\"ESCA\", \"Intermediate meth cluster\"), (\"ESCA\",\"High meth cluster\")),\n",
    "                                           ((\"PAAD\", \"Low meth cluster\"), (\"PAAD\",\"High meth cluster\")),\n",
    "                                           ((\"PAAD\", \"Low meth cluster\"), (\"PAAD\",\"Intermediate meth cluster\")),\n",
    "                                           ((\"PAAD\", \"Intermediate meth cluster\"), (\"PAAD\",\"High meth cluster\")),\n",
    "                                   ((\"PRAD\", \"Low meth cluster\"), (\"PRAD\",\"High meth cluster\")),\n",
    "                                           ((\"THYM\", \"Low meth cluster\"), (\"THYM\",\"High meth cluster\")),\n",
    "                                           ((\"THYM\", \"Low meth cluster\"), (\"THYM\",\"Intermediate meth cluster\")),\n",
    "                                           ((\"THYM\", \"Intermediate meth cluster\"), (\"THYM\",\"High meth cluster\")),\n",
    "                                           ((\"UCEC\", \"Low meth cluster\"), (\"UCEC\",\"High meth cluster\")),\n",
    "                                           ((\"UCEC\", \"Low meth cluster\"), (\"UCEC\",\"Intermediate meth cluster\")),\n",
    "                                   ((\"UCEC\", \"Intermediate meth cluster\"), (\"UCEC\",\"High meth cluster\")),],\n",
    "                    test='Mann-Whitney', text_format='star', loc='inside', verbose=2)\n",
    "\n",
    "g.get_legend().remove()\n",
    "plt.savefig(\"dist_methylation_part2.svg\",bbox_inches='tight')\n",
    "plt.savefig(\"dist_methylation_part2.png\",bbox_inches='tight')"
   ]
  },
  {
   "cell_type": "markdown",
   "metadata": {},
   "source": [
    "### CIMP status characterization"
   ]
  },
  {
   "cell_type": "code",
   "execution_count": null,
   "metadata": {},
   "outputs": [],
   "source": [
    "# look for differences in group average beta value to characterize into CIMP and non-CIMP\n",
    "cimp_cancer_wdiff = []\n",
    "for cancer in cancer_order[:13]:\n",
    "    distmethcancer = dist_meth_spectral_1[dist_meth_spectral_1[\"cancer\"]==cancer]\n",
    "    cl1_avg = distmethcancer[distmethcancer[\"cluster\"]==\"Low cluster\"][\"beta\"].mean()\n",
    "    cl2_avg = distmethcancer[distmethcancer[\"cluster\"]==\"High cluster\"][\"beta\"].mean()\n",
    "    print(\"Cancer {} diff between cluster avg : {} & high group value : {}\".format(cancer,cl2_avg-cl1_avg,cl2_avg))\n",
    "    if cl2_avg-cl1_avg>0.195:\n",
    "        cimp_cancer_wdiff.append(cancer)\n",
    "cimp_cancer_wdiff"
   ]
  },
  {
   "cell_type": "code",
   "execution_count": null,
   "metadata": {},
   "outputs": [],
   "source": [
    "cimp_cancer_wdiff= []\n",
    "for cancer in cancer_order[13:]:\n",
    "    distmethcancer = dist_meth_spectral_2[dist_meth_spectral_2[\"cancer\"]==cancer]\n",
    "    cl1_avg = distmethcancer[distmethcancer[\"cluster\"]==\"Low cluster\"][\"beta\"].mean()\n",
    "    cl2_avg = distmethcancer[distmethcancer[\"cluster\"]==\"High cluster\"][\"beta\"].mean()\n",
    "    print(\"Cancer {} diff between cluster avg : {} & high group value : {}\".format(cancer,cl2_avg-cl1_avg,cl2_avg))\n",
    "    if cl2_avg-cl1_avg>0.195:\n",
    "        cimp_cancer_wdiff.append(cancer)\n",
    "cimp_cancer_wdiff"
   ]
  },
  {
   "cell_type": "code",
   "execution_count": null,
   "metadata": {},
   "outputs": [],
   "source": [
    "up_probes_perc,down_probes_perc = [],[]\n",
    "for cancer in tqdm(cancer_order):\n",
    "    ind_cl_1 = consensus_clustering_spectral[cancer][consensus_clustering_spectral[cancer][\"cluster\"]==1].index\n",
    "    ind_cl_2 = consensus_clustering_spectral[cancer][consensus_clustering_spectral[cancer][\"cluster\"]==2].index\n",
    "    ind_cl_3 = consensus_clustering_spectral[cancer][consensus_clustering_spectral[cancer][\"cluster\"]==3].index\n",
    "\n",
    "    if cancer in triple_cluster_cancers_aff:\n",
    "        ind_cl_2 = ind_cl_3\n",
    "        \n",
    "    methdf = new_meth_data_pc[cancer][sign_pos_spectral[cancer].values.ravel()]\n",
    "    perc = (methdf.loc[ind_cl_2].mean()>methdf.loc[ind_cl_1].mean()).sum()/(methdf.shape[1])\n",
    "    perc = np.round(perc*100,1)\n",
    "    up_probes_perc.append(perc)\n",
    "    down_probes_perc.append(100-perc)"
   ]
  },
  {
   "cell_type": "code",
   "execution_count": null,
   "metadata": {},
   "outputs": [],
   "source": [
    "seapal = sns.color_palette(\"deep\")\n",
    "plt.rc(\"font\",size=20)\n",
    "width = 0.6 \n",
    "fig, ax = plt.subplots(figsize=(13,3))\n",
    "\n",
    "ax.bar(cancer_order, up_probes_perc, width, label='Up',color=seapal[3])\n",
    "ax.bar(cancer_order, down_probes_perc, width, bottom=up_probes_perc,\n",
    "       label='Down',color=seapal[0])\n",
    "\n",
    "ax.set_xticklabels(cancer_order,rotation=60,rotation_mode=\"default\",fontsize=25)\n",
    "ax.set_ylabel(\"(%)\",fontsize=25)\n",
    "\n",
    "plt.legend(loc='right', bbox_to_anchor=(1.35,0.5), title=\"Methylation direction \\n         of probes\",frameon=False,fontsize=18)\n",
    "ax.axvline(x=18.5, color=seapal[7],linewidth=4)\n",
    "ax.text(18,110,\"CIMP limit\",color=seapal[7])\n",
    "\n",
    "fig.savefig(\"probe_direction_panel.png\",bbox_inches=\"tight\")\n",
    "fig.savefig(\"probe_direction_panel.svg\",bbox_inches=\"tight\")"
   ]
  },
  {
   "cell_type": "code",
   "execution_count": null,
   "metadata": {},
   "outputs": [],
   "source": [
    "CIMP_cancers = ['KIRP','SARC','MESO','ACC','READ','LAML','STAD','PCPG','CESC',\n",
    "                'LUSC','LIHC','COAD','KIRC','THCA','GBM','SKCM','LUAD','HNSC','LGG']"
   ]
  },
  {
   "cell_type": "markdown",
   "metadata": {},
   "source": [
    "# Predicting CIMP status with probes"
   ]
  },
  {
   "cell_type": "code",
   "execution_count": null,
   "metadata": {},
   "outputs": [],
   "source": [
    "from sklearn.linear_model import LogisticRegression, LogisticRegressionCV\n",
    "from sklearn.model_selection import StratifiedKFold"
   ]
  },
  {
   "cell_type": "code",
   "execution_count": null,
   "metadata": {},
   "outputs": [],
   "source": [
    "X_train_pc,y_train_pc,X_test_pc,y_test_pc = {},{},{},{}\n",
    "for cancer in tqdm(sorted(CIMP_cancers)):\n",
    "    X = new_meth_data_pc[cancer][sign_pos_spectral[cancer].values.ravel()]\n",
    "    if cancer in triple_cluster_cancers_aff:\n",
    "        y = consensus_clustering_spectral[cancer].replace({3: 1, 2: 0, 1: 0}).values.ravel()\n",
    "    else:\n",
    "        y = consensus_clustering_spectral[cancer].replace({2: 1, 1: 0}).values.ravel()\n",
    "        \n",
    "    X_train, X_test, y_train, y_test = train_test_split(X, y, test_size=0.1, stratify=y)\n",
    "    \n",
    "    X_train_pc[cancer]=X_train\n",
    "    y_train_pc[cancer]=y_train\n",
    "    X_test_pc[cancer]=X_test\n",
    "    y_test_pc[cancer]=y_test"
   ]
  },
  {
   "cell_type": "code",
   "execution_count": null,
   "metadata": {},
   "outputs": [],
   "source": [
    "bac_pred_dir = \"path\\to\\save\\bac_pred\"\n",
    "for cancer in X_train_pc:\n",
    "    pd.DataFrame(X_train_pc[cancer].index).to_csv(os.path.join(bac_pred_dir,cancer+\"_train_pat.csv\"),index=False)\n",
    "    pd.DataFrame(X_test_pc[cancer].index).to_csv(os.path.join(bac_pred_dir,cancer+\"_test_pat.csv\"),index=False)\n",
    "X_train_pc,y_train_pc,X_test_pc,y_test_pc = {},{},{},{}\n",
    "for cancer in tqdm(sorted(CIMP_cancers)):\n",
    "    pat_train = pd.read_csv(os.path.join(bac_pred_dir,cancer+\"_train_pat.csv\")).values.ravel()\n",
    "    pat_test = pd.read_csv(os.path.join(bac_pred_dir,cancer+\"_test_pat.csv\")).values.ravel()\n",
    "    \n",
    "    X_train_pc[cancer]=new_meth_data_pc[cancer][sign_pos_spectral[cancer].values.ravel()].loc[pat_train]\n",
    "    X_test_pc[cancer]=new_meth_data_pc[cancer][sign_pos_spectral[cancer].values.ravel()].loc[pat_test]\n",
    "    if cancer in triple_cluster_cancers_aff:\n",
    "        y = consensus_clustering_spectral[cancer].replace({3: 1, 2: 0, 1: 0})\n",
    "    else:\n",
    "        y = consensus_clustering_spectral[cancer].replace({2: 1, 1: 0})\n",
    "    y_train_pc[cancer]= y.loc[pat_train].values.ravel()\n",
    "    y_test_pc[cancer]= y.loc[pat_test].values.ravel()"
   ]
  },
  {
   "cell_type": "code",
   "execution_count": null,
   "metadata": {},
   "outputs": [],
   "source": [
    "bac_list_pc_quint = {}\n",
    "for cancer in cancer_to_opt:\n",
    "    bac_list_pc_quint[cancer] = pd.read_csv(os.path.join(bac_pred_dir,cancer+\"bac_quint.csv\")).set_index(\"Unnamed: 0\").values.ravel()"
   ]
  },
  {
   "cell_type": "code",
   "execution_count": null,
   "metadata": {},
   "outputs": [],
   "source": [
    "def get_bac_list(cancer_to_opt,triple_cluster_cancers_aff,\n",
    "                 X_train_pc,y_train_pc,sign_pos_spectral,list_features,name):\n",
    "    bac_pred_dir = \"path\\to\\bac_pred\"\n",
    "    bac_list_pc = {}\n",
    "    n_cv = 5\n",
    "    for cancer in tqdm(cancer_to_opt):\n",
    "\n",
    "        bac_list = []\n",
    "        for i in tqdm(range(len(X_train_pc[cancer].columns))):\n",
    "            if i in list_features[cancer]:\n",
    "                bac_list.append(0)\n",
    "                continue\n",
    "            X = X_train_pc[cancer].iloc[:,list_features[cancer]+[i]].values\n",
    "            y = y_train_pc[cancer]\n",
    "            kf = StratifiedKFold(n_splits=n_cv)\n",
    "            bac = 0\n",
    "            for train_index, test_index in kf.split(X,y):\n",
    "                lr = LogisticRegression(class_weight=\"balanced\")\n",
    "                lr.fit(X[train_index],y[train_index])\n",
    "                ypred = lr.predict(X[test_index])\n",
    "                bac+=balanced_accuracy_score(y[test_index],ypred,adjusted=True)/n_cv\n",
    "            bac_list.append(bac)\n",
    "        bac_list_pc[cancer] = np.array(bac_list)\n",
    "        print(cancer,bac_list_pc[cancer][np.argmax(bac_list_pc[cancer])])\n",
    "        pd.DataFrame(bac_list_pc[cancer].reshape(-1,1),index=sign_pos_spectral[cancer].values.ravel()).to_csv(os.path.join(bac_pred_dir,cancer+\"bac_\"+name+\".csv\"))\n",
    "    return bac_list_pc"
   ]
  },
  {
   "cell_type": "code",
   "execution_count": null,
   "metadata": {},
   "outputs": [],
   "source": []
  },
  {
   "cell_type": "code",
   "execution_count": null,
   "metadata": {
    "scrolled": true
   },
   "outputs": [],
   "source": [
    "cancer_to_opt = sorted(CIMP_cancers)\n",
    "list_features = {cancer: [] for cancer in cancer_to_opt}\n",
    "\n",
    "bac_list_pc_single = get_bac_list(cancer_to_opt,triple_cluster_cancers_aff,\n",
    "                 X_train_pc,y_train_pc,sign_pos_spectral,list_features,\"single\")"
   ]
  },
  {
   "cell_type": "code",
   "execution_count": null,
   "metadata": {},
   "outputs": [],
   "source": [
    "best_index_single,best_scores_single,best_probes_single = {},{},{}\n",
    "for cancer in bac_list_pc_single:\n",
    "    ind_best = np.argmax(bac_list_pc_single[cancer])\n",
    "    best_index_single[cancer] = ind_best\n",
    "    best_scores_single[cancer] = bac_list_pc_single[cancer][ind_best]\n",
    "    best_probes_single[cancer] = sign_pos_spectral[cancer].values.ravel()[ind_best]\n",
    "    print(cancer,best_scores_single[cancer],best_probes_single[cancer])"
   ]
  },
  {
   "cell_type": "code",
   "execution_count": null,
   "metadata": {},
   "outputs": [],
   "source": [
    "for cancer in sorted(CIMP_cancers):\n",
    "    lr = LogisticRegression(class_weight=\"balanced\")\n",
    "    lr.fit(X_train_pc[cancer][[best_probes_single[cancer]]],y_train_pc[cancer])\n",
    "    ypred = lr.predict(X_test_pc[cancer][[best_probes_single[cancer]]])\n",
    "    print(cancer,best_scores_single[cancer],balanced_accuracy_score(y_test_pc[cancer],ypred,adjusted=True))"
   ]
  },
  {
   "cell_type": "code",
   "execution_count": null,
   "metadata": {
    "scrolled": true
   },
   "outputs": [],
   "source": [
    "cancer_to_opt = sorted(CIMP_cancers)\n",
    "list_features = {cancer: [best_index_single[cancer]] for cancer in cancer_to_opt}\n",
    "\n",
    "bac_list_pc_double = get_bac_list(cancer_to_opt,triple_cluster_cancers_aff,\n",
    "                 X_train_pc,y_train_pc,sign_pos_spectral,list_features,\"double\")"
   ]
  },
  {
   "cell_type": "code",
   "execution_count": null,
   "metadata": {},
   "outputs": [],
   "source": [
    "best_index_double,best_scores_double,best_probes_double = {},{},{}\n",
    "for cancer in bac_list_pc_double:\n",
    "    ind_best = np.argmax(bac_list_pc_double[cancer])\n",
    "    best_index_double[cancer] = ind_best\n",
    "    best_scores_double[cancer] = bac_list_pc_double[cancer][ind_best]\n",
    "    best_probes_double[cancer] = sign_pos_spectral[cancer].values.ravel()[ind_best]\n",
    "    print(cancer,best_scores_double[cancer],best_probes_single[cancer],best_probes_double[cancer])"
   ]
  },
  {
   "cell_type": "code",
   "execution_count": null,
   "metadata": {},
   "outputs": [],
   "source": [
    "for cancer in sorted(CIMP_cancers):\n",
    "    lr = LogisticRegression(class_weight=\"balanced\")\n",
    "    lr.fit(X_train_pc[cancer][[best_probes_single[cancer],best_probes_double[cancer]]],y_train_pc[cancer])\n",
    "    ypred = lr.predict(X_test_pc[cancer][[best_probes_single[cancer],best_probes_double[cancer]]])\n",
    "    print(cancer,best_scores_double[cancer],balanced_accuracy_score(y_test_pc[cancer],ypred,adjusted=True))"
   ]
  },
  {
   "cell_type": "code",
   "execution_count": null,
   "metadata": {
    "scrolled": true
   },
   "outputs": [],
   "source": [
    "cancer_to_opt = [\"ACC\",\"CESC\",\"COAD\",\"HNSC\",\"KIRC\",\"LGG\",\"LIHC\",\"LUAD\",\"LUSC\",\"MESO\",\"READ\",\"SKCM\",\"STAD\",\"THCA\"]\n",
    "list_features = {cancer: [best_index_single[cancer],best_index_double[cancer]] for cancer in cancer_to_opt}\n",
    "\n",
    "bac_list_pc_triple = get_bac_list(cancer_to_opt,triple_cluster_cancers_aff,\n",
    "                 X_train_pc,y_train_pc,sign_pos_spectral,list_features,\"triple\")"
   ]
  },
  {
   "cell_type": "code",
   "execution_count": null,
   "metadata": {},
   "outputs": [],
   "source": [
    "best_index_triple,best_scores_triple,best_probes_triple = {},{},{}\n",
    "for cancer in sorted(bac_list_pc_triple):\n",
    "    ind_best = np.argmax(bac_list_pc_triple[cancer])\n",
    "    best_index_triple[cancer] = ind_best\n",
    "    best_scores_triple[cancer] = bac_list_pc_triple[cancer][ind_best]\n",
    "    best_probes_triple[cancer] = sign_pos_spectral[cancer].values.ravel()[ind_best]\n",
    "    print(cancer,best_scores_triple[cancer],best_probes_single[cancer],best_probes_double[cancer],best_probes_triple[cancer])"
   ]
  },
  {
   "cell_type": "code",
   "execution_count": null,
   "metadata": {},
   "outputs": [],
   "source": [
    "for cancer in sorted(bac_list_pc_triple):\n",
    "    lr = LogisticRegression(class_weight=\"balanced\")\n",
    "    lr.fit(X_train_pc[cancer][[best_probes_single[cancer],best_probes_double[cancer],\n",
    "                               best_probes_triple[cancer]]],y_train_pc[cancer])\n",
    "    ypred = lr.predict(X_test_pc[cancer][[best_probes_single[cancer],best_probes_double[cancer],\n",
    "                                          best_probes_triple[cancer]]])\n",
    "    print(cancer,best_scores_triple[cancer],balanced_accuracy_score(y_test_pc[cancer],ypred,adjusted=True))"
   ]
  },
  {
   "cell_type": "code",
   "execution_count": null,
   "metadata": {},
   "outputs": [],
   "source": [
    "cancer_to_opt = [\"ACC\"]\n",
    "list_features = {cancer: [best_index_single[cancer],best_index_double[cancer],best_index_triple[cancer]] for cancer in cancer_to_opt}\n",
    "\n",
    "bac_list_pc_add = get_bac_list(cancer_to_opt,triple_cluster_cancers_aff,\n",
    "                 X_train_pc,y_train_pc,sign_pos_spectral,list_features,\"quad\")\n",
    "bac_list_pc_quad[\"ACC\"]=bac_list_pc_add[\"ACC\"]"
   ]
  },
  {
   "cell_type": "code",
   "execution_count": null,
   "metadata": {
    "scrolled": true
   },
   "outputs": [],
   "source": [
    "cancer_to_opt = [\"ACC\",\"CESC\",\"COAD\",\"HNSC\",\"KIRC\",\"LGG\",\"LIHC\",\"LUAD\",\"LUSC\",\"READ\",\"SKCM\",\"STAD\",\"THCA\"]\n",
    "list_features = {cancer: [best_index_single[cancer],best_index_double[cancer],best_index_triple[cancer]] for cancer in cancer_to_opt}\n",
    "\n",
    "bac_list_pc_quad = get_bac_list(cancer_to_opt,triple_cluster_cancers_aff,\n",
    "                 X_train_pc,y_train_pc,sign_pos_spectral,list_features,\"quad\")"
   ]
  },
  {
   "cell_type": "code",
   "execution_count": null,
   "metadata": {},
   "outputs": [],
   "source": [
    "best_index_quad,best_scores_quad,best_probes_quad = {},{},{}\n",
    "for cancer in sorted(bac_list_pc_quad):\n",
    "    ind_best = np.argmax(bac_list_pc_quad[cancer])\n",
    "    best_index_quad[cancer] = ind_best\n",
    "    best_scores_quad[cancer] = bac_list_pc_quad[cancer][ind_best]\n",
    "    best_probes_quad[cancer] = sign_pos_spectral[cancer].values.ravel()[ind_best]\n",
    "    print(cancer,best_scores_quad[cancer],best_probes_single[cancer],best_probes_double[cancer],best_probes_triple[cancer],best_probes_quad[cancer])"
   ]
  },
  {
   "cell_type": "code",
   "execution_count": null,
   "metadata": {
    "scrolled": true
   },
   "outputs": [],
   "source": [
    "for cancer in sorted(bac_list_pc_quad):\n",
    "    lr = LogisticRegression(class_weight=\"balanced\")\n",
    "    lr.fit(X_train_pc[cancer][[best_probes_single[cancer],best_probes_double[cancer],\n",
    "                               best_probes_triple[cancer],best_probes_quad[cancer]]],y_train_pc[cancer])\n",
    "    ypred = lr.predict(X_test_pc[cancer][[best_probes_single[cancer],best_probes_double[cancer],\n",
    "                                          best_probes_triple[cancer],best_probes_quad[cancer]]])\n",
    "    print(cancer,best_scores_quad[cancer],balanced_accuracy_score(y_test_pc[cancer],ypred,adjusted=True))"
   ]
  },
  {
   "cell_type": "code",
   "execution_count": null,
   "metadata": {
    "scrolled": true
   },
   "outputs": [],
   "source": [
    "cancer_to_opt = [\"CESC\",\"COAD\",\"HNSC\",\"KIRC\",\"LGG\",\"LIHC\",\"LUAD\",\"LUSC\",\"READ\",\"SKCM\",\"THCA\"]\n",
    "list_features = {cancer: [best_index_single[cancer],best_index_double[cancer],\n",
    "                          best_index_triple[cancer],best_index_quad[cancer]] for cancer in cancer_to_opt}\n",
    "\n",
    "bac_list_pc_quint = get_bac_list(cancer_to_opt,triple_cluster_cancers_aff,\n",
    "                 X_train_pc,y_train_pc,sign_pos_spectral,list_features,\"quint\")"
   ]
  },
  {
   "cell_type": "code",
   "execution_count": null,
   "metadata": {},
   "outputs": [],
   "source": [
    "best_index_quint,best_scores_quint,best_probes_quint = {},{},{}\n",
    "for cancer in sorted(bac_list_pc_quint):\n",
    "    ind_best = np.argmax(bac_list_pc_quint[cancer])\n",
    "    best_index_quint[cancer] = ind_best\n",
    "    best_scores_quint[cancer] = bac_list_pc_quint[cancer][ind_best]\n",
    "    best_probes_quint[cancer] = sign_pos_spectral[cancer].values.ravel()[ind_best]\n",
    "    print(cancer,best_scores_quint[cancer],best_probes_single[cancer],\n",
    "          best_probes_double[cancer],best_probes_triple[cancer],best_probes_quad[cancer],best_probes_quint[cancer])"
   ]
  },
  {
   "cell_type": "code",
   "execution_count": null,
   "metadata": {},
   "outputs": [],
   "source": [
    "for cancer in sorted(bac_list_pc_quint):\n",
    "    lr = LogisticRegression(class_weight=\"balanced\")\n",
    "    lr.fit(X_train_pc[cancer][[best_probes_single[cancer],best_probes_double[cancer],\n",
    "                               best_probes_triple[cancer],best_probes_quad[cancer],\n",
    "                               best_probes_quint[cancer]]],y_train_pc[cancer])\n",
    "    ypred = lr.predict(X_test_pc[cancer][[best_probes_single[cancer],best_probes_double[cancer],\n",
    "                               best_probes_triple[cancer],best_probes_quad[cancer],\n",
    "                               best_probes_quint[cancer]]])\n",
    "    print(cancer,best_scores_quint[cancer],balanced_accuracy_score(y_test_pc[cancer],ypred,adjusted=True))"
   ]
  },
  {
   "cell_type": "code",
   "execution_count": null,
   "metadata": {
    "scrolled": true
   },
   "outputs": [],
   "source": [
    "cancer_to_opt = [\"CESC\",\"COAD\",\"HNSC\",\"KIRC\",\"LIHC\",\"LUAD\",\"LUSC\",\"READ\",\"SKCM\"]\n",
    "list_features = {cancer: [best_index_single[cancer],best_index_double[cancer],\n",
    "                          best_index_triple[cancer],best_index_quad[cancer],best_index_quint[cancer],] for cancer in cancer_to_opt}\n",
    "\n",
    "bac_list_pc_sext = get_bac_list(cancer_to_opt,triple_cluster_cancers_aff,\n",
    "                 X_train_pc,y_train_pc,sign_pos_spectral,list_features,\"sext\")"
   ]
  },
  {
   "cell_type": "code",
   "execution_count": null,
   "metadata": {},
   "outputs": [],
   "source": [
    "best_index_sext,best_scores_sext,best_probes_sext = {},{},{}\n",
    "for cancer in sorted(bac_list_pc_sext):\n",
    "    ind_best = np.argmax(bac_list_pc_sext[cancer])\n",
    "    best_index_sext[cancer] = ind_best\n",
    "    best_scores_sext[cancer] = bac_list_pc_sext[cancer][ind_best]\n",
    "    best_probes_sext[cancer] = sign_pos_spectral[cancer].values.ravel()[ind_best]\n",
    "    print(cancer,best_scores_sext[cancer],best_probes_single[cancer],\n",
    "          best_probes_double[cancer],best_probes_triple[cancer],\n",
    "          best_probes_quad[cancer],best_probes_quint[cancer],best_probes_sext[cancer])"
   ]
  },
  {
   "cell_type": "code",
   "execution_count": null,
   "metadata": {},
   "outputs": [],
   "source": [
    "for cancer in sorted(bac_list_pc_sext):\n",
    "    lr = LogisticRegression(class_weight=\"balanced\")\n",
    "    lr.fit(X_train_pc[cancer][[best_probes_single[cancer],best_probes_double[cancer],\n",
    "                               best_probes_triple[cancer],best_probes_quad[cancer],\n",
    "                               best_probes_quint[cancer],best_probes_sext[cancer]]],y_train_pc[cancer])\n",
    "    ypred = lr.predict(X_test_pc[cancer][[best_probes_single[cancer],best_probes_double[cancer],\n",
    "                               best_probes_triple[cancer],best_probes_quad[cancer],\n",
    "                               best_probes_quint[cancer],best_probes_sext[cancer]]])\n",
    "    print(cancer,best_scores_sext[cancer],balanced_accuracy_score(y_test_pc[cancer],ypred,adjusted=True))"
   ]
  },
  {
   "cell_type": "code",
   "execution_count": null,
   "metadata": {},
   "outputs": [],
   "source": [
    "bac_list = []\n",
    "for cancer in tqdm(sorted(CIMP_cancers)):\n",
    "    if cancer in triple_cluster_cancers_aff:\n",
    "        y = consensus_clustering_spectral[cancer].replace({3: 1, 2: 0, 1: 0}).values.ravel()\n",
    "    else:\n",
    "        y = consensus_clustering_spectral[cancer].replace({2: 1, 1: 0}).values.ravel()\n",
    "    X = new_meth_data_pc[cancer][sign_pos_spectral[cancer].values.ravel()].values\n",
    "\n",
    "    kf = StratifiedKFold(n_splits=5)\n",
    "    bac = 0\n",
    "    for train_index, test_index in kf.split(X,y):\n",
    "        lr = LogisticRegressionCV(cv=5,Cs=[5,10],class_weight=\"balanced\",penalty=\"l1\",solver=\"liblinear\")\n",
    "        lr.fit(X[train_index,:],y[train_index])\n",
    "        ypred = lr.predict(X[test_index,:])\n",
    "        bac+=balanced_accuracy_score(y[test_index],ypred,adjusted=True)/5\n",
    "    bac_list.append(bac)"
   ]
  },
  {
   "cell_type": "code",
   "execution_count": null,
   "metadata": {},
   "outputs": [],
   "source": [
    "for i in range(len(CIMP_cancers)):\n",
    "    print(sorted(CIMP_cancers)[i],bac_list[i])"
   ]
  },
  {
   "cell_type": "code",
   "execution_count": null,
   "metadata": {},
   "outputs": [],
   "source": [
    "final_models_abac = [0.933,0.979,0.967,1,0.993,0.935,1,1,1,0.987,0.943,0.91,1,1,0.978,1,0.964,1,1]\n",
    "np.mean(final_models_abac),np.quantile(final_models_abac,0.25),np.quantile(final_models_abac,0.75)"
   ]
  },
  {
   "cell_type": "code",
   "execution_count": null,
   "metadata": {},
   "outputs": [],
   "source": [
    "final_models_abac_test = [0.5,0.963,0.962,1,0.833,0.802,1,1,0.953,1,0.67,0.909,1,1,1,1,0.714,1,0.96]\n",
    "np.mean(final_models_abac_test),np.quantile(final_models_abac_test,0.25),np.quantile(final_models_abac_test,0.75)"
   ]
  },
  {
   "cell_type": "code",
   "execution_count": null,
   "metadata": {},
   "outputs": [],
   "source": []
  },
  {
   "cell_type": "code",
   "execution_count": null,
   "metadata": {},
   "outputs": [],
   "source": [
    "final_selected_probes = {\"ACC\": [\"cg12074493\"],\n",
    "                        \"CESC\": [\"cg04084892\", \"cg07806886\", \"cg00002449\"],\n",
    "                        \"COAD\": [\"cg12678562\", \"cg00418880\", \"cg05129610\", \"cg03780561\", \"cg00167654\", \"cg00613649\"],\n",
    "                        \"GBM\": [\"cg00233079\", \"cg00004072\"], \n",
    "                        \"HNSC\": [\"cg07836815\", \"cg08608193\", \"cg00613649\", \"cg01227537\", \"cg00743094\", \"cg02286968\"],\n",
    "                        \"KIRC\": [\"cg24496475\", \"cg20250126\", \"cg09423283\", \"cg05542338\", \"cg02440976\"],\n",
    "                        \"KIRP\": [\"cg00081574\"],\n",
    "                        \"LAML\": [\"cg25660961\", \"cg00414384\"], \n",
    "                        \"LGG\": [\"cg14200725\", \"cg00400733\", \"cg02383785\", \"cg10558616\"],\n",
    "                        \"LIHC\": [\"cg13397345\", \"cg02876326\", \"cg05350802\", \"cg20537760\", \"cg13601275\", \"cg17993657\"],\n",
    "                        \"LUAD\": [\"cg26153410\", \"cg04097639\", \"cg02739346\", \"cg19697537\", \"cg15703365\", \"cg03140557\"],\n",
    "                        \"LUSC\": [\"cg14131273\", \"cg17743732\", \"cg09659227\", \"cg07872854\", \"cg23672278\", \"cg00110039\"],\n",
    "                        \"MESO\": [\"cg21375294\", \"cg04685253\", \"cg00181125\"], \n",
    "                        \"PCPG\": [\"cg01685883\"],\n",
    "                        \"READ\": [\"cg14635303\", \"cg19325093\", \"cg17375901\", \"cg15930085\", \"cg01420492\", \"cg00032205\"],\n",
    "                        \"SARC\": [\"cg10496150\", \"cg04618903\"],\n",
    "                        \"SKCM\": [\"cg11854259\", \"cg12723809\", \"cg01064749\", \"cg06161600\", \"cg00886554\"],\n",
    "                        \"STAD\": [\"cg17435266\", \"cg00000289\", \"cg00002033\", \"cg00002464\"],\n",
    "                        \"THCA\": [\"cg17590003\", \"cg02267270\", \"cg02984184\", \"cg00454305\", \"cg23047920\"]}"
   ]
  },
  {
   "cell_type": "code",
   "execution_count": null,
   "metadata": {
    "scrolled": true
   },
   "outputs": [],
   "source": [
    "acc_l = []\n",
    "for cancer in sorted(CIMP_cancers):\n",
    "    lr = LogisticRegression(class_weight=\"balanced\")\n",
    "    lr.fit(X_train_pc[cancer][final_selected_probes[cancer]],y_train_pc[cancer])\n",
    "    ypred = lr.predict(X_test_pc[cancer][final_selected_probes[cancer]])\n",
    "    acc_l.append(accuracy_score(y_test_pc[cancer],ypred))\n",
    "    print(cancer,accuracy_score(y_test_pc[cancer],ypred))"
   ]
  },
  {
   "cell_type": "code",
   "execution_count": null,
   "metadata": {},
   "outputs": [],
   "source": [
    "np.mean(acc_l),np.quantile(acc_l,0.25),np.quantile(acc_l,0.75)"
   ]
  },
  {
   "cell_type": "markdown",
   "metadata": {},
   "source": [
    "# Survival"
   ]
  },
  {
   "cell_type": "code",
   "execution_count": null,
   "metadata": {},
   "outputs": [],
   "source": [
    "# clean the clinical data\n",
    "for cancer in new_clin_data_pc:\n",
    "    new_clin_data_pc[cancer][\"OS.time\"] = new_clin_data_pc[cancer][\"OS.time\"].replace(\"[Discrepancy]\", \"NaN\")\n",
    "    new_clin_data_pc[cancer][\"OS.time\"] = new_clin_data_pc[cancer][\"OS.time\"].astype(float)\n",
    "    new_clin_data_pc[cancer][\"OS\"] = new_clin_data_pc[cancer][\"OS\"].replace(\"[Discrepancy]\", \"NaN\")\n",
    "    new_clin_data_pc[cancer][\"OS\"] = new_clin_data_pc[cancer][\"OS\"].astype(float)"
   ]
  },
  {
   "cell_type": "code",
   "execution_count": null,
   "metadata": {},
   "outputs": [],
   "source": [
    "# unify the stage indications in clinical data\n",
    "mapping_stage = {\"Stage I\": [\"Stage I\", \"Stage 0\", \"I/II NOS\", \"Stage IA\", \"Stage IA1\", \"Stage IA2\", \"Stage IB\", \"Stage IB1\", \"Stage IB2\", \"Stage IC\", \"T1c\", \"T1a\", \"T1b\"],\n",
    "                \"Stage II\": [\"Stage II\", \"Stage IIA\", \"Stage IIA1\", \"Stage IIA2\", \"Stage IIB\", \"Stage IIC\", \"T2a\", \"T2b\", \"T2c\", \"T2\", \"T3a\", \"T3b\", \"T4\"],\n",
    "                \"Stage III\": [\"Stage III\", \"Stage IIIA\",\"Stage IIIB\", \"Stage IIIC\", \"Stage IIIC1\", \"Stage IIIC2\"],\n",
    "                \"Stage IV\": [\"Stage IV\", \"Stage IVA\", \"Stage IVB\",\"Stage IVC\",\"Stage X\"]}\n",
    "replace_map = {}\n",
    "for stage in mapping_stage:\n",
    "    for el in mapping_stage[stage]:\n",
    "        replace_map[el]=stage"
   ]
  },
  {
   "cell_type": "markdown",
   "metadata": {},
   "source": [
    "### Kaplan Meier"
   ]
  },
  {
   "cell_type": "code",
   "execution_count": null,
   "metadata": {},
   "outputs": [],
   "source": [
    "def get_survival_analysis_metrics_snf(clin_data_csv,meth_data_pc,consensus_clustering,cancer,feature):\n",
    "#     Parameters: clin_data_csv (dict): keys are cancer types, values are pd.Df (n_patients,n_clin_info)\n",
    "#             meth_data_pc (dict): keys are cancer types, values are pd.DataFrame (n_pat,n_cpg) (rows=patients,columns=cpg)\n",
    "#             consensus_clustering (dict): keys are cancer types, values are pd.DataFrame (n_pat,1) (rows=patients, column=cluster membership)\n",
    "#             cancer (str): cancer type\n",
    "#             feature (str): feature to use to break down into groups\n",
    "#     Returns: duration (np.array): array of survival times\n",
    "#             event (np.array): array of death/life\n",
    "\n",
    "    clinmat, duration, event = {},{},{}\n",
    "    for i in range(len(np.unique(consensus_clustering[cancer][feature].values))):\n",
    "        clinmat[i] = clin_data_csv[cancer]\n",
    "        if feature==\"cluster\":\n",
    "            pat_cl = consensus_clustering[cancer].index[np.where(consensus_clustering[cancer][feature].values==i+1)]\n",
    "        else:\n",
    "            pat_cl = consensus_clustering[cancer].index[np.where(consensus_clustering[cancer][feature].values==i)]\n",
    "        common_pat = clinmat[i].index.intersection(pat_cl)\n",
    "        clinmat[i] = clinmat[i].loc[common_pat]\n",
    "        clinmat[i] = clinmat[i].dropna()\n",
    "        duration[i], event[i] = [],[]\n",
    "        for j in range(clinmat[i].shape[0]):\n",
    "            duration[i].append(float(clinmat[i][\"OS.time\"].iloc[j]))\n",
    "            event[i].append(int(clinmat[i][\"OS\"].iloc[j]))\n",
    "        duration[i] = np.array(duration[i])\n",
    "        event[i] = np.array(event[i])\n",
    "    return duration, event"
   ]
  },
  {
   "cell_type": "code",
   "execution_count": null,
   "metadata": {},
   "outputs": [],
   "source": [
    "def get_kaplan_meier(clin_data_csv, meth_data_pc, consensus_clustering, triple_cluster_cancers, cancer_list, flatax1, flatax2, sign_KM_cancers, feature):\n",
    "#     Parameters: clin_data_csv (dict): keys are cancer types, values are pd.Df (n_patients,n_clin_info)\n",
    "#             meth_data_pc (dict): keys are cancer types, values are pd.DataFrame (n_pat,n_cpg) (rows=patients,columns=cpg)\n",
    "#             consensus_clustering (dict): keys are cancer types, values are pd.DataFrame (n_pat,1) (rows=patients, column=cluster membership)\n",
    "#             triple_cluster_cancers (list): cancer types with 3 meth clusters\n",
    "#             cancer_list (list): cancers considered\n",
    "#             flatax1 (list): list of pyplot axes for plotting significant associations\n",
    "#             flatax2 (list): list of pyplot axes for plotting non significant associations\n",
    "#             sign_KM_cancers (list): list cancers with significant associations\n",
    "#             feature (str): feature to use to break down into groups\n",
    "#     Returns: p_values (list): list of associated p values\n",
    "    p_values = {}\n",
    "    fignum1,fignum2=0,0\n",
    "    seapal = sns.color_palette(\"bright\")\n",
    "    for i,cancer in enumerate(cancer_list):\n",
    "        print(cancer)\n",
    "        if cancer in triple_cluster_cancers:\n",
    "            color_pal = [seapal[0], seapal[8], seapal[3]]\n",
    "        else:\n",
    "            color_pal = [seapal[0], seapal[3]]\n",
    "        duration, event = get_survival_analysis_metrics_snf(clin_data_csv, meth_data_pc, consensus_clustering, cancer, feature)\n",
    "        if len(list(duration.keys()))>3:\n",
    "            print(\"More than 3 meth clusters, not taken into account!\")\n",
    "            continue\n",
    "        ## create a kmf object\n",
    "        kmf = KaplanMeierFitter() \n",
    "        ## Fit the data into the model\n",
    "        kmf.fit(duration[0], event[0], label='Low meth cluster')\n",
    "        \n",
    "        if cancer in sign_KM_cancers:\n",
    "            fnum=fignum1\n",
    "            flatax=flatax1\n",
    "            fignum1+=1\n",
    "        else:\n",
    "            fnum=fignum2\n",
    "            flatax=flatax2\n",
    "            fignum2+=1\n",
    "            \n",
    "        ## Create an estimate\n",
    "        kmf.plot(show_censors=True,c=color_pal[0],ax=flatax[fnum],ci_alpha=0.1)\n",
    "        flatax[fnum].set_ylim([0,1])\n",
    "        ## Fit the data into the model\n",
    "        if len(list(duration.keys()))==2:\n",
    "            kmf.fit(duration[1], event[1], label='High meth cluster')\n",
    "            ## Create an estimate\n",
    "            kmf.plot(show_censors=True,c=color_pal[1],ax=flatax[fnum],ci_alpha=0.1)\n",
    "        elif len(list(duration.keys()))==3:\n",
    "            ## Fit the data into the model\n",
    "            kmf.fit(duration[1], event[1], label='Intermediate meth cluster')\n",
    "            ## Create an estimate\n",
    "            kmf.plot(show_censors=True,c=color_pal[1],ax=flatax[fnum])\n",
    "            ## Fit the data into the model\n",
    "            kmf.fit(duration[2], event[2], label='High meth cluster')\n",
    "            ## Create an estimate\n",
    "            pl1 = kmf.plot(show_censors=True,c=color_pal[2],ax=flatax[fnum],ci_alpha=0.1)\n",
    "        flatax[fnum].set_title(cancer,fontsize=20)\n",
    "        flatax[fnum].legend().remove()\n",
    "        print(\"Results between meth cluster 0 and 1\")\n",
    "        results=logrank_test(duration[0],duration[1],event_observed_A=event[0], event_observed_B=event[1])\n",
    "        p_values[cancer] = [results.p_value]\n",
    "        results.print_summary()\n",
    "        if len(list(duration.keys()))==3:\n",
    "            print(\"Results between meth cluster 0 and 2\")\n",
    "            results=logrank_test(duration[0],duration[2],event_observed_A=event[0], event_observed_B=event[2])\n",
    "            p_values[cancer].append(results.p_value)\n",
    "            results.print_summary()\n",
    "            print(\"Results between meth cluster 1 and 2\")\n",
    "            results=logrank_test(duration[1],duration[2],event_observed_A=event[1], event_observed_B=event[2])\n",
    "            p_values[cancer].append(results.p_value)\n",
    "            results.print_summary()\n",
    "    return p_values"
   ]
  },
  {
   "cell_type": "code",
   "execution_count": null,
   "metadata": {},
   "outputs": [],
   "source": [
    "from math import floor,log10\n",
    "def scinum(num, decimal_digits=1, precision=None, exponent=None):\n",
    "    \"\"\"\n",
    "    Returns a string representation of the scientific\n",
    "    notation of the given number formatted for use with\n",
    "    LaTeX or Mathtext, with specified number of significant\n",
    "    decimal digits and precision (number of decimal digits\n",
    "    to show). The exponent to be used can also be specified\n",
    "    explicitly.\n",
    "    \"\"\"\n",
    "    if exponent is None:\n",
    "        exponent = int(floor(log10(abs(num))))\n",
    "    coeff = round(num / float(10**exponent), decimal_digits)\n",
    "    if precision is None:\n",
    "        precision = decimal_digits\n",
    "\n",
    "    return r\"${0:.{2}f}\\cdot10^{{{1:d}}}$\".format(coeff, exponent, precision)"
   ]
  },
  {
   "cell_type": "code",
   "execution_count": null,
   "metadata": {},
   "outputs": [],
   "source": [
    "# save patients with silhouette coefficient > 0\n",
    "high_conf_patients = {cancer: (plot_df_spectral[plot_df_spectral[\"cancer\"]==cancer][\"Sil_orig\"]>0).index for cancer in cancer_to_keep}"
   ]
  },
  {
   "cell_type": "code",
   "execution_count": null,
   "metadata": {},
   "outputs": [],
   "source": [
    "# meth data and cluster membership of HC patients\n",
    "filtered_meth_data = {cancer: new_meth_data_pc[cancer].loc[high_conf_patients[cancer]] for cancer in cancer_to_keep}\n",
    "filtered_consensus_clustering = {cancer: consensus_clustering_spectral[cancer].loc[high_conf_patients[cancer]] for cancer in cancer_to_keep}"
   ]
  },
  {
   "cell_type": "code",
   "execution_count": null,
   "metadata": {},
   "outputs": [],
   "source": [
    "plt.rc('font', size=20)"
   ]
  },
  {
   "cell_type": "code",
   "execution_count": null,
   "metadata": {},
   "outputs": [],
   "source": [
    "sign_KM_cancers = [\"ACC\",\"GBM\",\"HNSC\",\"KIRC\",\"KIRP\",\"LGG\",\"MESO\",\"SKCM\"]\n",
    "nsign_KM_cancers = [\"CESC\",\"COAD\",\"LAML\",\"LIHC\",\"LUAD\",\"LUSC\",\"PCPG\",\"READ\",\"SARC\",\"STAD\",\"THCA\"]"
   ]
  },
  {
   "cell_type": "code",
   "execution_count": null,
   "metadata": {
    "scrolled": true
   },
   "outputs": [],
   "source": [
    "fig1, ax1 = plt.subplots(2,4,figsize=(15,5.5))\n",
    "flatax1 = ax1.flatten()\n",
    "\n",
    "fig2, ax2 = plt.subplots(3,4,figsize=(15,8))\n",
    "flatax2 = ax2.flatten()"
   ]
  },
  {
   "cell_type": "code",
   "execution_count": null,
   "metadata": {},
   "outputs": [],
   "source": [
    "km_pval_spectral = get_kaplan_meier(new_clin_data_pc, filtered_meth_data, filtered_consensus_clustering, triple_cluster_cancers_aff, sorted(CIMP_cancers), flatax1, flatax2, sign_KM_cancers, \"cluster\")"
   ]
  },
  {
   "cell_type": "code",
   "execution_count": null,
   "metadata": {},
   "outputs": [],
   "source": [
    "km_pval_spectral_lin = []\n",
    "for cancer in km_pval_spectral:\n",
    "    km_pval_spectral_lin+=km_pval_spectral[cancer]"
   ]
  },
  {
   "cell_type": "code",
   "execution_count": null,
   "metadata": {},
   "outputs": [],
   "source": [
    "# FDR correction with Benjamini Hochberg\n",
    "bool_p,pval,_,_ = multipletests(km_pval_spectral_lin,method='fdr_bh')"
   ]
  },
  {
   "cell_type": "code",
   "execution_count": null,
   "metadata": {},
   "outputs": [],
   "source": [
    "lines, labels = flatax2[0].get_legend_handles_labels()\n",
    "fig2.legend(lines, labels, loc = 'lower right', bbox_to_anchor = (1.75,0.25,1,1),\n",
    "            bbox_transform = plt.gcf().transFigure,fontsize=20,frameon=False)\n",
    "count=0\n",
    "fignum1,fignum2=0,0\n",
    "for i,cancer in enumerate(sorted(CIMP_cancers)):\n",
    "    \n",
    "    if cancer in sign_KM_cancers:\n",
    "        fnum=fignum1\n",
    "        flatax=flatax1\n",
    "        fignum1+=1\n",
    "    else:\n",
    "        fnum=fignum2\n",
    "        flatax=flatax2\n",
    "        fignum2+=1\n",
    "        \n",
    "    if cancer in [\"GBM\",\"LUAD\",\"LUSC\",\"MESO\",\"SKCM\"]:\n",
    "        x,y = 0.45,0.45\n",
    "    elif cancer in [\"LGG\"]:\n",
    "        x,y=0.45,0.7\n",
    "    elif cancer in [\"ACC\",\"KIRP\"]:\n",
    "        x,y = 0.45,0.05\n",
    "    else:\n",
    "        x,y = 0.05,0.05\n",
    "        \n",
    "    if cancer in triple_cluster_cancers_aff:\n",
    "        p1,p2,p3 = pval[count],pval[count+1],pval[count+2]\n",
    "        text = 'L-I:{},\\nL-H:{},\\nI-H:{}'.format(scinum(p1,1),scinum(p2,1),scinum(p3,1)) \n",
    "        count+=3\n",
    "    else:\n",
    "        p1 = pval[count]\n",
    "        text = 'L-H:{}'.format(scinum(p1,1))\n",
    "        count+=1\n",
    "    flatax[fnum].text(x, y, text, transform=flatax[fnum].transAxes,fontsize=15)\n",
    "    flatax[fnum].set_xlabel(\"\")\n",
    "\n",
    "flatax2[-1].axis(\"off\")\n"
   ]
  },
  {
   "cell_type": "code",
   "execution_count": null,
   "metadata": {},
   "outputs": [],
   "source": [
    "fig1.text(0.5, -0.02, 'Days', ha='center')\n",
    "fig1.text(-0.02, 0.5, 'OS', ha='center',fontsize=25,rotation=90)\n",
    "fig1.tight_layout()\n",
    "fig1"
   ]
  },
  {
   "cell_type": "code",
   "execution_count": null,
   "metadata": {},
   "outputs": [],
   "source": [
    "fig2.text(0.5, -0.02, 'Days', ha='center')\n",
    "fig2.text(-0.02, 0.5, 'OS', ha='center',fontsize=25,rotation=90)\n",
    "fig2.tight_layout()\n",
    "fig2"
   ]
  },
  {
   "cell_type": "code",
   "execution_count": null,
   "metadata": {},
   "outputs": [],
   "source": [
    "fig1.savefig(\"KM_sign.png\",bbox_inches=\"tight\")\n",
    "fig1.savefig(\"KM_sign.svg\",bbox_inches=\"tight\")\n",
    "fig2.savefig(\"KM_nsign.png\",bbox_inches=\"tight\")\n",
    "fig2.savefig(\"KM_nsign.svg\",bbox_inches=\"tight\")"
   ]
  },
  {
   "cell_type": "markdown",
   "metadata": {},
   "source": [
    "### Survival linked to IDH1 mutation"
   ]
  },
  {
   "cell_type": "code",
   "execution_count": null,
   "metadata": {
    "scrolled": true
   },
   "outputs": [],
   "source": [
    "from math import floor,log10\n",
    "def scinum(num, decimal_digits=1, precision=None, exponent=None):\n",
    "    \"\"\"\n",
    "    Returns a string representation of the scientific\n",
    "    notation of the given number formatted for use with\n",
    "    LaTeX or Mathtext, with specified number of significant\n",
    "    decimal digits and precision (number of decimal digits\n",
    "    to show). The exponent to be used can also be specified\n",
    "    explicitly.\n",
    "    \"\"\"\n",
    "    if exponent is None:\n",
    "        exponent = int(floor(log10(abs(num))))\n",
    "    coeff = round(num / float(10**exponent), decimal_digits)\n",
    "    if precision is None:\n",
    "        precision = decimal_digits\n",
    "\n",
    "    return r\"${0:.{2}f}\\cdot10^{{{1:d}}}$\".format(coeff, exponent, precision)\n",
    "\n",
    "plt.rc(\"font\",size=30)\n",
    "    \n",
    "fig, ax = plt.subplots(1,4,figsize=(20,5))\n",
    "flatax = ax.flatten()\n",
    "\n",
    "p_values = {}\n",
    "\n",
    "seapal = sns.color_palette(\"bright\")\n",
    "color_pal = [seapal[0], seapal[3]]\n",
    "\n",
    "for i,cancer in enumerate([\"GBM\",\"LAML\",\"LGG\",\"SKCM\"]):\n",
    "    print(cancer)\n",
    "    duration, event = get_survival_analysis_metrics_snf(new_clin_data_pc, new_meth_data_pc, mut_pancan, cancer, \"IDH1\")\n",
    "    \n",
    "    if len(list(duration.keys()))>3:\n",
    "        print(\"More than 3 meth clusters, not taken into account!\")\n",
    "        continue\n",
    "    ## create a kmf object\n",
    "    kmf = KaplanMeierFitter() \n",
    "    ## Fit the data into the model\n",
    "    kmf.fit(duration[0], event[0], label='WT')\n",
    "\n",
    "    ## Create an estimate\n",
    "    kmf.plot(show_censors=True,c=color_pal[0],ax=flatax[i],ci_alpha=0.1)\n",
    "    flatax[i].set_ylim([0,1])\n",
    "    ## Fit the data into the model\n",
    "\n",
    "    kmf.fit(duration[1], event[1], label='IDH1mut')\n",
    "    ## Create an estimate\n",
    "    kmf.plot(show_censors=True,c=color_pal[1],ax=flatax[i],ci_alpha=0.1)\n",
    "\n",
    "    flatax[i].set_title(cancer,fontsize=30)\n",
    "    flatax[i].legend().remove()\n",
    "    flatax[i].set_xlabel(\"\")\n",
    "    print(\"Results between meth cluster 0 and 1\")\n",
    "    results=logrank_test(duration[0],duration[1],event_observed_A=event[0], event_observed_B=event[1])\n",
    "    p_values[cancer] = [results.p_value]\n",
    "    results.print_summary()\n",
    "    if cancer==\"GBM\":\n",
    "        flatax[i].text(1400,0.85,\"p={}\".format(scinum(results.p_value,1)),fontsize=23)\n",
    "    elif cancer==\"LGG\":\n",
    "        flatax[i].text(2000,0.85,\"p={}\".format(scinum(results.p_value,1)),fontsize=23)\n",
    "    else:\n",
    "        flatax[i].text(0,0.05,\"p={}\".format(scinum(results.p_value,1)),fontsize=23)\n",
    "\n",
    "lines, labels = flatax[0].get_legend_handles_labels()\n",
    "fig.legend(lines, labels, loc = 'lower right', bbox_to_anchor = (0.16,0.35,1,1),\n",
    "            bbox_transform = plt.gcf().transFigure,fontsize=30,frameon=False)\n",
    "fig.text(0.5, -0.02, 'Days', ha='center')"
   ]
  },
  {
   "cell_type": "code",
   "execution_count": null,
   "metadata": {},
   "outputs": [],
   "source": [
    "fig.tight_layout()\n",
    "fig.savefig(\"IDH1_survival_KM.png\",bbox_inches=\"tight\")\n",
    "fig.savefig(\"IDH1_survival_KM.svg\",bbox_inches=\"tight\")\n",
    "fig"
   ]
  },
  {
   "cell_type": "code",
   "execution_count": null,
   "metadata": {
    "scrolled": true
   },
   "outputs": [],
   "source": [
    "count=0\n",
    "for cancer in tqdm(sorted(CIMP_cancers)):\n",
    "    if cancer in triple_cluster_cancers_aff:\n",
    "        print(cancer,\"0-1: \",pval[count],\"0-2: \",pval[count+1],\"1-2: \",pval[count+2])\n",
    "        count+=3\n",
    "    else:\n",
    "        print(cancer,\"0-1: \",pval[count])\n",
    "        count+=1"
   ]
  },
  {
   "cell_type": "markdown",
   "metadata": {},
   "source": [
    "### Cox model"
   ]
  },
  {
   "cell_type": "code",
   "execution_count": null,
   "metadata": {},
   "outputs": [],
   "source": [
    "from sklearn.preprocessing import LabelBinarizer\n",
    "# list of cancers with provided stage information in GDC\n",
    "cancer_with_stage = ['ACC','BLCA','BRCA','CESC','ESCA','HNSC','KIRC','KIRP','LIHC','LUAD','LUSC',\n",
    " 'MESO','PAAD','PRAD','SKCM','STAD','THCA','UCEC','COAD','READ']"
   ]
  },
  {
   "cell_type": "code",
   "execution_count": null,
   "metadata": {},
   "outputs": [],
   "source": [
    "def fit_cox_model(clin_data_pc,consensus_clustering,cancer,cancer_with_stage):\n",
    "#     Parameters: clin_data_pc (dict): keys are cancer types, values are pd.Df (n_patients,n_clin_info)\n",
    "#             consensus_clustering (dict): keys are cancer types, values are pd.DataFrame (n_pat,1) (rows=patients, column=cluster membership)\n",
    "#             cancer (str): cancer type\n",
    "#             cancer_with_stage (list): list of cancers with stage information\n",
    "#     Returns: cph (lifelines.CoxFitter): fitted regressor\n",
    "#             augclin (pd.Df): clinical data formatted for the Cox Fitter\n",
    "\n",
    "        augclin = clin_data_pc[cancer].merge(consensus_clustering[cancer],left_index=True,right_index=True)\n",
    "        augclin = augclin.replace({'[Discrepancy]':0})\n",
    "        augclin['age'] = -augclin['age']\n",
    "        augclin = augclin.replace({'MALE':0, 'male': 0, 'FEMALE':1, 'female': 1,})\n",
    "        if cancer in [\"CESC\",\"PRAD\",\"UCEC\",\"BRCA\"]:\n",
    "            augclin = augclin.drop(['gender'],axis=1)\n",
    "        if cancer in [\"LAML\",\"PCPG\",\"SARC\",\"THYM\"]:\n",
    "            augclin = augclin.drop(['stage'],axis=1)\n",
    "        \n",
    "        if cancer in triple_cluster_cancers_aff:\n",
    "            \n",
    "            lb = LabelBinarizer()\n",
    "            data = lb.fit_transform(augclin[\"cluster\"].values.ravel())\n",
    "            \n",
    "            column_mapping={1: \"Low meth cluster\", 2: \"inter meth cluster\", 3: \"high meth cluster\"}\n",
    "            col_labels = [column_mapping[lb.classes_[i]] for i in range(len(lb.classes_))]\n",
    "            df = pd.DataFrame(data,columns=col_labels,index=augclin.index)\n",
    "            df = df.drop([\"Low meth cluster\"],axis=1)\n",
    "            augclin = pd.concat([augclin,df],axis=1)\n",
    "            \n",
    "        else:\n",
    "            augclin[\"high meth cluster\"]=augclin[\"cluster\"].replace({1:0, 2:1})\n",
    "    \n",
    "        \n",
    "        if cancer in cancer_with_stage:\n",
    "            augclin = augclin.replace(replace_map)\n",
    "            augclin = augclin.replace({'Stage I':1,'Stage II':2,'Stage III':3, 'Stage IV':4, \"not reported\": -1})\n",
    "            \n",
    "        \n",
    "        cph = CoxPHFitter(penalizer=0.1)\n",
    "        augclin = augclin.dropna(axis=0)\n",
    "        cph.fit(augclin.drop(\"cluster\",axis=1), duration_col='OS.time', event_col='OS')\n",
    "        return cph,augclin   "
   ]
  },
  {
   "cell_type": "code",
   "execution_count": null,
   "metadata": {
    "scrolled": true
   },
   "outputs": [],
   "source": [
    "fig, ax = plt.subplots(2,3,figsize=(20,6))\n",
    "flatax = ax.flatten()\n",
    "seapal = sns.color_palette(\"bright\")\n",
    "fignum=0\n",
    "\n",
    "plt.rc('font', size=20)\n",
    "\n",
    "cox_p_spectral = []\n",
    "for cancer in sorted(CIMP_cancers):\n",
    "    print(cancer)\n",
    "    cph,augclin = fit_cox_model(new_clin_data_pc,filtered_consensus_clustering,cancer,cancer_with_stage)\n",
    "    augclin_cl1 = augclin[augclin[\"cluster\"]==1]\n",
    "    if cancer in triple_cluster_cancers_aff:\n",
    "        augclin_cl2 = augclin[augclin[\"cluster\"]==3]\n",
    "    else:\n",
    "        augclin_cl2 = augclin[augclin[\"cluster\"]==2]\n",
    "    median_df_cl1 = cph.predict_median(augclin_cl1).sort_values()\n",
    "    median_df_cl2 = cph.predict_median(augclin_cl2).sort_values()\n",
    "    print(\"Median survival time cl1: {} vs cl2: {}\".format(median_df_cl1.iloc[int(median_df_cl1.shape[0]/2)],\n",
    "                                                          median_df_cl2.iloc[int(median_df_cl2.shape[0]/2)]))\n",
    "    print(cph.summary)\n",
    "\n",
    "    cox_p_spectral.append(cph.summary[\"p\"][\"high meth cluster\"])\n",
    "    if cancer in [\"ACC\",\"HNSC\",\"KIRP\",\"LGG\",\"MESO\"]:\n",
    "        cph.plot(hazard_ratios=True,ax=flatax[fignum])\n",
    "        flatax[fignum].set_title(cancer,fontsize=30)\n",
    "        flatax[fignum].set_xlabel(flatax[fignum].get_xlabel(),fontsize=20)\n",
    "        fignum+=1\n",
    "\n",
    "    #     if cancer in triple_cluster_cancers_aff:\n",
    "    #         ax = cph.plot_partial_effects_on_outcome(covariates=\"cluster\",values=[1,2,3],color=[seapal[0],seapal[2],seapal[1]])\n",
    "    #         ax.legend(['Low','Intermediate','High', 'Baseline'])\n",
    "    #     else:\n",
    "    #         ax = cph.plot_partial_effects_on_outcome(covariates=\"cluster\",values=[1,2],color=[seapal[0],seapal[1]])\n",
    "    #         ax.legend(['Low', 'High', 'Baseline'])\n",
    "    #     ax.set_xlabel(\"timeline\")\n",
    "    #     ax.set_ylim([0,1])\n",
    "flatax[-1].axis(\"off\")\n",
    "fig.tight_layout()"
   ]
  },
  {
   "cell_type": "code",
   "execution_count": null,
   "metadata": {},
   "outputs": [],
   "source": [
    "fig.savefig(\"Cox_hazard_full.png\",bbox_inches=\"tight\")\n",
    "fig.savefig(\"Cox_hazard_full.svg\",bbox_inches=\"tight\")"
   ]
  },
  {
   "cell_type": "code",
   "execution_count": null,
   "metadata": {},
   "outputs": [],
   "source": []
  },
  {
   "cell_type": "markdown",
   "metadata": {},
   "source": [
    "# Mutation analysis"
   ]
  },
  {
   "cell_type": "markdown",
   "metadata": {},
   "source": [
    "### MSI Status"
   ]
  },
  {
   "cell_type": "markdown",
   "metadata": {},
   "source": [
    "We compute the enrichment in MSI in the high methyalted clusters for COAD"
   ]
  },
  {
   "cell_type": "code",
   "execution_count": null,
   "metadata": {},
   "outputs": [],
   "source": [
    "msi_concat[\"MSI status\"]"
   ]
  },
  {
   "cell_type": "code",
   "execution_count": null,
   "metadata": {},
   "outputs": [],
   "source": [
    "seapal = sns.color_palette(\"bright\")\n",
    "size_plot = {\"mss\": 30, \"msi-h\": 300, \"msi-l\": 50, \"indeterminate\": 1, -1: 1}\n",
    "for cancer in [\"COAD\"]:\n",
    "    print(cancer)\n",
    "    \n",
    "    # data taken from the Ciriano-Cortes Nature paper \n",
    "    red_msi = msi_profile[msi_profile[\"Cancer_type\"]==cancer]\n",
    "    ind_red_clust = [consensus_clustering_spectral[cancer].index[i][:-3] for i in range(consensus_clustering_spectral[cancer].shape[0])]\n",
    "    red_clust = consensus_clustering_spectral[cancer].copy()\n",
    "    red_clust.index = ind_red_clust\n",
    "    red_clust = red_clust.loc[red_msi.index.intersection(ind_red_clust)]\n",
    "    red_clust = red_clust[~red_clust.index.duplicated()]\n",
    "    red_msi = red_msi.loc[red_msi.index.intersection(ind_red_clust)]\n",
    "    red_msi = red_msi[~red_msi.index.duplicated()]\n",
    "    msi_concat = pd.concat([red_msi,red_clust],axis=1)\n",
    "    msi_concat.index = msi_concat.index+\"-01\"\n",
    "    msi_concat = msi_concat.rename(columns={\"MSI_category_nb_from_TCGA_consortium\": \"MSI status\"})\n",
    "    \n",
    "    df = pd.concat([plot_df_spectral[plot_df_spectral[\"cancer\"]==cancer],msi_concat],axis=1).fillna(\"indeterminate\")\n",
    "    \n",
    "    dictcl1 = dict(Counter(df[df[\"Cluster\"]==\"Low meth cluster\"][\"MSI status\"]))\n",
    "    dictcl2 = dict(Counter(df[df[\"Cluster\"]==\"High meth cluster\"][\"MSI status\"]))\n",
    "    if not(\"msi-h\" in dictcl1):\n",
    "        dictcl1[\"msi-h\"]=0\n",
    "    if not(\"msi-h\" in dictcl2):\n",
    "        dictcl2[\"msi-h\"]=0\n",
    "    print(dictcl1,dictcl2)\n",
    "    contingency = pd.DataFrame(np.zeros((2,2)),index=[\"msi-h\",\"mss\"],columns=[\"Low meth cluster\", \"High meth cluster\"])\n",
    "    for ms in contingency.index:\n",
    "        contingency.loc[ms][\"Low meth cluster\"] = dictcl1[ms]\n",
    "        contingency.loc[ms][\"High meth cluster\"] = dictcl2[ms]\n",
    "    print(fisher_exact(contingency))\n",
    "    \n",
    "    edgecolor_list = df[\"MSI status\"].replace({\"mss\": \"white\", \"indeterminate\": \"grey\", \"msi-h\": \"black\", \"msi-l\": \"black\"}).values\n",
    "    linewidth_list = df[\"MSI status\"].replace({\"mss\": 0, \"indeterminate\": 2, \"msi-h\": 1, \"msi-l\": 1}).values\n",
    "    \n",
    "    fig,ax = plt.subplots(1,1,figsize=(15,7))\n",
    "    ax.set_title(cancer+\" MSI status\",fontsize=20)\n",
    "\n",
    "    plt.rc('font', size=20)\n",
    "    sns.scatterplot(data=df,x=\"Comp1\",y=\"Comp2\",hue=\"Cluster\",size=\"MSI status\",\n",
    "                    sizes=size_plot,legend=\"auto\", ax=ax,\n",
    "                    palette={\"Low meth cluster\": seapal[0], \"High meth cluster\": seapal[3],\"Intermediate meth cluster\": seapal[8]},\n",
    "                   edgecolor=edgecolor_list,linewidth=linewidth_list)\n",
    "    ax.set_xlabel(\"\")\n",
    "    ax.set_ylabel(\"\")\n",
    "    ax.set_xticklabels([])\n",
    "    ax.set_yticklabels([])\n",
    "    plt.legend(loc='right', bbox_to_anchor=(1.4,0.5),frameon=False,fontsize=20)\n",
    "\n",
    "    plt.savefig(cancer+\"_MSI_status.png\",dpi=100)\n",
    "    plt.savefig(cancer+\"_MSI_status.svg\")"
   ]
  },
  {
   "cell_type": "markdown",
   "metadata": {},
   "source": [
    "### MGME analysis"
   ]
  },
  {
   "cell_type": "code",
   "execution_count": null,
   "metadata": {},
   "outputs": [],
   "source": [
    "from sklearn.neighbors import NearestNeighbors"
   ]
  },
  {
   "cell_type": "code",
   "execution_count": null,
   "metadata": {
    "scrolled": true
   },
   "outputs": [],
   "source": [
    "# download gencode annotations\n",
    "gencode_annot_gene = pd.read_csv(\"path\\to\\gencode_annotation_and_length\")\n",
    "gagval = gencode_annot_gene[\"gene_id\"].values\n",
    "gagval = [gagval[i].split(\".\")[0] for i in range(len(gagval))]\n",
    "gencode_annot_gene[\"gene_id_simplf\"] = gagval\n",
    "uhrf1_pd = pd.DataFrame([[0,\"UHRF1\",\"ENSG00000276043.5\",4000,\"ENSG00000276043\"]],columns=gencode_annot_gene.columns)\n",
    "gencode_annot_gene = pd.concat([gencode_annot_gene,uhrf1_pd])\n",
    "\n",
    "# download mapping between official gene notations and gencode\n",
    "merged_table = pd.read_csv(\"path\\to\\gencode_mapping_table\").set_index(\"gene_name\")\n",
    "merged_table.columns = [\"gene_id_simplf\",\"gencode_id_gex\",\"gencode_id\"]\n",
    "uhrf1_pd = pd.DataFrame([[\"ENSG00000276043\",\"ENSG00000276043.3\",\"ENSG00000276043.5\"]],index=[\"UHRF1\"],columns=merged_table.columns)\n",
    "merged_table = pd.concat([merged_table,uhrf1_pd])\n",
    "merged_table = merged_table[~merged_table.index.duplicated(keep='first')]"
   ]
  },
  {
   "cell_type": "code",
   "execution_count": null,
   "metadata": {},
   "outputs": [],
   "source": [
    "def get_coordinates_genes_cancer(gencode_annot_gene,gene_data_pc,mut_pancan,cancer):\n",
    "    gex_cancer = gene_data_pc[cancer].mean()\n",
    "    gex_cancer = gex_cancer.rename(\"gex_cancer\")\n",
    "    gex_cancer = pd.concat([gex_cancer,inv_merged_table.loc[gene_data_pc[cancer].columns.intersection(inv_merged_table.index)][\"index\"]],axis=1).dropna()\n",
    "    gex_cancer.columns=[\"gex_cancer\",\"gene_name\"]\n",
    "    gex_cancer = gex_cancer.reset_index()\n",
    "    merged_df = gencode_annot_gene.merge(gex_cancer,how=\"inner\",left_on=\"gene_name\",right_on=\"gene_name\")[[\"gene_name\",\"length\",\"gex_cancer\"]]\n",
    "    merged_df = merged_df.set_index(\"gene_name\")\n",
    "    merged_df.columns=[\"length\",\"gex_cancer\"]\n",
    "    merged_df = merged_df[~merged_df.index.duplicated()]\n",
    "    merged_df = merged_df.loc[mut_pancan[cancer].columns.intersection(merged_df.index)]\n",
    "    std = StandardScaler()\n",
    "    coordinates = pd.DataFrame(std.fit_transform(merged_df[[\"length\",\"gex_cancer\"]].values),index=merged_df.index,columns=[\"x\",\"y\"])\n",
    "    return coordinates"
   ]
  },
  {
   "cell_type": "code",
   "execution_count": null,
   "metadata": {},
   "outputs": [],
   "source": [
    "def get_mutational_burden_comparison(list_cancer,df_louvain_snf,mut_pancan,genes_of_interest):\n",
    "    mut_burden,goi_mut_burden = [],[]\n",
    "    \n",
    "    for cancer in list_cancer:\n",
    "\n",
    "        ind_cl_1 = df_louvain_snf[cancer][df_louvain_snf[cancer][\"cluster\"]==1].index\n",
    "        ind_cl_2 = df_louvain_snf[cancer][df_louvain_snf[cancer][\"cluster\"]==2].index\n",
    "        ind_cl_3 = df_louvain_snf[cancer][df_louvain_snf[cancer][\"cluster\"]==3].index\n",
    "        if cancer in triple_cluster_cancers_aff:\n",
    "            ind_cl_2 = ind_cl_3\n",
    "        \n",
    "        ind_cl_1 = mut_pancan[cancer].index.intersection(ind_cl_1)\n",
    "        ind_cl_2 = mut_pancan[cancer].index.intersection(ind_cl_2)\n",
    "        \n",
    "        mut_burden.append([mut_pancan[cancer].loc[ind_cl_1].T.sum().sum()+1, \\\n",
    "                            mut_pancan[cancer].loc[ind_cl_2].T.sum().sum()+1])\n",
    "        if len(genes_of_interest)==1:\n",
    "            goi_mut_burden.append([int(mut_pancan[cancer][genes_of_interest[0]].loc[ind_cl_1].sum())+1, \\\n",
    "                            int(mut_pancan[cancer][genes_of_interest[0]].loc[ind_cl_2].sum())+1])\n",
    "        else:\n",
    "            goi_mut_burden.append([mut_pancan[cancer][genes_of_interest].loc[ind_cl_1].T.sum().sum()+1, \\\n",
    "                            mut_pancan[cancer][genes_of_interest].loc[ind_cl_2].T.sum().sum()+1])\n",
    "    mut_burden = pd.DataFrame(mut_burden,columns=[\"Low meth cluster\",\"High meth cluster\"],index=list_cancer)\n",
    "    goi_mut_burden = pd.DataFrame(goi_mut_burden,columns=[\"Low meth cluster\",\"High meth cluster\"],index=list_cancer)\n",
    "    return mut_burden,goi_mut_burden"
   ]
  },
  {
   "cell_type": "code",
   "execution_count": null,
   "metadata": {},
   "outputs": [],
   "source": [
    "def get_df_mut_comp_pergene(list_cancer,df_louvain_snf,mut_pancan,genes_of_interest):\n",
    "    df_mut_comp_pergene = []\n",
    "    \n",
    "    for gene in tqdm(genes_of_interest):\n",
    "       \n",
    "        mut_burden, goi_mut_burden = get_mutational_burden_comparison(list_cancer,df_louvain_snf,mut_pancan,[gene])\n",
    "        mut_burden_comp = pd.concat([goi_mut_burden[\"Low meth cluster\"]/mut_burden[\"Low meth cluster\"]*10000,\n",
    "                                      goi_mut_burden[\"High meth cluster\"]/mut_burden[\"High meth cluster\"]*10000],axis=1)\n",
    "        comp_mut_burden = mut_burden_comp[\"High meth cluster\"]/mut_burden_comp[\"Low meth cluster\"]\n",
    "        if len(df_mut_comp_pergene)==0:\n",
    "            df_mut_comp_pergene = comp_mut_burden\n",
    "        else:\n",
    "            df_mut_comp_pergene = pd.concat([df_mut_comp_pergene,comp_mut_burden],axis=1)\n",
    "    df_mut_comp_pergene.columns = genes_of_interest\n",
    "    return df_mut_comp_pergene"
   ]
  },
  {
   "cell_type": "code",
   "execution_count": null,
   "metadata": {},
   "outputs": [],
   "source": [
    "def find_1NN_genes(genes_of_interest,coordinates_val_lasso_pc,cancer,n_neighbors):\n",
    "    gene_list = []\n",
    "    neigh = NearestNeighbors(n_neighbors=n_neighbors)\n",
    "    neigh.fit(coordinates_val_lasso_pc[cancer].values)\n",
    "    coord_gene = coordinates_val_lasso_pc[cancer].loc[genes_of_interest].values\n",
    "    neighbor_inds = neigh.kneighbors(coord_gene,return_distance=False)\n",
    "    for i in range(neighbor_inds.shape[0]):\n",
    "        neigh_ind = neighbor_inds[i,np.random.randint(n_neighbors)]\n",
    "        gene_list.append(coordinates_val_lasso_pc[cancer].index[neigh_ind])\n",
    "    return gene_list"
   ]
  },
  {
   "cell_type": "code",
   "execution_count": null,
   "metadata": {},
   "outputs": [],
   "source": [
    "def get_bootstrap_comp_mut_burden(coordinates_val_lasso_pc,n_neighbors,list_cancer,\n",
    "                                  df_louvain_snf,mut_pancan,genes_of_interest):\n",
    "    mut_burden = []\n",
    "    for cancer in list_cancer:\n",
    "        ind_cl_1 = df_louvain_snf[cancer][df_louvain_snf[cancer][\"cluster\"]==1].index\n",
    "        ind_cl_2 = df_louvain_snf[cancer][df_louvain_snf[cancer][\"cluster\"]==2].index\n",
    "        ind_cl_3 = df_louvain_snf[cancer][df_louvain_snf[cancer][\"cluster\"]==3].index\n",
    "        if cancer in triple_cluster_cancers_aff:\n",
    "            ind_cl_2 = ind_cl_3\n",
    "        ind_cl_1 = mut_pancan[cancer].index.intersection(ind_cl_1)\n",
    "        ind_cl_2 = mut_pancan[cancer].index.intersection(ind_cl_2)\n",
    "        \n",
    "        mut_burden.append([mut_pancan[cancer].loc[ind_cl_1].T.sum().sum()+1, \\\n",
    "                            mut_pancan[cancer].loc[ind_cl_2].T.sum().sum()+1])\n",
    "    mut_burden = pd.DataFrame(mut_burden,columns=[\"Low meth cluster\",\"High meth cluster\"],index=list_cancer)\n",
    "    print(\"Done calculating mutational burden\")\n",
    "    \n",
    "    mut_bootstrap = []\n",
    "    for i in tqdm(range(500)):\n",
    "        \n",
    "        genes_bootstrap = find_1NN_genes(genes_of_interest,coordinates_val_lasso_pc,cancer,n_neighbors)\n",
    "        \n",
    "        goi_mut_burden = []\n",
    "        for cancer in list_cancer:\n",
    "            ind_cl_1 = df_louvain_snf[cancer][df_louvain_snf[cancer][\"cluster\"]==1].index\n",
    "            ind_cl_2 = df_louvain_snf[cancer][df_louvain_snf[cancer][\"cluster\"]==2].index\n",
    "            ind_cl_3 = df_louvain_snf[cancer][df_louvain_snf[cancer][\"cluster\"]==3].index\n",
    "            if cancer in triple_cluster_cancers_aff:\n",
    "                ind_cl_2 = ind_cl_2\n",
    "            ind_cl_1 = mut_pancan[cancer].index.intersection(ind_cl_1)\n",
    "            ind_cl_2 = mut_pancan[cancer].index.intersection(ind_cl_2)  \n",
    "                \n",
    "            if len(genes_of_interest)==1:\n",
    "                goi_mut_burden.append([int(mut_pancan[cancer][genes_bootstrap[0]].loc[ind_cl_1].sum())+1, \\\n",
    "                                int(mut_pancan[cancer][genes_bootstrap[0]].loc[ind_cl_2].sum())+1])\n",
    "            else:\n",
    "                goi_mut_burden.append([mut_pancan[cancer][genes_bootstrap].loc[ind_cl_1].T.sum().sum()+1, \\\n",
    "                                mut_pancan[cancer][genes_bootstrap].loc[ind_cl_2].T.sum().sum()+1])\n",
    "        goi_mut_burden = pd.DataFrame(goi_mut_burden,columns=[\"Low meth cluster\",\"High meth cluster\"],index=list_cancer)\n",
    "        \n",
    "        mut_burden_comp = pd.concat([goi_mut_burden[\"Low meth cluster\"]/mut_burden[\"Low meth cluster\"]*10000,\n",
    "                                  goi_mut_burden[\"High meth cluster\"]/mut_burden[\"High meth cluster\"]*10000],axis=1)\n",
    "        comp_mut_burden = mut_burden_comp[\"High meth cluster\"]/mut_burden_comp[\"Low meth cluster\"]\n",
    "        mut_bootstrap.append(comp_mut_burden.values)\n",
    "    \n",
    "    return mut_bootstrap"
   ]
  },
  {
   "cell_type": "code",
   "execution_count": null,
   "metadata": {},
   "outputs": [],
   "source": [
    "def get_empirical_p_value_mutations(mut_bootstrap,comp_mut_burden,meth_or_demeth,list_cancer):\n",
    "    p_value = {cancer: 0 for cancer in list_cancer}\n",
    "    comp_burd = comp_mut_burden[meth_or_demeth]\n",
    "    for i in tqdm(range(len(mut_bootstrap))):\n",
    "        for j in range(len(mut_bootstrap[i])):\n",
    "            if comp_burd.iloc[j]>1 and mut_bootstrap[i][j]>comp_burd.iloc[j]:\n",
    "                p_value[list_cancer[j]]+=1/1000\n",
    "            elif comp_burd.iloc[j]<1 and mut_bootstrap[i][j]<comp_burd.iloc[j]:\n",
    "                p_value[list_cancer[j]]+=1/1000\n",
    "    return p_value"
   ]
  },
  {
   "cell_type": "code",
   "execution_count": null,
   "metadata": {},
   "outputs": [],
   "source": [
    "COAD_gene = {\"COAD\": pd.read_csv(\"path\\to\\gene_fpkm\\COADREAD_gene_fpkm.csv\")\n",
    "        }"
   ]
  },
  {
   "cell_type": "code",
   "execution_count": null,
   "metadata": {},
   "outputs": [],
   "source": [
    "COAD_gene[\"COAD\"][\"Unnamed: 0\"] = COAD_gene[\"COAD\"][\"Unnamed: 0\"].apply(lambda x: x[:15])\n",
    "COAD_gene[\"COAD\"] = COAD_gene[\"COAD\"].set_index(\"Unnamed: 0\")\n",
    "COAD_gene[\"COAD\"] = COAD_gene[\"COAD\"][~COAD_gene[\"COAD\"].index.duplicated()]\n",
    "COAD_gene[\"COAD\"] = COAD_gene[\"COAD\"].loc[consensus_clustering_spectral[\"COAD\"].index.intersection(COAD_gene[\"COAD\"].index)]"
   ]
  },
  {
   "cell_type": "code",
   "execution_count": null,
   "metadata": {},
   "outputs": [],
   "source": [
    "coordinates_val_lasso_pc = {}\n",
    "for cancer in [\"COAD\"]:\n",
    "    coordinates_val_lasso_pc[cancer] = get_coordinates_genes_cancer(gencode_annot_gene,COAD_gene,mut_pancan,cancer)"
   ]
  },
  {
   "cell_type": "code",
   "execution_count": null,
   "metadata": {},
   "outputs": [],
   "source": [
    "df_mut_comp_pergene_meth = get_df_mut_comp_pergene([\"COAD\"],consensus_clustering_spectral,mut_pancan,mutations_to_test[\"COAD\"])"
   ]
  },
  {
   "cell_type": "code",
   "execution_count": null,
   "metadata": {},
   "outputs": [],
   "source": [
    "df_mut_comp_pergene_meth"
   ]
  },
  {
   "cell_type": "code",
   "execution_count": null,
   "metadata": {},
   "outputs": [],
   "source": [
    "df_p_value_pergene_meth = []\n",
    "for gene in tqdm(mutations_to_test[\"COAD\"]):\n",
    "    mut_bootstrap_pergene_meth = get_bootstrap_comp_mut_burden(coordinates_val_lasso_pc,1000,[\"COAD\"],\n",
    "                                  consensus_clustering_spectral,mut_pancan,[gene])\n",
    "    p_value_mut_pergene = get_empirical_p_value_mutations(mut_bootstrap_pergene_meth,df_mut_comp_pergene_meth,gene,[\"COAD\"])\n",
    "    if len(df_p_value_pergene_meth)==0:\n",
    "        df_p_value_pergene_meth = pd.DataFrame.from_dict(p_value_mut_pergene, orient='index',columns=[gene])\n",
    "    else:\n",
    "        df_p_value_pergene_meth = pd.concat([df_p_value_pergene_meth,pd.DataFrame.from_dict(p_value_mut_pergene, orient='index',columns=[gene])],axis=1)\n"
   ]
  },
  {
   "cell_type": "code",
   "execution_count": null,
   "metadata": {},
   "outputs": [],
   "source": [
    "len(mutations_to_test[\"COAD\"])"
   ]
  },
  {
   "cell_type": "code",
   "execution_count": null,
   "metadata": {},
   "outputs": [],
   "source": [
    "mask_multipletest_meth = []\n",
    "for cancer in [\"COAD\"]:\n",
    "    multtest = multipletests(df_p_value_pergene_meth.loc[cancer],method='fdr_bh')\n",
    "    mask_multipletest_meth.append(multtest[0])\n",
    "    for i,gene in enumerate(mutations_to_test[\"COAD\"]):\n",
    "        print(gene,multtest[0][i],multtest[1][i])"
   ]
  },
  {
   "cell_type": "markdown",
   "metadata": {},
   "source": [
    "### GOI mutations"
   ]
  },
  {
   "cell_type": "markdown",
   "metadata": {},
   "source": [
    "We now analyze mutations in genes of interest (DNA & Histone methylation/demethylation genes) and compute associated p-values"
   ]
  },
  {
   "cell_type": "code",
   "execution_count": null,
   "metadata": {
    "scrolled": true
   },
   "outputs": [],
   "source": [
    "for cancer in tqdm(sorted(CIMP_cancers)):\n",
    "    all_p_fisher = []\n",
    "    print(cancer)\n",
    "    common_pat_clustering = filtered_consensus_clustering[cancer].loc[filtered_consensus_clustering[cancer].index.intersection(mut_pancan[cancer].index)]\n",
    "    ind_cl_1 = common_pat_clustering[common_pat_clustering[\"cluster\"]==1].index\n",
    "    if cancer in triple_cluster_cancers_aff:\n",
    "        ind_cl_2 = common_pat_clustering[common_pat_clustering[\"cluster\"]==3].index\n",
    "    else:\n",
    "        ind_cl_2 = common_pat_clustering[common_pat_clustering[\"cluster\"]==2].index\n",
    "    genes = all_genes_writer_Hmeth\n",
    "    mutated_genes,mutated_index = [],[]\n",
    "    for i,gene in enumerate(genes):\n",
    "        n_mut_1 = (mut_pancan[cancer][gene].loc[ind_cl_1]>0).sum()\n",
    "        n_mut_2 = (mut_pancan[cancer][gene].loc[ind_cl_2]>0).sum()\n",
    "        perc_mut_1 = n_mut_1/len(ind_cl_1)*100\n",
    "        perc_mut_2 = n_mut_2/len(ind_cl_2)*100\n",
    "        p_fisher = fisher_exact(np.array([[n_mut_1,n_mut_2],[len(ind_cl_1)-n_mut_1,len(ind_cl_2)-n_mut_2]]))[1]\n",
    "        all_p_fisher.append(p_fisher)\n",
    "        if np.abs(perc_mut_1-perc_mut_2)>10:\n",
    "            mutated_genes.append(gene)\n",
    "            mutated_index.append(i)\n",
    "            print(gene,perc_mut_1,perc_mut_2,p_fisher)\n",
    "    print(\"percent of patients with at least one sign mut genes cl1 {} & cl2 {}\".format((mut_pancan[cancer][mutated_genes].loc[ind_cl_1].T.sum()>0).sum()/len(ind_cl_1)*100,(mut_pancan[cancer][mutated_genes].loc[ind_cl_2].T.sum()>0).sum()/len(ind_cl_2)*100))\n",
    "    if len(all_p_fisher)>0:\n",
    "        print(multipletests(all_p_fisher,alpha=0.1,method=\"fdr_bh\")[1][mutated_index])"
   ]
  },
  {
   "cell_type": "code",
   "execution_count": null,
   "metadata": {
    "scrolled": true
   },
   "outputs": [],
   "source": [
    "for cancer in tqdm(sorted(CIMP_cancers)):\n",
    "    all_p_fisher = []\n",
    "    print(cancer)\n",
    "    common_pat_clustering = filtered_consensus_clustering[cancer].loc[filtered_consensus_clustering[cancer].index.intersection(mut_pancan[cancer].index)]\n",
    "    ind_cl_1 = common_pat_clustering[common_pat_clustering[\"cluster\"]==1].index\n",
    "    if cancer in triple_cluster_cancers_aff:\n",
    "        ind_cl_2 = common_pat_clustering[common_pat_clustering[\"cluster\"]==3].index\n",
    "    else:\n",
    "        ind_cl_2 = common_pat_clustering[common_pat_clustering[\"cluster\"]==2].index\n",
    "    genes = all_genes_eraser_Hmeth\n",
    "    mutated_genes,mutated_index = [],[]\n",
    "    for i,gene in enumerate(genes):\n",
    "        n_mut_1 = (mut_pancan[cancer][gene].loc[ind_cl_1]>0).sum()\n",
    "        n_mut_2 = (mut_pancan[cancer][gene].loc[ind_cl_2]>0).sum()\n",
    "        perc_mut_1 = n_mut_1/len(ind_cl_1)*100\n",
    "        perc_mut_2 = n_mut_2/len(ind_cl_2)*100\n",
    "        p_fisher = fisher_exact(np.array([[n_mut_1,n_mut_2],[len(ind_cl_1)-n_mut_1,len(ind_cl_2)-n_mut_2]]))[1]\n",
    "        all_p_fisher.append(p_fisher)\n",
    "        if np.abs(perc_mut_1-perc_mut_2)>10:\n",
    "            mutated_genes.append(gene)\n",
    "            mutated_index.append(i)\n",
    "            print(gene,perc_mut_1,perc_mut_2,p_fisher)\n",
    "    print(\"percent of patients with at least one sign mut genes cl1 {} & cl2 {}\".format((mut_pancan[cancer][mutated_genes].loc[ind_cl_1].T.sum()>0).sum()/len(ind_cl_1)*100,(mut_pancan[cancer][mutated_genes].loc[ind_cl_2].T.sum()>0).sum()/len(ind_cl_2)*100))\n",
    "    if len(all_p_fisher)>0:\n",
    "        print(multipletests(all_p_fisher,alpha=0.1,method=\"fdr_bh\")[1][mutated_index])"
   ]
  },
  {
   "cell_type": "code",
   "execution_count": null,
   "metadata": {
    "scrolled": true
   },
   "outputs": [],
   "source": [
    "for cancer in tqdm(sorted(CIMP_cancers)):\n",
    "    all_p_fisher = []\n",
    "    print(cancer)\n",
    "    common_pat_clustering = filtered_consensus_clustering[cancer].loc[filtered_consensus_clustering[cancer].index.intersection(mut_pancan[cancer].index)]\n",
    "    ind_cl_1 = common_pat_clustering[common_pat_clustering[\"cluster\"]==1].index\n",
    "    if cancer in triple_cluster_cancers_aff:\n",
    "        ind_cl_2 = common_pat_clustering[common_pat_clustering[\"cluster\"]==3].index\n",
    "    else:\n",
    "        ind_cl_2 = common_pat_clustering[common_pat_clustering[\"cluster\"]==2].index\n",
    "    genes = genes_demeth_gex\n",
    "    mutated_genes,mutated_index = [],[]\n",
    "    for i,gene in enumerate(genes):\n",
    "        n_mut_1 = (mut_pancan[cancer][gene].loc[ind_cl_1]>0).sum()\n",
    "        n_mut_2 = (mut_pancan[cancer][gene].loc[ind_cl_2]>0).sum()\n",
    "        perc_mut_1 = n_mut_1/len(ind_cl_1)*100\n",
    "        perc_mut_2 = n_mut_2/len(ind_cl_2)*100\n",
    "        p_fisher = fisher_exact(np.array([[n_mut_1,n_mut_2],[len(ind_cl_1)-n_mut_1,len(ind_cl_2)-n_mut_2]]))[1]\n",
    "        all_p_fisher.append(p_fisher)\n",
    "        if np.abs(perc_mut_1-perc_mut_2)>10:\n",
    "            mutated_genes.append(gene)\n",
    "            mutated_index.append(i)\n",
    "            print(gene,perc_mut_1,perc_mut_2,p_fisher)\n",
    "    print(\"percent of patients with at least one sign mut genes cl1 {} & cl2 {}\".format((mut_pancan[cancer][mutated_genes].loc[ind_cl_1].T.sum()>0).sum()/len(ind_cl_1)*100,(mut_pancan[cancer][mutated_genes].loc[ind_cl_2].T.sum()>0).sum()/len(ind_cl_2)*100))\n",
    "    if len(all_p_fisher)>0:\n",
    "        print(multipletests(all_p_fisher,alpha=0.1,method=\"fdr_bh\")[1][mutated_index])"
   ]
  },
  {
   "cell_type": "code",
   "execution_count": null,
   "metadata": {
    "scrolled": true
   },
   "outputs": [],
   "source": [
    "for cancer in tqdm(sorted(CIMP_cancers)):\n",
    "    all_p_fisher = []\n",
    "    print(cancer)\n",
    "    common_pat_clustering = filtered_consensus_clustering[cancer].loc[filtered_consensus_clustering[cancer].index.intersection(mut_pancan[cancer].index)]\n",
    "    ind_cl_1 = common_pat_clustering[common_pat_clustering[\"cluster\"]==1].index\n",
    "    if cancer in triple_cluster_cancers_aff:\n",
    "        ind_cl_2 = common_pat_clustering[common_pat_clustering[\"cluster\"]==3].index\n",
    "    else:\n",
    "        ind_cl_2 = common_pat_clustering[common_pat_clustering[\"cluster\"]==2].index\n",
    "    genes = genes_meth_gex\n",
    "    mutated_genes,mutated_index = [],[]\n",
    "    for i,gene in enumerate(genes):\n",
    "        n_mut_1 = (mut_pancan[cancer][gene].loc[ind_cl_1]>0).sum()\n",
    "        n_mut_2 = (mut_pancan[cancer][gene].loc[ind_cl_2]>0).sum()\n",
    "        perc_mut_1 = n_mut_1/len(ind_cl_1)*100\n",
    "        perc_mut_2 = n_mut_2/len(ind_cl_2)*100\n",
    "        p_fisher = fisher_exact(np.array([[n_mut_1,n_mut_2],[len(ind_cl_1)-n_mut_1,len(ind_cl_2)-n_mut_2]]))[1]\n",
    "        all_p_fisher.append(p_fisher)\n",
    "        if np.abs(perc_mut_1-perc_mut_2)>10:\n",
    "            mutated_genes.append(gene)\n",
    "            mutated_index.append(i)\n",
    "            print(gene,perc_mut_1,perc_mut_2,p_fisher)\n",
    "    print(\"percent of patients with at least one sign mut genes cl1 {} & cl2 {}\".format((mut_pancan[cancer][mutated_genes].loc[ind_cl_1].T.sum()>0).sum()/len(ind_cl_1)*100,(mut_pancan[cancer][mutated_genes].loc[ind_cl_2].T.sum()>0).sum()/len(ind_cl_2)*100))\n",
    "    if len(all_p_fisher)>0:\n",
    "        print(multipletests(all_p_fisher,alpha=0.1,method=\"fdr_bh\")[1][mutated_index])"
   ]
  },
  {
   "cell_type": "markdown",
   "metadata": {},
   "source": [
    "# RF for feature selection"
   ]
  },
  {
   "cell_type": "markdown",
   "metadata": {},
   "source": [
    "We train Random Forest (RF) classifiers on the entire mutational information. We keep RF that perform better than random (ABAC > 0 on 10-fold CV) and have persistency of features over 10 folds. "
   ]
  },
  {
   "cell_type": "code",
   "execution_count": null,
   "metadata": {},
   "outputs": [],
   "source": [
    "def common_features(lol):\n",
    "    # common features in list of lists\n",
    "    return list(set(lol[0]).intersection(*lol[1:]))"
   ]
  },
  {
   "cell_type": "code",
   "execution_count": null,
   "metadata": {},
   "outputs": [],
   "source": [
    "def plot_important_features_RF(mut_or_gene_pc,cancer,consensus_clustering,n_splits):\n",
    "#     Parameters: mut_or_gene_pc (dict): keys are cancer types, values are pd.Df with mutational or gene expression info (n_patients,n_genes or n_mut)\n",
    "#             cancer (str): cancer type\n",
    "#             consensus_clustering (dict): keys are cancer types, values are pd.Df (n_patients,1) (rows=patients,columns=cluster membership)\n",
    "#             n_splits (int): number of CV splits\n",
    "#     Returns: best_estimator (sklearn RandomForestClassifier): trained RF classifier with best score\n",
    "#             common_features (list): list of positions of best features per cancer\n",
    "    RF_scores = {}\n",
    "    \n",
    "    X = mut_or_gene_pc[cancer]\n",
    "    X = X.replace({0: np.nan}).dropna(axis=1,how=\"all\").replace({np.nan: 0})\n",
    "    y = consensus_clustering[cancer]\n",
    "    common_pat = X.index.intersection(y.index)\n",
    "    X = X.loc[common_pat]\n",
    "    y = y.loc[common_pat].values.ravel()\n",
    "    \n",
    "    outer_cv = StratifiedKFold(n_splits=n_splits, shuffle=True,random_state=33)\n",
    "    bac_scores, estimators, sel_10_feat = [],[],[]\n",
    "    for train_index,test_index in outer_cv.split(X,y):\n",
    "        \n",
    "        X_train, X_test, y_train, y_test = X.iloc[train_index],X.iloc[test_index], \\\n",
    "                                            y[train_index],y[test_index]\n",
    "\n",
    "        sel = SelectFromModel(RandomForestClassifier(n_estimators = 500,class_weight=\"balanced\"))\n",
    "        sel.fit(X_train, y_train)\n",
    "        y_pred = sel.estimator_.predict(X_test)\n",
    "        bac_scores.append(balanced_accuracy_score(y_test,y_pred,adjusted=True))\n",
    "        estimators.append(sel.estimator_)\n",
    "        sel_10_feat.append(np.argsort(sel.estimator_.feature_importances_)[::-1][:10])\n",
    "    \n",
    "    print(\"{}-fold BAC on test set of {}: {}\".format(n_splits,cancer,np.mean(bac_scores)))\n",
    "    print(\"Common 10 best features selected for {} folds : {}\".format(n_splits,X.columns[common_features(sel_10_feat)]))\n",
    "    best_estimator = estimators[np.argmax(bac_scores)]\n",
    "    RF_score = np.max(bac_scores)\n",
    "    #Define size of bar plot\n",
    "    plt.figure(figsize=(10,8))\n",
    "    #Plot Searborn bar chart\n",
    "    sns.barplot(x=best_estimator.feature_importances_[np.argsort(best_estimator.feature_importances_)[::-1][:10]],\n",
    "                y=X_train.columns[np.argsort(best_estimator.feature_importances_)[::-1][:10]])\n",
    "    #Add chart labels\n",
    "    plt.title('Feature importance of best estimator for '+cancer)\n",
    "    plt.xlabel('FEATURE IMPORTANCE')\n",
    "    plt.ylabel('FEATURE NAMES')\n",
    "    return best_estimator,common_features(sel_10_feat),RF_score"
   ]
  },
  {
   "cell_type": "code",
   "execution_count": null,
   "metadata": {
    "scrolled": true
   },
   "outputs": [],
   "source": [
    "common_features_pc = {cancer: [] for cancer in sorted(CIMP_cancers)}\n",
    "RF_models = {cancer: [] for cancer in sorted(CIMP_cancers)}\n",
    "RF_scores = {cancer: [] for cancer in sorted(CIMP_cancers)}\n",
    "\n",
    "for cancer in tqdm(sorted(CIMP_cancers)):\n",
    "    RF_models[cancer],common_features_pc[cancer],RF_scores[cancer] = plot_important_features_RF(mut_pancan,cancer,consensus_clustering_spectral,10)"
   ]
  },
  {
   "cell_type": "code",
   "execution_count": null,
   "metadata": {},
   "outputs": [],
   "source": [
    "# Scores of RF\n",
    "cancer_RF_selected = [cancer for (cancer,val) in RF_scores.items() if val>0]\n",
    "cancer_RF_selected = [cancer for cancer in cancer_RF_selected if len(common_features_pc[cancer])>0]\n",
    "val_RF_selected = [RF_scores[cancer] for cancer in cancer_RF_selected]\n",
    "np.mean(val_RF_selected),np.quantile(val_RF_selected,0.25), np.quantile(val_RF_selected,0.75)"
   ]
  },
  {
   "cell_type": "code",
   "execution_count": null,
   "metadata": {
    "scrolled": true
   },
   "outputs": [],
   "source": [
    "plt.rc('font', size=15)\n",
    "# to create plots for cancer types that fit the selection criteria\n",
    "for cancer in tqdm(cancer_RF_selected+[\"STAD\"]):   \n",
    "    best_estimator = RF_models[cancer]\n",
    "    X = mut_pancan[cancer]\n",
    "    # remove columns with all 0\n",
    "    X = X.replace({0: np.nan}).dropna(axis=1,how=\"all\").replace({np.nan: 0})\n",
    "    y = consensus_clustering_spectral[cancer]\n",
    "    common_pat = X.index.intersection(y.index)\n",
    "    X = X.loc[common_pat]\n",
    "    y = y.loc[common_pat].values.ravel()\n",
    "    # select only the features persistently selected\n",
    "    mut_exp = X.iloc[:,common_features_pc[cancer]]\n",
    "    common_pat_clustering = consensus_clustering_spectral[cancer].loc[consensus_clustering_spectral[cancer].index.intersection(mut_pancan[cancer].index)]\n",
    "    ind_cl_1 = common_pat_clustering[common_pat_clustering[\"cluster\"]==1].index\n",
    "    ind_cl_2 = common_pat_clustering[common_pat_clustering[\"cluster\"]==2].index\n",
    "    ind_cl_3 = common_pat_clustering[common_pat_clustering[\"cluster\"]==3].index\n",
    "    if cancer in triple_cluster_cancers_aff:\n",
    "        ind_cl_2 = ind_cl_3\n",
    "    cl1_gex = mut_exp.loc[ind_cl_1]\n",
    "    cl2_gex = mut_exp.loc[ind_cl_2]\n",
    "    perc_cl1 = cl1_gex.sum()/len(ind_cl_1)*100\n",
    "    perc_cl2 = cl2_gex.sum()/len(ind_cl_2)*100\n",
    "    \n",
    "    # check if the enrichment is in the low or high methylated meth cluster\n",
    "    diff_mask = perc_cl1<perc_cl2\n",
    "    fisher_p = []\n",
    "    # check significance of enrichment through corrected Fisher p\n",
    "    for gene in cl1_gex.columns:\n",
    "        fisher_p.append(fisher_exact(np.array([[cl1_gex[gene].sum(),cl2_gex[gene].sum()],[cl1_gex.shape[0]-cl1_gex[gene].sum(),cl2_gex.shape[0]-cl2_gex[gene].sum()]]))[1])\n",
    "    bh_p = multipletests(fisher_p,alpha=0.1)[1]\n",
    "    \n",
    "    # seaborn representation\n",
    "    df = pd.DataFrame(np.transpose([best_estimator.feature_importances_[np.argsort(best_estimator.feature_importances_)[::-1][:10]],\n",
    "                           list(X.columns[np.argsort(best_estimator.feature_importances_)[::-1][:10]])]),\n",
    "             columns=[\"feature_imp\",\"gene\"])\n",
    "    df = df.set_index(\"gene\")\n",
    "    df = pd.concat([df,diff_mask],axis=1).replace({False: \"Low meth cluster\", True: \"High meth cluster\", np.nan: \"NA\"})\n",
    "    df = pd.concat([df,pd.DataFrame(bh_p,index=cl1_gex.columns,columns=[\"p\"])],axis=1).reset_index()\n",
    "    df.columns = [\"gene\",\"Features importance\",\"Cluster enriched\",\"BH p\"]\n",
    "    df[\"Features importance\"] = df[\"Features importance\"].astype(float)\n",
    "    plt.figure(figsize=(7,5))\n",
    "    seapal = sns.color_palette(\"bright\")\n",
    "    \n",
    "    ax = sns.barplot(data=df,x=\"Features importance\",y=\"gene\",hue=\"Cluster enriched\",dodge=False,palette={\"Low meth cluster\": seapal[0], \"High meth cluster\": seapal[3], \"NA\": \"grey\"})\n",
    "    plt.legend(frameon=False)\n",
    "    feat_max = np.max(df[\"Features importance\"].values.ravel())\n",
    "    for i in range(df[\"gene\"].shape[0]):\n",
    "        feature = df[\"gene\"].iloc[i]\n",
    "        pos = df[\"Features importance\"].iloc[i]\n",
    "        sign = \"\" if df[\"BH p\"].iloc[i]<0.11 else \" (NS)\"\n",
    "        if feature in list(perc_cl1.index):\n",
    "            ax.text(1.01*pos,i+0.2,str(np.round(perc_cl1.loc[feature],0))+\"%,\"+str(np.round(perc_cl2.loc[feature],0))+\"%\"+sign)\n",
    "    plt.title('Feature importance of best estimator for '+cancer)\n",
    "    ax.set_xlim([0,1.6*feat_max])\n",
    "    ax.set_xticklabels([])\n",
    "    plt.xlabel('Feature importance')\n",
    "    plt.ylabel('')\n",
    "    ax.figure.savefig(\"RF_\"+cancer+\".svg\",bbox_inches=\"tight\")"
   ]
  },
  {
   "cell_type": "markdown",
   "metadata": {},
   "source": [
    "#### Visual representation"
   ]
  },
  {
   "cell_type": "code",
   "execution_count": null,
   "metadata": {},
   "outputs": [],
   "source": [
    "genes_rf = {\"TP53\": 5, \"KRAS\": 2, \"TP73\": 1, \n",
    "            \"PIK3CA\": 2, \"PTEN\": 1, \"NF1\": 1, \n",
    "            \"IDH1\": 2, \"NSD1\": 2, \"SETD2\": 1,\n",
    "            \"ATRX\": 2, \"ARID1A\": 1, \"PBRM1\": 1, \"SMARCA4\": 1, \n",
    "            \"BAP1\": 2,  \n",
    "            \"ALB\": 1, \"BRAF\": 1, \"CIC\": 1, \"CTNNB1\": 1, \"EGFR\": 1, \"FUBP1\": 1, \"LATS2\": 1, \"MUC16\": 1, \"NFE2L2\": 1, \"PCLO\": 1, \"RYR2\": 1, \"STK11\": 1}\n",
    "\n",
    "genes_rf_pd = pd.DataFrame.from_dict(genes_rf, orient=\"index\").reset_index()\n",
    "genes_rf_pd.columns = [\"gene\",\"count\"]"
   ]
  },
  {
   "cell_type": "code",
   "execution_count": null,
   "metadata": {
    "scrolled": true
   },
   "outputs": [],
   "source": [
    "seapal = sns.color_palette(\"bright\")\n",
    "plt.rc(\"font\", size=20)\n",
    "fig,ax = plt.subplots(1,1,figsize=(15,10))\n",
    "sns.barplot(data=genes_rf_pd,x=\"count\",y=\"gene\",\n",
    "            palette=[seapal[0]]*3+[seapal[1]]*3+[seapal[2]]*3+[seapal[3]]*4+[seapal[4]]+[seapal[8]]*12)\n",
    "ax.set_xlabel(\"Number of cancer types\")\n",
    "ax.set_ylabel(\"\")\n",
    "ax.text(3, 1.5, \"RAS/TP53 pathway\", color=seapal[0], fontsize=25)\n",
    "ax.text(3, 4.5, \"PTEN/PIK3 pathway\", color=seapal[1], fontsize=25)\n",
    "ax.text(3, 7.5, \"Methylation/demethylation\", color=seapal[2], fontsize=25)\n",
    "ax.text(3, 10.8, \"SWI/SNF complex\", color=seapal[3], fontsize=25)\n",
    "ax.text(3, 13.3, \"Other chromatin remodeling\", color=seapal[4], fontsize=25)\n",
    "ax.text(3, 19.5, \"Other\", color=seapal[8], fontsize=25)\n",
    "\n",
    "ax.spines['right'].set_visible(False)\n",
    "ax.spines['top'].set_visible(False)\n",
    "ax.spines['left'].set_visible(False)\n",
    "\n",
    "fig.savefig(\"RF_selected_genes_viz.png\",bbox_inches=\"tight\")\n",
    "fig.savefig(\"RF_selected_genes_viz.svg\",bbox_inches=\"tight\")"
   ]
  },
  {
   "cell_type": "markdown",
   "metadata": {},
   "source": [
    "#### Visualization"
   ]
  },
  {
   "cell_type": "code",
   "execution_count": null,
   "metadata": {},
   "outputs": [],
   "source": [
    "david_path = {\"Nervous system function\": 5, \"Cell adhesion\": 3, \"Proximal/distal pattern formation\": 2, \n",
    "             \"Cancer pathways\": 2, \"Other\": 1}\n",
    "\n",
    "david_path_pd = pd.DataFrame.from_dict(david_path, orient=\"index\").reset_index()\n",
    "david_path_pd.columns = [\"Pathway\",\"count\"]"
   ]
  },
  {
   "cell_type": "code",
   "execution_count": null,
   "metadata": {},
   "outputs": [],
   "source": [
    "seapal = sns.color_palette(\"bright\")\n",
    "plt.rc(\"font\", size=35)\n",
    "fig,ax = plt.subplots(1,1,figsize=(15,10))\n",
    "sns.barplot(data=david_path_pd,x=\"count\",y=\"Pathway\")\n",
    "ax.set_xlabel(\"Number of cancer types\")\n",
    "ax.set_ylabel(\"\")\n",
    "\n",
    "ax.spines['right'].set_visible(False)\n",
    "ax.spines['top'].set_visible(False)\n",
    "ax.spines['left'].set_visible(False)\n",
    "\n",
    "fig.savefig(\"DAVID_viz.png\",bbox_inches=\"tight\")\n",
    "fig.savefig(\"DAVID_viz.svg\",bbox_inches=\"tight\")"
   ]
  },
  {
   "cell_type": "markdown",
   "metadata": {},
   "source": [
    "# CIMP score vs mutation"
   ]
  },
  {
   "cell_type": "markdown",
   "metadata": {},
   "source": [
    "We compute the continuous CIMP score as the average of beta values over all significantly differentially expressed positions for each cancer type"
   ]
  },
  {
   "cell_type": "code",
   "execution_count": null,
   "metadata": {},
   "outputs": [],
   "source": [
    "CIMPness = {}\n",
    "for cancer in tqdm(sorted(CIMP_cancers)):\n",
    "    CIMPness[cancer] = new_meth_data_pc[cancer][sign_pos_spectral[cancer].values.ravel()].T.mean().sort_values()"
   ]
  },
  {
   "cell_type": "code",
   "execution_count": null,
   "metadata": {},
   "outputs": [],
   "source": [
    "# these are the mutations that were significantly enriched either in the GOI (meth/demeth) or using the RF classifiers\n",
    "mutations_to_test = {\"ACC\": [\"KMT2A\",\"MUC16\"],\n",
    "                     \"BLCA\": [\"KMT2C\", \"KMT2D\",\"KDM6A\",\"FGFR3\",\"RB1\",\"STAG2\"],\n",
    "                    \"BRCA\": [\"CDH1\",\"PIK3CA\",\"TP53\",\"GATA3\"],\n",
    "                    \"CESC\": [\"KMT2D\",\"KMT2B\",\"NSD1\",\"TP73\",\"KRAS\",\"PIK3CA\"],\n",
    "                    \"COAD\": [\"ASH1L\",\"EHMT1\", \"EHMT2\", \"KMT2A\",\"KMT2B\",\"KMT2C\",\"KMT2D\",\"MECOM\",\"NSD1\",\"PRDM1\",\"PRDM2\",\"PRDM9\",\"PRDM10\",\"PRDM13\",\"PRDM14\",\"PRDM15\",\"PRDM16\",\"SETD1A\",\"SETD1B\",\"SETD2\",\"SETDB1\",\"BAZ2A\",\"DNMT1\",\"UHRF1BP1L\",\"TET1\",\"TET2\",\"TET3\",\"MBD1\",\"APOBEC1\",\"CTCF\",\"KDM2B\",\"KDM3B\",\"KDM4A\",\"KDM4B\",\"KDM4C\",\"KDM5A\",\"KDM5B\",\"KDM5C\",\"KDM6A\",\"KDM6B\",\"PHF2\",\"BRAF\",\"KRAS\",\"TP53\"],\n",
    "                    \"ESCA\": [\"LAMA1\",\"NFE2L2\"],\n",
    "                    \"GBM\": [\"IDH1\",\"KMT2C\",\"TP53\",\"ATRX\"],\n",
    "                    \"HNSC\": [\"NSD1\",\"PRDM9\",\"TP53\",\"CDKN2A\",\"FAT1\",\"CYLD\",\"CASP8\"],\n",
    "                     \"KIRC\": [\"SETD2\",\"PBRM1\"],\n",
    "                     \"KIRP\": [],\n",
    "                    \"LAML\": [\"IDH2\",\"IDH1\",\"TET2\",\"DNMT3A\",\"FLT3\",\"NPM1\",\"CEBPA\"],\n",
    "                    \"LGG\": [\"IDH1\",\"ATRX\",\"EGFR\",\"CIC\",\"FUBP1\",\"TP53\",\"NF1\",\"PTEN\"],\n",
    "                     \"LIHC\": [\"CTNNB1\",\"BAP1\",\"PCLO\",\"ALB\",\"TP53\"],\n",
    "                     \"LUAD\": [\"STK11\",\"SMARCA4\",\"RYR2\",\"SETD2\"],\n",
    "                     \"LUSC\": [\"NSD1\",\"NFE2L2\"],\n",
    "                    \"MESO\": [\"KMT2B\", \"SETD2\", \"SETDB1\",\"BAP1\",\"LATS2\"],\n",
    "                     \"PAAD\": [\"KMT2C\",\"KRAS\",\"TP53\",\"CDKN2A\",\"RNF43\",\"SMAD4\"],\n",
    "                     \"PCPG\": [],\n",
    "                     \"PRAD\": [\"TP53\"],\n",
    "                     \"READ\": [],\n",
    "                     \"SARC\": [\"TP53\",\"RB1\"],\n",
    "                    \"SKCM\": [\"IDH1\",\"ANK1\"],\n",
    "                    \"STAD\": [\"KMT2D\",\"ARID1A\",\"PIK3CA\",\"TP53\"],\n",
    "                    \"THYM\": [\"HRAS\",\"GTF2I\",\"TTN\"],\n",
    "                     \"THCA\": [],\n",
    "                    \"UCEC\": [\"ARID1A\",\"ASH1L\",\"DOT1L\", \"EHMT1\", \"EHMT2\", \"EZH2\",\"KMT2A\",\"KMT2B\",\"KMT2C\",\"KMT2D\",\"NSD1\",\"PRDM2\",\"PRDM4\",\"PRDM5\",\"PRDM9\",\"PRDM11\",\"PRDM14\",\"PRDM15\",\"PRDM16\",\"SETD1B\",\"SETD2\",\"SETDB1\",\"SMYD1\",\"SUV39H1\",\"SUV420H1\",\"WHSC1L1\",\"BAZ2A\",\"CTCFL\",\"DNMT1\",\"DNMT3A\",\"DNMT3B\",\"UHRFBP1\",\"UHRF1BP1L\",\"TET1\",\"TET2\",\"TET3\",\"TDG\",\"MBD1\",\"MBD4\",\"CTCF\",\"IDH1\",\"IDH2\",\"JMJD1C\",\"KDM2A\",\"KDM2B\",\"KDM3A\",\"KDM3B\",\"KDM4A\",\"KDM4B\",\"KDM4C\",\"KDM5A\",\"KDM5B\",\"KDM5C\",\"KDM6A\",\"KDM6B\",\"PHF2\",\"PHF8\",\"PTEN\",\"TP53\",\"CTNNB1\",\"KRAS\",\"PPP2R1A\"]}"
   ]
  },
  {
   "cell_type": "code",
   "execution_count": null,
   "metadata": {},
   "outputs": [],
   "source": []
  },
  {
   "cell_type": "code",
   "execution_count": null,
   "metadata": {},
   "outputs": [],
   "source": [
    "mutations_to_test_CIMP = {cancer: mutations_to_test[cancer] for cancer in CIMP_cancers}"
   ]
  },
  {
   "cell_type": "code",
   "execution_count": null,
   "metadata": {},
   "outputs": [],
   "source": [
    "# to test per gene and not per cancer\n",
    "invert_mutations_to_test = {}\n",
    "for key, val in mutations_to_test_CIMP.items():\n",
    "    for mut in val:\n",
    "        if mut in list(invert_mutations_to_test.keys()):\n",
    "            invert_mutations_to_test[mut].append(key)\n",
    "        else:\n",
    "            invert_mutations_to_test[mut] = [key]"
   ]
  },
  {
   "cell_type": "code",
   "execution_count": null,
   "metadata": {
    "scrolled": true
   },
   "outputs": [],
   "source": [
    "fig, axs = plt.subplots(12, 9, figsize=(35,20))\n",
    "for a in axs.flatten():\n",
    "    a.axis(\"off\")"
   ]
  },
  {
   "cell_type": "code",
   "execution_count": null,
   "metadata": {
    "scrolled": true
   },
   "outputs": [],
   "source": [
    "# compute the point biserial correlation between the CIMP score and a mutation\n",
    "flatax = axs.flatten()\n",
    "fignum = 0\n",
    "for j,mut in tqdm(enumerate(sorted(invert_mutations_to_test))):\n",
    "    for i,cancer in enumerate(invert_mutations_to_test[mut]):\n",
    "        common_pat = CIMPness[cancer].index.intersection(mut_pancan[cancer].index)\n",
    "        common_pat = common_pat.intersection(high_conf_patients[cancer])\n",
    "        X = CIMPness[cancer].loc[common_pat].values.ravel()\n",
    "        y = mut_pancan[cancer].loc[common_pat][mut].values.ravel()\n",
    "        corr,p = pointbiserialr(y,X)\n",
    "        print(cancer,mut,corr)\n",
    "        if p<0.05:\n",
    "            yhm = mut_pancan[cancer].loc[common_pat][mut].replace({0: 1, 1: 0}).values.ravel().reshape(-1,1)\n",
    "            sns.heatmap(yhm.T,yticklabels=False,xticklabels=False,cbar=False,ax=flatax[fignum])\n",
    "            flatax[fignum].set_title(mut+\" in \"+cancer+\"\\n r=\"+str(round(corr,2)),fontsize=25)\n",
    "            fignum+=1\n",
    "        else:\n",
    "            yhm = mut_pancan[cancer].loc[common_pat][mut].replace({0: 1, 1: 0}).values.ravel().reshape(-1,1)\n",
    "            sns.heatmap(yhm.T,yticklabels=False,xticklabels=False,cbar=False,ax=flatax[fignum])\n",
    "            flatax[fignum].set_title(mut+\" in \"+cancer+\"\\n r=\"+str(round(corr,2))+\"(NS)\",fontsize=25)\n",
    "            fignum+=1"
   ]
  },
  {
   "cell_type": "code",
   "execution_count": null,
   "metadata": {},
   "outputs": [],
   "source": [
    "ax = flatax[-1]\n",
    "ax.axis(\"on\")\n",
    "ax.set_xlabel(\"CIMP score\",fontsize=25)\n",
    "ax.set_xticks([0,1])\n",
    "ax.set_xticklabels([\"Min score\",\"Max score\"],rotation=0,rotation_mode=\"default\")\n",
    "ax.set_ylabel(\"Mut\",fontsize=25)\n",
    "ax.set_yticks([])\n",
    "fig.tight_layout()"
   ]
  },
  {
   "cell_type": "code",
   "execution_count": null,
   "metadata": {
    "scrolled": true
   },
   "outputs": [],
   "source": [
    "fig"
   ]
  },
  {
   "cell_type": "code",
   "execution_count": null,
   "metadata": {},
   "outputs": [],
   "source": [
    "fig.savefig(\"mutation_vs_CIMP_score.png\",bbox_inches=\"tight\")\n",
    "fig.savefig(\"mutation_vs_CIMP_score.svg\",bbox_inches=\"tight\")"
   ]
  },
  {
   "cell_type": "code",
   "execution_count": null,
   "metadata": {
    "scrolled": true
   },
   "outputs": [],
   "source": [
    "fig, axs = plt.subplots(8, 3, figsize=(10,10))\n",
    "for a in axs.flatten():\n",
    "    a.axis(\"off\")"
   ]
  },
  {
   "cell_type": "code",
   "execution_count": null,
   "metadata": {},
   "outputs": [],
   "source": [
    "# identical as before, with only strongly positively correlated mutations\n",
    "flatax = axs.flatten()\n",
    "fignum = 0\n",
    "for j,mut in tqdm(enumerate(sorted(invert_mutations_to_test))):\n",
    "    for i,cancer in enumerate(invert_mutations_to_test[mut]):\n",
    "        common_pat = CIMPness[cancer].index.intersection(mut_pancan[cancer].index)\n",
    "        X = CIMPness[cancer].loc[common_pat].values.ravel()\n",
    "        y = mut_pancan[cancer].loc[common_pat][mut].values.ravel()\n",
    "        corr,p = pointbiserialr(y,X)\n",
    "        if corr>0.26:\n",
    "            yhm = mut_pancan[cancer].loc[common_pat][mut].replace({0: 1, 1: 0}).values.ravel().reshape(-1,1)\n",
    "            sns.heatmap(yhm.T,yticklabels=False,xticklabels=False,cbar=False,ax=flatax[fignum])\n",
    "            flatax[fignum].set_title(mut+\" in \"+cancer+\"\\n r=\"+str(round(corr,2)),fontsize=15)\n",
    "            fignum+=1"
   ]
  },
  {
   "cell_type": "code",
   "execution_count": null,
   "metadata": {},
   "outputs": [],
   "source": [
    "ax = flatax[-1]\n",
    "ax.axis(\"on\")\n",
    "ax.set_xlabel(\"CIMP score\")\n",
    "ax.set_xticks([0,1])\n",
    "ax.set_xticklabels([\"Min score\",\"Max score\"],rotation=0,rotation_mode=\"default\")\n",
    "ax.set_ylabel(\"Mut\")\n",
    "ax.set_yticks([])\n",
    "fig.tight_layout()\n",
    "fig.tight_layout()"
   ]
  },
  {
   "cell_type": "code",
   "execution_count": null,
   "metadata": {},
   "outputs": [],
   "source": [
    "fig"
   ]
  },
  {
   "cell_type": "code",
   "execution_count": null,
   "metadata": {},
   "outputs": [],
   "source": [
    "fig.savefig(\"mutation_vs_CIMP_score_highcorr.png\",bbox_inches=\"tight\")\n",
    "fig.savefig(\"mutation_vs_CIMP_score_highcorr.svg\",bbox_inches=\"tight\")"
   ]
  },
  {
   "cell_type": "code",
   "execution_count": null,
   "metadata": {},
   "outputs": [],
   "source": [
    "gene_cancer_mapping = {\"IDH1\": [\"GBM\",\"LAML\", \"LGG\",\"SKCM\"], \"SETD2\": [\"COAD\",\"KIRC\",\"MESO\"]}\n",
    "nsd1_mapping = [\"CESC\",\"COAD\",\"HNSC\",\"LUSC\"]"
   ]
  },
  {
   "cell_type": "code",
   "execution_count": null,
   "metadata": {},
   "outputs": [],
   "source": [
    "plt.rc(\"font\",size=20)\n",
    "seapal = sns.color_palette(\"bright\")\n",
    "fig, ax = plt.subplots(3,3,figsize=(10,7))\n",
    "flatax = ax.flatten()\n",
    "fignum=0\n",
    "size_plot = {\"mut\": 40, \"non-mut\": 10}\n",
    "\n",
    "for gene in gene_cancer_mapping.keys():\n",
    "    for cancer in gene_cancer_mapping[gene]:\n",
    "        if fignum==4:\n",
    "            fignum+=2\n",
    "        df = pd.concat([df_umap_spectral[cancer],mut_pancan[cancer][gene].replace({0: \"non-mut\",1: \"mut\"})],axis=1,join=\"inner\")\n",
    "        df.columns = np.append(df_umap_spectral[cancer].columns,[\"Mutation\"])\n",
    "        edgecolor_list = df[\"Mutation\"].replace({\"non-mut\": \"white\", \"mut\": \"black\"}).values\n",
    "        linewidth_list = df[\"Mutation\"].replace({\"non-mut\": 0, \"mut\": 1}).values\n",
    "          \n",
    "        sns.scatterplot(data=df,x=\"Comp1\",y=\"Comp2\",hue=\"Cluster\",size=\"Mutation\",\n",
    "                        sizes=size_plot,ax=flatax[fignum],legend=\"auto\",\n",
    "                        palette={\"Low meth cluster\": seapal[0], \"High meth cluster\": seapal[3],\"Intermediate meth cluster\": seapal[8]},\n",
    "                       edgecolor=edgecolor_list,linewidth=linewidth_list)\n",
    "        if fignum in range(4):\n",
    "            flatax[fignum].set_title(cancer+\" (1)\",fontsize=15)\n",
    "\n",
    "        else:\n",
    "            flatax[fignum].set_title(cancer,fontsize=15)\n",
    "        flatax[fignum].legend().remove()\n",
    "        flatax[fignum].set_xlabel('')\n",
    "\n",
    "        if fignum in [0,3]:\n",
    "            flatax[fignum].set_ylabel(\"IDH1/2\")\n",
    "        elif fignum==6:\n",
    "            flatax[fignum].set_ylabel(str(gene))\n",
    "        else:\n",
    "            flatax[fignum].set_ylabel('')\n",
    "        flatax[fignum].set_xticks([])\n",
    "        flatax[fignum].set_yticks([])\n",
    "        fignum+=1\n",
    "\n",
    "# special IDH2 case\n",
    "df = pd.concat([df_umap_spectral[\"LAML\"],mut_pancan[\"LAML\"][\"IDH2\"].replace({0: \"non-mut\",1: \"mut\"})],axis=1,join=\"inner\")\n",
    "df.columns = np.append(df_umap_spectral[\"LAML\"].columns,[\"Mutation\"])\n",
    "edgecolor_list = df[\"Mutation\"].replace({\"non-mut\": \"white\", \"mut\": \"black\"}).values\n",
    "linewidth_list = df[\"Mutation\"].replace({\"non-mut\": 0, \"mut\": 1}).values\n",
    "sns.scatterplot(data=df,x=\"Comp1\",y=\"Comp2\",hue=\"Cluster\",size=\"Mutation\",\n",
    "                            sizes=size_plot,ax=flatax[4],legend=\"auto\",\n",
    "                            palette={\"Low meth cluster\": seapal[0], \"High meth cluster\": seapal[3],\"Intermediate meth cluster\": seapal[8]},\n",
    "                           edgecolor=edgecolor_list,linewidth=linewidth_list)\n",
    "flatax[4].set_title(\"LAML (2)\",fontsize=15)\n",
    "flatax[4].legend().remove()\n",
    "flatax[4].set_xlabel('')\n",
    "flatax[4].set_ylabel('')\n",
    "flatax[4].set_xticks([])\n",
    "flatax[4].set_yticks([])\n",
    "\n",
    "flatax[5].axis(\"off\")\n",
    "\n",
    "lines, labels = flatax[0].get_legend_handles_labels()\n",
    "fig.legend(lines, labels, loc = 'center right', bbox_to_anchor = (0.05,0,1,1),\n",
    "            bbox_transform = plt.gcf().transFigure,fontsize=15,frameon=False)\n",
    "fig.tight_layout()"
   ]
  },
  {
   "cell_type": "code",
   "execution_count": null,
   "metadata": {},
   "outputs": [],
   "source": [
    "fig.savefig(\"UMAP_mutation_goi.png\",bbox_inches=\"tight\")\n",
    "fig.savefig(\"UMAP_mutation_goi.svg\",bbox_inches=\"tight\")"
   ]
  },
  {
   "cell_type": "code",
   "execution_count": null,
   "metadata": {},
   "outputs": [],
   "source": [
    "seapal = sns.color_palette(\"bright\")\n",
    "fig, ax = plt.subplots(1,4,figsize=(10,2))\n",
    "flatax = ax.flatten()\n",
    "fignum=8\n",
    "size_plot = {\"mut\": 40, \"non-mut\": 10}\n",
    "\n",
    "for i,cancer in enumerate(nsd1_mapping):\n",
    "    df = pd.concat([df_umap_spectral[cancer],mut_pancan[cancer][gene].replace({0: \"non-mut\",1: \"mut\"})],axis=1,join=\"inner\")\n",
    "    df.columns = np.append(df_umap_spectral[cancer].columns,[\"Mutation\"])\n",
    "    edgecolor_list = df[\"Mutation\"].replace({\"non-mut\": \"white\", \"mut\": \"black\"}).values\n",
    "    linewidth_list = df[\"Mutation\"].replace({\"non-mut\": 0, \"mut\": 1}).values\n",
    "\n",
    "    sns.scatterplot(data=df,x=\"Comp1\",y=\"Comp2\",hue=\"Cluster\",size=\"Mutation\",\n",
    "                        sizes=size_plot,ax=ax[i],legend=\"auto\",\n",
    "                        palette={\"Low meth cluster\": seapal[0], \"High meth cluster\": seapal[3],\"Intermediate meth cluster\": seapal[8]},\n",
    "                       edgecolor=edgecolor_list,linewidth=linewidth_list)\n",
    "    ax[i].set_title(cancer,fontsize=15)\n",
    "    ax[i].legend().remove()\n",
    "    ax[i].set_xlabel('')\n",
    "    if i==0:\n",
    "        print(gene)\n",
    "        ax[i].set_ylabel(str(gene))\n",
    "    else:\n",
    "        ax[i].set_ylabel('')\n",
    "    ax[i].set_xticks([])\n",
    "    ax[i].set_yticks([])\n",
    "        \n",
    "lines, labels = flatax[0].get_legend_handles_labels()\n",
    "fig.legend(lines, labels, loc = 'center right', bbox_to_anchor = (0.3,0.0,1,1),\n",
    "            bbox_transform = plt.gcf().transFigure,fontsize=12,frameon=False)\n",
    "fig.tight_layout()"
   ]
  },
  {
   "cell_type": "code",
   "execution_count": null,
   "metadata": {},
   "outputs": [],
   "source": [
    "fig.savefig(\"NSD1_mutations.svg\",bbox_inches=\"tight\")\n",
    "fig.savefig(\"NSD1_mutations.png\",bbox_inches=\"tight\")"
   ]
  },
  {
   "cell_type": "markdown",
   "metadata": {},
   "source": [
    "### CIMP score vs xCell"
   ]
  },
  {
   "cell_type": "code",
   "execution_count": null,
   "metadata": {},
   "outputs": [],
   "source": [
    "immune_scores = pd.read_csv(\"path\\to\\Thorsson\\Scores_160_Signatures.tsv.gz\", delimiter = \"\\t\")\n",
    "immune_scores = immune_scores.set_index(\"SetName\").loc[[\"LIexpression_score\",\"CSF1_response\",\"TGFB_score_21050467\",\"Module3_IFN_score\",\"CHANG_CORE_SERUM_RESPONSE_UP\"]]\n",
    "immune_scores = immune_scores.drop(\"Source\",axis=1).T\n",
    "immune_scores = immune_scores.reset_index()\n",
    "immune_scores[\"index\"] = immune_scores[\"index\"].apply(lambda x: x[:15])\n",
    "immune_scores = immune_scores.set_index(\"index\")\n",
    "immune_scores = immune_scores[~immune_scores.index.duplicated()]"
   ]
  },
  {
   "cell_type": "code",
   "execution_count": null,
   "metadata": {
    "scrolled": true
   },
   "outputs": [],
   "source": [
    "immune_scores.columns = [\"Lymphocyte infiltration\",\"CSF1 response\",\"TGF-beta pathway activation\",\"IFN-gamma response\",\"Wound healing\"]"
   ]
  },
  {
   "cell_type": "code",
   "execution_count": null,
   "metadata": {},
   "outputs": [],
   "source": [
    "CIBERSORT_comp = pd.read_csv(\"path\\to\\Thorsson\\TCGA.Kallisto.fullIDs.cibersort.relative.tsv\", delimiter = \"\\t\")\n",
    "CIBERSORT_comp[\"SampleID\"] = CIBERSORT_comp[\"SampleID\"].str.replace(\".\",\"-\").apply(lambda x: x[:15])\n",
    "CIBERSORT_comp = CIBERSORT_comp.set_index(\"SampleID\").drop([\"CancerType\",\"P.value\",\"Correlation\",\"RMSE\"],axis=1)\n",
    "CIBERSORT_comp.columns = CIBERSORT_comp.columns.str.replace(\".\",\" \")\n",
    "CIBERSORT_comp = CIBERSORT_comp[~CIBERSORT_comp.index.duplicated()]"
   ]
  },
  {
   "cell_type": "code",
   "execution_count": null,
   "metadata": {},
   "outputs": [],
   "source": [
    "thorsson_pat_info = pd.read_csv(\"path\\to\\thorsson_pat_info.txt\",sep=\"\\t\")\n",
    "thorsson_pat_info[\"TCGA Participant Barcode\"] = thorsson_pat_info[\"TCGA Participant Barcode\"].apply(lambda x: x+\"-01\")\n",
    "thorsson_pat_info = thorsson_pat_info.set_index(\"TCGA Participant Barcode\")"
   ]
  },
  {
   "cell_type": "code",
   "execution_count": null,
   "metadata": {},
   "outputs": [],
   "source": [
    "thorsson_corr = thorsson_pat_info[['Leukocyte Fraction',\n",
    "       'Stromal Fraction', 'Intratumor Heterogeneity',\n",
    "       'Proliferation', 'Wound Healing', 'Macrophage Regulation',\n",
    "       'Lymphocyte Infiltration Signature Score',]]\n",
    "for col in thorsson_corr.columns:\n",
    "    thorsson_corr[col] = thorsson_corr[col].str.replace(\",\",\".\")"
   ]
  },
  {
   "cell_type": "code",
   "execution_count": null,
   "metadata": {},
   "outputs": [],
   "source": [
    "thorsson_corr"
   ]
  },
  {
   "cell_type": "code",
   "execution_count": null,
   "metadata": {},
   "outputs": [],
   "source": [
    "immune_sign_pc,immune_sign_pc_nocorrec = pd.DataFrame(columns=thorsson_corr.columns),pd.DataFrame(columns=thorsson_corr.columns)\n",
    "  \n",
    "for cancer in tqdm(sorted(CIMP_cancers)):\n",
    "    if cancer==\"LAML\":\n",
    "        continue\n",
    "    r_list,p_list = [],[]\n",
    "    common_pat = immune_scores.index.intersection(new_meth_data_pc[cancer].index)\n",
    "    cancer_xcell = thorsson_corr.loc[common_pat].astype(float)\n",
    "    pat_cimp = CIMPness[cancer].loc[common_pat]\n",
    "    df_comp = pd.concat([cancer_xcell,pat_cimp],axis=1)\n",
    "    cimp = df_comp.iloc[:,-1].values.ravel()\n",
    "    for i in range(cancer_xcell.shape[1]):\n",
    "        comp = df_comp.iloc[:,i].values.ravel()\n",
    "        r,p = spearmanr(cimp,comp)\n",
    "        r_list.append(r)\n",
    "        p_list.append(p)\n",
    "    corrected_p = multipletests(p_list,method='fdr_bh')\n",
    "    assoc_bool = corrected_p[0]\n",
    "\n",
    "    assoc_r = [r_list[i] if assoc else 0 for i,assoc in enumerate(assoc_bool)]\n",
    "\n",
    "    df = pd.DataFrame(np.array(assoc_r).reshape(1,-1),columns=cancer_xcell.columns,index=[cancer])\n",
    "    df_nocorrec = pd.DataFrame(np.array(r_list).reshape(1,-1),columns=cancer_xcell.columns,index=[cancer])\n",
    "    immune_sign_pc = pd.concat([immune_sign_pc,df])\n",
    "    immune_sign_pc_nocorrec = pd.concat([immune_sign_pc_nocorrec,df_nocorrec])"
   ]
  },
  {
   "cell_type": "code",
   "execution_count": null,
   "metadata": {},
   "outputs": [],
   "source": [
    "immune_sign_pc_nocorrec = immune_sign_pc_nocorrec.fillna(0)"
   ]
  },
  {
   "cell_type": "code",
   "execution_count": null,
   "metadata": {},
   "outputs": [],
   "source": [
    "plt.rc(\"font\", size=20)\n",
    "fig,ax = plt.subplots(figsize=(25,10))\n",
    "sns.heatmap(immune_sign_pc_nocorrec.T.round(2),center=0,ax=ax,annot=immune_sign_pc.T.round(2).replace(0,'').astype(str).values,\n",
    "            annot_kws={\"fontsize\": 23},fmt = '',cbar_kws={'label': 'Spearman R'}, vmin=-0.5, vmax=0.5,\n",
    "           cmap=sns.diverging_palette(220, 20, as_cmap=True))\n",
    "ax.set_ylabel(\"\")\n",
    "ax.set_xticklabels(ax.get_xticklabels(),rotation=45,rotation_mode=\"default\",fontsize=30)\n",
    "ax.set_yticklabels(ax.get_yticklabels(),rotation=0,rotation_mode=\"default\",fontsize=30)\n",
    "fig.savefig(\"immune_score.png\",bbox_inches=\"tight\")\n",
    "fig.savefig(\"immune_score.svg\",bbox_inches=\"tight\")"
   ]
  },
  {
   "cell_type": "code",
   "execution_count": null,
   "metadata": {},
   "outputs": [],
   "source": [
    "xcell_pc,xcell_pc_nocorrec = pd.DataFrame(columns=CIBERSORT_comp.columns),pd.DataFrame(columns=CIBERSORT_comp.columns)\n",
    "  \n",
    "for cancer in tqdm(sorted(CIMP_cancers)):\n",
    "    r_list,p_list = [],[]\n",
    "\n",
    "    common_pat = CIBERSORT_comp.index.intersection(new_meth_data_pc[cancer].index)\n",
    "    cancer_xcell = CIBERSORT_comp.loc[common_pat]\n",
    "    pat_cimp = CIMPness[cancer].loc[common_pat]\n",
    "    df_comp = pd.concat([cancer_xcell,pat_cimp],axis=1)\n",
    "    cimp = df_comp.iloc[:,-1].values.ravel()\n",
    "    for i in range(cancer_xcell.shape[1]):\n",
    "        comp = df_comp.iloc[:,i].values.ravel()\n",
    "        r,p = spearmanr(cimp,comp)\n",
    "        if np.isnan(r):\n",
    "            r,p=0,0\n",
    "        r_list.append(r)\n",
    "        p_list.append(p)\n",
    "    corrected_p = multipletests(p_list,method='fdr_bh')\n",
    "    assoc_bool = corrected_p[0]\n",
    "\n",
    "    assoc_r = [r_list[i] if assoc else 0 for i,assoc in enumerate(assoc_bool)]\n",
    "\n",
    "    df = pd.DataFrame(np.array(assoc_r).reshape(1,-1),columns=cancer_xcell.columns,index=[cancer])\n",
    "    df_nocorrec = pd.DataFrame(np.array(r_list).reshape(1,-1),columns=cancer_xcell.columns,index=[cancer])\n",
    "    xcell_pc = pd.concat([xcell_pc,df])\n",
    "    xcell_pc_nocorrec = pd.concat([xcell_pc_nocorrec,df_nocorrec])"
   ]
  },
  {
   "cell_type": "code",
   "execution_count": null,
   "metadata": {},
   "outputs": [],
   "source": [
    "xcell_pc_nocorrec = xcell_pc_nocorrec.fillna(0)"
   ]
  },
  {
   "cell_type": "code",
   "execution_count": null,
   "metadata": {
    "scrolled": true
   },
   "outputs": [],
   "source": [
    "plt.rc(\"font\", size=20)\n",
    "fig,ax = plt.subplots(figsize=(25,25))\n",
    "sns.heatmap(xcell_pc_nocorrec.T.round(2),center=0,ax=ax,annot=xcell_pc.T.round(2).replace(0,'').astype(str).values,\n",
    "            annot_kws={\"fontsize\": 23},fmt = '',cbar_kws={'label': 'Spearman r'}, vmin=-0.5, vmax=0.5,\n",
    "           cmap=sns.diverging_palette(220, 20, as_cmap=True))\n",
    "ax.set_ylabel(\"\")\n",
    "ax.set_xticklabels(ax.get_xticklabels(),rotation=45,rotation_mode=\"default\",fontsize=30)\n",
    "ax.set_yticklabels(ax.get_yticklabels(),rotation=0,rotation_mode=\"default\",fontsize=30)\n",
    "fig.savefig(\"cibersort_corr.png\",bbox_inches=\"tight\")\n",
    "fig.savefig(\"cibersort_corr.svg\",bbox_inches=\"tight\")"
   ]
  },
  {
   "cell_type": "code",
   "execution_count": null,
   "metadata": {},
   "outputs": [],
   "source": []
  },
  {
   "cell_type": "code",
   "execution_count": null,
   "metadata": {},
   "outputs": [],
   "source": [
    "seapal = sns.color_palette(\"bright\")\n",
    "immune_subtypes = [\"C1\",\"C2\",\"C3\",\"C4\",\"C5\",\"C6\"]\n",
    "immune_subtypes_mapping = {\"C1\":1,\"C2\":2,\"C3\":3,\"C4\":4,\"C5\":5,\"C6\":6}\n",
    "color_mapping = {1: seapal[3], 2: seapal[-2], 3: seapal[2], 4: seapal[-1], 5: seapal[0], 6: seapal[4], -1: seapal[5]}\n",
    "immune_df = pd.DataFrame(data=np.zeros((6,19)),index=immune_subtypes,columns=sorted(CIMP_cancers))"
   ]
  },
  {
   "cell_type": "code",
   "execution_count": null,
   "metadata": {},
   "outputs": [],
   "source": [
    "y,OR_l=[-1 for i in range(len(sorted(CIMP_cancers)))],[0 for i in range(len(sorted(CIMP_cancers)))]\n",
    "\n",
    "for i,cancer in enumerate(sorted(CIMP_cancers)):\n",
    "    if cancer==\"LAML\":\n",
    "        continue\n",
    "    low_cl = consensus_clustering_spectral[cancer][consensus_clustering_spectral[cancer][\"cluster\"]==1].index\n",
    "    if cancer in triple_cluster_cancers_aff:\n",
    "        high_cl = consensus_clustering_spectral[cancer][consensus_clustering_spectral[cancer][\"cluster\"]==3].index\n",
    "    else:\n",
    "        high_cl = consensus_clustering_spectral[cancer][consensus_clustering_spectral[cancer][\"cluster\"]==2].index\n",
    "    high_cl_immune = thorsson_pat_info[\"Immune Subtype\"].loc[thorsson_pat_info.index.intersection(high_cl)].dropna()\n",
    "    low_cl_immune = thorsson_pat_info[\"Immune Subtype\"].loc[thorsson_pat_info.index.intersection(low_cl)].dropna()\n",
    "    \n",
    "    dict_high = Counter(high_cl_immune.values.ravel())\n",
    "    size_high = high_cl_immune.shape[0]\n",
    "    \n",
    "    for subtype in immune_subtypes:\n",
    "        immune_df.loc[subtype][cancer]=np.round(dict_high[subtype]/size_high*100)\n",
    "    \n",
    "    for subtype in immune_subtypes:\n",
    "        count_high_subtype = (high_cl_immune==subtype).sum()\n",
    "        count_low_subtype = (low_cl_immune==subtype).sum()\n",
    "        size_high = high_cl_immune.shape[0]\n",
    "        size_low = low_cl_immune.shape[0]\n",
    "        contigency_table = np.array([[count_high_subtype,count_low_subtype],\n",
    "                                     [size_high-count_high_subtype,size_low-count_low_subtype]])\n",
    "        OR,p = fisher_exact(contigency_table)\n",
    "        if OR>1 and p<0.05:\n",
    "            print(cancer,subtype)\n",
    "#             immune_df.loc[subtype][cancer]=min(OR,100)\n",
    "#             y[i]=immune_subtypes_mapping[subtype]\n",
    "#             OR_l[i]=min(OR,100)"
   ]
  },
  {
   "cell_type": "code",
   "execution_count": null,
   "metadata": {},
   "outputs": [],
   "source": [
    "plt.rc(\"font\", size=20)\n",
    "fig,ax = plt.subplots(figsize=(25,7))\n",
    "sns.heatmap(immune_df.astype(int),center=0,ax=ax,annot=immune_df.astype(int),\n",
    "            annot_kws={\"fontsize\": 22},fmt = '',cbar_kws={'label': 'Percentage'}, vmin=0, vmax=100,\n",
    "#             cmap=sns.color_palette(\"vlag\", as_cmap=True))\n",
    "            cmap=sns.diverging_palette(220, 20, as_cmap=True))\n",
    "ax.set_ylabel(\"\")\n",
    "ax.set_xticklabels(ax.get_xticklabels(),rotation=45,rotation_mode=\"default\",fontsize=30)\n",
    "ax.set_yticklabels([\"Wound healing (C1)\",\"IFN-gamma dominant (C2)\",\"Inflammatory (C3)\",\n",
    "                    \"Lymphocyte depleted (C4)\",\"Immunologically quiet (C5)\",\"TGF-beta dominant (C6)\"],fontsize=25,rotation=0) \n",
    "fig.savefig(\"immune_subtype_breakdown.png\",bbox_inches=\"tight\")\n",
    "fig.savefig(\"immune_subtype_breakdown.svg\",bbox_inches=\"tight\")"
   ]
  },
  {
   "cell_type": "code",
   "execution_count": null,
   "metadata": {},
   "outputs": [],
   "source": [
    "# fig,ax=plt.subplots(1,1,figsize=(20,5))\n",
    "# sns.scatterplot(sorted(CIMP_cancers),y,size=np.array(OR_l),sizes=(2000,5000),hue=np.array(y),\n",
    "#                 palette=color_mapping,legend=False)\n",
    "# ax.set_ylim([0.2,6.7])\n",
    "# ax.set_yticks([1,2,3,4,5,6])\n",
    "# # ax.set_yticklabels([\"C1\",\"C2\",\"C3\",\"C4\",\"C5\",\"C6\"]) \n",
    "# ax.set_yticklabels([\"Wound healing (C1)\",\"IFN-gamma dominant (C2)\",\"Inflammatory (C3)\",\n",
    "#                     \"Lymphocyte depleted (C4)\",\"Immunologically quiet (C5)\",\"TGF-beta dominant (C6)\"],fontsize=30) \n",
    "# ax.set_xticklabels(sorted(CIMP_cancers),rotation=45,rotation_mode=\"default\",fontsize=30)\n",
    "# for i in range(len(y)):\n",
    "#     if OR_l[i]!=0:\n",
    "#         if i in [4,9,10,11,17]:\n",
    "#             ax.text(i-0.15,y[i]-0.15,int(np.round(OR_l[i])),fontsize=25,color=\"white\",weight=\"bold\")\n",
    "#         elif i==15:\n",
    "#             ax.text(i-0.3,y[i]-0.15,\"inf\",fontsize=25,color=\"white\",weight=\"bold\")\n",
    "#         else:\n",
    "#             ax.text(i-0.3,y[i]-0.15,int(np.round(OR_l[i])),fontsize=25,color=\"white\",weight=\"bold\")\n"
   ]
  },
  {
   "cell_type": "markdown",
   "metadata": {},
   "source": [
    "# Gene expression analysis"
   ]
  },
  {
   "cell_type": "markdown",
   "metadata": {},
   "source": [
    "Finally, we analyze gene expression. Differential gene expression is calculated using the DESeq2 \n",
    "package in R (code in script DESeq_GEX.R). "
   ]
  },
  {
   "cell_type": "code",
   "execution_count": null,
   "metadata": {},
   "outputs": [],
   "source": [
    "gencode_mapping_goi = {\"TET1\": \"ENSG00000138336.8\", \"TET2\": \"ENSG00000168769.11\", \n",
    "                       \"TET3\": \"ENSG00000139372.13\", \"TDG\": \"ENSG00000139372.13\", \"TDGF1\": \"ENSG00000241186.6\",\n",
    "                       \"MBD4\": \"ENSG00000129071.8\", \"APOBEC1\": \"ENSG00000111701.6\", \"CTCF\": \"ENSG00000102974.13\",\n",
    "                       \"IDH1\": \"ENSG00000138413.12\", \"IDH2\": \"ENSG00000182054.8\", \"BAZ2A\": \"ENSG00000076108.10\", \n",
    "                       \"CTCFL\": \"ENSG00000124092.11\", \"DMAP1\": \"ENSG00000178028.12\", \"DNMT1\": \"ENSG00000130816.13\",\n",
    "                       \"DNMT3A\": \"ENSG00000119772.15\", \"DNMT3B\": \"ENSG00000088305.17\", \"GADD45A\": \"ENSG00000116717.10\",\n",
    "                       \"GADD45B\": \"ENSG00000099860.7\", \"GADD45G\": \"ENSG00000130222.9\", \"GADD45GIP1\": \"ENSG00000179271.2\", \n",
    "                       \"UHRF1BP1\": \"ENSG00000065060.15\",\"UHRF1BP1L\": \"ENSG00000111647.11\", \"UHRF1\": \"ENSG00000276043.3\", \n",
    "                       \"MBD1\": \"ENSG00000141644.16\", \"MBD2\": \"ENSG00000134046.10\"\n",
    "                      }"
   ]
  },
  {
   "cell_type": "code",
   "execution_count": null,
   "metadata": {},
   "outputs": [],
   "source": [
    "genes_meth_gex_gencode,genes_demeth_gex_gencode = [],[]\n",
    "for gene in genes_meth_gex:\n",
    "    genes_meth_gex_gencode.append(gencode_mapping_goi[gene])\n",
    "for gene in genes_demeth_gex:\n",
    "    genes_demeth_gex_gencode.append(gencode_mapping_goi[gene])"
   ]
  },
  {
   "cell_type": "code",
   "execution_count": null,
   "metadata": {
    "scrolled": true
   },
   "outputs": [],
   "source": [
    "# 450k Illumina annotation\n",
    "Meth45k = []\n",
    "with open(\"path\\to\\Illumina\\annotation\") as csvfile:\n",
    "    spamreader = csv.reader(csvfile, delimiter=',')\n",
    "    for row in spamreader:\n",
    "        Meth45k.append(row)\n",
    "colnames_45k = Meth45k[7]\n",
    "methylation_val_45k = Meth45k[8:]\n",
    "Meth45k_df = pd.DataFrame(methylation_val_45k,columns=colnames_45k)\n",
    "Meth45k_df = Meth45k_df.set_index(\"IlmnID\")"
   ]
  },
  {
   "cell_type": "code",
   "execution_count": null,
   "metadata": {
    "scrolled": true
   },
   "outputs": [],
   "source": [
    "Counter(Meth45k_df['Relation_to_UCSC_CpG_Island'])"
   ]
  },
  {
   "cell_type": "code",
   "execution_count": null,
   "metadata": {},
   "outputs": [],
   "source": [
    "# get genes associated with differentially methylated probes \n",
    "enriched_genes = {}\n",
    "for cancer in sign_pos_spectral:\n",
    "    sel_genes = []\n",
    "    for gene in Meth45k_df.loc[sign_pos_spectral[cancer].values.ravel()]['UCSC_RefGene_Name'].values:\n",
    "        if (gene==\"\" or gene==None):\n",
    "            continue\n",
    "        else:\n",
    "            sel_genes += gene.split(\";\")\n",
    "    enriched_genes[cancer]=np.unique(sel_genes)\n",
    "    enriched_genes[cancer]=merged_table.loc[merged_table.index.intersection(enriched_genes[cancer])][\"gencode_id_gex\"].values"
   ]
  },
  {
   "cell_type": "code",
   "execution_count": null,
   "metadata": {},
   "outputs": [],
   "source": [
    "# dictionnary from cpg probe to gene associated or cpg probe to position (promoter, gene body, TSS)\n",
    "dict_cpg_to_gene = Meth45k_df['UCSC_RefGene_Name'].str.split(\";\").to_dict()\n",
    "dict_cpg_to_position = Meth45k_df['UCSC_RefGene_Group'].str.split(\";\").to_dict()"
   ]
  },
  {
   "cell_type": "code",
   "execution_count": null,
   "metadata": {},
   "outputs": [],
   "source": [
    "# dictionnary from gene to cpg probe\n",
    "dict_gene_to_cpg = {}\n",
    "n = len(dict_cpg_to_gene)\n",
    "i=0\n",
    "for cpg, genes in tqdm(dict_cpg_to_gene.items()):\n",
    "    if i==n:\n",
    "        continue\n",
    "    for gene in genes:\n",
    "        if gene in list(dict_gene_to_cpg.keys()):\n",
    "            dict_gene_to_cpg[gene].append(cpg)\n",
    "        else:\n",
    "            dict_gene_to_cpg[gene] = [cpg]\n",
    "    i+=1"
   ]
  },
  {
   "cell_type": "code",
   "execution_count": null,
   "metadata": {},
   "outputs": [],
   "source": [
    "# gencode annotations of histone writer and eraser genes\n",
    "gencode_gene_writer_Hmeth = merged_table.loc[merged_table.index.intersection(all_genes_writer_Hmeth)][\"gencode_id_gex\"].values\n",
    "gencode_gene_eraser_Hmeth = merged_table.loc[merged_table.index.intersection(all_genes_eraser_Hmeth)][\"gencode_id_gex\"].values"
   ]
  },
  {
   "cell_type": "code",
   "execution_count": null,
   "metadata": {},
   "outputs": [],
   "source": [
    "all_meth_genes_gencode = merged_table.loc[merged_table.index.intersection(genes_to_keep)][\"gencode_id_gex\"].values"
   ]
  },
  {
   "cell_type": "code",
   "execution_count": null,
   "metadata": {},
   "outputs": [],
   "source": [
    "inv_merged_table = merged_table.reset_index().set_index(\"gencode_id_gex\")"
   ]
  },
  {
   "cell_type": "code",
   "execution_count": null,
   "metadata": {},
   "outputs": [],
   "source": [
    "# differentially expressed genes computed with DESeq2\n",
    "diff_gex_dir = \"path\\to\\diff_expression_DESeq\"\n",
    "diff_gex_pc = {}\n",
    "for cancer in sorted(CIMP_cancers):\n",
    "    diff_gex_pc[cancer] = pd.read_csv(os.path.join(diff_gex_dir,cancer+\"_diff_gene_expression.csv\")).set_index(\"Unnamed: 0\")\n",
    "    diff_gex_pc[cancer].columns = [\"logfold\",\"p\"]\n",
    "    diff_gex_pc[cancer] = diff_gex_pc[cancer].reset_index()\n",
    "    diff_gex_pc[cancer].columns = [\"gene\",\"logfold\",\"p\"]\n",
    "    diff_gex_pc[cancer] = diff_gex_pc[cancer].iloc[np.where(multipletests(diff_gex_pc[cancer][\"p\"].values.ravel())[0])[0]]"
   ]
  },
  {
   "cell_type": "code",
   "execution_count": null,
   "metadata": {},
   "outputs": [],
   "source": [
    "n_diff_gex = []\n",
    "for cancer in sorted(CIMP_cancers):\n",
    "    n_diff_gex.append(diff_gex_pc[cancer].shape[0])\n",
    "print(np.mean(n_diff_gex),np.quantile(n_diff_gex,0.25),np.quantile(n_diff_gex,0.75))"
   ]
  },
  {
   "cell_type": "code",
   "execution_count": null,
   "metadata": {
    "scrolled": true
   },
   "outputs": [],
   "source": [
    "# check probes hypomethylated in group 2 for PRDM family\n",
    "for gene in [\"PRDM13\"]:\n",
    "    print(gene)\n",
    "#     for cancer in sorted(CIMP_cancers):\n",
    "    for cancer in [\"ACC\",\"COAD\",\"HNSC\",\"LGG\"]:\n",
    "        common_col = new_meth_data_pc[cancer].columns.intersection(dict_gene_to_cpg[gene])\n",
    "        meth_exp = new_meth_data_pc[cancer][common_col]\n",
    "        common_pat_clustering = consensus_clustering_spectral[cancer]\n",
    "        ind_cl_1 = common_pat_clustering[common_pat_clustering[\"cluster\"]==1].index\n",
    "        ind_cl_2 = common_pat_clustering[common_pat_clustering[\"cluster\"]==2].index\n",
    "        ind_cl_3 = common_pat_clustering[common_pat_clustering[\"cluster\"]==3].index\n",
    "        if cancer in triple_cluster_cancers_aff:\n",
    "            ind_cl_2 = ind_cl_3\n",
    "        cl1_gex = meth_exp.loc[ind_cl_1]\n",
    "        cl2_gex = meth_exp.loc[ind_cl_2]\n",
    "#         print(cancer,(cl1_gex.mean()-cl2_gex.mean()>0).sum()/len(common_col)*100)\n",
    "        print(cancer,pd.concat([cl1_gex.mean()-cl2_gex.mean(),Meth45k_df.loc[common_col][\"UCSC_RefGene_Group\"]],axis=1))"
   ]
  },
  {
   "cell_type": "code",
   "execution_count": null,
   "metadata": {
    "scrolled": true
   },
   "outputs": [],
   "source": [
    "# diff genes expression in histone methylation genes\n",
    "for cancer in diff_gex_pc:\n",
    "    print(cancer)\n",
    "    diff_genes_meth = list(diff_gex_pc[cancer].set_index(\"gene\").index.intersection(gencode_gene_writer_Hmeth))\n",
    "    print(\"Diff expressed histone methylase genes : \",inv_merged_table.loc[diff_genes_meth][\"index\"].values)\n",
    "    print(\"Log2 fold cl2 vs cl1: \",diff_gex_pc[cancer].set_index(\"gene\").loc[diff_genes_meth][\"logfold\"].values)\n",
    "    print(\"Genes with diff promoter meth : \",set(enriched_genes[cancer]) & set(diff_genes_meth))"
   ]
  },
  {
   "cell_type": "code",
   "execution_count": null,
   "metadata": {
    "scrolled": true
   },
   "outputs": [],
   "source": [
    "# diff genes expression in histone demethylation genes\n",
    "for cancer in diff_gex_pc:\n",
    "    print(cancer)\n",
    "    diff_genes_meth = list(diff_gex_pc[cancer].set_index(\"gene\").index.intersection(gencode_gene_eraser_Hmeth))\n",
    "    print(\"Diff expressed meth genes : \",inv_merged_table.loc[diff_genes_meth][\"index\"].values)\n",
    "    print(\"Log2 fold cl2 vs cl1: \",diff_gex_pc[cancer].set_index(\"gene\").loc[diff_genes_meth][\"logfold\"].values)\n",
    "    print(\"Genes with diff promoter meth : \",set(enriched_genes[cancer]) & set(diff_genes_meth))"
   ]
  },
  {
   "cell_type": "code",
   "execution_count": null,
   "metadata": {},
   "outputs": [],
   "source": [
    "# diff genes expression in DNA methylation/demethylation genes\n",
    "for cancer in diff_gex_pc:\n",
    "    print(cancer)\n",
    "    diff_genes_meth = list(diff_gex_pc[cancer].set_index(\"gene\").index.intersection(genes_meth_gex_gencode))\n",
    "    diff_genes_demeth = list(diff_gex_pc[cancer].set_index(\"gene\").index.intersection(genes_demeth_gex_gencode))\n",
    "    print(\"Diff expressed meth genes : \",inv_merged_table.loc[diff_genes_meth][\"index\"].values)\n",
    "    print(\"Log2 fold cl2 vs cl1: \",diff_gex_pc[cancer].set_index(\"gene\").loc[diff_genes_meth][\"logfold\"].values)\n",
    "    print(\"Genes with diff promoter meth : \",set(enriched_genes[cancer]) & set(diff_genes_meth))\n",
    "    print(\"Diff expressed demeth genes : \",inv_merged_table.loc[diff_genes_demeth][\"index\"].values)\n",
    "    print(\"Log2 fold cl2 vs cl1: \",diff_gex_pc[cancer].set_index(\"gene\").loc[diff_genes_demeth][\"logfold\"].values)\n",
    "    print(\"Genes with diff promoter meth : \",set(enriched_genes[cancer]) & set(diff_genes_demeth))"
   ]
  },
  {
   "cell_type": "code",
   "execution_count": null,
   "metadata": {},
   "outputs": [],
   "source": [
    "# get candidate downstream genes (genes with differential GEX and hypermethylated promoters in the high methylated group)\n",
    "diff_gex_offgene_dir = \"path\\to\\diff_expression_offgene\"\n",
    "downstream_genes_pc, body_diff_genes_pc, promoter_diff_genes_pc = {},{},{}\n",
    "for cancer in tqdm(sorted(CIMP_cancers)):\n",
    "    assoc_cpg = []\n",
    "    common_genes = inv_merged_table.index.intersection(diff_gex_pc[cancer][\"gene\"].values.ravel())\n",
    "    list_gene = inv_merged_table.loc[common_genes][\"index\"].values.ravel()\n",
    "    for gene in list_gene:\n",
    "        if not(gene in list(dict_gene_to_cpg.keys())):\n",
    "            continue\n",
    "        assoc_cpg+=dict_gene_to_cpg[gene]\n",
    "\n",
    "    meth_exp = new_meth_data_pc[cancer][sign_pos_spectral[cancer].set_index(\"0\").index.intersection(assoc_cpg)]\n",
    "    common_pat_clustering = consensus_clustering_spectral[cancer]\n",
    "    ind_cl_1 = common_pat_clustering[common_pat_clustering[\"cluster\"]==1].index\n",
    "    ind_cl_2 = common_pat_clustering[common_pat_clustering[\"cluster\"]==2].index\n",
    "    ind_cl_3 = common_pat_clustering[common_pat_clustering[\"cluster\"]==3].index\n",
    "    if cancer in triple_cluster_cancers_aff:\n",
    "        ind_cl_2 = ind_cl_3\n",
    "    cl1_gex = meth_exp.loc[ind_cl_1].mean()\n",
    "    cl2_gex = meth_exp.loc[ind_cl_2].mean()\n",
    "\n",
    "    hypermethylated_cpgs = cl1_gex.index[np.where(cl1_gex-cl2_gex<-0.1)[0]]\n",
    "    downstream_genes, body_genes, promoter_genes = [],[],[]\n",
    "    for cpg in list(hypermethylated_cpgs):\n",
    "        if \"Body\" in dict_cpg_to_position[cpg]:\n",
    "            body_genes+=dict_cpg_to_gene[cpg]\n",
    "        else:\n",
    "            promoter_genes+=dict_cpg_to_gene[cpg]\n",
    "        downstream_genes+=dict_cpg_to_gene[cpg]\n",
    "\n",
    "    downstream_genes_pc[cancer] = np.unique(downstream_genes)\n",
    "    body_diff_genes_pc[cancer] = np.unique(body_genes)\n",
    "    promoter_diff_genes_pc[cancer] = np.unique(promoter_genes)\n",
    "    pd.DataFrame(downstream_genes_pc[cancer]).to_csv(os.path.join(diff_gex_offgene_dir,cancer+\"_downstream_genes_gex.csv\"),index=False)"
   ]
  },
  {
   "cell_type": "code",
   "execution_count": null,
   "metadata": {},
   "outputs": [],
   "source": [
    "all_downstream_genes = []\n",
    "for cancer in downstream_genes_pc:\n",
    "    all_downstream_genes+=list(downstream_genes_pc[cancer])"
   ]
  },
  {
   "cell_type": "code",
   "execution_count": null,
   "metadata": {},
   "outputs": [],
   "source": [
    "Counter(all_downstream_genes).most_common(10)"
   ]
  },
  {
   "cell_type": "markdown",
   "metadata": {},
   "source": [
    "## Find signatures for different etiologies"
   ]
  },
  {
   "cell_type": "markdown",
   "metadata": {},
   "source": [
    "Finally, we compute here the average beta values over all CpG Islands, shores and shelves to uncover methylation signatures linked to CIMP status (strong, weak and non CIMP)"
   ]
  },
  {
   "cell_type": "code",
   "execution_count": null,
   "metadata": {},
   "outputs": [],
   "source": [
    "# break according to methylation status\n",
    "sCIMP1 = [\"ACC\",\"COAD\",\"KIRC\",\"KIRP\",\"MESO\",\"STAD\",\"THCA\",]\n",
    "sCIMP2 = [\"CESC\",\"GBM\",\"HNSC\",\"LAML\",\"LGG\",\"LIHC\",\"LUAD\",\"LUSC\",\"PCPG\",\"READ\",\"SARC\",\"SKCM\",]\n",
    "nonCIMP = [\"BLCA\",\"BRCA\",\"ESCA\",\"PAAD\",\"PRAD\",\"THYM\",\"UCEC\"]"
   ]
  },
  {
   "cell_type": "code",
   "execution_count": null,
   "metadata": {},
   "outputs": [],
   "source": [
    "def get_methylation_sign_CIMP(flatax,cancer_list,Meth45k_df,meth_data_pc,consensus_clustering_spectral,\n",
    "                              high_conf_patients,triple_cluster_cancers_aff):\n",
    "    #     Parameters: flatax (matplotlib.pyplot.Axes.axe): flattened axis of the subplot object\n",
    "    #                cancer_list (list): list of the cancer types to consider\n",
    "    #                Meth45k_df (pd.DataFrame): df of the Illumina 450k annotation \n",
    "    #                meth_data_pc (dict): keys are cancer types, values of pd.DataFrame of beta values (n_patients,n_cpg_ids)\n",
    "    #                consensus_clustering (dict): keys are cancer types, values are pd.Df (n_patients,1) (rows=patients,columns=cluster membership)\n",
    "    #                high_conf_patients (dict): keys are cancer types, values are list of patients with SSC>0\n",
    "    #                triple_cluster_cancers_aff (list): list of cancer types with 3 methyaltion clusters\n",
    "    #     Returns: flatax (matplotlib.pyplot.Axes.axe): updated/filled axis for subplot object\n",
    "    seapal = sns.color_palette(\"bright\")\n",
    "    fignum = 0\n",
    "    mean_cgi_pc = {}\n",
    "    for cancer in tqdm(cancer_list):\n",
    "        # get the information for probes: position, strand polarity, CGI position\n",
    "        cpg_info_df = Meth45k_df[['CHR', 'MAPINFO', 'Strand',\"UCSC_CpG_Islands_Name\",'Relation_to_UCSC_CpG_Island']]\n",
    "        common_cpg = cpg_info_df.index.intersection(meth_data_pc[cancer].columns)\n",
    "        cpg_info_df = cpg_info_df.loc[common_cpg]\n",
    "        cpg_island_df = cpg_info_df[\"UCSC_CpG_Islands_Name\"].str.split(\":\")\n",
    "        CGI_sizes, CGI_start, CGI_end = [],[],[]\n",
    "\n",
    "        # for every position in CGI, get start, end and size to break into bins\n",
    "        for cpg in cpg_island_df.index:\n",
    "            pos = cpg_island_df.loc[cpg][1].split(\"-\")\n",
    "            size  = int(pos[1])-int(pos[0])\n",
    "            start, end = int(pos[0]),int(pos[1])\n",
    "            CGI_sizes.append(size)\n",
    "            CGI_start.append(start)\n",
    "            CGI_end.append(end)\n",
    "        cpg_info_df[\"CGI_sizes\"] = CGI_sizes\n",
    "        cpg_info_df[\"CGI_start\"] = CGI_start\n",
    "        cpg_info_df[\"CGI_end\"] = CGI_end\n",
    "        bin_membership = []\n",
    "        for cpg in cpg_info_df.index:\n",
    "            cpg_inf = cpg_info_df.loc[cpg]\n",
    "            typ = cpg_inf[\"Relation_to_UCSC_CpG_Island\"]\n",
    "            strand = cpg_inf[\"Strand\"]\n",
    "            if typ==\"Island\":\n",
    "                bin_size = cpg_inf[\"CGI_sizes\"]//10+1\n",
    "            else:\n",
    "                bin_size = 200\n",
    "            pos = int(cpg_inf[\"MAPINFO\"])\n",
    "\n",
    "            # there will be 50 bins all total, indexed starting at the N_shelf at 0, max 50 at the S_shelf\n",
    "            # eg if bin 2 of the S_shore, the bin membership will be 40 (beginning of S_shore) + 2 (bin within the shore) = 42\n",
    "            # if the strand is forward, then computation is straightforward ; if it is reverse, we must reverse the roles (S_shore ~ N_shore)\n",
    "\n",
    "            if typ==\"Island\":\n",
    "                rel_pos = pos-int(cpg_inf[\"CGI_start\"])\n",
    "                if strand==\"F\":\n",
    "                    bin_membership.append(rel_pos//bin_size+1+20)\n",
    "                else:\n",
    "                    bin_membership.append(10-rel_pos//bin_size+20)\n",
    "            elif typ==\"N_Shelf\":\n",
    "                rel_pos = int(cpg_inf[\"CGI_start\"])-pos-2000\n",
    "                if strand==\"F\":\n",
    "                    bin_membership.append(10-rel_pos//bin_size)\n",
    "                else:\n",
    "                    bin_membership.append(rel_pos//bin_size+1+40)\n",
    "            elif typ==\"S_Shelf\":\n",
    "                rel_pos = pos-int(cpg_inf[\"CGI_end\"])-2000\n",
    "                if strand==\"F\":\n",
    "                    bin_membership.append(rel_pos//bin_size+1+40)\n",
    "                else:\n",
    "                    bin_membership.append(10-rel_pos//bin_size)\n",
    "            elif typ==\"N_Shore\":\n",
    "                rel_pos = int(cpg_inf[\"CGI_start\"])-pos\n",
    "                if strand==\"F\":\n",
    "                    bin_membership.append(10-rel_pos//bin_size+10)\n",
    "                else:\n",
    "                    bin_membership.append(rel_pos//bin_size+1+30)\n",
    "            elif typ==\"S_Shore\":\n",
    "                rel_pos = pos-int(cpg_inf[\"CGI_end\"])\n",
    "                if strand==\"F\":\n",
    "                    bin_membership.append(rel_pos//bin_size+1+30)\n",
    "                else:\n",
    "                    bin_membership.append(10-rel_pos//bin_size+10)\n",
    "\n",
    "        cpg_info_df[\"bin\"] = bin_membership\n",
    "        common_pat_clustering = consensus_clustering_spectral[cancer].loc[consensus_clustering_spectral[cancer].index.intersection(high_conf_patients[cancer])]\n",
    "        ind_cl_1 = common_pat_clustering[common_pat_clustering[\"cluster\"]==1].index\n",
    "        ind_cl_2 = common_pat_clustering[common_pat_clustering[\"cluster\"]==2].index\n",
    "        ind_cl_3 = common_pat_clustering[common_pat_clustering[\"cluster\"]==3].index\n",
    "        cl_1_mean = new_meth_data_pc[cancer].loc[ind_cl_1].mean()\n",
    "        cl_2_mean = new_meth_data_pc[cancer].loc[ind_cl_2].mean()\n",
    "        cl_3_mean = new_meth_data_pc[cancer].loc[ind_cl_3].mean()\n",
    "        normal_mean = normal_meth[cancer].mean()\n",
    "\n",
    "        # get the methylation for low, int and high methylated cluster, as well as normal\n",
    "        if cancer in triple_cluster_cancers_aff:\n",
    "            full_cpg_island_df= pd.concat([cpg_info_df,cl_1_mean,cl_2_mean,cl_3_mean,normal_mean],axis=1).dropna()\n",
    "            full_cpg_island_df.columns = list(cpg_info_df.columns) + [\"Low meth\", \"Intermediate meth\", \"High meth\", \"Normal\"]\n",
    "        else:\n",
    "            full_cpg_island_df= pd.concat([cpg_info_df,cl_1_mean,cl_2_mean,normal_mean],axis=1).dropna()\n",
    "            full_cpg_island_df.columns = list(cpg_info_df.columns) + [\"Low meth\", \"High meth\", \"Normal\"]\n",
    "            \n",
    "        mean_cgi_meth = full_cpg_island_df.groupby([\"bin\"]).mean().reset_index()\n",
    "        print(cancer)\n",
    "        mean_cgi_pc[cancer]=mean_cgi_meth\n",
    "        # plot avg meth on same plot\n",
    "        sns.lineplot(data=mean_cgi_meth,x=\"bin\",y=\"Low meth\",color=seapal[0],ax=flatax[fignum],label=\"Low meth cluster\")\n",
    "        if cancer in triple_cluster_cancers_aff:\n",
    "            sns.lineplot(data=mean_cgi_meth,x=\"bin\",y=\"Intermediate meth\",color=seapal[8],ax=flatax[fignum], label=\"Intermediate meth cluster\")\n",
    "        sns.lineplot(data=mean_cgi_meth,x=\"bin\",y=\"High meth\",color=seapal[3],ax=flatax[fignum], label=\"High meth cluster\")\n",
    "        sns.lineplot(data=mean_cgi_meth,x=\"bin\",y=\"Normal\",color=seapal[7],ax=flatax[fignum], label=\"Normal tissue\")\n",
    "        flatax[fignum].set_title(cancer+\" average methylation over CGI\",fontsize=18)\n",
    "        flatax[fignum].set_ylabel(\"Methylation (beta)\",fontsize=15)\n",
    "        flatax[fignum].set_xlim([0,50])\n",
    "        flatax[fignum].set_ylim([0,0.85])\n",
    "        fignum+=1\n",
    "    return flatax,mean_cgi_pc"
   ]
  },
  {
   "cell_type": "code",
   "execution_count": null,
   "metadata": {
    "scrolled": true
   },
   "outputs": [],
   "source": [
    "fig, axs = plt.subplots(2, 4, figsize=(13,6))\n",
    "flatax = axs.flatten()"
   ]
  },
  {
   "cell_type": "code",
   "execution_count": null,
   "metadata": {},
   "outputs": [],
   "source": [
    "flatax,mean_cgi_pc = get_methylation_sign_CIMP(flatax,sCIMP1,Meth45k_df,meth_data_pc,consensus_clustering_spectral,\n",
    "                              high_conf_patients,triple_cluster_cancers_aff)"
   ]
  },
  {
   "cell_type": "code",
   "execution_count": null,
   "metadata": {},
   "outputs": [],
   "source": [
    "# visualization\n",
    "lines, labels = flatax[0].get_legend_handles_labels()\n",
    "for i,cancer in enumerate(sCIMP1):\n",
    "    a = flatax[i]\n",
    "    a.set_ylabel('')\n",
    "    if not (i in [0,4]):\n",
    "        a.set_yticklabels([])\n",
    "    a.set_xticks([5,15,25,35,45])\n",
    "    if i in [4,5,6]:\n",
    "        a.set_xticklabels([\"N_Shelf\",\"N_Shore\",\"CGI\",\"S_Shore\",\"S_Shelf\"],rotation=55,rotation_mode=\"default\",fontsize=20)\n",
    "    else:\n",
    "        a.set_xticklabels([])\n",
    "    a.set_title(cancer,fontsize=20)\n",
    "    a.set_xlabel('')\n",
    "    a.legend_=None\n",
    "fig.text(0.5, -0.02, 'Region', ha='center',fontsize=20)\n",
    "fig.text(-0.01, 0.5, 'Methylation (beta)', va='center', rotation='vertical',fontsize=20)\n",
    "flatax[-1].axis(\"off\")\n",
    "fig.legend(lines, labels, loc = 'center right', bbox_to_anchor = (1.5,0.05,1,1),\n",
    "            bbox_transform = plt.gcf().transFigure,fontsize=20,frameon=False)\n",
    "fig.tight_layout()\n",
    "fig"
   ]
  },
  {
   "cell_type": "code",
   "execution_count": null,
   "metadata": {},
   "outputs": [],
   "source": [
    "fig.savefig(\"signature_sCIMP1_wnormal.svg\",bbox_inches=\"tight\")\n",
    "fig.savefig(\"signature_sCIMP1_wnormal.png\",bbox_inches=\"tight\")"
   ]
  },
  {
   "cell_type": "code",
   "execution_count": null,
   "metadata": {},
   "outputs": [],
   "source": [
    "mean_cgi_full = pd.DataFrame(columns=[\"bin\",\"Low meth\",\"Intermediate meth\",\"High meth\",\"Normal\"])\n",
    "for cancer in mean_cgi_pc:\n",
    "    if cancer in triple_cluster_cancers_aff:\n",
    "        mean_cgi_full= pd.concat([mean_cgi_full,mean_cgi_pc[cancer][[\"bin\",\"Low meth\",\"Intermediate meth\",\"High meth\",\"Normal\"]]])\n",
    "    else:\n",
    "        mean_cgi_full= pd.concat([mean_cgi_full,mean_cgi_pc[cancer][[\"bin\",\"Low meth\",\"High meth\",\"Normal\"]]])\n",
    "mean_cgi_full = mean_cgi_full.groupby(\"bin\").mean()"
   ]
  },
  {
   "cell_type": "code",
   "execution_count": null,
   "metadata": {
    "scrolled": true
   },
   "outputs": [],
   "source": [
    "seapal=sns.color_palette(\"bright\")\n",
    "fig,ax=plt.subplots(1,1,figsize=(7,5))\n",
    "sns.lineplot(data=mean_cgi_full,x=\"bin\",y=\"Low meth\",color=seapal[0],ax=ax,label=\"Low meth cluster\")\n",
    "sns.lineplot(data=mean_cgi_full,x=\"bin\",y=\"Intermediate meth\",color=seapal[8],ax=ax, label=\"Intermediate meth cluster\")\n",
    "sns.lineplot(data=mean_cgi_full,x=\"bin\",y=\"High meth\",color=seapal[3],ax=ax, label=\"High meth cluster\")\n",
    "sns.lineplot(data=mean_cgi_full,x=\"bin\",y=\"Normal\",color=seapal[7],ax=ax, label=\"Normal tissue\")\n",
    "ax.set_title(\"Signature 1\",fontsize=25)\n",
    "ax.set_ylabel(\"Methylation (beta)\",fontsize=20)\n",
    "ax.set_xlim([0,50])\n",
    "ax.set_ylim([0,0.85])\n",
    "ax.legend_=None\n",
    "ax.set_xticks([5,15,25,35,45])\n",
    "ax.set_xticklabels([\"N_Shelf\",\"N_Shore\",\"CGI\",\"S_Shore\",\"S_Shelf\"],rotation=45,rotation_mode=\"default\",fontsize=20)\n",
    "ax.set_xlabel('')\n",
    "fig.savefig(\"signature_1_cartoon.png\",bbox_inches=\"tight\")\n",
    "fig.savefig(\"signature_1_cartoon.svg\",bbox_inches=\"tight\")"
   ]
  },
  {
   "cell_type": "code",
   "execution_count": null,
   "metadata": {
    "scrolled": true
   },
   "outputs": [],
   "source": [
    "fig, axs = plt.subplots(3, 4, figsize=(13,9))\n",
    "flatax = axs.flatten()"
   ]
  },
  {
   "cell_type": "code",
   "execution_count": null,
   "metadata": {
    "scrolled": false
   },
   "outputs": [],
   "source": [
    "flatax,mean_cgi_pc = get_methylation_sign_CIMP(flatax,sCIMP2,Meth45k_df,meth_data_pc,consensus_clustering_spectral,\n",
    "                              high_conf_patients,triple_cluster_cancers_aff)"
   ]
  },
  {
   "cell_type": "code",
   "execution_count": null,
   "metadata": {},
   "outputs": [],
   "source": [
    "# visualization\n",
    "# lines, labels = flatax[0].get_legend_handles_labels()\n",
    "\n",
    "for i,cancer in enumerate(sCIMP2):\n",
    "    a = flatax[i]\n",
    "    a.set_ylabel('')\n",
    "    if not (i in [0,4,8]):\n",
    "        a.set_yticklabels([])\n",
    "    a.set_xticks([5,15,25,35,45])\n",
    "    if i in [8,9,10,11]:\n",
    "        a.set_xticklabels([\"N_Shelf\",\"N_Shore\",\"CGI\",\"S_Shore\",\"S_Shelf\"],rotation=55,rotation_mode=\"default\",fontsize=20)\n",
    "    else:\n",
    "        a.set_xticklabels([])\n",
    "    a.set_title(cancer,fontsize=20)\n",
    "    a.set_xlabel('')\n",
    "    a.legend_=None\n",
    "fig.text(0.5, -0.02, 'Region', ha='center',fontsize=20)\n",
    "fig.text(-0.01, 0.5, 'Methylation (beta)', va='center', rotation='vertical',fontsize=20)\n",
    "# fig.legend(lines, labels, loc = 'center right', bbox_to_anchor = (1.2,-0.1,1,1),\n",
    "#             bbox_transform = plt.gcf().transFigure,fontsize=15,frameon=False)\n",
    "fig.tight_layout()\n",
    "fig\n"
   ]
  },
  {
   "cell_type": "code",
   "execution_count": null,
   "metadata": {},
   "outputs": [],
   "source": [
    "fig.savefig(\"signature_sCIMP2_wnormal.svg\",bbox_inches=\"tight\")\n",
    "fig.savefig(\"signature_sCIMP2_wnormal.png\",bbox_inches=\"tight\")"
   ]
  },
  {
   "cell_type": "code",
   "execution_count": null,
   "metadata": {},
   "outputs": [],
   "source": [
    "mean_cgi_full = pd.DataFrame(columns=[\"bin\",\"Low meth\",\"Intermediate meth\",\"High meth\",\"Normal\"])\n",
    "for cancer in mean_cgi_pc:\n",
    "    if cancer in triple_cluster_cancers_aff:\n",
    "        mean_cgi_full= pd.concat([mean_cgi_full,mean_cgi_pc[cancer][[\"bin\",\"Low meth\",\"Intermediate meth\",\"High meth\",\"Normal\"]]])\n",
    "    else:\n",
    "        mean_cgi_full= pd.concat([mean_cgi_full,mean_cgi_pc[cancer][[\"bin\",\"Low meth\",\"High meth\",\"Normal\"]]])\n",
    "mean_cgi_full = mean_cgi_full.groupby(\"bin\").mean()"
   ]
  },
  {
   "cell_type": "code",
   "execution_count": null,
   "metadata": {
    "scrolled": true
   },
   "outputs": [],
   "source": [
    "seapal=sns.color_palette(\"bright\")\n",
    "fig,ax=plt.subplots(1,1,figsize=(7,5))\n",
    "sns.lineplot(data=mean_cgi_full,x=\"bin\",y=\"Low meth\",color=seapal[0],ax=ax,label=\"Low meth cluster\")\n",
    "sns.lineplot(data=mean_cgi_full,x=\"bin\",y=\"Intermediate meth\",color=seapal[8],ax=ax, label=\"Intermediate meth cluster\")\n",
    "sns.lineplot(data=mean_cgi_full,x=\"bin\",y=\"High meth\",color=seapal[3],ax=ax, label=\"High meth cluster\")\n",
    "sns.lineplot(data=mean_cgi_full,x=\"bin\",y=\"Normal\",color=seapal[7],ax=ax, label=\"Normal tissue\")\n",
    "ax.set_title(\"Signature 2\",fontsize=25)\n",
    "ax.set_ylabel(\"Methylation (beta)\",fontsize=20)\n",
    "ax.set_xlim([0,50])\n",
    "ax.set_ylim([0,0.85])\n",
    "ax.legend_=None\n",
    "ax.set_xticks([5,15,25,35,45])\n",
    "ax.set_xticklabels([\"N_Shelf\",\"N_Shore\",\"CGI\",\"S_Shore\",\"S_Shelf\"],rotation=45,rotation_mode=\"default\",fontsize=20)\n",
    "ax.set_xlabel('')\n",
    "fig.savefig(\"signature_2_cartoon.png\",bbox_inches=\"tight\")\n",
    "fig.savefig(\"signature_2_cartoon.svg\",bbox_inches=\"tight\")"
   ]
  },
  {
   "cell_type": "code",
   "execution_count": null,
   "metadata": {
    "scrolled": true
   },
   "outputs": [],
   "source": [
    "fig, axs = plt.subplots(2, 4, figsize=(13,6))\n",
    "flatax = axs.flatten()"
   ]
  },
  {
   "cell_type": "code",
   "execution_count": null,
   "metadata": {},
   "outputs": [],
   "source": [
    "flatax,mean_cgi_pc = get_methylation_sign_CIMP(flatax,nonCIMP,Meth45k_df,meth_data_pc,consensus_clustering_spectral,\n",
    "                              high_conf_patients,triple_cluster_cancers_aff)"
   ]
  },
  {
   "cell_type": "code",
   "execution_count": null,
   "metadata": {},
   "outputs": [],
   "source": [
    "lines, labels = flatax[-2].get_legend_handles_labels()\n",
    "for i,cancer in enumerate(nonCIMP):\n",
    "    a = flatax[i]\n",
    "    a.set_ylabel('')\n",
    "    if not (i in [0,4]):\n",
    "        a.set_yticklabels([]) \n",
    "    a.set_xticks([5,15,25,35,45])\n",
    "    if i in [4,5,6]:\n",
    "        a.set_xticklabels([\"N_Shelf\",\"N_Shore\",\"CGI\",\"S_Shore\",\"S_Shelf\"],rotation=55,rotation_mode=\"default\",fontsize=20)\n",
    "    else:\n",
    "        a.set_xticklabels([])\n",
    "    a.set_title(cancer,fontsize=20)\n",
    "    a.set_xlabel('')\n",
    "    a.legend_=None\n",
    "    \n",
    "fig.text(0.5, -0.02, 'Region', ha='center',fontsize=20)\n",
    "fig.text(-0.01, 0.5, 'Methylation (beta)', va='center', rotation='vertical',fontsize=20)\n",
    "flatax[-1].axis(\"off\")\n",
    "fig.legend(lines, labels, loc = 'right', bbox_to_anchor = (1.5,0.1,1,1),\n",
    "            bbox_transform = plt.gcf().transFigure,fontsize=20,frameon=False)\n",
    "fig.tight_layout()\n",
    "fig"
   ]
  },
  {
   "cell_type": "code",
   "execution_count": null,
   "metadata": {},
   "outputs": [],
   "source": [
    "fig.savefig(\"signature_nonCIMP_wnormal.svg\",bbox_inches=\"tight\")\n",
    "fig.savefig(\"signature_nonCIMP_wnormal.png\",bbox_inches=\"tight\")"
   ]
  },
  {
   "cell_type": "code",
   "execution_count": null,
   "metadata": {},
   "outputs": [],
   "source": [
    "mean_cgi_full = pd.DataFrame(columns=[\"bin\",\"Low meth\",\"Intermediate meth\",\"High meth\",\"Normal\"])\n",
    "for cancer in mean_cgi_pc:\n",
    "    if cancer in triple_cluster_cancers_aff:\n",
    "        mean_cgi_full= pd.concat([mean_cgi_full,mean_cgi_pc[cancer][[\"bin\",\"Low meth\",\"Intermediate meth\",\"High meth\",\"Normal\"]]])\n",
    "    else:\n",
    "        mean_cgi_full= pd.concat([mean_cgi_full,mean_cgi_pc[cancer][[\"bin\",\"Low meth\",\"High meth\",\"Normal\"]]])\n",
    "mean_cgi_full = mean_cgi_full.astype(np.float64).groupby(\"bin\").mean()"
   ]
  },
  {
   "cell_type": "code",
   "execution_count": null,
   "metadata": {
    "scrolled": true
   },
   "outputs": [],
   "source": [
    "seapal=sns.color_palette(\"bright\")\n",
    "fig,ax=plt.subplots(1,1,figsize=(7,5))\n",
    "sns.lineplot(data=mean_cgi_full,x=\"bin\",y=\"Low meth\",color=seapal[0],ax=ax,label=\"Low meth cluster\")\n",
    "sns.lineplot(data=mean_cgi_full,x=\"bin\",y=\"Intermediate meth\",color=seapal[8],ax=ax, label=\"Intermediate meth cluster\")\n",
    "sns.lineplot(data=mean_cgi_full,x=\"bin\",y=\"High meth\",color=seapal[3],ax=ax, label=\"High meth cluster\")\n",
    "sns.lineplot(data=mean_cgi_full,x=\"bin\",y=\"Normal\",color=seapal[7],ax=ax, label=\"Normal tissue\")\n",
    "ax.set_title(\"non-CIMP\",fontsize=25)\n",
    "ax.set_ylabel(\"Methylation (beta)\",fontsize=20)\n",
    "ax.set_xlim([0,50])\n",
    "ax.set_ylim([0,0.85])\n",
    "ax.legend_=None\n",
    "ax.set_xticks([5,15,25,35,45])\n",
    "ax.set_xticklabels([\"N_Shelf\",\"N_Shore\",\"CGI\",\"S_Shore\",\"S_Shelf\"],rotation=45,rotation_mode=\"default\",fontsize=20)\n",
    "ax.set_xlabel('')\n",
    "fig.savefig(\"nonCIMP_cartoon.png\",bbox_inches=\"tight\")\n",
    "fig.savefig(\"nonCIMP_cartoon.svg\",bbox_inches=\"tight\")"
   ]
  },
  {
   "cell_type": "markdown",
   "metadata": {},
   "source": [
    "# Etiology group chart"
   ]
  },
  {
   "cell_type": "code",
   "execution_count": null,
   "metadata": {},
   "outputs": [],
   "source": [
    "import plotly as pl\n",
    "import plotly.graph_objects as go\n",
    "from plotly.subplots import make_subplots\n",
    "import orca"
   ]
  },
  {
   "cell_type": "code",
   "execution_count": null,
   "metadata": {},
   "outputs": [],
   "source": [
    "analyzed_cancers = {0: [\"GBM\",\"LAML\",\"LGG\",\"SKCM\"], 1: [\"ACC\",\"CESC\",\"COAD\",\"GBM\",\"HNSC\",\"KIRC\",\"LGG\",\"LIHC\",\"LUSC\",\"MESO\"],\n",
    "                   2: [\"COAD\"], 3:[\"CESC\",\"COAD\",\"HNSC\",\"KIRC\",\"LGG\",\"LIHC\",\"LUAD\",\"LUSC\",\"MESO\",\"SARC\"]}\n",
    "ls = np.linspace(0,1,27)\n",
    "send = {}\n",
    "for j in range(len(analyzed_cancers)):\n",
    "    send[j] = []\n",
    "    for i,cancer in enumerate(cancer_to_keep):\n",
    "        if cancer in analyzed_cancers[j]:\n",
    "            send[j].append([ls[i],ls[i+1]])"
   ]
  },
  {
   "cell_type": "code",
   "execution_count": null,
   "metadata": {},
   "outputs": [],
   "source": [
    "def get_theta(pct, num_points):\n",
    "    start = pct[0] * 360\n",
    "    length = (pct[1] - pct[0]) * 360\n",
    "    step = 360 / num_points\n",
    "    return np.arange(start, start + length + step, step)\n",
    "\n",
    "num_points = 360\n",
    "r_gap = 0.05\n",
    "\n",
    "max_r = 1 "
   ]
  },
  {
   "cell_type": "code",
   "execution_count": null,
   "metadata": {},
   "outputs": [],
   "source": [
    "color_pal = pl.colors.qualitative.Alphabet\n",
    "color_mapping = {CIMP_cancers[i]: color_pal[i] for i in range(len(CIMP_cancers))}"
   ]
  },
  {
   "cell_type": "code",
   "execution_count": null,
   "metadata": {},
   "outputs": [],
   "source": [
    "fig = make_subplots(rows=2, cols=2, specs=[[{'type': 'polar'}]*2]*2)\n",
    "count=0\n",
    "for i in [1,2]:\n",
    "    for j in [1,2]:\n",
    "        fig.add_trace(go.Scatterpolar(\n",
    "          r=[1] * num_points,\n",
    "          theta=get_theta([0, 1], num_points),\n",
    "          mode='lines',\n",
    "          line_color='black',\n",
    "          line_width=4,\n",
    "          showlegend=False\n",
    "        ),i,j)\n",
    "\n",
    "\n",
    "        for index, seg in enumerate(send[count]):\n",
    "            fig.add_trace(go.Scatterpolar(\n",
    "            r = [1 + r_gap] * num_points,\n",
    "            theta = get_theta(seg, num_points),\n",
    "            mode='lines',\n",
    "            line_width=10,\n",
    "            name=str(analyzed_cancers[count][index]),\n",
    "            line_color=color_mapping[analyzed_cancers[count][index]],\n",
    "          ),i,j)\n",
    "        count+=1\n",
    "        \n",
    "        fig.update_layout(\n",
    "          polar1=dict(\n",
    "              angularaxis=dict(\n",
    "                rotation=90,\n",
    "                direction=\"clockwise\",\n",
    "                showticklabels=False,\n",
    "                showgrid=False\n",
    "              ),\n",
    "              radialaxis=dict(\n",
    "                range=[0, 1 + (len(send) + 1) * r_gap],\n",
    "                showticklabels=False,\n",
    "                visible=False\n",
    "              )\n",
    "          ),\n",
    "        polar2=dict(\n",
    "              angularaxis=dict(\n",
    "                rotation=90,\n",
    "                direction=\"clockwise\",\n",
    "                showticklabels=False,\n",
    "                showgrid=False\n",
    "              ),\n",
    "              radialaxis=dict(\n",
    "                range=[0, 1 + (len(send) + 1) * r_gap],\n",
    "                showticklabels=False,\n",
    "                visible=False\n",
    "              )\n",
    "          ),\n",
    "        polar3=dict(\n",
    "              angularaxis=dict(\n",
    "                rotation=90,\n",
    "                direction=\"clockwise\",\n",
    "                showticklabels=False,\n",
    "                showgrid=False\n",
    "              ),\n",
    "              radialaxis=dict(\n",
    "                range=[0, 1 + (len(send) + 1) * r_gap],\n",
    "                showticklabels=False,\n",
    "                visible=False\n",
    "              )\n",
    "          ),\n",
    "        polar4=dict(\n",
    "              angularaxis=dict(\n",
    "                rotation=90,\n",
    "                direction=\"clockwise\",\n",
    "                showticklabels=False,\n",
    "                showgrid=False\n",
    "              ),\n",
    "              radialaxis=dict(\n",
    "                range=[0, 1 + (len(send) + 1) * r_gap],\n",
    "                showticklabels=False,\n",
    "                visible=False\n",
    "              )\n",
    "          ))\n",
    "# # Configure the layout based on the requirements.\n",
    "\n",
    "\n",
    "fig.add_annotation(x=0.1, y=1.1,\n",
    "            text=\"Demethylation (mut)\",\n",
    "            showarrow=False,font=dict(\n",
    "        family='Arial',\n",
    "        size=18,\n",
    "        color=\"Black\"\n",
    "    ))\n",
    "fig.add_annotation(x=0.92, y=1.1,\n",
    "            text=\"Histone methylation (mut)\",\n",
    "            showarrow=False,font=dict(\n",
    "        family='Arial',\n",
    "        size=18,\n",
    "        color=\"Black\"\n",
    "    ))\n",
    "fig.add_annotation(x=0.2, y=0.48,\n",
    "            text=\"MSI\",\n",
    "            showarrow=False,font=dict(\n",
    "        family='Arial',\n",
    "        size=18,\n",
    "        color=\"Black\"\n",
    "    ))\n",
    "fig.add_annotation(x=0.82, y=0.48,\n",
    "            text=\"Diverse\",\n",
    "            showarrow=False,font=dict(\n",
    "        family='Arial',\n",
    "        size=18,\n",
    "        color=\"Black\"\n",
    "    ))\n",
    "names = set()\n",
    "fig.for_each_trace(\n",
    "    lambda trace:\n",
    "        trace.update(showlegend=False)\n",
    "        if (trace.name in names) else names.add(trace.name))\n",
    "fig.write_image(\"etiology_indicators.png\")\n",
    "fig.write_image(\"etiology_indicators.svg\")"
   ]
  },
  {
   "cell_type": "code",
   "execution_count": null,
   "metadata": {},
   "outputs": [],
   "source": [
    "fig"
   ]
  },
  {
   "cell_type": "markdown",
   "metadata": {},
   "source": [
    "# Transcription start sites"
   ]
  },
  {
   "cell_type": "markdown",
   "metadata": {},
   "source": [
    "We perform the same analysis around transcription start sites to find potential signatures\n",
    "We do not have information on the distance to the TSS or its position in the illumina annotation so we must take the values from gencode annotations"
   ]
  },
  {
   "cell_type": "code",
   "execution_count": null,
   "metadata": {},
   "outputs": [],
   "source": [
    "tss_dir = \"path\\to\\TSS_distances\""
   ]
  },
  {
   "cell_type": "code",
   "execution_count": null,
   "metadata": {},
   "outputs": [],
   "source": [
    "from gtfparse import read_gtf\n",
    "gencode_annot_dir = \"path\\to\\gencode\\annotation\\gtf_file\" \n",
    "gencode_annot = read_gtf(os.path.join(gencode_annot_dir,\"INSERTGENCODEFILE.gtf\"))"
   ]
  },
  {
   "cell_type": "code",
   "execution_count": null,
   "metadata": {},
   "outputs": [],
   "source": [
    "gene_start_gencode_annot = gencode_annot[gencode_annot[\"feature\"]==\"gene\"].set_index(\"transcript_name\")"
   ]
  },
  {
   "cell_type": "code",
   "execution_count": null,
   "metadata": {},
   "outputs": [],
   "source": [
    "gene_start_gencode_annot"
   ]
  },
  {
   "cell_type": "code",
   "execution_count": null,
   "metadata": {
    "scrolled": true
   },
   "outputs": [],
   "source": [
    "# we get the distance to the TSS for each position\n",
    "for cancer in tqdm(cancer_to_keep):\n",
    "    print(cancer)\n",
    "    # info from the Illumina 450k annotation\n",
    "    cpg_info_df = Meth45k_df[['CHR', 'MAPINFO', 'Strand',\"UCSC_RefGene_Name\",\"UCSC_RefGene_Group\"]]\n",
    "    common_cpg = cpg_info_df.index.intersection(meth_data_pc[cancer].columns)\n",
    "    cpg_info_df = cpg_info_df.loc[common_cpg]\n",
    "    df_tss_distance = []\n",
    "    for cpg in tqdm(cpg_info_df.index):\n",
    "        info = cpg_info_df.loc[cpg]\n",
    "        # strand polarity and absolute position of the cpg\n",
    "        strand = info[\"Strand\"]\n",
    "        cpg_pos = int(info[\"MAPINFO\"])\n",
    "        # get the genes related to that probe\n",
    "        rel_genes = np.unique(dict_cpg_to_gene[cpg])\n",
    "        rel_genes = gene_start_gencode_annot.index.intersection(rel_genes)\n",
    "        for gene in rel_genes:\n",
    "            # get the info related to the gene\n",
    "            gene_info = gene_start_gencode_annot.loc[gene]\n",
    "            # start depending on strand polarity\n",
    "            if strand==\"F\":\n",
    "                start = gene_info[[\"start\"]]\n",
    "            else:\n",
    "                start = gene_info[[\"end\"]]\n",
    "            # get the closest beginning in case there are several starts for the gene \n",
    "            ind_distance = start.apply(lambda x: np.abs(cpg_pos-x)).squeeze().argmin()\n",
    "            if strand==\"F\":\n",
    "                distance = cpg_pos - int(start.iloc[ind_distance])\n",
    "            else:\n",
    "                distance = int(start.iloc[ind_distance]) - cpg_pos\n",
    "            df = pd.DataFrame(np.array([cpg,distance])).T\n",
    "            df.columns = [\"cpg\",\"distance\"]\n",
    "            # relative distance to TSS (- for upstream, + for downstream)\n",
    "            if len(df_tss_distance)==0:\n",
    "                df_tss_distance = df\n",
    "            else:\n",
    "                df_tss_distance = pd.concat([df_tss_distance,df])\n",
    "    df_tss_distance.to_csv(os.path.join(tss_dir,cancer+\"_tss_distance.csv\"))"
   ]
  },
  {
   "cell_type": "code",
   "execution_count": null,
   "metadata": {},
   "outputs": [],
   "source": [
    "# methylation status is different for TSS\n",
    "sCIMP1 = [\"ACC\",\"COAD\",\"KIRP\",\"LAML\",\"LGG\",\"MESO\",\"SKCM\",\"STAD\"]\n",
    "sCIMP2 = [\"CESC\",\"GBM\",\"HNSC\",\"KIRC\",\"LIHC\",\"LUAD\",\"LUSC\",\"PCPG\",\"READ\",\"SARC\",\"THCA\"]\n",
    "nonCIMP = [\"BLCA\",\"BRCA\",\"ESCA\",\"PAAD\",\"PRAD\",\"THYM\",\"UCEC\"]"
   ]
  },
  {
   "cell_type": "code",
   "execution_count": null,
   "metadata": {
    "scrolled": true
   },
   "outputs": [],
   "source": [
    "fig, axs = plt.subplots(2, 4, figsize=(13,6))\n",
    "flatax = axs.flatten()"
   ]
  },
  {
   "cell_type": "code",
   "execution_count": null,
   "metadata": {},
   "outputs": [],
   "source": [
    "seapal = sns.color_palette(\"bright\")\n",
    "fignum = 0\n",
    "for cancer in tqdm(sCIMP1):\n",
    "    df_tss_distance = pd.read_csv(os.path.join(tss_dir,cancer+\"_tss_distance.csv\"))\n",
    "    df_tss_distance = df_tss_distance.drop(\"Unnamed: 0\",axis=1).set_index(\"cpg\").astype(int)\n",
    "    cpg_tss = df_tss_distance[df_tss_distance<5000].dropna().astype(int)\n",
    "    cpg_tss = cpg_tss[cpg_tss>-1500].dropna()\n",
    "    cpg_tss = cpg_tss[~cpg_tss.index.duplicated()]\n",
    "    \n",
    "    common_pat_clustering = consensus_clustering_spectral[cancer].loc[consensus_clustering_spectral[cancer].index.intersection(high_conf_patients[cancer])]\n",
    "    ind_cl_1 = common_pat_clustering[common_pat_clustering[\"cluster\"]==1].index\n",
    "    ind_cl_2 = common_pat_clustering[common_pat_clustering[\"cluster\"]==2].index\n",
    "    ind_cl_3 = common_pat_clustering[common_pat_clustering[\"cluster\"]==3].index\n",
    "    cl_1_mean = new_meth_data_pc[cancer].loc[ind_cl_1].mean()\n",
    "    cl_2_mean = new_meth_data_pc[cancer].loc[ind_cl_2].mean()\n",
    "    cl_3_mean = new_meth_data_pc[cancer].loc[ind_cl_3].mean()\n",
    "    normal_mean = normal_meth[cancer].mean()\n",
    "    if cancer in triple_cluster_cancers_aff:\n",
    "        full_cpg_island_df= pd.concat([cpg_tss,cl_1_mean,cl_2_mean,cl_3_mean,normal_mean],axis=1,join=\"inner\").dropna()\n",
    "        full_cpg_island_df.columns = list(cpg_tss.columns) + [\"Low meth\", \"Intermediate meth\", \"High meth\", \"Normal\"]\n",
    "    else:\n",
    "        full_cpg_island_df= pd.concat([cpg_tss,cl_1_mean,cl_2_mean,normal_mean],axis=1,join=\"inner\").dropna()\n",
    "        full_cpg_island_df.columns = list(cpg_tss.columns) + [\"Low meth\", \"High meth\", \"Normal\"]\n",
    "    mean_cgi_meth = full_cpg_island_df.groupby([\"distance\"]).mean().reset_index()\n",
    "    mean_cgi_meth[\"distance\"] = mean_cgi_meth[\"distance\"].astype(\"int\").apply(lambda x: x//100)\n",
    "    mean_cgi_meth = mean_cgi_meth.groupby([\"distance\"]).mean()\n",
    "    print(cancer)\n",
    "    \n",
    "    sns.lineplot(data=mean_cgi_meth,x=\"distance\",y=\"Low meth\",color=seapal[0],ax=flatax[fignum],label=\"Low meth cluster\")\n",
    "    if cancer in triple_cluster_cancers_aff:\n",
    "        sns.lineplot(data=mean_cgi_meth,x=\"distance\",y=\"Intermediate meth\",color=seapal[8],ax=flatax[fignum], label=\"Intermediate meth cluster\")\n",
    "    sns.lineplot(data=mean_cgi_meth,x=\"distance\",y=\"High meth\",color=seapal[3],ax=flatax[fignum], label=\"High meth cluster\")\n",
    "    sns.lineplot(data=mean_cgi_meth,x=\"distance\",y=\"Normal\",color=seapal[7],ax=flatax[fignum], label=\"Normal tissue\")\n",
    "    flatax[fignum].set_title(cancer+\" average methylation over CGI\",fontsize=18)\n",
    "    flatax[fignum].set_ylabel(\"Methylation (beta)\",fontsize=15)\n",
    "    flatax[fignum].set_xlim([0,50])\n",
    "    flatax[fignum].set_ylim([0,0.85])\n",
    "    fignum+=1"
   ]
  },
  {
   "cell_type": "code",
   "execution_count": null,
   "metadata": {
    "scrolled": true
   },
   "outputs": [],
   "source": [
    "# visualization\n",
    "# lines, labels = flatax[0].get_legend_handles_labels()\n",
    "for i,cancer in enumerate(sCIMP1):\n",
    "    a = flatax[i]\n",
    "    a.set_ylabel('') \n",
    "    a.set_xticks([-15,-10,0,10,20,30,40,50])\n",
    "    if i in [4,5,6,7]:\n",
    "        a.set_xticklabels([\"\",\"-1\",\"TSS\",\"1\",\"2\",\"3\",\"4\",\"5\"],rotation=45,rotation_mode=\"default\")\n",
    "    else:\n",
    "        a.set_xticklabels([])\n",
    "    \n",
    "    if not(i in [0,4]):\n",
    "        a.set_yticklabels([])\n",
    "       \n",
    "    a.set_title(cancer,fontsize=15)\n",
    "    a.set_xlabel('')\n",
    "    a.legend_=None\n",
    "fig.text(0.5, -0.02, 'Distance (kb)', ha='center')\n",
    "fig.text(-0.01, 0.5, 'Methylation (beta)', va='center', rotation='vertical')\n",
    "# flatax[-1].axis(\"off\")\n",
    "# fig.legend(lines, labels, loc = 'center right', bbox_to_anchor = (1.2,0,1,1),\n",
    "#             bbox_transform = plt.gcf().transFigure,fontsize=15,frameon=False)\n",
    "fig.tight_layout()\n",
    "fig"
   ]
  },
  {
   "cell_type": "code",
   "execution_count": null,
   "metadata": {},
   "outputs": [],
   "source": [
    "fig.savefig(\"TSS_signature_sCIMP1.png\",bbox_inches='tight')\n",
    "fig.savefig(\"TSS_signature_sCIMP1.svg\",bbox_inches='tight')"
   ]
  },
  {
   "cell_type": "code",
   "execution_count": null,
   "metadata": {
    "scrolled": true
   },
   "outputs": [],
   "source": [
    "fig, axs = plt.subplots(3, 4, figsize=(13,9))\n",
    "flatax = axs.flatten()"
   ]
  },
  {
   "cell_type": "code",
   "execution_count": null,
   "metadata": {},
   "outputs": [],
   "source": [
    "seapal = sns.color_palette(\"bright\")\n",
    "fignum = 0\n",
    "for cancer in tqdm(sCIMP2):\n",
    "    df_tss_distance = pd.read_csv(os.path.join(tss_dir,cancer+\"_tss_distance.csv\"))\n",
    "    df_tss_distance = df_tss_distance.drop(\"Unnamed: 0\",axis=1).set_index(\"cpg\").astype(int)\n",
    "    cpg_tss = df_tss_distance[df_tss_distance<5000].dropna().astype(int)\n",
    "    cpg_tss = cpg_tss[cpg_tss>-1500].dropna()\n",
    "    cpg_tss = cpg_tss[~cpg_tss.index.duplicated()]\n",
    "    \n",
    "    common_pat_clustering = consensus_clustering_spectral[cancer].loc[consensus_clustering_spectral[cancer].index.intersection(high_conf_patients[cancer])]\n",
    "    ind_cl_1 = common_pat_clustering[common_pat_clustering[\"cluster\"]==1].index\n",
    "    ind_cl_2 = common_pat_clustering[common_pat_clustering[\"cluster\"]==2].index\n",
    "    ind_cl_3 = common_pat_clustering[common_pat_clustering[\"cluster\"]==3].index\n",
    "    cl_1_mean = new_meth_data_pc[cancer].loc[ind_cl_1].mean()\n",
    "    cl_2_mean = new_meth_data_pc[cancer].loc[ind_cl_2].mean()\n",
    "    cl_3_mean = new_meth_data_pc[cancer].loc[ind_cl_3].mean()\n",
    "    normal_mean = normal_meth[cancer].mean()\n",
    "    if cancer in triple_cluster_cancers_aff:\n",
    "        full_cpg_island_df= pd.concat([cpg_tss,cl_1_mean,cl_2_mean,cl_3_mean,normal_mean],axis=1,join=\"inner\").dropna()\n",
    "        full_cpg_island_df.columns = list(cpg_tss.columns) + [\"Low meth\", \"Intermediate meth\", \"High meth\", \"Normal\"]\n",
    "    else:\n",
    "        full_cpg_island_df= pd.concat([cpg_tss,cl_1_mean,cl_2_mean,normal_mean],axis=1,join=\"inner\").dropna()\n",
    "        full_cpg_island_df.columns = list(cpg_tss.columns) + [\"Low meth\", \"High meth\", \"Normal\"]\n",
    "    mean_cgi_meth = full_cpg_island_df.groupby([\"distance\"]).mean().reset_index()\n",
    "    mean_cgi_meth[\"distance\"] = mean_cgi_meth[\"distance\"].astype(\"int\").apply(lambda x: x//100)\n",
    "    mean_cgi_meth = mean_cgi_meth.groupby([\"distance\"]).mean()\n",
    "    print(cancer)\n",
    "    \n",
    "    sns.lineplot(data=mean_cgi_meth,x=\"distance\",y=\"Low meth\",color=seapal[0],ax=flatax[fignum],label=\"Low meth cluster\")\n",
    "    if cancer in triple_cluster_cancers_aff:\n",
    "        sns.lineplot(data=mean_cgi_meth,x=\"distance\",y=\"Intermediate meth\",color=seapal[8],ax=flatax[fignum], label=\"Intermediate meth cluster\")\n",
    "    sns.lineplot(data=mean_cgi_meth,x=\"distance\",y=\"High meth\",color=seapal[3],ax=flatax[fignum], label=\"High meth cluster\")\n",
    "    sns.lineplot(data=mean_cgi_meth,x=\"distance\",y=\"Normal\",color=seapal[7],ax=flatax[fignum], label=\"Normal tissue\")\n",
    "    flatax[fignum].set_title(cancer+\" average methylation over CGI\",fontsize=18)\n",
    "    flatax[fignum].set_ylabel(\"Methylation (beta)\",fontsize=15)\n",
    "    flatax[fignum].set_xlim([0,50])\n",
    "    flatax[fignum].set_ylim([0,0.85])\n",
    "    fignum+=1"
   ]
  },
  {
   "cell_type": "code",
   "execution_count": null,
   "metadata": {
    "scrolled": true
   },
   "outputs": [],
   "source": [
    "# visualization\n",
    "lines, labels = flatax[0].get_legend_handles_labels()\n",
    "for i,cancer in enumerate(sCIMP2):\n",
    "    a = flatax[i]\n",
    "    a.set_ylabel('') \n",
    "    a.set_xticks([-15,-10,0,10,20,30,40,50])\n",
    "    if i in [7,8,9,10]:\n",
    "        a.set_xticklabels([\"\",\"-1\",\"TSS\",\"1\",\"2\",\"3\",\"4\",\"5\"],rotation=45,rotation_mode=\"default\")\n",
    "    else:\n",
    "        a.set_xticklabels([])\n",
    "    \n",
    "    if not(i in [0,4,8]):\n",
    "        a.set_yticklabels([])\n",
    "       \n",
    "    a.set_title(cancer,fontsize=15)\n",
    "    a.set_xlabel('')\n",
    "    a.legend_=None\n",
    "fig.text(0.5, -0.02, 'Distance (kb)', ha='center')\n",
    "fig.text(-0.01, 0.5, 'Methylation (beta)', va='center', rotation='vertical')\n",
    "flatax[-1].axis(\"off\")\n",
    "fig.legend(lines, labels, loc = 'center right', bbox_to_anchor = (1.3,0,1,1),\n",
    "            bbox_transform = plt.gcf().transFigure,fontsize=15,frameon=False)\n",
    "fig.tight_layout()\n",
    "fig"
   ]
  },
  {
   "cell_type": "code",
   "execution_count": null,
   "metadata": {},
   "outputs": [],
   "source": [
    "fig.savefig(\"TSS_signature_sCIMP2.png\",bbox_inches='tight')\n",
    "fig.savefig(\"TSS_signature_sCIMP2.svg\",bbox_inches='tight')"
   ]
  },
  {
   "cell_type": "code",
   "execution_count": null,
   "metadata": {
    "scrolled": true
   },
   "outputs": [],
   "source": [
    "fig, axs = plt.subplots(4, 2, figsize=(6,13))"
   ]
  },
  {
   "cell_type": "code",
   "execution_count": null,
   "metadata": {},
   "outputs": [],
   "source": [
    "flatax = axs.flatten()\n",
    "seapal = sns.color_palette(\"bright\")\n",
    "fignum = 0\n",
    "for cancer in tqdm(nonCIMP):\n",
    "    df_tss_distance = pd.read_csv(os.path.join(tss_dir,cancer+\"_tss_distance.csv\"))\n",
    "    df_tss_distance = df_tss_distance.drop(\"Unnamed: 0\",axis=1).set_index(\"cpg\").astype(int)\n",
    "    cpg_tss = df_tss_distance[df_tss_distance<5000].dropna().astype(int)\n",
    "    cpg_tss = cpg_tss[cpg_tss>-1500].dropna()\n",
    "    cpg_tss = cpg_tss[~cpg_tss.index.duplicated()]\n",
    "    \n",
    "    common_pat_clustering = consensus_clustering_spectral[cancer].loc[consensus_clustering_spectral[cancer].index.intersection(high_conf_patients[cancer])]\n",
    "    ind_cl_1 = common_pat_clustering[common_pat_clustering[\"cluster\"]==1].index\n",
    "    ind_cl_2 = common_pat_clustering[common_pat_clustering[\"cluster\"]==2].index\n",
    "    ind_cl_3 = common_pat_clustering[common_pat_clustering[\"cluster\"]==3].index\n",
    "    cl_1_mean = new_meth_data_pc[cancer].loc[ind_cl_1].mean()\n",
    "    cl_2_mean = new_meth_data_pc[cancer].loc[ind_cl_2].mean()\n",
    "    cl_3_mean = new_meth_data_pc[cancer].loc[ind_cl_3].mean()\n",
    "    normal_mean = normal_meth[cancer].mean()\n",
    "    if cancer in triple_cluster_cancers_aff:\n",
    "        full_cpg_island_df= pd.concat([cpg_tss,cl_1_mean,cl_2_mean,cl_3_mean,normal_mean],axis=1,join=\"inner\").dropna()\n",
    "        full_cpg_island_df.columns = list(cpg_tss.columns) + [\"Low meth\", \"Intermediate meth\", \"High meth\", \"Normal\"]\n",
    "    else:\n",
    "        full_cpg_island_df= pd.concat([cpg_tss,cl_1_mean,cl_2_mean,normal_mean],axis=1,join=\"inner\").dropna()\n",
    "        full_cpg_island_df.columns = list(cpg_tss.columns) + [\"Low meth\", \"High meth\", \"Normal\"]\n",
    "    mean_cgi_meth = full_cpg_island_df.groupby([\"distance\"]).mean().reset_index()\n",
    "    mean_cgi_meth[\"distance\"] = mean_cgi_meth[\"distance\"].astype(\"int\").apply(lambda x: x//100)\n",
    "    mean_cgi_meth = mean_cgi_meth.groupby([\"distance\"]).mean()\n",
    "    print(cancer)\n",
    "    sns.lineplot(data=mean_cgi_meth,x=\"distance\",y=\"Low meth\",color=seapal[0],ax=flatax[fignum],label=\"Low meth cluster\")\n",
    "    if cancer in triple_cluster_cancers_aff:\n",
    "        sns.lineplot(data=mean_cgi_meth,x=\"distance\",y=\"Intermediate meth\",color=seapal[8],ax=flatax[fignum], label=\"Intermediate meth cluster\")\n",
    "    sns.lineplot(data=mean_cgi_meth,x=\"distance\",y=\"High meth\",color=seapal[3],ax=flatax[fignum], label=\"High meth cluster\")\n",
    "    sns.lineplot(data=mean_cgi_meth,x=\"distance\",y=\"Normal\",color=seapal[7],ax=flatax[fignum], label=\"Normal meth cluster\")\n",
    "    flatax[fignum].set_title(cancer+\" average methylation over CGI\",fontsize=15)\n",
    "    flatax[fignum].set_ylabel(\"Methylation (beta)\",fontsize=15)\n",
    "    flatax[fignum].set_xlim([0,50])\n",
    "    flatax[fignum].set_ylim([0,0.85])\n",
    "    fignum+=1"
   ]
  },
  {
   "cell_type": "code",
   "execution_count": null,
   "metadata": {
    "scrolled": true
   },
   "outputs": [],
   "source": [
    "# visualization\n",
    "lines, labels = flatax[-2].get_legend_handles_labels()\n",
    "for i,cancer in enumerate(nonCIMP):\n",
    "    a = flatax[i]\n",
    "    a.set_ylabel('') \n",
    "    a.set_xticks([-15,-10,0,10,20,30,40,50])\n",
    "    if i in [5,6]:\n",
    "        a.set_xticklabels([\"\",\"-1\",\"TSS\",\"1\",\"2\",\"3\",\"4\",\"5\"],rotation=45,rotation_mode=\"default\")\n",
    "    else:\n",
    "        a.set_xticklabels([])\n",
    "    \n",
    "    if not(i in [0,2,4,6]):\n",
    "        a.set_yticklabels([])\n",
    "       \n",
    "    a.set_title(cancer,fontsize=15)\n",
    "    a.set_xlabel('')\n",
    "    a.legend_=None\n",
    "fig.text(0.5, -0.02, 'Distance (kb)', ha='center')\n",
    "fig.text(-0.01, 0.5, 'Methylation (beta)', va='center', rotation='vertical')\n",
    "flatax[-1].axis(\"off\")\n",
    "fig.legend(lines, labels, loc = 'center right', bbox_to_anchor = (0.2,0.05,1,1),\n",
    "            bbox_transform = plt.gcf().transFigure,fontsize=15,frameon=False)\n",
    "fig.tight_layout()\n",
    "fig"
   ]
  },
  {
   "cell_type": "code",
   "execution_count": null,
   "metadata": {},
   "outputs": [],
   "source": [
    "fig.savefig(\"TSS_signature_nonCIMP.png\",bbox_inches='tight')\n",
    "fig.savefig(\"TSS_signature_nonCIMP.svg\",bbox_inches='tight')"
   ]
  },
  {
   "cell_type": "markdown",
   "metadata": {},
   "source": [
    "## Clustering method comparison"
   ]
  },
  {
   "cell_type": "code",
   "execution_count": null,
   "metadata": {},
   "outputs": [],
   "source": [
    "from scipy.spatial.distance import cdist, hamming\n",
    "import networkx as nx\n",
    "from community import community_louvain\n",
    "import snf\n",
    "from snf import metrics"
   ]
  },
  {
   "cell_type": "code",
   "execution_count": null,
   "metadata": {},
   "outputs": [],
   "source": [
    "def get_consensus_matrix_community(meth_data_pc,graphs_snf,cancer_to_keep,res_list,n_runs):\n",
    "    #     Parameters: meth_data_pc (dict): keys are cancer types, values are pd.DataFrame (n_pat,n_cpg) (rows=patients,columns=cpg)\n",
    "    #             cancer_to_keep (list): names of cancer types\n",
    "    #             graphs_snf (dict): keys are cancer types, values are networkx graphs \n",
    "    #             res_list (list): list of resolution to use in the Louvain community detection algorithm for each cancer type (type float)\n",
    "    #             n_runs (int): number of runs for consensus clustering \n",
    "    #     Returns: consensus_matrix (pd.DataFrame): df with the cluster membership for each run (n_patients, n_runs)\n",
    "    consensus_matrix = {cancer: [] for cancer in cancer_to_keep}\n",
    "    for r in tqdm(range(n_runs)):\n",
    "        clusters_louvain_snf = {}\n",
    "        for i,cancer in enumerate(cancer_to_keep):\n",
    "            print(cancer)\n",
    "            clusters_louvain_snf[cancer]=compute_clusters_community(graphs_snf[cancer], res_list[i])\n",
    "        df_louvain_snf = {}\n",
    "        for cancer in cancer_to_keep:\n",
    "            df_louvain_snf[cancer] = pd.DataFrame(np.zeros((len(list(meth_data_pc[cancer].index)),1)),index=list(meth_data_pc[cancer].index),columns=[\"cluster\"])\n",
    "            for cluster in clusters_louvain_snf[cancer]:\n",
    "                for pat in clusters_louvain_snf[cancer][cluster]:\n",
    "                    df_louvain_snf[cancer].loc[pat]=cluster\n",
    "            df_louvain_snf[cancer]=df_louvain_snf[cancer].reset_index(drop=True)\n",
    "            if len(consensus_matrix[cancer])==0:\n",
    "                consensus_matrix[cancer] = df_louvain_snf[cancer]\n",
    "            else:\n",
    "                consensus_matrix[cancer] = pd.concat([consensus_matrix[cancer],df_louvain_snf[cancer]],axis=1)\n",
    "    return consensus_matrix"
   ]
  },
  {
   "cell_type": "code",
   "execution_count": null,
   "metadata": {},
   "outputs": [],
   "source": [
    "def graph_of_patients(patient_ids,sim_matrix):\n",
    "#     Constructs the graph of UDN patients using the similarity matrix computed: nodes are patients, \n",
    "#                 edges between patient i and j is proportional to the similarity between these two patients\n",
    "#     Parameters: patients (list): list of UDN IDs of patients to consider\n",
    "#                 sim_matrix (np.ndarray): array, similarity matrix of pairwise similarity between each patient\n",
    "#     Returns : G (networkx.Graph): networkx graph of UDN patients \n",
    "#               pos (np.ndarray): positions of nodes \n",
    "    G= nx.Graph()\n",
    "    elist=[]\n",
    "    for i in range(sim_matrix.shape[0]):\n",
    "        G.add_node(patient_ids[i])\n",
    "        for j in range(i,sim_matrix.shape[1]):\n",
    "            elist.append((patient_ids[i],patient_ids[j],sim_matrix[i,j]))\n",
    "    G.add_weighted_edges_from(elist)\n",
    "    return G"
   ]
  },
  {
   "cell_type": "code",
   "execution_count": null,
   "metadata": {},
   "outputs": [],
   "source": [
    "def compute_clusters_community(graph,resolution):\n",
    "#     Compute the clusters in a graph using Louvain's community detection method\n",
    "#     Parameters : graph (networkx.Graph): graph of UDN patients computed using the pairwise \n",
    "#                                 similarity between patients\n",
    "#                 resolution (float): resolution for the Louvain method\n",
    "#     Returns: clusters (dict): dictionary with the cluster number as key and a list containing all \n",
    "#                                 the patients in the cluster as value\n",
    "    \n",
    "    partition = community_louvain.best_partition(graph,resolution=resolution)\n",
    "    clusters={}\n",
    "    for node in partition.keys():\n",
    "        if not(partition[node] in clusters.keys()):\n",
    "            clusters[partition[node]]=[node]\n",
    "        else:\n",
    "            clusters[partition[node]].append(node)\n",
    "    count=0\n",
    "    for cluster in clusters.keys():\n",
    "        print(\"Length of cluster {} : {}\".format(cluster,len(clusters[cluster])))\n",
    "        if len(clusters[cluster])<=1:\n",
    "            count+=1\n",
    "    print(\"Number of clusters with less than 3 patients (outliers) : {}\".format(count))\n",
    "    return clusters"
   ]
  },
  {
   "cell_type": "code",
   "execution_count": null,
   "metadata": {},
   "outputs": [],
   "source": [
    "# get the affinity matrix with manhattan distance\n",
    "aff_mat = {}\n",
    "for cancer in tqdm(cancer_to_keep):\n",
    "    aff_mat[cancer] = snf.make_affinity(new_meth_data_pc[cancer].values,metric=\"cityblock\",K=50)\n",
    "\n",
    "graphs_snf = {}\n",
    "for cancer in cancer_to_keep:\n",
    "    graphs_snf[cancer] = graph_of_patients(list(new_meth_data_pc[cancer].index),aff_mat[cancer])"
   ]
  },
  {
   "cell_type": "code",
   "execution_count": null,
   "metadata": {},
   "outputs": [],
   "source": [
    "# if need to test what resolution for what cancer type\n",
    "clusters_louvain_snf_test=compute_clusters_community(graphs_snf[\"CESC\"], 1.15)"
   ]
  },
  {
   "cell_type": "code",
   "execution_count": null,
   "metadata": {
    "scrolled": true
   },
   "outputs": [],
   "source": [
    "res_list = [1.27, 1.25, 1.1, 1.15, 1.1, 1.2, 1.25, 1.15, 1.13, 1.3, 1.3, 1.3, 1.1, 1.1, 1.1, 1.35, 1.25, 1.15, 1.3, 1.25, 1.3, 1.1, 1.35, 1.1, 1.25, 1.1]\n",
    "\n",
    "consensus_matrix_meth = get_consensus_matrix_community(new_meth_data_pc,graphs_snf,cancer_to_keep,res_list,10)"
   ]
  },
  {
   "cell_type": "code",
   "execution_count": null,
   "metadata": {},
   "outputs": [],
   "source": [
    "from netneurotools import cluster\n",
    "louvain_clustering_pc = {}\n",
    "for cancer in cancer_to_keep:\n",
    "    louvain_clustering_pc[cancer] = pd.DataFrame(cluster.find_consensus(consensus_matrix_meth[cancer].values, seed=1234),columns=[\"cluster\"])\n",
    "louvain_clustering_pc[\"BRCA\"] = louvain_clustering_pc[\"BRCA\"].replace({4: 3})\n",
    "louvain_clustering_pc[\"PCPG\"] = louvain_clustering_pc[\"PCPG\"].replace({4: 3})"
   ]
  },
  {
   "cell_type": "code",
   "execution_count": null,
   "metadata": {},
   "outputs": [],
   "source": [
    "for cancer in cancer_to_keep:\n",
    "    print(cancer,Counter(louvain_clustering_pc[cancer][\"cluster\"].values.ravel()))"
   ]
  },
  {
   "cell_type": "markdown",
   "metadata": {},
   "source": [
    "Get the membership for all clustering methods"
   ]
  },
  {
   "cell_type": "code",
   "execution_count": null,
   "metadata": {},
   "outputs": [],
   "source": [
    "# 5D UMAP for GMM\n",
    "meth_data_red = {}\n",
    "for cancer in tqdm(cancer_to_keep):\n",
    "    reducer = umap.UMAP(n_components=5)\n",
    "    meth_data_red[cancer] = reducer.fit_transform(df_transf_data[cancer])"
   ]
  },
  {
   "cell_type": "code",
   "execution_count": null,
   "metadata": {},
   "outputs": [],
   "source": [
    "agglomerative_clustering_pc = {}\n",
    "for cancer in tqdm(cancer_to_keep):\n",
    "    if cancer in triple_cluster_cancers_aff:\n",
    "        agglomerative = AgglomerativeClustering(n_clusters=3)\n",
    "    else:\n",
    "        agglomerative = AgglomerativeClustering(n_clusters=2)\n",
    "    agglomerative.fit(new_meth_data_pc[cancer])\n",
    "    agglomerative_clustering_pc[cancer] = pd.DataFrame(agglomerative.labels_,columns=[\"cluster\"])\n",
    "    agglomerative_clustering_pc[cancer] = agglomerative_clustering_pc[cancer]+1"
   ]
  },
  {
   "cell_type": "code",
   "execution_count": null,
   "metadata": {},
   "outputs": [],
   "source": [
    "kmeans_clustering_pc = {}\n",
    "for cancer in tqdm(cancer_to_keep):\n",
    "    if cancer in triple_cluster_cancers_aff:\n",
    "        kmeans = KMeans(n_clusters=3)\n",
    "    else:\n",
    "        kmeans = KMeans(n_clusters=2)\n",
    "    kmeans.fit(new_meth_data_pc[cancer])\n",
    "    kmeans_clustering_pc[cancer] = pd.DataFrame(kmeans.labels_,columns=[\"cluster\"])\n",
    "    kmeans_clustering_pc[cancer] = kmeans_clustering_pc[cancer]+1"
   ]
  },
  {
   "cell_type": "code",
   "execution_count": null,
   "metadata": {},
   "outputs": [],
   "source": [
    "gmm_clustering_pc = []\n",
    "for cancer in tqdm(cancer_to_keep):\n",
    "    if cancer in triple_cluster_cancers_aff:\n",
    "        bgm = GaussianMixture(n_components=3, random_state=42, covariance_type=\"diag\")\n",
    "    else:\n",
    "        bgm = GaussianMixture(n_components=2, random_state=42, covariance_type=\"diag\")\n",
    "    labels = bgm.fit_predict(meth_data_red[cancer])\n",
    "    prob_labels = bgm.predict_proba(meth_data_red[cancer])\n",
    "    labels_conf = [prob_labels[i][labels[i]]*100 for i in range(len(labels))]\n",
    "    labels = labels+1\n",
    "    if len(gmm_clustering_pc)==0:\n",
    "        gmm_clustering_pc = pd.concat([pd.DataFrame(umap_red_data[cancer],index=new_meth_data_pc[cancer].index,columns=[\"Comp1\",\"Comp2\"]),\n",
    "           pd.DataFrame(labels,index=new_meth_data_pc[cancer].index,columns=[\"Cluster\"]),\n",
    "            pd.DataFrame(labels_conf,index=new_meth_data_pc[cancer].index,columns=[\"Confidence\"]),\n",
    "            pd.DataFrame([cancer]*new_meth_data_pc[cancer].shape[0],index=new_meth_data_pc[cancer].index,columns=[\"Cancer\"])],axis=1)\n",
    "    else:\n",
    "        df = pd.concat([pd.DataFrame(umap_red_data[cancer],index=new_meth_data_pc[cancer].index,columns=[\"Comp1\",\"Comp2\"]),\n",
    "           pd.DataFrame(labels,index=new_meth_data_pc[cancer].index,columns=[\"Cluster\"]),\n",
    "            pd.DataFrame(labels_conf,index=new_meth_data_pc[cancer].index,columns=[\"Confidence\"]),\n",
    "            pd.DataFrame([cancer]*new_meth_data_pc[cancer].shape[0],index=new_meth_data_pc[cancer].index,columns=[\"Cancer\"])],axis=1)\n",
    "        gmm_clustering_pc = pd.concat([gmm_clustering_pc,df])"
   ]
  },
  {
   "cell_type": "code",
   "execution_count": null,
   "metadata": {},
   "outputs": [],
   "source": [
    "gmm_clustering_pc = {cancer: pd.DataFrame(gmm_clustering_pc[gmm_clustering_pc[\"Cancer\"]==cancer][\"Cluster\"].values.ravel(),index=new_meth_data_pc[cancer].index,columns=[\"cluster\"]) for cancer in cancer_to_keep}"
   ]
  },
  {
   "cell_type": "code",
   "execution_count": null,
   "metadata": {},
   "outputs": [],
   "source": [
    "sign_cpg_dir = \"path\\to\\gisign_cpg_spectral\"\n",
    "def get_sign_kw_louvain(meth_data_pc, cancer_to_keep, consensus_clustering):\n",
    "#     Parameters: meth_data_pc (dict): keys are cancer types, values are pd.DataFrame (n_pat,n_cpg) (rows=patients,columns=cpg)\n",
    "#             cancer_to_keep (list): names of cancer types\n",
    "#             consensus_clustering (dict): keys are cancer types, values are pd.DataFrame (n_pat,1) (rows=patients, column=cluster membership)\n",
    "#     Returns: kw (dict): keys are cancer types, values are list of sign. cpg probes for \n",
    "    kw = {}\n",
    "    for cancer in cancer_to_keep:\n",
    "        kw[cancer]=[]\n",
    "        positions = meth_data_pc[cancer].columns\n",
    "        ind_cl_1 = np.where(consensus_clustering[cancer][\"cluster\"].values==1)[0]\n",
    "        ind_cl_2 = np.where(consensus_clustering[cancer][\"cluster\"].values==2)[0]\n",
    "        ind_cl_3 = np.where(consensus_clustering[cancer][\"cluster\"].values==3)[0]\n",
    "        print(cancer)\n",
    "        if len(np.unique(consensus_clustering[cancer][\"cluster\"].values))==2:\n",
    "            meth_cl_1 = meth_data_pc[cancer].iloc[ind_cl_1].copy()\n",
    "            meth_cl_2 = meth_data_pc[cancer].iloc[ind_cl_2].copy()\n",
    "            for pos in tqdm(positions):\n",
    "                kw[cancer].append(kruskal(meth_cl_1[pos],\n",
    "                        meth_cl_2[pos])[1])\n",
    "        elif len(np.unique(consensus_clustering[cancer][\"cluster\"].values))==3:\n",
    "            meth_cl_1 = meth_data_pc[cancer].iloc[ind_cl_1].copy()\n",
    "            meth_cl_2 = meth_data_pc[cancer].iloc[ind_cl_2].copy()\n",
    "            meth_cl_3 = meth_data_pc[cancer].iloc[ind_cl_3].copy()\n",
    "            for pos in tqdm(positions):\n",
    "                kw[cancer].append(kruskal(meth_cl_1[pos],\n",
    "                        meth_cl_2[pos],\n",
    "                        meth_cl_3[pos])[1])\n",
    "        else:\n",
    "            print(\"The cancer {} is not taken into consideration (too many clusters)\".format(cancer))\n",
    "            continue\n",
    "        ind_sign = np.where(np.array(kw[cancer])<(0.05/len(kw[cancer])))[0]\n",
    "        print(\"There are {} significantly different positions between clusters for cancer type {}\".format(len(ind_sign),cancer))\n",
    "        sign_pos=[meth_data_pc[cancer].columns[i] for i in ind_sign]\n",
    "    return kw"
   ]
  },
  {
   "cell_type": "code",
   "execution_count": null,
   "metadata": {
    "scrolled": true
   },
   "outputs": [],
   "source": [
    "kw_agg = get_sign_kw_louvain(new_meth_data_pc, cancer_to_keep, agglomerative_clustering_pc)"
   ]
  },
  {
   "cell_type": "code",
   "execution_count": null,
   "metadata": {
    "scrolled": true
   },
   "outputs": [],
   "source": [
    "kw_kmeans = get_sign_kw_louvain(new_meth_data_pc, cancer_to_keep, kmeans_clustering_pc)"
   ]
  },
  {
   "cell_type": "code",
   "execution_count": null,
   "metadata": {
    "scrolled": true
   },
   "outputs": [],
   "source": [
    "kw_louvain = get_sign_kw_louvain(new_meth_data_pc, cancer_to_keep, louvain_clustering_pc)"
   ]
  },
  {
   "cell_type": "code",
   "execution_count": null,
   "metadata": {
    "scrolled": true
   },
   "outputs": [],
   "source": [
    "kw_gmm = get_sign_kw_louvain(new_meth_data_pc, cancer_to_keep, gmm_clustering_pc)"
   ]
  },
  {
   "cell_type": "code",
   "execution_count": null,
   "metadata": {},
   "outputs": [],
   "source": [
    "sign_pos_agglomerative = {}\n",
    "for cancer in tqdm(cancer_to_keep):\n",
    "    ind_sign = np.where(np.array(kw_agg[cancer])<(0.05/len(kw_agg[cancer])))[0]\n",
    "    sign_pos_agglomerative[cancer] = pd.DataFrame([new_meth_data_pc[cancer].columns[i] for i in ind_sign])"
   ]
  },
  {
   "cell_type": "code",
   "execution_count": null,
   "metadata": {},
   "outputs": [],
   "source": [
    "sign_pos_kmeans = {}\n",
    "for cancer in tqdm(cancer_to_keep):\n",
    "    ind_sign = np.where(np.array(kw_kmeans[cancer])<(0.05/len(kw_kmeans[cancer])))[0]\n",
    "    sign_pos_kmeans[cancer] = pd.DataFrame([new_meth_data_pc[cancer].columns[i] for i in ind_sign])"
   ]
  },
  {
   "cell_type": "code",
   "execution_count": null,
   "metadata": {},
   "outputs": [],
   "source": [
    "sign_pos_gmm = {}\n",
    "for cancer in tqdm(cancer_to_keep):\n",
    "    ind_sign = np.where(np.array(kw_gmm[cancer])<(0.05/len(kw_gmm[cancer])))[0]\n",
    "    sign_pos_gmm[cancer] = pd.DataFrame([new_meth_data_pc[cancer].columns[i] for i in ind_sign])"
   ]
  },
  {
   "cell_type": "code",
   "execution_count": null,
   "metadata": {},
   "outputs": [],
   "source": [
    "sign_pos_louvain = {}\n",
    "for cancer in tqdm(cancer_to_keep):\n",
    "    ind_sign = np.where(np.array(kw_louvain[cancer])<(0.05/len(kw_louvain[cancer])))[0]\n",
    "    sign_pos_louvain[cancer] = pd.DataFrame([new_meth_data_pc[cancer].columns[i] for i in ind_sign])"
   ]
  },
  {
   "cell_type": "code",
   "execution_count": null,
   "metadata": {},
   "outputs": [],
   "source": [
    "avg_meth_snf_agglomerative = get_avg_methylation_snf(sign_pos_agglomerative, new_meth_data_pc, agglomerative_clustering_pc, cancer_to_keep)\n",
    "avg_meth_snf_agglomerative.columns=[1,2,3]\n",
    "\n",
    "avg_meth_snf_kmeans = get_avg_methylation_snf(sign_pos_kmeans, new_meth_data_pc, kmeans_clustering_pc, cancer_to_keep)\n",
    "avg_meth_snf_kmeans.columns=[1,2,3]\n",
    "\n",
    "avg_meth_snf_gmm = get_avg_methylation_snf(sign_pos_gmm, new_meth_data_pc, gmm_clustering_pc, cancer_to_keep)\n",
    "avg_meth_snf_gmm.columns=[1,2,3]\n",
    "\n",
    "avg_meth_snf_louvain = get_avg_methylation_snf(sign_pos_louvain, new_meth_data_pc, louvain_clustering_pc, cancer_to_keep)\n",
    "avg_meth_snf_louvain.columns=[1,2,3]\n",
    "avg_meth_snf_louvain"
   ]
  },
  {
   "cell_type": "code",
   "execution_count": null,
   "metadata": {},
   "outputs": [],
   "source": [
    "# make sure the cluster number corresponds to the average beta value (1=lowest, 3=highest)\n",
    "for cancer in avg_meth_snf_agglomerative.index:\n",
    "    sorted_arg = np.argsort(avg_meth_snf_agglomerative.loc[cancer])\n",
    "    cl_order = {}\n",
    "    for i in range(avg_meth_snf_agglomerative.loc[cancer].dropna().shape[0]):\n",
    "        cl_order[sorted_arg[i+1]+1] = i+1\n",
    "    agglomerative_clustering_pc[cancer] = agglomerative_clustering_pc[cancer].replace({\"cluster\": cl_order})\n",
    "    agglomerative_clustering_pc[cancer].index = new_meth_data_pc[cancer].index"
   ]
  },
  {
   "cell_type": "code",
   "execution_count": null,
   "metadata": {},
   "outputs": [],
   "source": [
    "for cancer in avg_meth_snf_kmeans.index:\n",
    "    sorted_arg = np.argsort(avg_meth_snf_kmeans.loc[cancer])\n",
    "    cl_order = {}\n",
    "    for i in range(avg_meth_snf_kmeans.loc[cancer].dropna().shape[0]):\n",
    "        cl_order[sorted_arg[i+1]+1] = i+1\n",
    "    kmeans_clustering_pc[cancer] = kmeans_clustering_pc[cancer].replace({\"cluster\": cl_order})\n",
    "    kmeans_clustering_pc[cancer].index = new_meth_data_pc[cancer].index"
   ]
  },
  {
   "cell_type": "code",
   "execution_count": null,
   "metadata": {},
   "outputs": [],
   "source": [
    "for cancer in avg_meth_snf_gmm.index:\n",
    "    sorted_arg = np.argsort(avg_meth_snf_gmm.loc[cancer])\n",
    "    cl_order = {}\n",
    "    for i in range(avg_meth_snf_gmm.loc[cancer].dropna().shape[0]):\n",
    "        cl_order[sorted_arg[i+1]+1] = i+1\n",
    "    gmm_clustering_pc[cancer] = gmm_clustering_pc[cancer].replace({\"cluster\": cl_order})\n",
    "    gmm_clustering_pc[cancer].index = new_meth_data_pc[cancer].index"
   ]
  },
  {
   "cell_type": "code",
   "execution_count": null,
   "metadata": {},
   "outputs": [],
   "source": [
    "for cancer in avg_meth_snf_louvain.index:\n",
    "    sorted_arg = np.argsort(avg_meth_snf_louvain.loc[cancer])\n",
    "    cl_order = {}\n",
    "    for i in range(avg_meth_snf_louvain.loc[cancer].dropna().shape[0]):\n",
    "        cl_order[sorted_arg[i+1]+1] = i+1\n",
    "    louvain_clustering_pc[cancer] = louvain_clustering_pc[cancer].replace({\"cluster\": cl_order})\n",
    "    louvain_clustering_pc[cancer].index = new_meth_data_pc[cancer].index"
   ]
  },
  {
   "cell_type": "code",
   "execution_count": null,
   "metadata": {},
   "outputs": [],
   "source": [
    "# create a df with umap reduced data and cluster membership\n",
    "df_umap_agglomerative,umap_red_data_pd_agg = {},{}\n",
    "for cancer in cancer_to_keep:\n",
    "    umap_red_data_pd_agg[cancer] = pd.DataFrame(umap_red_data[cancer],index=agglomerative_clustering_pc[cancer].index,columns=[\"Comp1\",\"Comp2\"])\n",
    "    if cancer in triple_cluster_cancers_aff:\n",
    "        df_umap_agglomerative[cancer] = pd.concat([umap_red_data_pd_agg[cancer],agglomerative_clustering_pc[cancer]],axis=1).replace({1: \"Low cluster\", 2: \"Intermediate cluster\", 3: \"High cluster\"})\n",
    "    else:\n",
    "        df_umap_agglomerative[cancer] = pd.concat([umap_red_data_pd_agg[cancer],agglomerative_clustering_pc[cancer]],axis=1).replace({1: \"Low cluster\", 2: \"High cluster\"})\n",
    "    df_umap_agglomerative[cancer].columns = [\"Comp1\",\"Comp2\",\"Cluster\"]"
   ]
  },
  {
   "cell_type": "code",
   "execution_count": null,
   "metadata": {
    "scrolled": false
   },
   "outputs": [],
   "source": [
    "# compute the associated silhouette score in the 2D UMAP reduced space\n",
    "sil_scores_agg = []\n",
    "sil_scores_means_agg = []\n",
    "for cancer in tqdm(cancer_to_keep):\n",
    "    sil_pd = pd.concat([new_meth_data_pc[cancer],agglomerative_clustering_pc[cancer]],axis=1).dropna()\n",
    "    sil = silhouette_samples(sil_pd.drop(\"cluster\",axis=1),sil_pd[\"cluster\"].values.ravel(),metric=\"euclidean\")\n",
    "    mn = np.mean(sil)\n",
    "    print(cancer,mn)\n",
    "    sil_scores_agg.append(sil)\n",
    "    sil_scores_means_agg.append(mn)\n",
    "print(\"Mean {} IQR [{}-{}]\".format(np.mean(sil_scores_means_agg),np.quantile(sil_scores_means_agg,0.25),np.quantile(sil_scores_means_agg,0.75)))"
   ]
  },
  {
   "cell_type": "code",
   "execution_count": null,
   "metadata": {},
   "outputs": [],
   "source": [
    "# compute the associated silhouette score in the 2D UMAP reduced space\n",
    "sil_scores_gmm = []\n",
    "sil_scores_means_gmm = []\n",
    "for cancer in tqdm(cancer_to_keep):\n",
    "    sil_pd = pd.concat([new_meth_data_pc[cancer],gmm_clustering_pc[cancer]],axis=1).dropna()\n",
    "    sil = silhouette_samples(sil_pd.drop(\"cluster\",axis=1),sil_pd[\"cluster\"].values.ravel(),metric=\"euclidean\")\n",
    "    mn = np.mean(sil)\n",
    "    print(cancer,mn)\n",
    "    sil_scores_gmm.append(sil)\n",
    "    sil_scores_means_gmm.append(mn)\n",
    "print(\"Mean {} IQR [{}-{}]\".format(np.mean(sil_scores_means_gmm),np.quantile(sil_scores_means_gmm,0.25),np.quantile(sil_scores_means_gmm,0.75)))"
   ]
  },
  {
   "cell_type": "code",
   "execution_count": null,
   "metadata": {},
   "outputs": [],
   "source": [
    "# compute the associated silhouette score in the 2D UMAP reduced space\n",
    "sil_scores_kmeans = []\n",
    "sil_scores_means_kmeans = []\n",
    "for cancer in tqdm(cancer_to_keep):\n",
    "    sil_pd = pd.concat([new_meth_data_pc[cancer],kmeans_clustering_pc[cancer]],axis=1).dropna()\n",
    "    sil = silhouette_samples(sil_pd.drop(\"cluster\",axis=1),sil_pd[\"cluster\"].values.ravel(),metric=\"euclidean\")\n",
    "    mn = np.mean(sil)\n",
    "    print(cancer,mn)\n",
    "    sil_scores_kmeans.append(sil)\n",
    "    sil_scores_means_kmeans.append(mn)\n",
    "print(\"Mean {} IQR [{}-{}]\".format(np.mean(sil_scores_means_kmeans),np.quantile(sil_scores_means_kmeans,0.25),np.quantile(sil_scores_means_kmeans,0.75)))"
   ]
  },
  {
   "cell_type": "code",
   "execution_count": null,
   "metadata": {},
   "outputs": [],
   "source": [
    "# compute the associated silhouette score in the 2D UMAP reduced space\n",
    "sil_scores_louvain = []\n",
    "sil_scores_means_louvain = []\n",
    "for cancer in tqdm(cancer_to_keep):\n",
    "    sil_pd = pd.concat([new_meth_data_pc[cancer],louvain_clustering_pc[cancer]],axis=1).dropna()\n",
    "    sil = silhouette_samples(sil_pd.drop(\"cluster\",axis=1),sil_pd[\"cluster\"].values.ravel(),metric=\"euclidean\")\n",
    "    mn = np.mean(sil)\n",
    "    print(cancer,mn)\n",
    "    sil_scores_louvain.append(sil)\n",
    "    sil_scores_means_louvain.append(mn)\n",
    "print(\"Mean {} IQR [{}-{}]\".format(np.mean(sil_scores_means_louvain),np.quantile(sil_scores_means_louvain,0.25),np.quantile(sil_scores_means_louvain,0.75)))"
   ]
  },
  {
   "cell_type": "code",
   "execution_count": null,
   "metadata": {},
   "outputs": [],
   "source": [
    "# compute the associated silhouette score in the 2D UMAP reduced space\n",
    "sil_scores = []\n",
    "sil_scores_means= []\n",
    "for cancer in tqdm(cancer_to_keep):\n",
    "    sil_pd = pd.concat([new_meth_data_pc[cancer],consensus_clustering_spectral[cancer]],axis=1).dropna()\n",
    "    sil = silhouette_samples(sil_pd.drop(\"cluster\",axis=1),sil_pd[\"cluster\"].values.ravel(),metric=\"euclidean\")\n",
    "    mn = np.mean(sil)\n",
    "    print(cancer,mn)\n",
    "    sil_scores.append(sil)\n",
    "    sil_scores_means.append(mn)\n",
    "print(\"Mean {} IQR [{}-{}]\".format(np.mean(sil_scores_means),np.quantile(sil_scores_means,0.25),np.quantile(sil_scores_means,0.75)))"
   ]
  },
  {
   "cell_type": "code",
   "execution_count": null,
   "metadata": {
    "scrolled": true
   },
   "outputs": [],
   "source": [
    "pd.DataFrame(np.array([sil_scores_means,sil_scores_means_agg,sil_scores_means_kmeans,sil_scores_means_gmm,sil_scores_means_louvain]).T,columns=[\"spectral\",\"agg\",\"kmeans\",\"gmm\",\"louvain\"],index=cancer_to_keep).round(2)"
   ]
  },
  {
   "cell_type": "markdown",
   "metadata": {},
   "source": [
    "# Comparison of breaking into 2 or 3 clusters"
   ]
  },
  {
   "cell_type": "markdown",
   "metadata": {},
   "source": [
    "We break all the cancer types into 2 or 3 clusters, and choose the breakdown that maximizes the separability between the low and high methylated cluster ie the highest difference in average beta values"
   ]
  },
  {
   "cell_type": "markdown",
   "metadata": {},
   "source": [
    "(We run the same pipeline, these are only the results)"
   ]
  },
  {
   "cell_type": "code",
   "execution_count": null,
   "metadata": {
    "scrolled": true
   },
   "outputs": [],
   "source": [
    "# 2 clusters\n",
    "cimp_cancer_wdiff = []\n",
    "for cancer in cancer_order[:13]:\n",
    "    distmethcancer = dist_meth_spectral_1[dist_meth_spectral_1[\"cancer\"]==cancer]\n",
    "    cl1_avg = distmethcancer[distmethcancer[\"cluster\"]==\"Low cluster\"][\"beta\"].mean()\n",
    "    cl2_avg = distmethcancer[distmethcancer[\"cluster\"]==\"High cluster\"][\"beta\"].mean()\n",
    "    print(\"Cancer {} diff between cluster avg : {} & high group value : {}\".format(cancer,cl2_avg-cl1_avg,cl2_avg))\n",
    "    if cl2_avg-cl1_avg>0.15:\n",
    "        cimp_cancer_wdiff.append(cancer)\n",
    "cimp_cancer_wdiff"
   ]
  },
  {
   "cell_type": "code",
   "execution_count": null,
   "metadata": {
    "scrolled": true
   },
   "outputs": [],
   "source": [
    "# 3 clusters\n",
    "# look for differences in group average beta value to characterize into sCIMP and wCIMP\n",
    "cimp_cancer_wdiff = []\n",
    "for cancer in cancer_order[:13]:\n",
    "    distmethcancer = dist_meth_spectral_1[dist_meth_spectral_1[\"cancer\"]==cancer]\n",
    "    cl1_avg = distmethcancer[distmethcancer[\"cluster\"]==\"Low cluster\"][\"beta\"].mean()\n",
    "    cl2_avg = distmethcancer[distmethcancer[\"cluster\"]==\"High cluster\"][\"beta\"].mean()\n",
    "    print(\"Cancer {} diff between cluster avg : {} & high group value : {}\".format(cancer,cl2_avg-cl1_avg,cl2_avg))\n",
    "    if cl2_avg-cl1_avg>0.15:\n",
    "        cimp_cancer_wdiff.append(cancer)\n",
    "cimp_cancer_wdiff"
   ]
  },
  {
   "cell_type": "code",
   "execution_count": null,
   "metadata": {},
   "outputs": [],
   "source": [
    "# 2 clusters\n",
    "cimp_cancer_wdiff= []\n",
    "# for cancer in cancer_to_keep:\n",
    "for cancer in cancer_order[13:]:\n",
    "    distmethcancer = dist_meth_spectral_2[dist_meth_spectral_2[\"cancer\"]==cancer]\n",
    "    cl1_avg = distmethcancer[distmethcancer[\"cluster\"]==\"Low cluster\"][\"beta\"].mean()\n",
    "    cl2_avg = distmethcancer[distmethcancer[\"cluster\"]==\"High cluster\"][\"beta\"].mean()\n",
    "    print(\"Cancer {} diff between cluster avg : {} & high group value : {}\".format(cancer,cl2_avg-cl1_avg,cl2_avg))\n",
    "    if cl2_avg-cl1_avg>0.15:\n",
    "        cimp_cancer_wdiff.append(cancer)\n",
    "cimp_cancer_wdiff"
   ]
  },
  {
   "cell_type": "code",
   "execution_count": null,
   "metadata": {
    "scrolled": true
   },
   "outputs": [],
   "source": [
    "# 3 clusters\n",
    "cimp_cancer_wdiff= []\n",
    "# for cancer in cancer_to_keep:\n",
    "for cancer in cancer_order[13:]:\n",
    "    distmethcancer = dist_meth_spectral_2[dist_meth_spectral_2[\"cancer\"]==cancer]\n",
    "    cl1_avg = distmethcancer[distmethcancer[\"cluster\"]==\"Low cluster\"][\"beta\"].mean()\n",
    "    cl2_avg = distmethcancer[distmethcancer[\"cluster\"]==\"High cluster\"][\"beta\"].mean()\n",
    "    print(\"Cancer {} diff between cluster avg : {} & high group value : {}\".format(cancer,cl2_avg-cl1_avg,cl2_avg))\n",
    "    if cl2_avg-cl1_avg>0.15:\n",
    "        cimp_cancer_wdiff.append(cancer)\n",
    "cimp_cancer_wdiff"
   ]
  },
  {
   "cell_type": "code",
   "execution_count": null,
   "metadata": {},
   "outputs": [],
   "source": []
  }
 ],
 "metadata": {
  "kernelspec": {
   "display_name": "Python 3",
   "language": "python",
   "name": "python3"
  },
  "language_info": {
   "codemirror_mode": {
    "name": "ipython",
    "version": 3
   },
   "file_extension": ".py",
   "mimetype": "text/x-python",
   "name": "python",
   "nbconvert_exporter": "python",
   "pygments_lexer": "ipython3",
   "version": "3.7.6"
  }
 },
 "nbformat": 4,
 "nbformat_minor": 4
}
