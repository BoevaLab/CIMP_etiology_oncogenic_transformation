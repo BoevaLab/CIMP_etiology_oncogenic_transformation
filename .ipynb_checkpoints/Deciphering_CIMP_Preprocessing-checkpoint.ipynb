{
 "cells": [
  {
   "cell_type": "markdown",
   "metadata": {},
   "source": [
    "The goal of this notebook is to preprocess relevant information from the GDC portal (using UCSC Xena) to use in Deciphering_CIMP_Analysis\n",
    "Data can be downloaded directly from the UCSC Xena website\n",
    "\n",
    "**IMPORTANT: placeholders were added in lieu of the path to the files used. All files used for the analysis can be found online - GDC for TCGA, purity estimates are CPE and ESTIMATE run of TCGA data**"
   ]
  },
  {
   "cell_type": "code",
   "execution_count": null,
   "metadata": {},
   "outputs": [],
   "source": [
    "from __future__ import division\n",
    "import numpy as np\n",
    "import pandas as pd\n",
    "import xenaPython as xena\n",
    "import re\n",
    "import os\n",
    "from collections import Counter\n",
    "import matplotlib.pyplot as plt\n",
    "import csv\n",
    "from tqdm.notebook import trange, tqdm\n",
    "import time\n",
    "from sklearn.linear_model import LinearRegression\n",
    "from scipy.stats import pearsonr\n",
    "import seaborn as sns\n",
    "from statsmodels.stats.multitest import multipletests"
   ]
  },
  {
   "cell_type": "markdown",
   "metadata": {},
   "source": [
    "# Clinical mat preprocessing"
   ]
  },
  {
   "cell_type": "markdown",
   "metadata": {},
   "source": [
    "Preprocessing the clinical matrices is somewhat complicated in the sense that they are not systematically named; this script by no means claims to take into account all cases but works for all studied cancer types"
   ]
  },
  {
   "cell_type": "code",
   "execution_count": null,
   "metadata": {},
   "outputs": [],
   "source": [
    "survival_dir = \"\\path\\to\\survival\\files\\GDC\"\n",
    "clin_dir = \"\\path\\to\\raw\\clinical\\info\\GDC\"\n",
    "info_dir = \"path\\to\\methylation\\and\\clinical\\files\\GDC\""
   ]
  },
  {
   "cell_type": "code",
   "execution_count": null,
   "metadata": {},
   "outputs": [],
   "source": [
    "clin_files = os.listdir(info_dir)\n",
    "survival_files = os.listdir(survival_dir)"
   ]
  },
  {
   "cell_type": "code",
   "execution_count": null,
   "metadata": {},
   "outputs": [],
   "source": [
    "cancer_to_keep = np.unique([clin_files[i].split(\".\")[0].split(\"_\")[0] for i in range(len(clin_files))])"
   ]
  },
  {
   "cell_type": "code",
   "execution_count": null,
   "metadata": {},
   "outputs": [],
   "source": [
    "cancer_to_keep"
   ]
  },
  {
   "cell_type": "code",
   "execution_count": null,
   "metadata": {},
   "outputs": [],
   "source": [
    "clinpd = pd.read_csv(os.path.join(clin_dir,clin_files[3]),sep=\"\\t\")"
   ]
  },
  {
   "cell_type": "code",
   "execution_count": null,
   "metadata": {
    "scrolled": true
   },
   "outputs": [],
   "source": [
    "for i,cancer in enumerate(tqdm(cancer_to_keep)):\n",
    "    print(cancer,i)\n",
    "    clinpd = pd.read_csv(os.path.join(clin_dir,clin_files[i]),sep=\"\\t\")\n",
    "    if cancer==\"PRAD\":\n",
    "        clinical_matrix = clinpd.set_index(\"submitter_id.samples\")[[\"clinical_T\",\"days_to_birth.demographic\",\"gender.demographic\"]]\n",
    "        clinical_matrix.columns = ['stage', 'age', 'gender']\n",
    "    elif \"pathologic_stage\" in list(clinpd.columns):\n",
    "        clinical_matrix = clinpd.set_index(\"sampleID\")[[\"pathologic_stage\",\"days_to_birth\",\"gender\"]]\n",
    "        clinical_matrix.columns = ['stage', 'age', 'gender']\n",
    "    elif \"pathological_stage\" in list(clinpd.columns):\n",
    "        clinical_matrix = clinpd.set_index(\"sampleID\")[[\"pathological_stage\",\"days_to_birth\",\"gender\"]]   \n",
    "        clinical_matrix.columns = ['stage', 'age', 'gender']\n",
    "    elif \"clinical_stage\" in list(clinpd.columns):\n",
    "        if \"sampleID\" in list(clinpd.columns):\n",
    "            clinical_matrix = clinpd.set_index(\"sampleID\")[[\"clinical_stage\",\"days_to_birth\",\"gender\"]] \n",
    "        else:\n",
    "            clinical_matrix = clinpd.set_index(\"submitter_id.samples\")[[\"clinical_stage\",\"days_to_birth.demographic\",\"gender.demographic\"]]\n",
    "        clinical_matrix.columns = ['stage', 'age', 'gender']\n",
    "    elif \"tumor_stage.diagnoses\" in list(clinpd.columns):\n",
    "        if \"sampleID\" in list(clinpd.columns):\n",
    "            clinical_matrix = clinpd.set_index(\"sampleID\")[[\"tumor_stage.diagnoses\",\"days_to_birth\",\"gender\"]] \n",
    "        else:\n",
    "            clinical_matrix = clinpd.set_index(\"submitter_id.samples\")[[\"tumor_stage.diagnoses\",\"days_to_birth.demographic\",\"gender.demographic\"]]\n",
    "        clinical_matrix.columns = ['stage', 'age', 'gender']\n",
    "    else:\n",
    "        clinical_matrix = clinpd.set_index(\"sampleID\")[[\"days_to_birth\",\"gender\"]]\n",
    "        clinical_matrix.columns = ['age', 'gender']\n",
    "        \n",
    "    survival_matrix = pd.read_csv(os.path.join(survival_dir,survival_files[i]),sep=\"\\t\")\n",
    "    if \"sample\" in list(survival_matrix.columns):\n",
    "        survival_matrix = survival_matrix.set_index(\"sample\")[[\"OS\",\"OS.time\"]]\n",
    "    else:\n",
    "        survival_matrix = survival_matrix.set_index(\"xena_sample\")[[\"OS\",\"OS.time\"]]\n",
    "    full_clin_matrix = pd.concat([clinical_matrix,survival_matrix],axis=1)\n",
    "    common_pat = survival_matrix.index.intersection(clinical_matrix.index)\n",
    "    print(\"Number of patients : \",len(common_pat))\n",
    "    clinical_matrix = clinical_matrix.loc[common_pat]\n",
    "    survival_matrix = survival_matrix.loc[common_pat]\n",
    "    full_clin_matrix.index = [full_clin_matrix.index[i][:15] for i in range(len(full_clin_matrix.index))]\n",
    "    full_clin_matrix.to_csv(os.path.join(info_dir,cancer+\"_clin_mat.csv\"))"
   ]
  },
  {
   "cell_type": "markdown",
   "metadata": {},
   "source": [
    "# Methylation preprocessing"
   ]
  },
  {
   "cell_type": "markdown",
   "metadata": {},
   "source": [
    "There are 4 steps to methylation preprocessing that we will go through: \n",
    "1. Filter out NA, keep only CpG Islands (+shores & shelves), filter out X and Y chromosome probes\n",
    "2. Keep only most variable probes \n",
    "3. Deconvolute methylation to keep only the cancerous cells signal (ie correct for purity)\n",
    "4. Remove potentially age-related probes (shared across at least two tissues)"
   ]
  },
  {
   "cell_type": "code",
   "execution_count": null,
   "metadata": {},
   "outputs": [],
   "source": [
    "info_dir = \"path\\to\\clinical\\files\\and\\meth\\files\"\n",
    "clin_data_pc = {}\n",
    "for cancer in tqdm(cancer_to_keep):\n",
    "    clin_data_pc[cancer] = pd.read_csv(os.path.join(info_dir,cancer+\"_clin_mat.csv\"))\n",
    "    clin_data_pc[cancer] = clin_data_pc[cancer].set_index(\"Unnamed: 0\")   "
   ]
  },
  {
   "cell_type": "markdown",
   "metadata": {},
   "source": [
    "## Step 0. Download data"
   ]
  },
  {
   "cell_type": "code",
   "execution_count": null,
   "metadata": {},
   "outputs": [],
   "source": [
    "raw_dir = \"\\path\\to\\raw\\methylation\\info\\GDC\"\n",
    "cancer_to_keep = os.listdir(raw_dir)\n",
    "cancer_to_keep = [cancer.split(\".\")[0].split(\"-\")[1] for cancer in cancer_to_keep]"
   ]
  },
  {
   "cell_type": "code",
   "execution_count": null,
   "metadata": {},
   "outputs": [],
   "source": [
    "meth_raw_pc = {}\n",
    "for cancer in tqdm(cancer_to_keep):\n",
    "    meth_data_450k = pd.read_csv(os.path.join(raw_dir,\"TCGA-\"+cancer+\".methylation450.tsv.gz\"),sep=\"\\t\")\n",
    "    meth_data_450k = meth_data_450k.set_index(\"Composite Element REF\")\n",
    "    meth_data_csv_nona = meth_data_450k.dropna(how=\"any\").T\n",
    "    meth_data_csv_nona.index = [pat[:15] for pat in np.array(meth_data_450k.columns)]\n",
    "    meth_raw_pc[cancer] = meth_data_csv_nona "
   ]
  },
  {
   "cell_type": "code",
   "execution_count": null,
   "metadata": {},
   "outputs": [],
   "source": [
    "### to concatenate ESTIMATE purity files\n",
    "# First, take separate ESTIMATE purity estimations and concatenate them so that they resemble the \n",
    "# downloaded CPE purity estimations \n",
    "estimate_purity_dir = \"path\\to\\ESTIMATE\\purity\\information\"\n",
    "cancer_estimate_purity = [\"ESCA\", \"LAML\", \"MESO\", \"PAAD\", \"PCPG\", \"SARC\", \"STAD\", \"THYM\"]\n",
    "full_purity_df = []\n",
    "for cancer in tqdm(cancer_estimate_purity):\n",
    "    purity_cancer = pd.read_csv(os.path.join(estimate_purity_dir,\"TCGA_\"+cancer+\"_estimate_score.txt\"),sep=\"\\t\")\n",
    "    purity_cancer = purity_cancer.drop(0).drop(\"Unnamed: 1\",axis=1).set_index(\"#1.2\").T.set_index(\"NAME\")\n",
    "    purity_cancer.index = purity_cancer.index.str.replace(\".\",\"-\")\n",
    "    purity_cancer[\"cancer_type\"]=[cancer]*purity_cancer.shape[0]\n",
    "    if len(full_purity_df)==0:\n",
    "        full_purity_df = purity_cancer\n",
    "    else:\n",
    "        full_purity_df = pd.concat([full_purity_df,purity_cancer])\n",
    "full_purity_df.to_csv(\"path\\tumor_purity_ESTIMATE.csv\")"
   ]
  },
  {
   "cell_type": "code",
   "execution_count": null,
   "metadata": {},
   "outputs": [],
   "source": [
    "# download both the CPE purity data and ESTIMATE data for those that do not have CPE\n",
    "purity = pd.read_csv(\"path\\to\\CPE\\purity\\tumor_purity.csv\")\n",
    "estimate_purity = pd.read_csv(\"path\\tumor_purity_ESTIMATE.csv\").set_index(\"NAME\")"
   ]
  },
  {
   "cell_type": "code",
   "execution_count": null,
   "metadata": {},
   "outputs": [],
   "source": [
    "# Systematically name the patients\n",
    "purity[\"Sample.ID\"] = np.array([purity[\"Sample.ID\"].values[i][:-1] for i in range (len(purity[\"Sample.ID\"].values))])\n",
    "purity = purity.set_index(\"Sample.ID\")\n",
    "\n",
    "# Sometimes there is no CPE information; we replace it by ESTIMATE (and IHC for 1 patient that has none)\n",
    "purity[\"CPE\"] = purity[\"CPE\"].str.replace(\",\",\".\").astype(float)\n",
    "ind_na = np.where(purity[\"CPE\"].isna())[0]\n",
    "purity.iloc[ind_na,-1] = purity.iloc[ind_na,-5].str.replace(\",\",\".\").astype(float)\n",
    "ind_na_double = np.where(purity[\"CPE\"].isna())[0]\n",
    "purity.iloc[ind_na_double,-1] = purity.iloc[ind_na_double,-2].str.replace(\",\",\".\").astype(float)\n",
    "\n",
    "purity = purity[~purity.index.duplicated(keep='first')]"
   ]
  },
  {
   "cell_type": "code",
   "execution_count": null,
   "metadata": {},
   "outputs": [],
   "source": [
    "Counter(purity[\"Cancer.type\"].values.ravel())"
   ]
  },
  {
   "cell_type": "markdown",
   "metadata": {},
   "source": [
    "## Step 1. Filter out NA, CGI, X/Y chr"
   ]
  },
  {
   "cell_type": "markdown",
   "metadata": {},
   "source": [
    "### Get cpg mappings through GEO database"
   ]
  },
  {
   "cell_type": "code",
   "execution_count": null,
   "metadata": {
    "scrolled": true
   },
   "outputs": [],
   "source": [
    "Meth45k = []\n",
    "with open(\"annotation\\file\") as csvfile:\n",
    "    spamreader = csv.reader(csvfile, delimiter=',')\n",
    "    for row in spamreader:\n",
    "        Meth45k.append(row)"
   ]
  },
  {
   "cell_type": "code",
   "execution_count": null,
   "metadata": {},
   "outputs": [],
   "source": [
    "colnames_45k = Meth45k[7]\n",
    "methylation_val_45k = Meth45k[8:]\n",
    "Meth45k_df = pd.DataFrame(methylation_val_45k,columns=colnames_45k)"
   ]
  },
  {
   "cell_type": "code",
   "execution_count": null,
   "metadata": {},
   "outputs": [],
   "source": [
    "Meth45k_df = Meth45k_df.set_index(\"IlmnID\")"
   ]
  },
  {
   "cell_type": "code",
   "execution_count": null,
   "metadata": {
    "scrolled": true
   },
   "outputs": [],
   "source": [
    "Counter(Meth45k_df['Relation_to_UCSC_CpG_Island'])"
   ]
  },
  {
   "cell_type": "markdown",
   "metadata": {},
   "source": [
    "### CpG Islands only"
   ]
  },
  {
   "cell_type": "code",
   "execution_count": null,
   "metadata": {},
   "outputs": [],
   "source": [
    "CIMP_list = [\"N_Shore\",\"S_Shelf\",\"Island\",\"S_Shore\",\"N_Shelf\"]"
   ]
  },
  {
   "cell_type": "code",
   "execution_count": null,
   "metadata": {},
   "outputs": [],
   "source": [
    "cpg_island_45k=np.array(Meth45k_df[Meth45k_df[\"Relation_to_UCSC_CpG_Island\"].isin(CIMP_list)].index)"
   ]
  },
  {
   "cell_type": "markdown",
   "metadata": {},
   "source": [
    "### Filter out chr X/Y positions"
   ]
  },
  {
   "cell_type": "markdown",
   "metadata": {},
   "source": [
    "To avoid clustering by gender and to avoid artificial hypermethylation created by gender (eg X chromosome inactivation), we remove the Cpg ids linked to the X/Y chromosome"
   ]
  },
  {
   "cell_type": "code",
   "execution_count": null,
   "metadata": {},
   "outputs": [],
   "source": [
    "not_chrX_cpg= np.array(Meth45k_df.iloc[np.where(np.invert(Meth45k_df[\"CHR\"].values==\"X\"))[0]].index)\n",
    "not_chrY_cpg= np.array(Meth45k_df.iloc[np.where(np.invert(Meth45k_df[\"CHR\"].values==\"Y\"))[0]].index)"
   ]
  },
  {
   "cell_type": "markdown",
   "metadata": {},
   "source": [
    "### First filter"
   ]
  },
  {
   "cell_type": "code",
   "execution_count": null,
   "metadata": {
    "scrolled": true
   },
   "outputs": [],
   "source": [
    "first_filter_count = []\n",
    "filtered_meth_data_pc = {}\n",
    "for cancer in tqdm(cancer_to_keep):\n",
    "    print(cancer)\n",
    "    meth_data_csv_nona = meth_raw_pc[cancer]\n",
    "    filtered_meth_data = meth_data_csv_nona[meth_data_csv_nona.columns.intersection(cpg_island_45k)]\n",
    "    filtered_meth_data = filtered_meth_data[filtered_meth_data.columns.intersection(not_chrX_cpg)]\n",
    "    filtered_meth_data_pc[cancer] = filtered_meth_data[filtered_meth_data.columns.intersection(not_chrY_cpg)]\n",
    "    print(\"First filter done\")\n",
    "    first_filter_count.append(meth_data_csv_nona.shape[1]-filtered_meth_data_pc[cancer].shape[1])"
   ]
  },
  {
   "cell_type": "code",
   "execution_count": null,
   "metadata": {},
   "outputs": [],
   "source": [
    "del meth_raw_pc"
   ]
  },
  {
   "cell_type": "markdown",
   "metadata": {},
   "source": [
    "## Step 2. Remove non-variable"
   ]
  },
  {
   "cell_type": "markdown",
   "metadata": {},
   "source": [
    "We use K-means to classify the std of probes into low and high std; we remove the low mode"
   ]
  },
  {
   "cell_type": "code",
   "execution_count": null,
   "metadata": {},
   "outputs": [],
   "source": [
    "from sklearn.cluster import KMeans"
   ]
  },
  {
   "cell_type": "code",
   "execution_count": null,
   "metadata": {},
   "outputs": [],
   "source": [
    "std_dir = \"path\\to\\dir\\to\\save\\std\"\n",
    "purity_r_dir = \"path\\to\\dir\\to\\save\\purity\""
   ]
  },
  {
   "cell_type": "code",
   "execution_count": null,
   "metadata": {},
   "outputs": [],
   "source": [
    "cancer_to_keep = os.listdir(raw_dir)\n",
    "cancer_to_keep = [cancer_to_keep[i].split(\".\")[0].split(\"-\")[1] for i in range(len(cancer_to_keep))]\n",
    "cancer_estimate_purity = [\"ESCA\", \"LAML\", \"MESO\", \"PAAD\", \"PCPG\", \"SARC\", \"STAD\", \"THYM\"]"
   ]
  },
  {
   "cell_type": "code",
   "execution_count": null,
   "metadata": {},
   "outputs": [],
   "source": [
    "second_filter_count = []\n",
    "for cancer in tqdm(cancer_to_keep):\n",
    "\n",
    "    std_meth =  filtered_meth_data_pc[cancer].std()\n",
    "    std_array = std_meth.values.reshape(-1,1)\n",
    "    # train k-means on the std of probes\n",
    "    km = KMeans(n_clusters=2).fit(std_array)\n",
    "    high_mode = np.argmax(km.cluster_centers_)\n",
    "    low_mode = np.argmin(km.cluster_centers_)\n",
    "    membership = km.labels_\n",
    "    second_filter_count.append(Counter(membership)[low_mode])\n",
    "    \n",
    "    full_std_df = pd.concat([std_meth,pd.DataFrame(membership.reshape(-1,1),index=std_meth.index)],axis=1)\n",
    "    full_std_df.columns = [\"std\",\"membership\"]\n",
    "    full_std_df[\"membership\"]= full_std_df[\"membership\"].replace({low_mode: \"Low mode\", high_mode: \"High mode\"})\n",
    "    full_std_df.to_csv(os.path.join(std_dir,cancer+\"_std_km.csv\"))"
   ]
  },
  {
   "cell_type": "code",
   "execution_count": null,
   "metadata": {},
   "outputs": [],
   "source": [
    "size_450k = 485764\n",
    "first_filter_size,first_filter_perc = [],[]\n",
    "for cancer in tqdm(cancer_to_keep):\n",
    "    size = pd.read_csv(os.path.join(std_dir,cancer+\"_std_km.csv\")).shape[0]\n",
    "    first_filter_size.append(size_450k-size)\n",
    "    perc = 100-np.round(size/size_450k*100)\n",
    "    first_filter_perc.append(perc)"
   ]
  },
  {
   "cell_type": "code",
   "execution_count": null,
   "metadata": {},
   "outputs": [],
   "source": [
    "first_filter_perc"
   ]
  },
  {
   "cell_type": "code",
   "execution_count": null,
   "metadata": {
    "scrolled": false
   },
   "outputs": [],
   "source": [
    "fig, ax = plt.subplots(5,6,figsize=(25,15))"
   ]
  },
  {
   "cell_type": "code",
   "execution_count": null,
   "metadata": {},
   "outputs": [],
   "source": [
    "flatax = ax.flatten()"
   ]
  },
  {
   "cell_type": "code",
   "execution_count": null,
   "metadata": {},
   "outputs": [],
   "source": [
    "seapal = sns.color_palette()\n",
    "for i,cancer in tqdm(enumerate(cancer_to_keep)):\n",
    "    std_meth = pd.read_csv(os.path.join(std_dir,cancer+\"_std_km.csv\")).set_index(\"Composite Element REF\")\n",
    "\n",
    "    sns.kdeplot(data=std_meth, x=\"std\", hue=\"membership\", shade=\"fill\",ax=flatax[i], palette={\"Low mode\": seapal[0], \"High mode\": seapal[1]})\n",
    "    sns.kdeplot(data=std_meth, x=\"std\", color=\"red\", label=\"Full density\",ax=flatax[i])\n",
    "    flatax[i].set_xlabel(\"std\")\n",
    "    flatax[i].set_title(cancer+\" standard deviation density\")\n",
    "    flatax[i].set_xlim([-0.01,0.4])"
   ]
  },
  {
   "cell_type": "code",
   "execution_count": null,
   "metadata": {
    "scrolled": false
   },
   "outputs": [],
   "source": [
    "fig.tight_layout()\n",
    "fig"
   ]
  },
  {
   "cell_type": "code",
   "execution_count": null,
   "metadata": {},
   "outputs": [],
   "source": [
    "flatax[-4].axis(\"off\")\n",
    "flatax[-3].axis(\"off\")\n",
    "flatax[-2].axis(\"off\")\n",
    "flatax[-1].axis(\"off\")"
   ]
  },
  {
   "cell_type": "code",
   "execution_count": null,
   "metadata": {},
   "outputs": [],
   "source": [
    "fig.savefig(\"std_density_km.png\",dpi=100,bbox_inches=\"tight\")\n",
    "fig.savefig(\"std_density_km.svg\",dpi=100,bbox_inches=\"tight\")"
   ]
  },
  {
   "cell_type": "code",
   "execution_count": null,
   "metadata": {},
   "outputs": [],
   "source": [
    "for cancer in tqdm(cancer_to_keep):\n",
    "    std_meth = pd.read_csv(os.path.join(std_dir,cancer+\"_std_km.csv\")).set_index(\"Composite Element REF\")\n",
    "    ind_keep = np.where(std_meth[\"membership\"]==\"High mode\")[0]\n",
    "    std_meth_filtered = std_meth.iloc[ind_keep]\n",
    "    filtered_meth_data_pc[cancer] = filtered_meth_data_pc[cancer][list(std_meth_filtered.index)]"
   ]
  },
  {
   "cell_type": "markdown",
   "metadata": {},
   "source": [
    "## Step 3. Purity correction"
   ]
  },
  {
   "cell_type": "markdown",
   "metadata": {},
   "source": [
    "To perform purity correction we use: \n",
    "1. debCAM method: Chen L, Wu CT, Wang N, Herrington DM, Clarke R, Wang Y. debCAM: a bioconductor R package for fully unsupervised deconvolution of complex tissues. Bioinformatics. 2020 Jun 1;36(12):3927-3929. doi: 10.1093/bioinformatics/btaa205. PMID: 32219387; PMCID: PMC7320609.\n",
    "2. Approximation inspired from swCAM: Chen L, Wu C-T, Lin C-H, et al. swCAM: estimation of subtype-specific expressions in individual samples with unsupervised sample-wise deconvolution. biorXiv, March 2021\n",
    "\n",
    "debCAM with known mixing parameters is equivalent to using NNLS on X = AS to find S"
   ]
  },
  {
   "cell_type": "code",
   "execution_count": null,
   "metadata": {},
   "outputs": [],
   "source": [
    "from scipy.optimize import nnls"
   ]
  },
  {
   "cell_type": "code",
   "execution_count": null,
   "metadata": {},
   "outputs": [],
   "source": [
    "nnls_dir = \"path\\to\\dir\\to\\save\\NNLS_estimates\"\n",
    "second_filter_perc, second_filter_size = [],[]\n",
    "for i,cancer in tqdm(enumerate(cancer_to_keep)):\n",
    "    Sest =pd.read_csv(os.path.join(nnls_dir,cancer+\"_Sest.csv\"))\n",
    "    size = Sest.shape[0]\n",
    "    init_size = size_450k - first_filter_size[i]\n",
    "    remaining = init_size - size\n",
    "    second_filter_size.append(remaining)\n",
    "    perc = np.round((remaining/size_450k)*100)\n",
    "    second_filter_perc.append(perc)"
   ]
  },
  {
   "cell_type": "code",
   "execution_count": null,
   "metadata": {},
   "outputs": [],
   "source": [
    "second_filter_perc"
   ]
  },
  {
   "cell_type": "code",
   "execution_count": null,
   "metadata": {
    "scrolled": true
   },
   "outputs": [],
   "source": [
    "nnls_dir = \"path\\to\\dir\\to\\save\\NNLS_estimates\"\n",
    "purity_dir = \"path\\to\\dir\\to\\save\\final_estimates\"\n",
    "purity_corrected_meth_data_pc = {}\n",
    "\n",
    "avg_perc_clipped_probes = {}\n",
    "avg_pos_probes = {}\n",
    "avg_neg_probes = {}\n",
    "for cancer in tqdm(cancer_to_keep):\n",
    "    # get the list of normal patients to remove them from the purity correction\n",
    "    normal_pat = []\n",
    "    pat_list = np.array(filtered_meth_data_pc[cancer].index)\n",
    "    for pat in pat_list:\n",
    "        if pat.split(\"-\")[-1]=='11' or pat.split(\"-\")[-1]=='03':\n",
    "            normal_pat.append(pat)\n",
    "    \n",
    "    # get the purity estimates and remove duplicates\n",
    "    if cancer in cancer_estimate_purity:\n",
    "        common_pat = filtered_meth_data_pc[cancer].index.intersection(estimate_purity.index)\n",
    "        common_pat = common_pat[~common_pat.duplicated()]\n",
    "        y = estimate_purity.loc[common_pat]\n",
    "        y = y[\"TumorPurity\"].astype(float)\n",
    "    else:\n",
    "        common_pat = filtered_meth_data_pc[cancer].index.intersection(purity.index)\n",
    "        common_pat = common_pat[~common_pat.duplicated()]\n",
    "        y = purity.loc[common_pat][\"CPE\"]\n",
    "    \n",
    "    # the mixing matrix A is (purity, 1-purity) for each patient\n",
    "    A = pd.concat([y,y.apply(lambda x: 1-x)],axis=1)\n",
    "    A.columns = [\"cancer\",\"infiltrate\"]\n",
    "    \n",
    "    # remove the normal patients from the analysis\n",
    "    X = filtered_meth_data_pc[cancer].drop(normal_pat)\n",
    "    A = A.drop(A.index.intersection(normal_pat))\n",
    "    # ensure we get the right order/patients, X is the observation matrix\n",
    "    merged_X = X.merge(A,left_index=True,right_index=True,how=\"left\")\n",
    "    \n",
    "    # get the array for A and X and remove the nan patients from the correction\n",
    "    A_arr = merged_X[[\"cancer\",\"infiltrate\"]].values\n",
    "    X_arr = merged_X.drop([\"cancer\",\"infiltrate\"],axis=1).values\n",
    "    ind_nan = np.unique(np.where(np.isnan(A_arr))[0])\n",
    "    ind_non_nan = np.unique(np.where(~np.isnan(A_arr))[0])\n",
    "    patients_na = merged_X.index[ind_nan]\n",
    "    A_arr = A_arr[ind_non_nan]\n",
    "    X_arr = X_arr[ind_non_nan]\n",
    "    \n",
    "    # for each probe, perform NNLS to estimate the S matrix (subtype specific expression for that probe)\n",
    "    cg_val = []\n",
    "    for i in tqdm(range(len(X.columns))):\n",
    "        cg_val.append(nnls(A_arr,X_arr[:,i])[0])\n",
    "    \n",
    "    # clip to [0,1] interval to fit constraints\n",
    "    S = pd.DataFrame(np.clip(np.array(cg_val),0,1),index=filtered_meth_data_pc[cancer].columns)\n",
    "    \n",
    "    # save the estimate substype specific matrix and mixing matrx S and A\n",
    "    S.to_csv(os.path.join(nnls_dir,cancer+\"_Sest.csv\"))\n",
    "    pd.DataFrame(A_arr,index=merged_X.index[ind_non_nan],columns=[\"cancer\",\"infiltrate\"]).to_csv(os.path.join(nnls_dir,cancer+\"_Aest.csv\"))\n",
    "    \n",
    "    # compute the number of clipped values for cancerous probes and infiltrate probes\n",
    "    diff_index = np.where((np.clip(np.array(cg_val),0,1)[:,0]-np.array(cg_val)[:,0])!=0)[0]\n",
    "    print(cancer,\"clipped cancer probes %:\",np.round(len(diff_index)/S.shape[0],3)*100,\"(\",len(diff_index),\")\")\n",
    "    if len(diff_index)>0:\n",
    "        print(\"mean: {}, min: {}, max: {}\".format(np.array(cg_val)[:,0][diff_index].mean(),np.array(cg_val)[:,0][diff_index].min(),np.array(cg_val)[:,0][diff_index].max()))\n",
    "    \n",
    "    avg_perc_clipped_probes[cancer]=[np.round(len(diff_index)/S.shape[0],3)*100]\n",
    "    avg_pos_probes[cancer]=[np.array(cg_val)[:,0][diff_index].mean()]\n",
    "    \n",
    "    diff_index = np.where((np.clip(np.array(cg_val),0,1)[:,1]-np.array(cg_val)[:,1])!=0)[0]\n",
    "    print(cancer,\"clipped infiltrate probes %:\",np.round(len(diff_index)/S.shape[0],3)*100,\"(\",len(diff_index),\")\")\n",
    "    if len(diff_index)>0:\n",
    "        print(\"mean: {}, min: {}, max: {}\".format(np.array(cg_val)[:,1][diff_index].mean(),np.array(cg_val)[:,1][diff_index].min(),np.array(cg_val)[:,1][diff_index].max()))\n",
    "    avg_neg_probes[cancer]=[0]\n",
    "    \n",
    "    # compute the individual matrix using the approximation (see methods in the paper)\n",
    "    indS = (X_arr - np.dot(A_arr[:,1].reshape(-1,1),S[1].values.reshape(1,-1)))\n",
    "    indS = indS/A_arr[:,0].reshape(-1,1)\n",
    "    S_df = pd.DataFrame(indS,index=merged_X.index[ind_non_nan],columns=S.index)\n",
    "    S_df = pd.concat([S_df,filtered_meth_data_pc[cancer].loc[patients_na],filtered_meth_data_pc[cancer].loc[normal_pat]])\n",
    "    \n",
    "    # compute statistics on the clipped probes\n",
    "    df = (S_df - S_df.clip(0,1))\n",
    "    n=S_df.shape[0]*S_df.shape[1]\n",
    "    \n",
    "    neg_df = df.where(df<0,0)\n",
    "    diff_index = np.where(neg_df!=0)\n",
    "    print(cancer,\"% clipped neg probes : \",np.round(len(diff_index[0])/n,3)*100)\n",
    "    print(\"Mean neg : {}\".format(neg_df.sum().sum()/len(diff_index[0])))\n",
    "    \n",
    "    avg_perc_clipped_probes[cancer].append(np.round(len(diff_index[0])/n,3)*100)\n",
    "    \n",
    "    pos_df = df.where(df>0,0)\n",
    "    diff_index = np.where(pos_df!=0)\n",
    "    print(cancer,\"% clipped pos probes : \",np.round(len(diff_index[0])/n,3)*100)\n",
    "    print(\"Mean pos : {}\".format(1+pos_df.sum().sum()/len(diff_index[0])))   \n",
    "    \n",
    "    avg_perc_clipped_probes[cancer].append(np.round(len(diff_index[0])/n,3)*100)\n",
    "    \n",
    "    avg_pos_probes[cancer].append(1+pos_df.sum().sum()/len(diff_index[0]))\n",
    "    avg_neg_probes[cancer].append(neg_df.sum().sum()/len(diff_index[0]))\n",
    "    \n",
    "    # clip the individual corrected methylation matrix \n",
    "    S_df.clip(0,1,inplace=True)\n",
    "    purity_corrected_meth_data_pc[cancer]=S_df\n",
    "    S_df.to_csv(os.path.join(purity_dir,cancer+\"_meth_filtered_CAM.csv\"))"
   ]
  },
  {
   "cell_type": "markdown",
   "metadata": {},
   "source": [
    "Next we plot the evolution of standard deviation before and after purity correction"
   ]
  },
  {
   "cell_type": "code",
   "execution_count": null,
   "metadata": {},
   "outputs": [],
   "source": [
    "pur_corr_dir = \"path\\to\\dir\\to\\save\\final_estimates\"\n",
    "purity_corrected_meth_data_pc = {}\n",
    "for cancer in tqdm(cancer_to_keep):\n",
    "    purity_corrected_meth_data_pc[cancer] = pd.read_csv(os.path.join(pur_corr_dir,cancer+\"_meth_filtered_CAM.csv\")).set_index(\"Unnamed: 0\")"
   ]
  },
  {
   "cell_type": "code",
   "execution_count": null,
   "metadata": {
    "scrolled": false
   },
   "outputs": [],
   "source": [
    "fig, ax = plt.subplots(5,6,figsize=(25,15))\n",
    "flatax = ax.flatten()"
   ]
  },
  {
   "cell_type": "code",
   "execution_count": null,
   "metadata": {},
   "outputs": [],
   "source": [
    "for i,cancer in tqdm(enumerate(cancer_to_keep)):\n",
    "\n",
    "    std_meth = pd.read_csv(os.path.join(std_dir,cancer+\"_std_km.csv\")).set_index(\"Composite Element REF\")\n",
    "    \n",
    "    sns.kdeplot(data=std_meth, x=\"std\", color=\"red\", label=\"Full density\",ax=flatax[i],common_norm=True)\n",
    "    \n",
    "    std_meth_pur =  purity_corrected_meth_data_pc[cancer].std()\n",
    "    std_meth_pur = pd.concat([std_meth_pur,pd.DataFrame([\"Purity corr\"]*std_meth_pur.shape[0],columns=[\"membership\"],index=std_meth_pur.index)],axis=1)\n",
    "    std_meth_pur.columns = [\"std\",\"membership\"]\n",
    "    \n",
    "    std_meth = pd.concat([std_meth,std_meth_pur])\n",
    "    \n",
    "    sns.kdeplot(data=std_meth, x=\"std\", hue=\"membership\",ax=flatax[i],common_norm=True)\n",
    "    \n",
    "    flatax[i].set_title(cancer+\" std after purity corr\",fontsize=15)\n",
    "    flatax[i].set_xlim([-0.01,0.4])"
   ]
  },
  {
   "cell_type": "code",
   "execution_count": null,
   "metadata": {
    "scrolled": false
   },
   "outputs": [],
   "source": [
    "fig.tight_layout()\n",
    "fig"
   ]
  },
  {
   "cell_type": "code",
   "execution_count": null,
   "metadata": {},
   "outputs": [],
   "source": [
    "flatax[-4].axis(\"off\")\n",
    "flatax[-3].axis(\"off\")\n",
    "flatax[-2].axis(\"off\")\n",
    "flatax[-1].axis(\"off\")"
   ]
  },
  {
   "cell_type": "code",
   "execution_count": null,
   "metadata": {},
   "outputs": [],
   "source": [
    "fig.savefig(\"std_after_pur_correction.svg\",bbox_inches=\"tight\")\n",
    "fig.savefig(\"std_after_pur_correction.png\",bbox_inches=\"tight\")"
   ]
  },
  {
   "cell_type": "markdown",
   "metadata": {},
   "source": [
    "### Plotting function"
   ]
  },
  {
   "cell_type": "code",
   "execution_count": null,
   "metadata": {},
   "outputs": [],
   "source": [
    "for cancer in tqdm(filtered_meth_data_pc):\n",
    "    filtered_meth_data_pc[cancer] = filtered_meth_data_pc[cancer][purity_corrected_meth_data_pc[cancer].columns]"
   ]
  },
  {
   "cell_type": "code",
   "execution_count": null,
   "metadata": {},
   "outputs": [],
   "source": [
    "import umap"
   ]
  },
  {
   "cell_type": "code",
   "execution_count": null,
   "metadata": {},
   "outputs": [],
   "source": [
    "filtered_meth_data_pc = {}\n",
    "filtered_dir = \"path\\to\\dir\\with\\filtered_estimates\"\n",
    "for cancer in tqdm(cancer_to_keep):\n",
    "    filtered_meth_data_pc[cancer] = pd.read_csv(os.path.join(filtered_dir,cancer+'_meth_filtered.csv')).set_index(\"Unnamed: 0\")"
   ]
  },
  {
   "cell_type": "markdown",
   "metadata": {},
   "source": [
    "This section allows to plot the comparison UMAP of \n",
    "1. Before/after purity correction\n",
    "2. Before/after age-related probes filtering\n",
    "\n",
    "One must uncomment the relevant zones:\n",
    "1. We want umap_red_data to be for filtered_meth_data_pc and umap_red_data_transf to be for purity_corrected_meth_data_pc\n",
    "2. We want umap_red_data to be for purity_corrected_meth_data_pc and umap_red_data_transf to be for purity_corrected_meth_data_pc with cg_to_exclude dropped out"
   ]
  },
  {
   "cell_type": "code",
   "execution_count": null,
   "metadata": {},
   "outputs": [],
   "source": [
    "# umap_red_data,umap_red_data_transf = {},{}\n",
    "for cancer in tqdm(cancer_to_keep):\n",
    "    reducer = umap.UMAP()\n",
    "#     umap_red_data[cancer] = reducer.fit_transform(filtered_meth_data_pc[cancer])\n",
    "#     umap_red_data[cancer] = reducer.fit_transform(purity_corrected_meth_data_pc[cancer])\n",
    "    umap_red_data[cancer] = umap_red_data_transf[cancer]\n",
    "    \n",
    "    reducer = umap.UMAP()\n",
    "### after purity correction\n",
    "#     umap_red_data_transf[cancer] = reducer.fit_transform(purity_corrected_meth_data_pc[cancer])\n",
    "### after age correction\n",
    "    cgl = purity_corrected_meth_data_pc[cancer].columns.intersection(cg_to_exclude)\n",
    "    meth_data = purity_corrected_meth_data_pc[cancer].drop(cgl,axis=1)\n",
    "    umap_red_data_transf[cancer] = reducer.fit_transform(meth_data)"
   ]
  },
  {
   "cell_type": "code",
   "execution_count": null,
   "metadata": {},
   "outputs": [],
   "source": [
    "for cancer in tqdm(cancer_to_keep):\n",
    "#     umap_red_data[cancer] = pd.DataFrame(umap_red_data[cancer],index=filtered_meth_data_pc[cancer].index)\n",
    "    umap_red_data[cancer] = pd.DataFrame(umap_red_data[cancer],index=purity_corrected_meth_data_pc[cancer].index)\n",
    "    umap_red_data_transf[cancer] = pd.DataFrame(umap_red_data_transf[cancer],index=purity_corrected_meth_data_pc[cancer].index)"
   ]
  },
  {
   "cell_type": "code",
   "execution_count": null,
   "metadata": {
    "scrolled": true
   },
   "outputs": [],
   "source": [
    "fig, ax = plt.subplots(7,8,figsize=(30,25))\n",
    "flatax= ax.flatten()"
   ]
  },
  {
   "cell_type": "code",
   "execution_count": null,
   "metadata": {
    "scrolled": true
   },
   "outputs": [],
   "source": [
    "figcount = 0\n",
    "for cancer in tqdm(cancer_to_keep):\n",
    "## for purity related    \n",
    "#     if cancer in cancer_estimate_purity:\n",
    "#         common_pat = filtered_meth_data_pc[cancer].index.intersection(estimate_purity.index)\n",
    "#         common_pat = common_pat[~common_pat.duplicated()]\n",
    "#         y = estimate_purity.loc[common_pat]\n",
    "#         y = y[\"TumorPurity\"].astype(float)\n",
    "#     else:\n",
    "#         common_pat = filtered_meth_data_pc[cancer].index.intersection(purity.index)\n",
    "#         common_pat = common_pat[~common_pat.duplicated()]\n",
    "#         y = purity.loc[common_pat][\"CPE\"]\n",
    "    \n",
    "## for age related\n",
    "    # break the age into 10 bins for each cancer type\n",
    "    y = pd.cut(-clin_data_pc[cancer][\"age\"],10,labels=[\"0-10\",\"10-20\",\"20-30\",\"30-40\",\"40-50\",\"50-60\",\"60-70\",\"70-80\",\"80-90\",\"90-100\"])\n",
    "    \n",
    "    normal_pat = []\n",
    "    pat_list = np.array(filtered_meth_data_pc[cancer].index)\n",
    "    for pat in pat_list:\n",
    "        if pat.split(\"-\")[-1]=='11':\n",
    "            normal_pat.append(pat.split)\n",
    "    print(cancer)\n",
    "    y=y.drop(y.index.intersection(normal_pat))\n",
    "    umap_red_pd = umap_red_data[cancer].drop(umap_red_data[cancer].index.intersection(normal_pat))\n",
    "    umap_red_pd_transf = umap_red_data_transf[cancer].drop(umap_red_data_transf[cancer].index.intersection(normal_pat))\n",
    "    \n",
    "    umap_red_pd = umap_red_pd.merge(y,how=\"left\",left_index=True,right_index=True)\n",
    "\n",
    "### purity related\n",
    "#     umap_red_pd.columns = [\"Comp1\",\"Comp2\",\"Purity\"]\n",
    "### age related\n",
    "    umap_red_pd.columns = [\"Comp1\",\"Comp2\",\"Age\"]\n",
    "\n",
    "    \n",
    "### purity related\n",
    "#     sns.scatterplot(data=umap_red_pd,x=\"Comp1\",y=\"Comp2\",hue=\"Purity\",ax=flatax[figcount],palette = sns.color_palette(\"flare\", as_cmap=True))\n",
    "### age related\n",
    "    sns.scatterplot(data=umap_red_pd,x=\"Comp1\",y=\"Comp2\",hue=\"Age\",ax=flatax[figcount],palette=sns.color_palette(\"rocket\",n_colors=10))\n",
    "    \n",
    "    umap_red_pd = umap_red_pd_transf.merge(y,how=\"left\",left_index=True,right_index=True)\n",
    "    \n",
    "### purity related\n",
    "#     umap_red_pd.columns = [\"Comp1\",\"Comp2\",\"Purity\"]\n",
    "### age related\n",
    "    umap_red_pd.columns = [\"Comp1\",\"Comp2\",\"Age\"]\n",
    "\n",
    "### purity related\n",
    "#     sns.scatterplot(data=umap_red_pd,x=\"Comp1\",y=\"Comp2\",hue=\"Purity\",ax=flatax[figcount+1],palette = sns.color_palette(\"flare\", as_cmap=True))\n",
    "### age related\n",
    "    sns.scatterplot(data=umap_red_pd,x=\"Comp1\",y=\"Comp2\",hue=\"Age\",ax=flatax[figcount+1],palette=sns.color_palette(\"rocket\",n_colors=10))\n",
    "\n",
    "### purity related\n",
    "#     flatax[figcount].set_title(cancer+\" uncorrected\",fontsize=20)\n",
    "### age related\n",
    "    flatax[figcount].set_title(cancer+\" purity corrected\",fontsize=20)\n",
    "    flatax[figcount].get_legend().remove()\n",
    "### purity related\n",
    "#     flatax[figcount+1].set_title(cancer+\" purity corrected\",fontsize=20)\n",
    "### age related\n",
    "    flatax[figcount+1].set_title(cancer+\" age filtered\",fontsize=20)\n",
    "    flatax[figcount+1].get_legend().remove()\n",
    "    figcount+=2"
   ]
  },
  {
   "cell_type": "code",
   "execution_count": null,
   "metadata": {},
   "outputs": [],
   "source": [
    "handles, labels = flatax[4].get_legend_handles_labels()\n",
    "fig.legend(handles, labels, loc='lower right',bbox_to_anchor=(4, 0.3), title=\"Age percentile\",\n",
    "           bbox_transform=plt.gcf().transFigure,fontsize=15, markerscale=3,frameon=False,ncol=3)\n",
    "flatax[-1].axis(\"off\")\n",
    "flatax[-2].axis(\"off\")\n",
    "flatax[-3].axis(\"off\")\n",
    "flatax[-4].axis(\"off\")"
   ]
  },
  {
   "cell_type": "code",
   "execution_count": null,
   "metadata": {},
   "outputs": [],
   "source": [
    "fig.tight_layout()\n",
    "fig"
   ]
  },
  {
   "cell_type": "code",
   "execution_count": null,
   "metadata": {},
   "outputs": [],
   "source": [
    "# fig.savefig(\"umap_purity_corrected.png\",bbox_inches=\"tight\")\n",
    "# fig.savefig(\"umap_purity_corrected.svg\",bbox_inches=\"tight\")\n",
    "fig.savefig(\"umap_pur_age_corrected.png\",bbox_inches=\"tight\")\n",
    "fig.savefig(\"umap_pur_age_corrected.svg\",bbox_inches=\"tight\")"
   ]
  },
  {
   "cell_type": "markdown",
   "metadata": {},
   "source": [
    "## Step 4. Age related"
   ]
  },
  {
   "cell_type": "markdown",
   "metadata": {},
   "source": [
    "First upload the CpG that have been associated in paper \"Age‑related DNA methylation changes are tissue‑specific with ELOVL2 promoter methylation as exception\", Slieker et al. 2018\n",
    "\n",
    "aDMP: age-related differentially methylated position "
   ]
  },
  {
   "cell_type": "code",
   "execution_count": null,
   "metadata": {},
   "outputs": [],
   "source": [
    "# directory containing the associated gain and loss methylations per tissue as a .txt file\n",
    "admp_dir = \"path\\to\\dir\\with\\Slieker\\info\""
   ]
  },
  {
   "cell_type": "code",
   "execution_count": null,
   "metadata": {},
   "outputs": [],
   "source": [
    "# tissue_aDMP is a dictionary containing the tissue as key and the list of cpg IDs associated aDMP for each tissue as value\n",
    "\n",
    "tissue_aDMP = {}\n",
    "all_aDMP = []\n",
    "\n",
    "for admp in os.listdir(admp_dir):\n",
    "    tissue_name = admp.split(\"_\")[0]\n",
    "    \n",
    "    if tissue_name not in tissue_aDMP.keys():\n",
    "        tissue_aDMP[tissue_name]=[]\n",
    "        \n",
    "    file = os.path.join(admp_dir,admp)\n",
    "    \n",
    "    with open(file) as f:\n",
    "        lines= f.readlines()\n",
    "        for cg in lines:\n",
    "            tissue_aDMP[tissue_name].append(cg.split(\"\\n\")[0])\n",
    "            all_aDMP.append(cg.split(\"\\n\")[0])\n",
    "            \n",
    "for tissue in list(tissue_aDMP.keys()):\n",
    "    tissue_aDMP[tissue] = np.array(tissue_aDMP[tissue])\n",
    "all_aDMP = np.array(all_aDMP)"
   ]
  },
  {
   "cell_type": "code",
   "execution_count": null,
   "metadata": {},
   "outputs": [],
   "source": [
    "# tissue_aDMP now contains the gain/loss aDMP for all tissues studied in the 2018 paper\n",
    "tissue_aDMP.keys()"
   ]
  },
  {
   "cell_type": "markdown",
   "metadata": {},
   "source": [
    "Then compute age-related probes for each cancer type"
   ]
  },
  {
   "cell_type": "code",
   "execution_count": null,
   "metadata": {
    "scrolled": true
   },
   "outputs": [],
   "source": [
    "age_r_dir = \"path\\to\\dir\\to\\save\\age_related_cpgs\"\n",
    "for cancer in tqdm(cancer_to_keep):\n",
    "    \n",
    "    filtered_meth_data = purity_corrected_meth_data_pc[cancer]\n",
    "    \n",
    "    # Slieker et al.\n",
    "    cg_to_exclude = [cg for cg in all_aDMP if cg in filtered_meth_data.columns]\n",
    "    filtered_meth_data = filtered_meth_data.drop(cg_to_exclude,axis=1)\n",
    "    \n",
    "    common_pat = filtered_meth_data.index.intersection(clin_data_pc[cancer].index)\n",
    "    common_pat = common_pat[~common_pat.duplicated()]\n",
    "    df1 = filtered_meth_data.loc[common_pat]\n",
    "    df2 = -clin_data_pc[cancer].loc[common_pat][\"age\"]\n",
    "    df1 = df1[~df1.index.duplicated()]\n",
    "    df2 = df2[~df2.index.duplicated()]\n",
    "    age_filtered_meth_data = pd.concat([df1,df2],axis=1,join=\"inner\").dropna()\n",
    "    y = age_filtered_meth_data[\"age\"].values.ravel()\n",
    "\n",
    "    r_scores,p_values = [],[]\n",
    "    for cpg in tqdm(age_filtered_meth_data.columns[:-1]):\n",
    "        x = age_filtered_meth_data[cpg].values.ravel()\n",
    "        r,p = pearsonr(x,y)\n",
    "        r_scores.append(r)\n",
    "        p_values.append(p)\n",
    "    r_scores = np.array(r_scores)\n",
    "    p_values = np.array(p_values)\n",
    "    \n",
    "    q_values = ~multipletests(p_values,method=\"fdr_bh\",alpha=0.05)[0]\n",
    "    ind_nsign = np.where(q_values)[0]\n",
    "    \n",
    "    pd.DataFrame(r_scores.reshape(-1,1),index=filtered_meth_data.columns).to_csv(os.path.join(age_r_dir,cancer+\"_age_r_purcorr.csv\"))\n",
    "    pd.DataFrame(p_values.reshape(-1,1),index=filtered_meth_data.columns).to_csv(os.path.join(age_r_dir,cancer+\"_age_p_purcorr.csv\"))"
   ]
  },
  {
   "cell_type": "code",
   "execution_count": null,
   "metadata": {},
   "outputs": [],
   "source": [
    "fourth_filter_size = [67002,75278,73339,74651,67027,78618,67081,73842,64597,66433,55617,56756,72731,74307,72635,65815,71100,\n",
    "                      61644,61332,65970,69337,71906,79934,49787,57572,67121]"
   ]
  },
  {
   "cell_type": "code",
   "execution_count": null,
   "metadata": {},
   "outputs": [],
   "source": [
    "fourth_filter_perc = np.round(np.array(fourth_filter_size)/size_450k,2)*100"
   ]
  },
  {
   "cell_type": "code",
   "execution_count": null,
   "metadata": {},
   "outputs": [],
   "source": [
    "first_filter_perc.append(np.array(first_filter_perc).mean())\n",
    "second_filter_perc.append(np.array(second_filter_perc).mean())\n",
    "fourth_filter_perc = np.append(fourth_filter_perc,np.array(fourth_filter_perc).mean())"
   ]
  },
  {
   "cell_type": "code",
   "execution_count": null,
   "metadata": {},
   "outputs": [],
   "source": [
    "remaining_perc = []\n",
    "for i in range(len(cancer_to_keep)+1):\n",
    "    remaining_perc.append(100-first_filter_perc[i]-second_filter_perc[i]-fourth_filter_perc[i])"
   ]
  },
  {
   "cell_type": "code",
   "execution_count": null,
   "metadata": {},
   "outputs": [],
   "source": [
    "plot_df = pd.DataFrame([first_filter_perc,second_filter_perc,fourth_filter_perc,remaining_perc],columns=cancer_to_keep+[\"Average\"],index=[\"First filter\", \"Second filter\", \"Third filter\",\"Remaining probes\"])"
   ]
  },
  {
   "cell_type": "code",
   "execution_count": null,
   "metadata": {},
   "outputs": [],
   "source": [
    "plot_df = plot_df.round().astype(int)"
   ]
  },
  {
   "cell_type": "code",
   "execution_count": null,
   "metadata": {},
   "outputs": [],
   "source": [
    "fig,ax = plt.subplots(1,1,figsize=(20,15))\n",
    "plot_df.T.plot(kind=\"barh\",stacked=True,ax=ax,legend=False,width=1,color=sns.color_palette(\"bright\"),edgecolor=\"black\")\n",
    "ax.set_xlim([0,100])\n",
    "ax.xaxis.set_tick_params(labelsize=30)\n",
    "ax.yaxis.set_tick_params(labelsize=30)\n",
    "\n",
    "values = plot_df.T.values.flatten(\"F\")\n",
    "\n",
    "plt.gca().invert_yaxis()\n",
    "\n",
    "for i, p in enumerate(ax.patches):\n",
    "    ax.annotate(str(values[i]), xy=(p.get_x()+ values[i]/2, p.get_y()+0.8),size=27,color=\"white\")\n",
    "\n",
    "\n",
    "plt.legend(bbox_to_anchor=(0, -0.15), loc=3, ncol=4, prop={'size': 25}, frameon=False)\n",
    "\n",
    "ax.text(16,-1,\"NA, non-CGI, X&Y\",size=30)\n",
    "ax.text(57,-1,\"Non-variable\",size=30)\n",
    "ax.text(80,-1,\"Age-related\",size=30)\n",
    "\n",
    "fig.savefig(\"filter_effect_main.png\",bbox_inches=\"tight\")\n",
    "fig.savefig(\"filter_effect_main.svg\",bbox_inches=\"tight\")"
   ]
  },
  {
   "cell_type": "code",
   "execution_count": null,
   "metadata": {},
   "outputs": [],
   "source": [
    "# get the age related cpg for each cancer type\n",
    "age_r_dir = \"path\\to\\dir\\to\\save\\age_related_cpgs\"\n",
    "age_rel_cg_pc = {}\n",
    "for cancer in tqdm(cancer_to_keep):\n",
    "    \n",
    "    age_r = pd.read_csv(os.path.join(age_r_dir,cancer+\"_age_r_purcorr.csv\")).set_index(\"Composite Element REF\")\n",
    "    pval = pd.read_csv(os.path.join(age_r_dir,cancer+\"_age_p_purcorr.csv\")).set_index(\"Composite Element REF\")\n",
    "\n",
    "    r_scores = age_r.values.ravel()\n",
    "    p_values = pval.values.ravel()\n",
    "    q_values = multipletests(p_values,method=\"fdr_bh\",alpha=0.05)[0]\n",
    "    ind_sign = np.where(q_values)[0]\n",
    "#     ind_sign = np.where(p_values<0.05)[0]\n",
    "    age_rel_cg_pc[cancer]=np.array((purity_corrected_meth_data_pc[cancer][age_r.index].columns)[ind_sign])"
   ]
  },
  {
   "cell_type": "code",
   "execution_count": null,
   "metadata": {
    "scrolled": true
   },
   "outputs": [],
   "source": [
    "# find the cpg probes that are age-related in at least two cancer types\n",
    "cg_to_exclude = []\n",
    "for i,cancer1 in tqdm(enumerate(cancer_to_keep)):\n",
    "    for j,cancer2 in tqdm(enumerate(cancer_to_keep[i+1:])):\n",
    "        ar = list(np.intersect1d(age_rel_cg_pc[cancer1],age_rel_cg_pc[cancer2]))\n",
    "        cg_to_exclude+=ar\n",
    "        print(cancer1,cancer2,len(ar))\n",
    "cg_to_exclude = np.unique(cg_to_exclude)"
   ]
  },
  {
   "cell_type": "code",
   "execution_count": null,
   "metadata": {},
   "outputs": [],
   "source": [
    "# this is the total number of CpG probes that were found in at least two cancer types\n",
    "len(cg_to_exclude)"
   ]
  },
  {
   "cell_type": "code",
   "execution_count": null,
   "metadata": {
    "scrolled": true
   },
   "outputs": [],
   "source": [
    "# this is the number of CpG probes to remove for each cancer type (the intersection)\n",
    "fourth_filter_count = []\n",
    "for cancer in cancer_to_keep:\n",
    "    ct = len(purity_corrected_meth_data_pc[cancer].columns.intersection(cg_to_exclude))\n",
    "    fourth_filter_count.append(ct)\n",
    "    print(cancer,ct)"
   ]
  },
  {
   "cell_type": "code",
   "execution_count": null,
   "metadata": {},
   "outputs": [],
   "source": [
    "# Finally, save the methylation data with the age-related cpgs excluded\n",
    "for cancer in tqdm(cancer_to_keep[11:]):\n",
    "    cgl = purity_corrected_meth_data_pc[cancer].columns.intersection(cg_to_exclude)\n",
    "    mdata = purity_corrected_meth_data_pc[cancer].drop(cgl,axis=1)\n",
    "    print(\"Remaining probes {}: {}\".format(cancer,mdata.shape[1]))\n",
    "    mdata.to_csv('path\\to'+cancer+'_meth_filtered.csv')"
   ]
  },
  {
   "cell_type": "markdown",
   "metadata": {},
   "source": [
    "# Purity correction on simulated data"
   ]
  },
  {
   "cell_type": "markdown",
   "metadata": {},
   "source": [
    "As proof of concept to convince ourselves the approximation derived from the swCAM paper works, we simulated artifical cancerous data by using\n",
    "1. The purity for the LUSC or LUAD cancer type\n",
    "2. A mixture of Gaussians with different std or means (sigma1/mu1 are for cancerous cells, mu2 are for infiltrate cells)\n",
    "\n",
    "We then compute the evolution of std for the deconvoluted signal to confirm our observation, and compute the Mean Absolute Error between the \"true\" (ie simulated) cancerous cell signal and the deconvoluted one "
   ]
  },
  {
   "cell_type": "code",
   "execution_count": null,
   "metadata": {},
   "outputs": [],
   "source": [
    "simu_purity = purity[purity[\"Cancer.type\"]==\"LUSC\"][\"CPE\"]\n",
    "# simu_purity = purity[purity[\"Cancer.type\"]==\"LUAD\"][\"CPE\"]"
   ]
  },
  {
   "cell_type": "code",
   "execution_count": null,
   "metadata": {},
   "outputs": [],
   "source": [
    "n_probes = 1000\n",
    "sigma1_l = [0.1,0.25,0.4]\n",
    "mu1_l = [0.1,0.4,0.6,0.9]\n",
    "mu2_l = [0,0.25,0.5,0.75,1]\n",
    "\n",
    "\n",
    "mu_pairs = []\n",
    "for m in mu1_l:\n",
    "    for n in mu2_l:\n",
    "        mu_pairs.append([m,n])\n",
    "# this is only to see how it would change were the distribution of mixtures not equiprobable\n",
    "# mu_pairs.append([0.1, 0])\n",
    "# mu_pairs.append([0.1, 0])\n",
    "# mu_pairs.append([0.9, 1])\n",
    "# mu_pairs.append([0.9, 1])\n",
    "\n",
    "# select at random the parameters for each probe\n",
    "chosen_features = []\n",
    "for j in range(n_probes):\n",
    "    sigma1 = np.random.choice(sigma1_l)\n",
    "    mu1,mu2 = mu_pairs[np.random.randint(len(mu_pairs))]\n",
    "    chosen_features.append([sigma1,mu1,mu2])\n",
    "\n",
    "df_simu_meth,df_simu_meth_true = [],[]\n",
    "for i in tqdm(range(simu_purity.shape[0])):\n",
    "    # simulate for each patient\n",
    "    simu_meth,simu_meth_true = [],[]\n",
    "    # draw an observation for each probe using the randomly chosen parameters for the probe\n",
    "    for j in range(n_probes):\n",
    "        sigma1,mu1,mu2 = chosen_features[j]\n",
    "        # clip to [0,1] so it respects the beta value constraints\n",
    "        cancer_meth = np.clip(np.random.normal(mu1,sigma1),0,1)\n",
    "        infiltrate_meth = np.clip(np.random.normal(mu2,0.05),0,1)\n",
    "        # compute both the admixture and the \"true\" simulated signal\n",
    "        simu_meth.append(simu_purity.iloc[i]*cancer_meth+(1-simu_purity.iloc[i])*infiltrate_meth)\n",
    "        simu_meth_true.append(cancer_meth)\n",
    "        \n",
    "    if len(df_simu_meth)==0:\n",
    "        df_simu_meth = pd.DataFrame(np.array(simu_meth).reshape(1,-1),index=[simu_purity.index[i]])\n",
    "    else:\n",
    "        df_simu_meth = pd.concat([df_simu_meth,pd.DataFrame(np.array(simu_meth).reshape(1,-1),index=[simu_purity.index[i]])])\n",
    "\n",
    "    if len(df_simu_meth_true)==0:\n",
    "        df_simu_meth_true = pd.DataFrame(np.array(simu_meth_true).reshape(1,-1),index=[simu_purity.index[i]])\n",
    "    else:\n",
    "        df_simu_meth_true = pd.concat([df_simu_meth_true,pd.DataFrame(np.array(simu_meth_true).reshape(1,-1),index=[simu_purity.index[i]])])\n",
    "\n",
    "# create the mixing matrix\n",
    "A = pd.concat([simu_purity,simu_purity.apply(lambda x: 1-x)],axis=1)\n",
    "A.columns = [\"cancer\",\"infiltrate\"]\n",
    "# get the \"observation\" matrix\n",
    "X = df_simu_meth\n",
    "merged_X = X.merge(A,left_index=True,right_index=True,how=\"left\")\n",
    "A_arr = merged_X[[\"cancer\",\"infiltrate\"]].values\n",
    "X_arr = merged_X.drop([\"cancer\",\"infiltrate\"],axis=1).values\n",
    "\n",
    "# perform NNLS for each probe\n",
    "cg_val = []\n",
    "for i in range(len(X.columns)):\n",
    "    cg_val.append(nnls(A_arr,X_arr[:,i])[0])\n",
    "\n",
    "# clip to fill the beta value constraints\n",
    "S = pd.DataFrame(np.clip(np.array(cg_val),0,1))\n",
    "\n",
    "# get the individual methylation matrix through approximation\n",
    "indS = (X_arr - np.dot(A_arr[:,1].reshape(-1,1),S[1].values.reshape(1,-1)))\n",
    "indS = indS/A_arr[:,0].reshape(-1,1)\n",
    "S_df = pd.DataFrame(indS,index=merged_X.index,columns=S.index)\n",
    "\n",
    "S_df.clip(0,1,inplace=True)\n",
    "\n",
    "# get the standard deviation for the simulated mixture data and the deconvoluted data\n",
    "std_mixed, std_deconv = df_simu_meth.std(),S_df.std()\n",
    "# get the mean squared error between the simulated mixed data and the \"true\" cancerous cell signal as well as between\n",
    "# the deconvoluted data and the \"true\" cancerous signal\n",
    "ME_mixed, ME_deconv = (df_simu_meth-df_simu_meth_true).abs().mean(),(S_df-df_simu_meth_true).abs().mean()\n",
    "\n",
    "# plot the evolution of std as well as the values for the average std and the mean absolute error\n",
    "# (mixed (m) and deconvoluted (d))\n",
    "mixed_df = pd.concat([std_mixed,pd.DataFrame([\"mixed\"]*std_mixed.shape[0])],axis=1)\n",
    "deconv_df = pd.concat([std_deconv,pd.DataFrame([\"deconv\"]*std_deconv.shape[0])],axis=1)\n",
    "full_std_df = pd.concat([mixed_df,deconv_df])\n",
    "full_std_df.columns = [\"std\",\"membership\"]\n",
    "ax=sns.kdeplot(data=full_std_df,x=\"std\",hue=\"membership\",common_norm=True)\n",
    "ax.set_title(\"Std evolution, before and after purity corretion, simulation\")\n",
    "ax.set_xlabel(\"sm {}, sd {}, MEm {}, MEd {}\".format(np.round(std_mixed.mean(),2),np.round(std_deconv.mean(),2),np.round(ME_mixed.mean(),2),np.round(ME_deconv.mean(),2)))"
   ]
  },
  {
   "cell_type": "markdown",
   "metadata": {},
   "source": [
    "To understand the effect on the std for each parameter pairs (eg cancerous cell methylated, infiltrate unmethylated, cancerous standard deviation 0.2 ?) we simulate each of these cases 100 times and plot the effect on the mean standard deviation of the mixed (resp deconvoluted) data and Mean Absolute Error of the mixed (resp deconvoluted) data"
   ]
  },
  {
   "cell_type": "code",
   "execution_count": null,
   "metadata": {
    "scrolled": true
   },
   "outputs": [],
   "source": [
    "fig, ax = plt.subplots(10,6,figsize=(25,40))\n",
    "flatax = ax.flatten()"
   ]
  },
  {
   "cell_type": "code",
   "execution_count": null,
   "metadata": {},
   "outputs": [],
   "source": [
    "fignum=0\n",
    "for mu1 in tqdm([0,0.2,0.4,0.6,0.8,1]):\n",
    "    for mu2 in [0,0.5,1]:\n",
    "        for sigma1 in [0.15,0.25,0.4]:\n",
    "            simu_meth = []\n",
    "            for i in range(simu_purity.shape[0]):\n",
    "                cancer_meth = np.clip(np.random.normal(mu1,sigma1),0,1)\n",
    "                infiltrate_meth = np.clip(np.random.normal(mu2,0.05),0,1)\n",
    "                simu_meth.append(simu_purity.iloc[i]*cancer_meth+(1-simu_purity.iloc[i])*infiltrate_meth)\n",
    "            sns.histplot(data=simu_meth,ax=flatax[fignum],element=\"step\",bins=20)\n",
    "            flatax[fignum].set_title(\"mu1 {}, mu2 {}, sigma1 {}\".format(mu1,mu2,sigma1),fontsize=15)\n",
    "            flatax[fignum].set_xlim([0,1])\n",
    "            fignum+=1"
   ]
  },
  {
   "cell_type": "code",
   "execution_count": null,
   "metadata": {},
   "outputs": [],
   "source": [
    "fig.suptitle(\"Distribution of probe issued from Gaussian distributions with mu1, mu2, sigma1 \",fontsize=20,y=1.02)\n",
    "fig.tight_layout()\n",
    "fig"
   ]
  },
  {
   "cell_type": "code",
   "execution_count": null,
   "metadata": {
    "scrolled": true
   },
   "outputs": [],
   "source": [
    "fig, ax = plt.subplots(10,6,figsize=(25,40))\n",
    "flatax = ax.flatten()"
   ]
  },
  {
   "cell_type": "code",
   "execution_count": null,
   "metadata": {},
   "outputs": [],
   "source": [
    "# select 6 random probes for the true data to try to get representatitivy and tune the parameters\n",
    "for i in range(60):\n",
    "    probe = np.random.randint(filtered_meth_data_pc[cancer].shape[1])\n",
    "    sns.histplot(data=filtered_meth_data_pc[cancer].iloc[:,probe],ax=flatax[i],element=\"step\",bins=20)\n",
    "    flatax[i].set_title(\"Probe {}\".format(i),fontsize=15)\n",
    "    flatax[i].set_xlim([0,1])"
   ]
  },
  {
   "cell_type": "code",
   "execution_count": null,
   "metadata": {},
   "outputs": [],
   "source": [
    "fig.suptitle(\"Distribution of 60 randomly selected probes\",fontsize=20,y=1.02)\n",
    "fig.tight_layout()\n",
    "fig"
   ]
  },
  {
   "cell_type": "code",
   "execution_count": null,
   "metadata": {
    "scrolled": true
   },
   "outputs": [],
   "source": [
    "fignum=0\n",
    "for mu1 in tqdm([0,0.33,0.66,1]):\n",
    "    for mu2 in [0,0.25,0.5,0.75,1]:\n",
    "        for sigma1 in [0.1,0.2,0.3]:\n",
    "            df_simu_meth,df_simu_meth_true = [],[]\n",
    "            for i in range(simu_purity.shape[0]):\n",
    "                simu_meth,simu_meth_true = [],[]\n",
    "                for j in range(100):\n",
    "                    cancer_meth = np.clip(np.random.normal(mu1,sigma1),0,1)\n",
    "                    infiltrate_meth = np.clip(np.random.normal(mu2,0.05),0,1)\n",
    "                    simu_meth.append(simu_purity.iloc[i]*cancer_meth+(1-simu_purity.iloc[i])*infiltrate_meth)\n",
    "                    simu_meth_true.append(cancer_meth)\n",
    "                if len(df_simu_meth)==0:\n",
    "                    df_simu_meth = pd.DataFrame(np.array(simu_meth).reshape(1,-1),index=[simu_purity.index[i]])\n",
    "                else:\n",
    "                    df_simu_meth = pd.concat([df_simu_meth,pd.DataFrame(np.array(simu_meth).reshape(1,-1),index=[simu_purity.index[i]])])\n",
    "\n",
    "                if len(df_simu_meth_true)==0:\n",
    "                    df_simu_meth_true = pd.DataFrame(np.array(simu_meth_true).reshape(1,-1),index=[simu_purity.index[i]])\n",
    "                else:\n",
    "                    df_simu_meth_true = pd.concat([df_simu_meth_true,pd.DataFrame(np.array(simu_meth_true).reshape(1,-1),index=[simu_purity.index[i]])])\n",
    "                    \n",
    "            A = pd.concat([simu_purity,simu_purity.apply(lambda x: 1-x)],axis=1)\n",
    "            A.columns = [\"cancer\",\"infiltrate\"]\n",
    "            X = df_simu_meth\n",
    "            merged_X = X.merge(A,left_index=True,right_index=True,how=\"left\")\n",
    "            A_arr = merged_X[[\"cancer\",\"infiltrate\"]].values\n",
    "            X_arr = merged_X.drop([\"cancer\",\"infiltrate\"],axis=1).values\n",
    "\n",
    "            cg_val = []\n",
    "            for i in range(len(X.columns)):\n",
    "                cg_val.append(nnls(A_arr,X_arr[:,i])[0])\n",
    "\n",
    "            S = pd.DataFrame(np.clip(np.array(cg_val),0,1))\n",
    "\n",
    "            indS = (X_arr - np.dot(A_arr[:,1].reshape(-1,1),S[1].values.reshape(1,-1)))\n",
    "            indS = indS/A_arr[:,0].reshape(-1,1)\n",
    "            S_df = pd.DataFrame(indS,index=merged_X.index,columns=S.index)\n",
    "\n",
    "            S_df.clip(0,1,inplace=True)\n",
    "\n",
    "            std_mixed, std_deconv = df_simu_meth.std(),S_df.std()\n",
    "            ME_mixed, ME_deconv = (df_simu_meth-df_simu_meth_true).abs().mean(),(S_df-df_simu_meth_true).abs().mean()\n",
    "\n",
    "            mixed_df = pd.concat([std_mixed,pd.DataFrame([\"mixed\"]*std_mixed.shape[0])],axis=1)\n",
    "            deconv_df = pd.concat([std_deconv,pd.DataFrame([\"deconv\"]*std_deconv.shape[0])],axis=1)\n",
    "            full_std_df = pd.concat([mixed_df,deconv_df])\n",
    "            full_std_df.columns = [\"std\",\"membership\"]\n",
    "            sns.kdeplot(data=full_std_df,x=\"std\",hue=\"membership\",common_norm=True,ax=flatax[fignum])\n",
    "\n",
    "#                 flatax[fignum].text(flatax[fignum].get_xticks()[0],flatax[fignum].get_yticks()[-1],\"Std mixed \"+str(np.round(std_mixed.mean(),2)))\n",
    "#                 flatax[fignum].text(flatax[fignum].get_xticks()[2],flatax[fignum].get_yticks()[-1],\"Std deconv \"+str(np.round(std_deconv.mean(),2)))\n",
    "#                 flatax[fignum].text(flatax[fignum].get_xticks()[4],flatax[fignum].get_yticks()[-1],\"ME mixed \"+str(np.round(ME_mixed.mean(),2)))\n",
    "#                 flatax[fignum].text(flatax[fignum].get_xticks()[6],flatax[fignum].get_yticks()[-1],\"ME deconv \"+str(np.round(ME_deconv.mean(),2)))\n",
    "            flatax[fignum].set_title(\"mu1 {}, mu2 {}, std1 {}, std2 0.05\".format(mu1,mu2,sigma1),fontsize=20)\n",
    "            flatax[fignum].set_xlabel(\"sm {}, sd {}, MEm {}, MEd {}\".format(np.round(std_mixed.mean(),2),np.round(std_deconv.mean(),2),np.round(ME_mixed.mean(),2),np.round(ME_deconv.mean(),2)),fontsize=20)\n",
    "            fignum+=1"
   ]
  },
  {
   "cell_type": "code",
   "execution_count": null,
   "metadata": {
    "scrolled": true
   },
   "outputs": [],
   "source": [
    "fig.tight_layout()\n",
    "fig"
   ]
  }
 ],
 "metadata": {
  "kernelspec": {
   "display_name": "Python 3",
   "language": "python",
   "name": "python3"
  },
  "language_info": {
   "codemirror_mode": {
    "name": "ipython",
    "version": 3
   },
   "file_extension": ".py",
   "mimetype": "text/x-python",
   "name": "python",
   "nbconvert_exporter": "python",
   "pygments_lexer": "ipython3",
   "version": "3.7.6"
  }
 },
 "nbformat": 4,
 "nbformat_minor": 4
}
