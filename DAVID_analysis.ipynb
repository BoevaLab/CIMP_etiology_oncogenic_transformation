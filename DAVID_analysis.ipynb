{
 "cells": [
  {
   "cell_type": "code",
   "execution_count": null,
   "metadata": {},
   "outputs": [],
   "source": [
    "import numpy as np\n",
    "import pandas as pd\n",
    "import csv\n",
    "\n",
    "import os\n",
    "from tqdm.notebook import tqdm\n",
    "\n",
    "from scipy.stats import fisher_exact\n",
    "from statsmodels.stats.multitest import multipletests\n",
    "\n",
    "from gsea_api.molecular_signatures_db import GeneSets"
   ]
  },
  {
   "cell_type": "code",
   "execution_count": null,
   "metadata": {},
   "outputs": [],
   "source": []
  },
  {
   "cell_type": "code",
   "execution_count": null,
   "metadata": {},
   "outputs": [],
   "source": [
    "meth_dir = \"your/path/here\""
   ]
  },
  {
   "cell_type": "code",
   "execution_count": null,
   "metadata": {},
   "outputs": [],
   "source": [
    "cancer_to_keep = os.listdir(meth_dir)"
   ]
  },
  {
   "cell_type": "code",
   "execution_count": null,
   "metadata": {},
   "outputs": [],
   "source": [
    "cancer_to_keep = np.unique([cancer_to_keep[i].split('_')[0] for i in range(len(cancer_to_keep))]) "
   ]
  },
  {
   "cell_type": "code",
   "execution_count": null,
   "metadata": {},
   "outputs": [],
   "source": []
  },
  {
   "cell_type": "code",
   "execution_count": null,
   "metadata": {},
   "outputs": [],
   "source": [
    "CIMP_cancers = ['KIRP','SARC','ACC','LAML','MESO','STAD','COAD','LIHC','READ','PCPG','SKCM','THCA','LUAD',\n",
    "                'LUSC','CESC','KIRC','LGG','HNSC','GBM']"
   ]
  },
  {
   "cell_type": "code",
   "execution_count": null,
   "metadata": {},
   "outputs": [],
   "source": [
    "kegg_file = 'your/path/here'\n",
    "GOBP_file = 'your/path/here'\n",
    "\n",
    "kegg_pathways = GeneSets.from_gmt(kegg_file)\n",
    "GOBP_pathways = GeneSets.from_gmt(GOBP_file)"
   ]
  },
  {
   "cell_type": "code",
   "execution_count": null,
   "metadata": {},
   "outputs": [],
   "source": [
    "kegg_df = kegg_pathways.to_frame()\n",
    "GOBP_df = GOBP_pathways.to_frame()"
   ]
  },
  {
   "cell_type": "code",
   "execution_count": null,
   "metadata": {},
   "outputs": [],
   "source": [
    "diff_gex_offgene_dir = \"your/path/here\"\n",
    "diff_gex_pc = {}\n",
    "for cancer in sorted(CIMP_cancers):\n",
    "    diff_gex_pc[cancer] = pd.read_csv(os.path.join(diff_gex_offgene_dir,cancer+\"_downstream_genes_gex.csv\"))\n",
    "    "
   ]
  },
  {
   "cell_type": "code",
   "execution_count": null,
   "metadata": {},
   "outputs": [],
   "source": [
    "def get_EASE_contingency(differential_gex,db,pathway,):\n",
    "    path_db = db.loc[pathway]\n",
    "    npt = path_db.sum()\n",
    "    nl = len(differential_gex)\n",
    "#     nt = 60489 # number of GENCODE ids in the gene counts in TCGA\n",
    "    nt = 30000 # number of genes in human genome\n",
    "    npl = len(np.intersect1d(differential_gex,list(path_db[path_db].index)))\n",
    "    return np.array([[npl-1,npt-npl+1],[nl-npl,nt-nl-(npt-npl)]]),npl,nl"
   ]
  },
  {
   "cell_type": "code",
   "execution_count": null,
   "metadata": {},
   "outputs": [],
   "source": [
    "def get_EASE_pvalue(contingency):\n",
    "    if contingency[0,0]<1:\n",
    "        p = 1\n",
    "    else:\n",
    "        _,p = fisher_exact(contingency)\n",
    "    return p"
   ]
  },
  {
   "cell_type": "code",
   "execution_count": null,
   "metadata": {},
   "outputs": [],
   "source": [
    "def compute_enrichment_pvalues(differential_gex,db):\n",
    "    enrichment_p = pd.DataFrame(columns=[\"p\"])\n",
    "    if len(differential_gex)==0:\n",
    "        return enrichment_p \n",
    "    \n",
    "    for pathway in tqdm(db.index):\n",
    "        contingency,npl,nl = get_EASE_contingency(differential_gex,db,pathway)\n",
    "        p = get_EASE_pvalue(contingency)\n",
    "        prop_overlap = npl/nl*100\n",
    "        enrichment_p = pd.concat([enrichment_p,pd.DataFrame(np.array([p,prop_overlap]).reshape(1,-1),\n",
    "                                                            index=[pathway],columns=[\"p\",\"proportion overlap\"])])\n",
    "    return enrichment_p"
   ]
  },
  {
   "cell_type": "code",
   "execution_count": null,
   "metadata": {},
   "outputs": [],
   "source": [
    "def get_enrichment_pc(diff_gex_pc,db):\n",
    "    enrichment = {}\n",
    "    for cancer in diff_gex_pc:\n",
    "        enrichment[cancer] = compute_enrichment_pvalues(diff_gex_pc[cancer].values.ravel(),db)\n",
    "    return enrichment"
   ]
  },
  {
   "cell_type": "code",
   "execution_count": null,
   "metadata": {},
   "outputs": [],
   "source": [
    "def get_significant_pathways(all_enrichment):\n",
    "    corrected_ps = multipletests(all_enrichment.p.ravel())[1]\n",
    "    return pd.DataFrame(corrected_ps,index=all_enrichment.index,columns=[\"q\"])"
   ]
  },
  {
   "cell_type": "code",
   "execution_count": null,
   "metadata": {
    "scrolled": true
   },
   "outputs": [],
   "source": [
    "kegg_enrich = get_enrichment_pc(diff_gex_pc,kegg_df)"
   ]
  },
  {
   "cell_type": "code",
   "execution_count": null,
   "metadata": {
    "scrolled": true
   },
   "outputs": [],
   "source": [
    "GOBP_enrich = get_enrichment_pc(diff_gex_pc,GOBP_df)"
   ]
  },
  {
   "cell_type": "code",
   "execution_count": null,
   "metadata": {},
   "outputs": [],
   "source": [
    "significant_ps_pc = {}\n",
    "for cancer in sorted(CIMP_cancers):\n",
    "    all_ps = pd.concat([kegg_enrich[cancer],GOBP_enrich[cancer]])\n",
    "    if all_ps.shape[0]==0:\n",
    "        significant_ps_pc[cancer] = []\n",
    "    else:\n",
    "        significant_ps_pc[cancer] = get_significant_pathways(all_ps)"
   ]
  },
  {
   "cell_type": "code",
   "execution_count": null,
   "metadata": {},
   "outputs": [],
   "source": [
    "downstream_gene_path_dir = \"your/path/here\"\n",
    "for cancer in sorted(CIMP_cancers):\n",
    "    if len(significant_ps_pc[cancer])==0:\n",
    "        pd.DataFrame(columns=[\"qs\"]).to_csv(os.path.join(downstream_gene_path_dir,cancer+\"_downstream_gene_path.csv\"))\n",
    "    else:\n",
    "        (significant_ps_pc[cancer][significant_ps_pc[cancer].q<0.05]).to_csv(os.path.join(downstream_gene_path_dir,cancer+\"_downstream_gene_path.csv\"))"
   ]
  },
  {
   "cell_type": "code",
   "execution_count": null,
   "metadata": {},
   "outputs": [],
   "source": []
  }
 ],
 "metadata": {
  "kernelspec": {
   "display_name": "Python 3",
   "language": "python",
   "name": "python3"
  },
  "language_info": {
   "codemirror_mode": {
    "name": "ipython",
    "version": 3
   },
   "file_extension": ".py",
   "mimetype": "text/x-python",
   "name": "python",
   "nbconvert_exporter": "python",
   "pygments_lexer": "ipython3",
   "version": "3.7.6"
  }
 },
 "nbformat": 4,
 "nbformat_minor": 4
}
